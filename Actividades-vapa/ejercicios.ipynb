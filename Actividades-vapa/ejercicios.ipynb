{
 "cells": [
  {
   "cell_type": "markdown",
   "metadata": {},
   "source": [
    "{{ badge }}"
   ]
  },
  {
   "cell_type": "markdown",
   "metadata": {},
   "source": [
    "# Ejercicios VAPA  \n",
    "> Entrenamineto para analisis de datos."
   ]
  },
  {
   "cell_type": "markdown",
   "metadata": {},
   "source": [
    "> Ejercicio 1:\n",
    "\n",
    "> Given an int n, return the absolute difference between n and 21, except return double the absolute difference if n is over 21.\n",
    "Note: Create function, the return is like this:\n",
    "* diff21(19) → 2\n",
    "* diff21(10) → 11\n",
    "* diff21(21) → 0\n"
   ]
  },
  {
   "cell_type": "markdown",
   "metadata": {},
   "source": [
    "> Solución:\n"
   ]
  },
  {
   "cell_type": "code",
   "execution_count": 1,
   "metadata": {},
   "outputs": [
    {
     "data": {
      "text/plain": [
       "'diff21(4) → 17'"
      ]
     },
     "execution_count": 1,
     "metadata": {},
     "output_type": "execute_result"
    }
   ],
   "source": [
    "def resta1(n):  # Se declara la función resta\n",
    "    if n > 21:  # Declaramos una condición por donde pasa n; si n> 21: imprime la diferencia de 2*(21 - n)\n",
    "        a = n - 21\n",
    "        b = a*2\n",
    "        texto = ('diff21({}) → {}'.format(n, b)) #imprime el texto especificado\n",
    "        return(texto)\n",
    "    else:       # si no se cumple esa condición entonces solo se resta 21-n\n",
    "        a = 21 - n\n",
    "        texto = ('diff21({}) → {}'.format(n, a)) #imprime el texto especificado\n",
    "        return(texto)\n",
    "resta1(4)       # ingresamos argumento"
   ]
  },
  {
   "cell_type": "markdown",
   "metadata": {},
   "source": [
    "> Ejercicio 2:\n",
    "\n",
    ">We have a loud talking parrot. The \"hour\" parameter is the current hour time in the range 0..23. We are in trouble if the parrot is talking and the hour is before 7 or after 20. Return True if we are in trouble.\n",
    "Note: Create function, the return is like this:\n",
    "* parrot_trouble(True, 6) → True\n",
    "* parrot_trouble(True, 7) → False\n",
    "* parrot_trouble(False, 6) → False\n"
   ]
  },
  {
   "cell_type": "code",
   "execution_count": 2,
   "metadata": {},
   "outputs": [
    {
     "data": {
      "text/plain": [
       "'parrot_trouble(False, 19) → False '"
      ]
     },
     "execution_count": 2,
     "metadata": {},
     "output_type": "execute_result"
    }
   ],
   "source": [
    "def loro(n): # Definimos la función loro\n",
    "    if n > 20:   # Si el loro habla despues de las 20:00 horas. Estamos en problemas \n",
    "        a = True  # Devuelve un boolean\n",
    "        texto = ('parrot_trouble({1} , {0}) → {1} '.format(n, a) ) # concatenamos los datos para una mejor presentación \n",
    "        return(texto)\n",
    "    elif n < 7:\n",
    "        b = True \n",
    "        texto =('parrot_trouble({1}, {0}) → {1} '.format(n, b))\n",
    "        return(texto)\n",
    "    else:\n",
    "        c = False\n",
    "        texto =('parrot_trouble({1}, {0}) → {1} '.format(n, c))\n",
    "        return(texto)  \n",
    "\n",
    "loro(19) # Ingresamos argumento"
   ]
  },
  {
   "cell_type": "markdown",
   "metadata": {},
   "source": [
    "> Ejercicio 2:\n",
    "\n",
    ">Given 2 ints, a and b, return True if one if them is 10 or if their sum is 10.\n",
    "Note: Create function, the return is like this:\n",
    "* makes10(9, 10) → True\n",
    "* makes10(9, 9) → False\n",
    "* makes10(1, 9) → True"
   ]
  },
  {
   "cell_type": "code",
   "execution_count": 7,
   "metadata": {},
   "outputs": [
    {
     "data": {
      "text/plain": [
       "'makes10(5,7) → False'"
      ]
     },
     "execution_count": 7,
     "metadata": {},
     "output_type": "execute_result"
    }
   ],
   "source": [
    "def sum(a,b):      # Definimos la funcion con dos variables\n",
    "    if a == 10 or b == 10:      # Agregamos la primera condición; si a = 10 o b = 10 entonces:\n",
    "        p = True                # boolean como True\n",
    "        text = ('makes10({},{}) → {}'.format(a,b,p))  #Concatenamos datos \n",
    "        return(text)                                  #imprime la concatenación de datos\n",
    "    elif a + b == 10:             # Agregamos segunda condición; si a + b = 10 entonces:\n",
    "        p = True                   # boolean como True\n",
    "        text = ('makes10({},{}) → {}'.format(a, b, p))  #Concatenamos datos \n",
    "        return(text)                                     #imprime la concatenación de datos\n",
    "    else:                      # Si no se cumple ninguna condicion anterior entonces:\n",
    "        p = False              # boolean como False\n",
    "        text = ('makes10({},{}) → {}'.format(a,b,p))     #Concatenamos datos \n",
    "        return(text)            #imprime la concatenación de datos\n",
    "    \n",
    "\n",
    "sum(5,7)         #Ingresamos argumentos en la función"
   ]
  },
  {
   "cell_type": "markdown",
   "metadata": {},
   "source": [
    "> Ejercicio 4:\n",
    "\n",
    "> Given an int n, return True if it is within 10 of 100 or 200. Note: abs(num) computes the absolute value of a number.\n",
    "Note: Create function, the return is like this:\n",
    "* near_hundred(93) → True\n",
    "* near_hundred(90) → True\n",
    "* near_hundred(89) → False"
   ]
  },
  {
   "cell_type": "code",
   "execution_count": 16,
   "metadata": {},
   "outputs": [
    {
     "data": {
      "text/plain": [
       "'near_hundred(90) → True'"
      ]
     },
     "execution_count": 16,
     "metadata": {},
     "output_type": "execute_result"
    }
   ],
   "source": [
    "def numero(n):\n",
    "    if n < 100 and n >= 90:\n",
    "        p = True\n",
    "        texto = ('near_hundred({}) → {}'.format(n,p))\n",
    "        return(texto)\n",
    "    elif n < 200 and n>=190:\n",
    "        p = True \n",
    "        texto = ('near_hundred({}) → {}'.format(n,p))\n",
    "        return(texto)\n",
    "    else: \n",
    "        p = False\n",
    "        texto= ('near_hundred({}) → {}'.format(n, p))\n",
    "        return(texto)\n",
    "        \n",
    "        \n",
    "numero(90)"
   ]
  },
  {
   "cell_type": "markdown",
   "metadata": {},
   "source": [
    "> Ejercicio 5\n",
    "\n",
    "> Given 2 int values, return True if one is negative and one is positive. Except if the parameter \"negative\" is True, then return True only if both are negative.\n",
    "Note: Create function, the return is like this:\n",
    "* pos_neg(1, -1, False) → True\n",
    "* pos_neg(-1, 1, False) → True\n",
    "* pos_neg(-4, -5, True) → True"
   ]
  },
  {
   "cell_type": "code",
   "execution_count": 22,
   "metadata": {},
   "outputs": [
    {
     "data": {
      "text/plain": [
       "'pos_neg(4,5,True) →  True'"
      ]
     },
     "execution_count": 22,
     "metadata": {},
     "output_type": "execute_result"
    }
   ],
   "source": [
    "def signo(a, b):\n",
    "    if a < 0 and b <0: \n",
    "        p = True\n",
    "        texto = ('pos_neg({0},{1},{2}) → {2}'.format(a,b,p))\n",
    "        return(texto)\n",
    "    elif a < 0 or b < 0:\n",
    "        p = True \n",
    "        q = False \n",
    "        texto = ('pos_neg({},{},{}) → {}'.format(a,b,q,p))\n",
    "        return(texto)\n",
    "    else:\n",
    "        p = True \n",
    "        texto = ('pos_neg({0},{1},{2}) →  {2}'.format(a,b,p))\n",
    "        return(texto)\n",
    "\n",
    "signo(4,5)"
   ]
  },
  {
   "cell_type": "markdown",
   "metadata": {},
   "source": [
    "> Ejercicio 6:\n",
    "\n",
    ">Given a string name, e.g. \"Bob\", return a greeting of the form \"Hello Bob!\".\n",
    "Note: Create function, the return is like this:\n",
    "* hello_name('Bob') → 'Hello Bob!'\n",
    "* hello_name('Alice') → 'Hello Alice!'\n",
    "* hello_name('X') → 'Hello X!'"
   ]
  },
  {
   "cell_type": "code",
   "execution_count": 36,
   "metadata": {},
   "outputs": [
    {
     "data": {
      "text/plain": [
       "'hello_name(Alice) → hello Alice!'"
      ]
     },
     "execution_count": 36,
     "metadata": {},
     "output_type": "execute_result"
    }
   ],
   "source": [
    "def palabra(arg):\n",
    "    texto = ('hello_name({0}) → hello {0}!'.format(arg))\n",
    "    return(texto)\n",
    "\n",
    "palabra('Alice')\n",
    "    \n",
    "    "
   ]
  },
  {
   "cell_type": "markdown",
   "metadata": {},
   "source": [
    "> Ejercicio 7:\n",
    "\n",
    ">Given two strings, a and b, return the result of putting them together in the order abba, e.g. \"Hi\" and \"Bye\" returns \"HiByeByeHi\".\n",
    "Note: Create function, the return is like this:\n",
    "* make_abba('Hi', 'Bye') → 'HiByeByeHi'\n",
    "* make_abba('Yo', 'Alice') → 'YoAliceAliceYo'\n",
    "* make_abba('What', 'Up') → 'WhatUpUpWhat'"
   ]
  },
  {
   "cell_type": "code",
   "execution_count": 42,
   "metadata": {},
   "outputs": [
    {
     "data": {
      "text/plain": [
       "'make_abba(hi,bye)→ hibyehibye'"
      ]
     },
     "execution_count": 42,
     "metadata": {},
     "output_type": "execute_result"
    }
   ],
   "source": [
    "def palabra(arg1,arg2):\n",
    "    texto = ('make_abba({0},{1})→ {0}{1}{0}{1}'.format(arg1,arg2))\n",
    "    return(texto)\n",
    "\n",
    "palabra('hi','bye')"
   ]
  },
  {
   "cell_type": "code",
   "execution_count": null,
   "metadata": {},
   "outputs": [],
   "source": []
  }
 ],
 "metadata": {
  "kernelspec": {
   "display_name": "Python 3",
   "language": "python",
   "name": "python3"
  },
  "language_info": {
   "codemirror_mode": {
    "name": "ipython",
    "version": 3
   },
   "file_extension": ".py",
   "mimetype": "text/x-python",
   "name": "python",
   "nbconvert_exporter": "python",
   "pygments_lexer": "ipython3",
   "version": "3.8.5"
  }
 },
 "nbformat": 4,
 "nbformat_minor": 4
}
