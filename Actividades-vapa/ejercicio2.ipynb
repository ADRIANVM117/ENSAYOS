{
 "cells": [
  {
   "cell_type": "markdown",
   "metadata": {},
   "source": [
    "# Ejercicios VAPA 2.\n",
    "### Vázquez Mora Adrián \n",
    "#### 16/04/21 \n"
   ]
  },
  {
   "cell_type": "markdown",
   "metadata": {},
   "source": [
    "<b> Entrenamiento Python Ejercicio 1 </b>\n",
    "\n",
    "> Given a string and a non-negative int n, return a larger string that is n copies of the original string.\n",
    "\n",
    ">Note: Create function, the return is like this:\n",
    "\n",
    "<ul>\n",
    "<li>string_times('Hi', 2) → 'HiHi' </li >\n",
    "<li>string_times('Hi', 3) → 'HiHiHi' </li>\n",
    "    <li>string_times('Hi', 1) → 'Hi' </li>\n",
    "</ul>    "
   ]
  },
  {
   "cell_type": "code",
   "execution_count": 27,
   "metadata": {},
   "outputs": [
    {
     "data": {
      "text/plain": [
       "'string_times( hi, 3) →hihihi'"
      ]
     },
     "execution_count": 27,
     "metadata": {},
     "output_type": "execute_result"
    }
   ],
   "source": [
    "def palabra(n,p):  #Declaro mi función palabra con mis dos entradas. n: para la palabra y p: el numero entero positivo \n",
    "    if p > 0:      # Se crea una condición if para que solo se ejecute si los numeros son > 0 \n",
    "        texto = ('string_times( {0}, {1}) →'.format(n,p) + (n*p))  # imprimir\n",
    "        return(texto)    # imprime la concatenación  de datos y la operación entree el str y el int \n",
    "    else: \n",
    "        print('Pon un numero entero positivo cabeza de pavo') \n",
    "\n",
    "palabra('hi', 3)  #Ingresar argumentos en la función \n",
    "    \n",
    "    \n",
    "    "
   ]
  },
  {
   "cell_type": "markdown",
   "metadata": {},
   "source": [
    "<b> Entrenamiento Python Ejercicio 2 </b>\n",
    "\n",
    "> Given a string and a non-negative int n, we'll say that the front of the string is the first 3 chars, or whatever is there if the string is less than length 3. Return n copies of the front;\n",
    "Note: Create function, the return is like this:\n",
    "<ul>\n",
    "<li>front_times('Chocolate', 2) → 'ChoCho' </li>\n",
    "<li>front_times('Chocolate', 3) → 'ChoChoCho'  </li>\n",
    "<li>front_times('Abc', 3) → 'AbcAbcAbc'   </li>\n",
    "</ul>    "
   ]
  },
  {
   "cell_type": "code",
   "execution_count": 54,
   "metadata": {},
   "outputs": [
    {
     "data": {
      "text/plain": [
       "'front_times(Abc, 3) →AbcAbcAbc'"
      ]
     },
     "execution_count": 54,
     "metadata": {},
     "output_type": "execute_result"
    }
   ],
   "source": [
    "def palabra(n,p):\n",
    "    if n > 0:\n",
    "        texto = ('front_times({0}, {1}) →'.format(p,n) + n*p[0:3])\n",
    "        return(texto)\n",
    "    else: \n",
    "        print('Pon un numero entero positivo cabeza de pavo') \n",
    "        \n",
    "    \n",
    "palabra(3, 'Abc')\n",
    "        "
   ]
  },
  {
   "cell_type": "markdown",
   "metadata": {},
   "source": [
    "<b> Entrenamiento Python Ejercicio 3 </b>\n",
    "\n",
    "> Given a string, return a new string made of every other char starting with the first, so \"Hello\" yields \"Hlo\".\n",
    "Note: Create function, the return is like this:\n",
    "<ul>\n",
    "<li>string_bits('Hello') → 'Hlo' </li>\n",
    "<li>string_bits('Hi') → 'H' </li>\n",
    "<li>string_bits('Heeololeo') → 'Hello' </li>\n",
    "</ul>    "
   ]
  },
  {
   "cell_type": "code",
   "execution_count": null,
   "metadata": {},
   "outputs": [],
   "source": [
    "def palabra(p): \n",
    "    "
   ]
  },
  {
   "cell_type": "markdown",
   "metadata": {},
   "source": [
    "<b>Entrenamiento Python Ejercicio 4 </b>\n",
    "\n",
    " >Given a non-empty string like \"Code\" return a string like \"CCoCodCode\".\n",
    "Note: Create function, the return is like this:\n",
    "<ul>\n",
    "<li>string_splosion('Code') → 'CCoCodCode' </li>\n",
    "<li>string_splosion('abc') → 'aababc' </li>\n",
    "<li>string_splosion('ab') → 'aab'</li>\n",
    "</ul>"
   ]
  },
  {
   "cell_type": "markdown",
   "metadata": {},
   "source": [
    "<b>Entrenamiento Python Ejercicio 5 </b>\n",
    "> Given a string, return the count of the number of times that a substring length 2 appears in the string and also as the last 2 chars of the string, so \"hixxxhi\" yields 1 (we won't count the end substring).\n",
    "Note: Create function, the return is like this:\n",
    "\n",
    "<ul>\n",
    "<li>last2('hixxhi') → 1 </li>\n",
    "<li>last2('xaxxaxaxx') → 1 </li>\n",
    "<li>last2('axxxaaxx') → 2   </li>\n",
    " </ul>   "
   ]
  },
  {
   "cell_type": "markdown",
   "metadata": {},
   "source": [
    "<b>Entrenamiento Python Ejercicio (Bonus (°|°)_/ ) </b>\n",
    "> Given an array of ints, return the number of 9's in the array.\n",
    "Note: Create function, the return is like this:\n",
    "<ul>\n",
    "<li>array_count9([1, 2, 9]) → 1 </li>\n",
    "<li>array_count9([1, 9, 9]) → 2  </li>\n",
    "<li>array_count9([1, 9, 9, 3, 9]) → 3</li>\n",
    "</ul>    "
   ]
  }
 ],
 "metadata": {
  "kernelspec": {
   "display_name": "Python 3",
   "language": "python",
   "name": "python3"
  },
  "language_info": {
   "codemirror_mode": {
    "name": "ipython",
    "version": 3
   },
   "file_extension": ".py",
   "mimetype": "text/x-python",
   "name": "python",
   "nbconvert_exporter": "python",
   "pygments_lexer": "ipython3",
   "version": "3.8.5"
  }
 },
 "nbformat": 4,
 "nbformat_minor": 4
}
