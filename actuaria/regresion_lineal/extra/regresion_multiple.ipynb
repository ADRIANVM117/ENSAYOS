{
  "nbformat": 4,
  "nbformat_minor": 0,
  "metadata": {
    "colab": {
      "provenance": [],
      "authorship_tag": "ABX9TyOsK/u2bc8YyVRCy87skuY7",
      "include_colab_link": true
    },
    "kernelspec": {
      "name": "python3",
      "display_name": "Python 3"
    },
    "language_info": {
      "name": "python"
    }
  },
  "cells": [
    {
      "cell_type": "markdown",
      "metadata": {
        "id": "view-in-github",
        "colab_type": "text"
      },
      "source": [
        "<a href=\"https://colab.research.google.com/github/ADRIANVM117/ENSAYOS/blob/master/actuaria/regresion_lineal/extra/regresion_multiple.ipynb\" target=\"_parent\"><img src=\"https://colab.research.google.com/assets/colab-badge.svg\" alt=\"Open In Colab\"/></a>"
      ]
    },
    {
      "cell_type": "markdown",
      "source": [
        "# Regresión multiple"
      ],
      "metadata": {
        "id": "Uq7T6PXeJehk"
      }
    },
    {
      "cell_type": "markdown",
      "source": [
        "## Librerias "
      ],
      "metadata": {
        "id": "TkUrT7p0JUI0"
      }
    },
    {
      "cell_type": "code",
      "execution_count": 12,
      "metadata": {
        "colab": {
          "base_uri": "https://localhost:8080/",
          "height": 112
        },
        "id": "T_W7QgDTJa8K",
        "outputId": "216aaa63-92a4-47d6-8992-21c4d57bd0ea"
      },
      "outputs": [
        {
          "output_type": "execute_result",
          "data": {
            "text/plain": [
              "   X1  X2  X3  X4  X5  X6  X7  X8   Y\n",
              "0   2   4   0   0   5   4   1   0  -3\n",
              "1   1   1   1   2   0   1   5   1  10"
            ],
            "text/html": [
              "\n",
              "  <div id=\"df-65d37167-a4a6-4015-9b66-b92bec737f65\">\n",
              "    <div class=\"colab-df-container\">\n",
              "      <div>\n",
              "<style scoped>\n",
              "    .dataframe tbody tr th:only-of-type {\n",
              "        vertical-align: middle;\n",
              "    }\n",
              "\n",
              "    .dataframe tbody tr th {\n",
              "        vertical-align: top;\n",
              "    }\n",
              "\n",
              "    .dataframe thead th {\n",
              "        text-align: right;\n",
              "    }\n",
              "</style>\n",
              "<table border=\"1\" class=\"dataframe\">\n",
              "  <thead>\n",
              "    <tr style=\"text-align: right;\">\n",
              "      <th></th>\n",
              "      <th>X1</th>\n",
              "      <th>X2</th>\n",
              "      <th>X3</th>\n",
              "      <th>X4</th>\n",
              "      <th>X5</th>\n",
              "      <th>X6</th>\n",
              "      <th>X7</th>\n",
              "      <th>X8</th>\n",
              "      <th>Y</th>\n",
              "    </tr>\n",
              "  </thead>\n",
              "  <tbody>\n",
              "    <tr>\n",
              "      <th>0</th>\n",
              "      <td>2</td>\n",
              "      <td>4</td>\n",
              "      <td>0</td>\n",
              "      <td>0</td>\n",
              "      <td>5</td>\n",
              "      <td>4</td>\n",
              "      <td>1</td>\n",
              "      <td>0</td>\n",
              "      <td>-3</td>\n",
              "    </tr>\n",
              "    <tr>\n",
              "      <th>1</th>\n",
              "      <td>1</td>\n",
              "      <td>1</td>\n",
              "      <td>1</td>\n",
              "      <td>2</td>\n",
              "      <td>0</td>\n",
              "      <td>1</td>\n",
              "      <td>5</td>\n",
              "      <td>1</td>\n",
              "      <td>10</td>\n",
              "    </tr>\n",
              "  </tbody>\n",
              "</table>\n",
              "</div>\n",
              "      <button class=\"colab-df-convert\" onclick=\"convertToInteractive('df-65d37167-a4a6-4015-9b66-b92bec737f65')\"\n",
              "              title=\"Convert this dataframe to an interactive table.\"\n",
              "              style=\"display:none;\">\n",
              "        \n",
              "  <svg xmlns=\"http://www.w3.org/2000/svg\" height=\"24px\"viewBox=\"0 0 24 24\"\n",
              "       width=\"24px\">\n",
              "    <path d=\"M0 0h24v24H0V0z\" fill=\"none\"/>\n",
              "    <path d=\"M18.56 5.44l.94 2.06.94-2.06 2.06-.94-2.06-.94-.94-2.06-.94 2.06-2.06.94zm-11 1L8.5 8.5l.94-2.06 2.06-.94-2.06-.94L8.5 2.5l-.94 2.06-2.06.94zm10 10l.94 2.06.94-2.06 2.06-.94-2.06-.94-.94-2.06-.94 2.06-2.06.94z\"/><path d=\"M17.41 7.96l-1.37-1.37c-.4-.4-.92-.59-1.43-.59-.52 0-1.04.2-1.43.59L10.3 9.45l-7.72 7.72c-.78.78-.78 2.05 0 2.83L4 21.41c.39.39.9.59 1.41.59.51 0 1.02-.2 1.41-.59l7.78-7.78 2.81-2.81c.8-.78.8-2.07 0-2.86zM5.41 20L4 18.59l7.72-7.72 1.47 1.35L5.41 20z\"/>\n",
              "  </svg>\n",
              "      </button>\n",
              "      \n",
              "  <style>\n",
              "    .colab-df-container {\n",
              "      display:flex;\n",
              "      flex-wrap:wrap;\n",
              "      gap: 12px;\n",
              "    }\n",
              "\n",
              "    .colab-df-convert {\n",
              "      background-color: #E8F0FE;\n",
              "      border: none;\n",
              "      border-radius: 50%;\n",
              "      cursor: pointer;\n",
              "      display: none;\n",
              "      fill: #1967D2;\n",
              "      height: 32px;\n",
              "      padding: 0 0 0 0;\n",
              "      width: 32px;\n",
              "    }\n",
              "\n",
              "    .colab-df-convert:hover {\n",
              "      background-color: #E2EBFA;\n",
              "      box-shadow: 0px 1px 2px rgba(60, 64, 67, 0.3), 0px 1px 3px 1px rgba(60, 64, 67, 0.15);\n",
              "      fill: #174EA6;\n",
              "    }\n",
              "\n",
              "    [theme=dark] .colab-df-convert {\n",
              "      background-color: #3B4455;\n",
              "      fill: #D2E3FC;\n",
              "    }\n",
              "\n",
              "    [theme=dark] .colab-df-convert:hover {\n",
              "      background-color: #434B5C;\n",
              "      box-shadow: 0px 1px 3px 1px rgba(0, 0, 0, 0.15);\n",
              "      filter: drop-shadow(0px 1px 2px rgba(0, 0, 0, 0.3));\n",
              "      fill: #FFFFFF;\n",
              "    }\n",
              "  </style>\n",
              "\n",
              "      <script>\n",
              "        const buttonEl =\n",
              "          document.querySelector('#df-65d37167-a4a6-4015-9b66-b92bec737f65 button.colab-df-convert');\n",
              "        buttonEl.style.display =\n",
              "          google.colab.kernel.accessAllowed ? 'block' : 'none';\n",
              "\n",
              "        async function convertToInteractive(key) {\n",
              "          const element = document.querySelector('#df-65d37167-a4a6-4015-9b66-b92bec737f65');\n",
              "          const dataTable =\n",
              "            await google.colab.kernel.invokeFunction('convertToInteractive',\n",
              "                                                     [key], {});\n",
              "          if (!dataTable) return;\n",
              "\n",
              "          const docLinkHtml = 'Like what you see? Visit the ' +\n",
              "            '<a target=\"_blank\" href=https://colab.research.google.com/notebooks/data_table.ipynb>data table notebook</a>'\n",
              "            + ' to learn more about interactive tables.';\n",
              "          element.innerHTML = '';\n",
              "          dataTable['output_type'] = 'display_data';\n",
              "          await google.colab.output.renderOutput(dataTable, element);\n",
              "          const docLink = document.createElement('div');\n",
              "          docLink.innerHTML = docLinkHtml;\n",
              "          element.appendChild(docLink);\n",
              "        }\n",
              "      </script>\n",
              "    </div>\n",
              "  </div>\n",
              "  "
            ]
          },
          "metadata": {},
          "execution_count": 12
        }
      ],
      "source": [
        "import numpy as np \n",
        "import pandas as pd \n",
        "import scipy.stats \n",
        "\n",
        "# Para este ejercicio, tomamos la muestra 1 del examen final de regresion lineal \n",
        "url = 'https://raw.githubusercontent.com/ADRIANVM117/proyectos_propios/main/actuaria/regresion_lineal/extra/prueba.csv'\n",
        "df = pd.read_csv(url)\n",
        "df.head(2)"
      ]
    },
    {
      "cell_type": "code",
      "source": [
        "datos=df.to_numpy()\n",
        "[n,m]=np.shape(datos)   \n",
        "\n",
        "#Generando matris disenio y matriz y\n",
        "y=np.zeros(n)\n",
        "for i in range(0,n):\n",
        "    y[i]=datos[i,m-1]\n",
        "matriz_x=np.zeros([n,m])\n",
        "for i in range(0,n):\n",
        "  matriz_x[i,0]=1\n",
        "for i in range(1,n+1):\n",
        "  for j in range(1,m):\n",
        "    matriz_x[i-1,j]=datos[i-1,j-1]"
      ],
      "metadata": {
        "id": "qnoWfI69NWf2"
      },
      "execution_count": 13,
      "outputs": []
    },
    {
      "cell_type": "markdown",
      "source": [
        "## Aproximación de parametros "
      ],
      "metadata": {
        "id": "cZK4zwrt-Fu8"
      }
    },
    {
      "cell_type": "code",
      "source": [
        "# calculo de betas \n",
        "xt=np.transpose(matriz_x)\n",
        "xtx=np.dot(xt,matriz_x)\n",
        "xtxinv=np.linalg.inv(xtx)\n",
        "xty=np.dot(xt,y)\n",
        "betas=np.dot(xtxinv,xty)\n",
        "#----------------------------------------------------\n",
        "# y_ajustadas\n",
        "y_ajustadas=np.dot(matriz_x,betas)\n",
        "#Residuales : res\n",
        "res=y-y_ajustadas\n",
        "# Suma residual de los cuadrados: SSres\n",
        "ssres=sum(res**2)\n",
        "#Media cuadratica residual : MSres\n",
        "msres=ssres/(n-m)\n",
        "# Suma de cuadrados de la regresión: SS_reg\n",
        "ss_reg=sum((y_ajustadas-np.mean(y))**2)\n",
        "# Media cuadratica de la regresión : MS_reg\n",
        "ms_reg=ss_reg/(m-1)\n",
        "# Suma residual total : SS_total\n",
        "ss_total=ssres+ss_reg\n",
        "#contando regresores \n",
        "a = matriz_x.shape\n",
        "b = a[1] -1 \n",
        "#------------------------------------------------------------------------------------\n",
        "# Significancia del modelo \n",
        "# Prueba F-test\n",
        "F = ms_reg / msres\n",
        "#  Obteniendo el F critico \n",
        "F_critico = scipy.stats.f.ppf(q=1-.05, dfn=m -1, dfd=n - m)\n",
        "F_critico\n",
        "\n",
        "# Hipotesis H0 planteada. \n",
        "if F> F_critico:\n",
        "  print('La hipotesis H0 se rechaza')\n",
        " \n",
        "else:\n",
        "  print('La hipotesis Ho se acepta')\n",
        "\n",
        "# Calculo de la significancia del modelo\n",
        "p_val=  1-scipy.stats.f.cdf(F,m-1,n-m)\n",
        "Sigmodelo=(1-p_val)*100\n",
        "print('Significancia del modelo: ', Sigmodelo)\n",
        "#-----------------------------------------------------------------------------------------\n",
        "# Significancia de los regresores\n",
        "matriz_c_jj = np.zeros(m)\n",
        "\n",
        "\n"
      ],
      "metadata": {
        "colab": {
          "base_uri": "https://localhost:8080/"
        },
        "id": "qohs3bD3Qi55",
        "outputId": "7f0a509e-142d-4ac3-ce9c-bb70195e9101"
      },
      "execution_count": 14,
      "outputs": [
        {
          "output_type": "stream",
          "name": "stdout",
          "text": [
            "La hipotesis H0 se rechaza\n",
            "Significancia del modelo:  99.99998068901999\n"
          ]
        }
      ]
    },
    {
      "cell_type": "code",
      "source": [
        "# Significancia de los regresores\n",
        "# inicio una matriz de ceros del tamaño 'm' regresores\n",
        "matriz_c_jj = np.zeros(m)\n",
        "\n",
        "# Declaro un ciclo que llene mi matriz_c_jj unicamente con la diagonal de mi matriz (XT*X)-1\n",
        "for i in range(1,m):        \n",
        "  matriz_c_jj[i] = xtxinv[i,i]\n",
        "\n",
        "# Inicio una matriz de ceros para prueba t de cada regresor B_j\n",
        "matriz_t = np.zeros(m)\n",
        "for i in range(1,m):\n",
        "# matriz con las pruebas t de cada regresor B_j\n",
        "  matriz_t[i] = abs(betas[i]/ np.sqrt(matriz_c_jj[i]* msres))\n",
        "# Valor p de cada prueba t \n",
        "# Iniciamos matriz de ceros para valores p de cada prueba t\n",
        "matriz_p = np.zeros(m)\n",
        "# valores p multiplicados * 100\n",
        "matriz_p_100 = np.zeros(m)\n",
        "for i in range(1,m):\n",
        "  matriz_p[i] = 1 - (scipy.stats.t.sf(matriz_t[i], n - m))*2\n",
        "  matriz_p_100[i] = (1 -matriz_p[i])*100\n",
        "# significancia de cada regresor\n",
        "\n",
        "matriz_significancia  = np.zeros(m)\n",
        "for i in range(1,m):\n",
        "  matriz_significancia[i] = 100 - matriz_p_100[i] \n",
        "\n",
        "#quitamos el primer valor de la matriz de significancia pues este es el de la columna de 1\n",
        "matriz_significancia_completa = np.delete(matriz_significancia, 0)\n",
        "# imprimo a que coeficiente pertenece cada significancia\n",
        "#creamos un diccionario vacio\n",
        "coeficientes_ordenados = [] \n",
        "for i in  enumerate(matriz_significancia_completa):\n",
        "  coeficientes_ordenados.append(i)\n",
        "print(coeficientes_ordenados)\n",
        "  "
      ],
      "metadata": {
        "colab": {
          "base_uri": "https://localhost:8080/"
        },
        "id": "Ajl9LvwsnrUh",
        "outputId": "0945ce19-1250-4f3e-c71a-ad816a85ec74"
      },
      "execution_count": 103,
      "outputs": [
        {
          "output_type": "stream",
          "name": "stdout",
          "text": [
            "[(0, 31.992112825693425), (1, 98.40645860885412), (2, 99.30531944244451), (3, 98.68725090354073), (4, 65.85757918705987), (5, 63.038579073820834), (6, 99.82942298057058), (7, 99.97483620120799)]\n"
          ]
        }
      ]
    },
    {
      "cell_type": "markdown",
      "source": [
        "## Metodo Forward"
      ],
      "metadata": {
        "id": "WeZTC0zzBBdy"
      }
    },
    {
      "cell_type": "code",
      "source": [],
      "metadata": {
        "id": "zXyLvGMyoF8y"
      },
      "execution_count": 8,
      "outputs": []
    },
    {
      "cell_type": "markdown",
      "source": [],
      "metadata": {
        "id": "ff8QS3XtOBHh"
      }
    }
  ]
}