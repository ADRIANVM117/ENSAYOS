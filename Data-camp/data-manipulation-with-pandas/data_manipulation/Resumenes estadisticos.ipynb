{
 "cells": [
  {
   "cell_type": "markdown",
   "metadata": {},
   "source": [
    "## Resumen Estadistico \n",
    "### Adrián Vázquez \n",
    "#### 05/04/21"
   ]
  },
  {
   "cell_type": "code",
   "execution_count": 3,
   "metadata": {},
   "outputs": [
    {
     "data": {
      "text/html": [
       "<div>\n",
       "<style scoped>\n",
       "    .dataframe tbody tr th:only-of-type {\n",
       "        vertical-align: middle;\n",
       "    }\n",
       "\n",
       "    .dataframe tbody tr th {\n",
       "        vertical-align: top;\n",
       "    }\n",
       "\n",
       "    .dataframe thead th {\n",
       "        text-align: right;\n",
       "    }\n",
       "</style>\n",
       "<table border=\"1\" class=\"dataframe\">\n",
       "  <thead>\n",
       "    <tr style=\"text-align: right;\">\n",
       "      <th></th>\n",
       "      <th>Indicator</th>\n",
       "      <th>PUBLISH STATES</th>\n",
       "      <th>Year</th>\n",
       "      <th>WHO region</th>\n",
       "      <th>World Bank income group</th>\n",
       "      <th>Country</th>\n",
       "      <th>Sex</th>\n",
       "      <th>Display Value</th>\n",
       "      <th>Numeric</th>\n",
       "      <th>Low</th>\n",
       "      <th>High</th>\n",
       "      <th>Comments</th>\n",
       "    </tr>\n",
       "  </thead>\n",
       "  <tbody>\n",
       "    <tr>\n",
       "      <th>0</th>\n",
       "      <td>Life expectancy at birth (years)</td>\n",
       "      <td>Published</td>\n",
       "      <td>1990</td>\n",
       "      <td>Europe</td>\n",
       "      <td>High-income</td>\n",
       "      <td>Andorra</td>\n",
       "      <td>Both sexes</td>\n",
       "      <td>77</td>\n",
       "      <td>77.0</td>\n",
       "      <td>NaN</td>\n",
       "      <td>NaN</td>\n",
       "      <td>NaN</td>\n",
       "    </tr>\n",
       "    <tr>\n",
       "      <th>1</th>\n",
       "      <td>Life expectancy at birth (years)</td>\n",
       "      <td>Published</td>\n",
       "      <td>2000</td>\n",
       "      <td>Europe</td>\n",
       "      <td>High-income</td>\n",
       "      <td>Andorra</td>\n",
       "      <td>Both sexes</td>\n",
       "      <td>80</td>\n",
       "      <td>80.0</td>\n",
       "      <td>NaN</td>\n",
       "      <td>NaN</td>\n",
       "      <td>NaN</td>\n",
       "    </tr>\n",
       "    <tr>\n",
       "      <th>2</th>\n",
       "      <td>Life expectancy at age 60 (years)</td>\n",
       "      <td>Published</td>\n",
       "      <td>2012</td>\n",
       "      <td>Europe</td>\n",
       "      <td>High-income</td>\n",
       "      <td>Andorra</td>\n",
       "      <td>Female</td>\n",
       "      <td>28</td>\n",
       "      <td>28.0</td>\n",
       "      <td>NaN</td>\n",
       "      <td>NaN</td>\n",
       "      <td>NaN</td>\n",
       "    </tr>\n",
       "    <tr>\n",
       "      <th>3</th>\n",
       "      <td>Life expectancy at age 60 (years)</td>\n",
       "      <td>Published</td>\n",
       "      <td>2000</td>\n",
       "      <td>Europe</td>\n",
       "      <td>High-income</td>\n",
       "      <td>Andorra</td>\n",
       "      <td>Both sexes</td>\n",
       "      <td>23</td>\n",
       "      <td>23.0</td>\n",
       "      <td>NaN</td>\n",
       "      <td>NaN</td>\n",
       "      <td>NaN</td>\n",
       "    </tr>\n",
       "    <tr>\n",
       "      <th>4</th>\n",
       "      <td>Life expectancy at birth (years)</td>\n",
       "      <td>Published</td>\n",
       "      <td>2012</td>\n",
       "      <td>Eastern Mediterranean</td>\n",
       "      <td>High-income</td>\n",
       "      <td>United Arab Emirates</td>\n",
       "      <td>Female</td>\n",
       "      <td>78</td>\n",
       "      <td>78.0</td>\n",
       "      <td>NaN</td>\n",
       "      <td>NaN</td>\n",
       "      <td>NaN</td>\n",
       "    </tr>\n",
       "  </tbody>\n",
       "</table>\n",
       "</div>"
      ],
      "text/plain": [
       "                           Indicator PUBLISH STATES  Year  \\\n",
       "0   Life expectancy at birth (years)      Published  1990   \n",
       "1   Life expectancy at birth (years)      Published  2000   \n",
       "2  Life expectancy at age 60 (years)      Published  2012   \n",
       "3  Life expectancy at age 60 (years)      Published  2000   \n",
       "4   Life expectancy at birth (years)      Published  2012   \n",
       "\n",
       "              WHO region World Bank income group               Country  \\\n",
       "0                 Europe             High-income               Andorra   \n",
       "1                 Europe             High-income               Andorra   \n",
       "2                 Europe             High-income               Andorra   \n",
       "3                 Europe             High-income               Andorra   \n",
       "4  Eastern Mediterranean             High-income  United Arab Emirates   \n",
       "\n",
       "          Sex  Display Value  Numeric  Low  High  Comments  \n",
       "0  Both sexes             77     77.0  NaN   NaN       NaN  \n",
       "1  Both sexes             80     80.0  NaN   NaN       NaN  \n",
       "2      Female             28     28.0  NaN   NaN       NaN  \n",
       "3  Both sexes             23     23.0  NaN   NaN       NaN  \n",
       "4      Female             78     78.0  NaN   NaN       NaN  "
      ]
     },
     "metadata": {},
     "output_type": "display_data"
    },
    {
     "name": "stdout",
     "output_type": "stream",
     "text": [
      "None\n"
     ]
    }
   ],
   "source": [
    "import pandas as pd \n",
    "\n",
    "datos = pd.read_csv('data-text.csv')\n",
    "print(display(datos.head()))"
   ]
  },
  {
   "cell_type": "markdown",
   "metadata": {},
   "source": [
    "- Para obtener  la media, desviación, mediana y mas sobre un DataFrame, utilizamos varios metodos como:"
   ]
  },
  {
   "cell_type": "code",
   "execution_count": 6,
   "metadata": {},
   "outputs": [
    {
     "name": "stdout",
     "output_type": "stream",
     "text": [
      "47.19458762886598\n"
     ]
    }
   ],
   "source": [
    "# obtenemos la  media de  el conjunto de todos lo valores en  'Numeric'\n",
    "print(datos['Numeric'].mean())"
   ]
  },
  {
   "cell_type": "code",
   "execution_count": 8,
   "metadata": {},
   "outputs": [
    {
     "name": "stdout",
     "output_type": "stream",
     "text": [
      "55.0\n"
     ]
    }
   ],
   "source": [
    "# obtenemos la  mediaana de  el conjunto de todos lo valores en  'Numeric'\n",
    "\n",
    "print(datos['Numeric'].median())"
   ]
  },
  {
   "cell_type": "markdown",
   "metadata": {},
   "source": [
    "- Maximo y minimo "
   ]
  },
  {
   "cell_type": "code",
   "execution_count": 12,
   "metadata": {},
   "outputs": [
    {
     "name": "stdout",
     "output_type": "stream",
     "text": [
      "87.0\n",
      "11.0\n"
     ]
    }
   ],
   "source": [
    " print(datos['Numeric'].max()) #Obtenemos el maximo \n",
    "print(datos['Numeric'].min())  #Obtenemos el minimo\n"
   ]
  },
  {
   "cell_type": "markdown",
   "metadata": {},
   "source": [
    "<b> Para crear nuestras propias funciones y aplicarlas a un DataFrame  </b>\n",
    "\n",
    "> utilizamos el metodo <b> .agg() </b>"
   ]
  },
  {
   "cell_type": "markdown",
   "metadata": {},
   "source": [
    "<b> Hagamos una función </b>"
   ]
  },
  {
   "cell_type": "code",
   "execution_count": 14,
   "metadata": {},
   "outputs": [],
   "source": [
    "# Creamos una función que nos reste los cuartiles \n",
    "\n",
    "def fun(column):\n",
    "    return column.quantile(.75) - column.quantile(.25)"
   ]
  },
  {
   "cell_type": "code",
   "execution_count": 16,
   "metadata": {},
   "outputs": [
    {
     "name": "stdout",
     "output_type": "stream",
     "text": [
      "48.0\n"
     ]
    }
   ],
   "source": [
    "# mandamos a llamar esa función para ser aplicada en la columna 'Numeric' con el metodo .agg() \n",
    "print(datos['Numeric'].agg(fun))"
   ]
  },
  {
   "cell_type": "markdown",
   "metadata": {},
   "source": [
    "- Podemos aplicar el mismo metodo al mismo tiempo a diferentes columnas "
   ]
  },
  {
   "cell_type": "code",
   "execution_count": 18,
   "metadata": {},
   "outputs": [
    {
     "name": "stdout",
     "output_type": "stream",
     "text": [
      "Numeric          48.0\n",
      "Display Value    48.0\n",
      "dtype: float64\n"
     ]
    }
   ],
   "source": [
    "print(datos[['Numeric', 'Display Value']].agg(fun))"
   ]
  },
  {
   "cell_type": "markdown",
   "metadata": {},
   "source": [
    "- Tambien usar funciones ya establecidas al mismo tiempo que usamos la que diseñamos "
   ]
  },
  {
   "cell_type": "code",
   "execution_count": 21,
   "metadata": {},
   "outputs": [
    {
     "name": "stdout",
     "output_type": "stream",
     "text": [
      "        Numeric  Display Value\n",
      "fun   48.000000      48.000000\n",
      "mean  47.194588      47.194588\n"
     ]
    }
   ],
   "source": [
    "import numpy as np\n",
    "print(datos[['Numeric', 'Display Value']].agg([fun, np.mean]))"
   ]
  },
  {
   "cell_type": "markdown",
   "metadata": {},
   "source": [
    "## Estadisticas acumulativas \n",
    "\n",
    "<b> Són utiles para hacer seguimiento de las estadisticas resumidas a lo largo del tiempo </b>"
   ]
  },
  {
   "cell_type": "markdown",
   "metadata": {},
   "source": [
    "- Utilizaremos un nuevo archivo "
   ]
  },
  {
   "cell_type": "code",
   "execution_count": 27,
   "metadata": {},
   "outputs": [
    {
     "data": {
      "text/html": [
       "<div>\n",
       "<style scoped>\n",
       "    .dataframe tbody tr th:only-of-type {\n",
       "        vertical-align: middle;\n",
       "    }\n",
       "\n",
       "    .dataframe tbody tr th {\n",
       "        vertical-align: top;\n",
       "    }\n",
       "\n",
       "    .dataframe thead th {\n",
       "        text-align: right;\n",
       "    }\n",
       "</style>\n",
       "<table border=\"1\" class=\"dataframe\">\n",
       "  <thead>\n",
       "    <tr style=\"text-align: right;\">\n",
       "      <th></th>\n",
       "      <th>Unnamed: 0</th>\n",
       "      <th>date</th>\n",
       "      <th>city</th>\n",
       "      <th>country</th>\n",
       "      <th>avg_temp_c</th>\n",
       "    </tr>\n",
       "  </thead>\n",
       "  <tbody>\n",
       "    <tr>\n",
       "      <th>0</th>\n",
       "      <td>0</td>\n",
       "      <td>2000-01-01</td>\n",
       "      <td>Abidjan</td>\n",
       "      <td>Côte D'Ivoire</td>\n",
       "      <td>27.293</td>\n",
       "    </tr>\n",
       "    <tr>\n",
       "      <th>1</th>\n",
       "      <td>1</td>\n",
       "      <td>2000-02-01</td>\n",
       "      <td>Abidjan</td>\n",
       "      <td>Côte D'Ivoire</td>\n",
       "      <td>27.685</td>\n",
       "    </tr>\n",
       "    <tr>\n",
       "      <th>2</th>\n",
       "      <td>2</td>\n",
       "      <td>2000-03-01</td>\n",
       "      <td>Abidjan</td>\n",
       "      <td>Côte D'Ivoire</td>\n",
       "      <td>29.061</td>\n",
       "    </tr>\n",
       "    <tr>\n",
       "      <th>3</th>\n",
       "      <td>3</td>\n",
       "      <td>2000-04-01</td>\n",
       "      <td>Abidjan</td>\n",
       "      <td>Côte D'Ivoire</td>\n",
       "      <td>28.162</td>\n",
       "    </tr>\n",
       "    <tr>\n",
       "      <th>4</th>\n",
       "      <td>4</td>\n",
       "      <td>2000-05-01</td>\n",
       "      <td>Abidjan</td>\n",
       "      <td>Côte D'Ivoire</td>\n",
       "      <td>27.547</td>\n",
       "    </tr>\n",
       "  </tbody>\n",
       "</table>\n",
       "</div>"
      ],
      "text/plain": [
       "   Unnamed: 0        date     city        country  avg_temp_c\n",
       "0           0  2000-01-01  Abidjan  Côte D'Ivoire      27.293\n",
       "1           1  2000-02-01  Abidjan  Côte D'Ivoire      27.685\n",
       "2           2  2000-03-01  Abidjan  Côte D'Ivoire      29.061\n",
       "3           3  2000-04-01  Abidjan  Côte D'Ivoire      28.162\n",
       "4           4  2000-05-01  Abidjan  Côte D'Ivoire      27.547"
      ]
     },
     "metadata": {},
     "output_type": "display_data"
    },
    {
     "name": "stdout",
     "output_type": "stream",
     "text": [
      "None\n"
     ]
    }
   ],
   "source": [
    "temperaturas = pd.read_csv('temperatures.csv')\n",
    "print(display(temperaturas.head()))"
   ]
  },
  {
   "cell_type": "markdown",
   "metadata": {},
   "source": [
    "- Suma acumulada"
   ]
  },
  {
   "cell_type": "code",
   "execution_count": 29,
   "metadata": {},
   "outputs": [
    {
     "data": {
      "text/html": [
       "<div>\n",
       "<style scoped>\n",
       "    .dataframe tbody tr th:only-of-type {\n",
       "        vertical-align: middle;\n",
       "    }\n",
       "\n",
       "    .dataframe tbody tr th {\n",
       "        vertical-align: top;\n",
       "    }\n",
       "\n",
       "    .dataframe thead th {\n",
       "        text-align: right;\n",
       "    }\n",
       "</style>\n",
       "<table border=\"1\" class=\"dataframe\">\n",
       "  <thead>\n",
       "    <tr style=\"text-align: right;\">\n",
       "      <th></th>\n",
       "      <th>Unnamed: 0</th>\n",
       "      <th>date</th>\n",
       "      <th>city</th>\n",
       "      <th>country</th>\n",
       "      <th>avg_temp_c</th>\n",
       "      <th>suma acumulada</th>\n",
       "    </tr>\n",
       "  </thead>\n",
       "  <tbody>\n",
       "    <tr>\n",
       "      <th>0</th>\n",
       "      <td>0</td>\n",
       "      <td>2000-01-01</td>\n",
       "      <td>Abidjan</td>\n",
       "      <td>Côte D'Ivoire</td>\n",
       "      <td>27.293</td>\n",
       "      <td>27.293</td>\n",
       "    </tr>\n",
       "    <tr>\n",
       "      <th>1</th>\n",
       "      <td>1</td>\n",
       "      <td>2000-02-01</td>\n",
       "      <td>Abidjan</td>\n",
       "      <td>Côte D'Ivoire</td>\n",
       "      <td>27.685</td>\n",
       "      <td>54.978</td>\n",
       "    </tr>\n",
       "    <tr>\n",
       "      <th>2</th>\n",
       "      <td>2</td>\n",
       "      <td>2000-03-01</td>\n",
       "      <td>Abidjan</td>\n",
       "      <td>Côte D'Ivoire</td>\n",
       "      <td>29.061</td>\n",
       "      <td>84.039</td>\n",
       "    </tr>\n",
       "    <tr>\n",
       "      <th>3</th>\n",
       "      <td>3</td>\n",
       "      <td>2000-04-01</td>\n",
       "      <td>Abidjan</td>\n",
       "      <td>Côte D'Ivoire</td>\n",
       "      <td>28.162</td>\n",
       "      <td>112.201</td>\n",
       "    </tr>\n",
       "    <tr>\n",
       "      <th>4</th>\n",
       "      <td>4</td>\n",
       "      <td>2000-05-01</td>\n",
       "      <td>Abidjan</td>\n",
       "      <td>Côte D'Ivoire</td>\n",
       "      <td>27.547</td>\n",
       "      <td>139.748</td>\n",
       "    </tr>\n",
       "  </tbody>\n",
       "</table>\n",
       "</div>"
      ],
      "text/plain": [
       "   Unnamed: 0        date     city        country  avg_temp_c  suma acumulada\n",
       "0           0  2000-01-01  Abidjan  Côte D'Ivoire      27.293          27.293\n",
       "1           1  2000-02-01  Abidjan  Côte D'Ivoire      27.685          54.978\n",
       "2           2  2000-03-01  Abidjan  Côte D'Ivoire      29.061          84.039\n",
       "3           3  2000-04-01  Abidjan  Côte D'Ivoire      28.162         112.201\n",
       "4           4  2000-05-01  Abidjan  Côte D'Ivoire      27.547         139.748"
      ]
     },
     "metadata": {},
     "output_type": "display_data"
    },
    {
     "name": "stdout",
     "output_type": "stream",
     "text": [
      "None\n"
     ]
    }
   ],
   "source": [
    "# Agregamos una nueva columna 'suma acumulada' con las sumas acumuladas de la columna \n",
    "# 'avg_temp_c'\n",
    "temperaturas['suma acumulada'] = temperaturas['avg_temp_c'].cumsum()\n",
    "print(display(temperaturas.head()))\n"
   ]
  },
  {
   "cell_type": "code",
   "execution_count": 30,
   "metadata": {},
   "outputs": [
    {
     "data": {
      "text/html": [
       "<div>\n",
       "<style scoped>\n",
       "    .dataframe tbody tr th:only-of-type {\n",
       "        vertical-align: middle;\n",
       "    }\n",
       "\n",
       "    .dataframe tbody tr th {\n",
       "        vertical-align: top;\n",
       "    }\n",
       "\n",
       "    .dataframe thead th {\n",
       "        text-align: right;\n",
       "    }\n",
       "</style>\n",
       "<table border=\"1\" class=\"dataframe\">\n",
       "  <thead>\n",
       "    <tr style=\"text-align: right;\">\n",
       "      <th></th>\n",
       "      <th>Unnamed: 0</th>\n",
       "      <th>date</th>\n",
       "      <th>city</th>\n",
       "      <th>country</th>\n",
       "      <th>avg_temp_c</th>\n",
       "      <th>suma acumulada</th>\n",
       "      <th>max acumulado</th>\n",
       "    </tr>\n",
       "  </thead>\n",
       "  <tbody>\n",
       "    <tr>\n",
       "      <th>0</th>\n",
       "      <td>0</td>\n",
       "      <td>2000-01-01</td>\n",
       "      <td>Abidjan</td>\n",
       "      <td>Côte D'Ivoire</td>\n",
       "      <td>27.293</td>\n",
       "      <td>27.293</td>\n",
       "      <td>27.293</td>\n",
       "    </tr>\n",
       "    <tr>\n",
       "      <th>1</th>\n",
       "      <td>1</td>\n",
       "      <td>2000-02-01</td>\n",
       "      <td>Abidjan</td>\n",
       "      <td>Côte D'Ivoire</td>\n",
       "      <td>27.685</td>\n",
       "      <td>54.978</td>\n",
       "      <td>27.685</td>\n",
       "    </tr>\n",
       "    <tr>\n",
       "      <th>2</th>\n",
       "      <td>2</td>\n",
       "      <td>2000-03-01</td>\n",
       "      <td>Abidjan</td>\n",
       "      <td>Côte D'Ivoire</td>\n",
       "      <td>29.061</td>\n",
       "      <td>84.039</td>\n",
       "      <td>29.061</td>\n",
       "    </tr>\n",
       "    <tr>\n",
       "      <th>3</th>\n",
       "      <td>3</td>\n",
       "      <td>2000-04-01</td>\n",
       "      <td>Abidjan</td>\n",
       "      <td>Côte D'Ivoire</td>\n",
       "      <td>28.162</td>\n",
       "      <td>112.201</td>\n",
       "      <td>29.061</td>\n",
       "    </tr>\n",
       "    <tr>\n",
       "      <th>4</th>\n",
       "      <td>4</td>\n",
       "      <td>2000-05-01</td>\n",
       "      <td>Abidjan</td>\n",
       "      <td>Côte D'Ivoire</td>\n",
       "      <td>27.547</td>\n",
       "      <td>139.748</td>\n",
       "      <td>29.061</td>\n",
       "    </tr>\n",
       "  </tbody>\n",
       "</table>\n",
       "</div>"
      ],
      "text/plain": [
       "   Unnamed: 0        date     city        country  avg_temp_c  suma acumulada  \\\n",
       "0           0  2000-01-01  Abidjan  Côte D'Ivoire      27.293          27.293   \n",
       "1           1  2000-02-01  Abidjan  Côte D'Ivoire      27.685          54.978   \n",
       "2           2  2000-03-01  Abidjan  Côte D'Ivoire      29.061          84.039   \n",
       "3           3  2000-04-01  Abidjan  Côte D'Ivoire      28.162         112.201   \n",
       "4           4  2000-05-01  Abidjan  Côte D'Ivoire      27.547         139.748   \n",
       "\n",
       "   max acumulado  \n",
       "0         27.293  \n",
       "1         27.685  \n",
       "2         29.061  \n",
       "3         29.061  \n",
       "4         29.061  "
      ]
     },
     "metadata": {},
     "output_type": "display_data"
    },
    {
     "name": "stdout",
     "output_type": "stream",
     "text": [
      "None\n"
     ]
    }
   ],
   "source": [
    "# Agregamos una nueva columna 'max acumulado' con los maximos acumuladas de la columna \n",
    "# 'avg_temp_c'\n",
    "temperaturas['max acumulado'] = temperaturas['avg_temp_c'].cummax()\n",
    "print(display(temperaturas.head()))"
   ]
  }
 ],
 "metadata": {
  "kernelspec": {
   "display_name": "Python 3",
   "language": "python",
   "name": "python3"
  },
  "language_info": {
   "codemirror_mode": {
    "name": "ipython",
    "version": 3
   },
   "file_extension": ".py",
   "mimetype": "text/x-python",
   "name": "python",
   "nbconvert_exporter": "python",
   "pygments_lexer": "ipython3",
   "version": "3.8.5"
  }
 },
 "nbformat": 4,
 "nbformat_minor": 4
}
