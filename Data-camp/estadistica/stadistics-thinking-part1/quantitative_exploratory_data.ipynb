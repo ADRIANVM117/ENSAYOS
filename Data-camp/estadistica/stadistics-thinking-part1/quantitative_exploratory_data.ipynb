{
 "cells": [
  {
   "cell_type": "markdown",
   "metadata": {},
   "source": [
    "# Exploración quantitativa de analisis de datos\n",
    "## Percentiles, Outliers y box plot\n",
    "### Adrián Vázquez \n",
    "#### 17/05/21"
   ]
  },
  {
   "cell_type": "markdown",
   "metadata": {},
   "source": [
    "#### <b> Calculando percentiles </b>\n"
   ]
  },
  {
   "cell_type": "code",
   "execution_count": 5,
   "metadata": {},
   "outputs": [
    {
     "name": "stdout",
     "output_type": "stream",
     "text": [
      "      Id  SepalLengthCm  SepalWidthCm  PetalLengthCm  PetalWidthCm  \\\n",
      "0      1            5.1           3.5            1.4           0.2   \n",
      "1      2            4.9           3.0            1.4           0.2   \n",
      "2      3            4.7           3.2            1.3           0.2   \n",
      "3      4            4.6           3.1            1.5           0.2   \n",
      "4      5            5.0           3.6            1.4           0.2   \n",
      "..   ...            ...           ...            ...           ...   \n",
      "145  146            6.7           3.0            5.2           2.3   \n",
      "146  147            6.3           2.5            5.0           1.9   \n",
      "147  148            6.5           3.0            5.2           2.0   \n",
      "148  149            6.2           3.4            5.4           2.3   \n",
      "149  150            5.9           3.0            5.1           1.8   \n",
      "\n",
      "            Species  \n",
      "0       Iris-setosa  \n",
      "1       Iris-setosa  \n",
      "2       Iris-setosa  \n",
      "3       Iris-setosa  \n",
      "4       Iris-setosa  \n",
      "..              ...  \n",
      "145  Iris-virginica  \n",
      "146  Iris-virginica  \n",
      "147  Iris-virginica  \n",
      "148  Iris-virginica  \n",
      "149  Iris-virginica  \n",
      "\n",
      "[150 rows x 6 columns]\n"
     ]
    }
   ],
   "source": [
    "import matplotlib.pyplot as plt \n",
    "import pandas as pd \n",
    "import numpy as np\n",
    "iris_df = pd.read_csv('datos/Iris.csv')\n",
    "\n",
    "print(iris_df)\n"
   ]
  },
  {
   "cell_type": "code",
   "execution_count": 27,
   "metadata": {},
   "outputs": [],
   "source": [
    "versicolor = iris_df[iris_df['Species'] == 'Iris-versicolor']\n",
    "versicolor_petal_lenght = versicolor['PetalLengthCm']\n",
    "\n",
    "versicolor = iris_df[iris_df['Species'] == 'Iris-versicolor']\n",
    "versicolor_petal_width = versicolor['PetalWidthCm']"
   ]
  },
  {
   "cell_type": "code",
   "execution_count": 10,
   "metadata": {},
   "outputs": [
    {
     "name": "stdout",
     "output_type": "stream",
     "text": [
      "[3.3    4.     4.35   4.6    4.9775]\n"
     ]
    }
   ],
   "source": [
    "#Especificando un arreglo especifico de percentiles\n",
    "percentiles = np.array([2.5,25,50,75,97.5])\n",
    "\n",
    "#declaramos una variable donde calcular los percentiles de versiversicolor_petal_lenght especificando que quremos \n",
    "# los que previamente ya habiamos especificado \n",
    "percentiles_versicolor = np.percentile(versicolor_petal_lenght,percentiles)\n",
    "\n",
    "print(percentiles_versicolor)"
   ]
  },
  {
   "cell_type": "markdown",
   "metadata": {},
   "source": [
    "<b> Comparando percentiles con ECDF </b>\n",
    " - Veremos como se relacionan los percentiles con nuestro ECDF\n",
    " - Hay que tomar en cuenta que para asegurar que el eje y del grafico ECDF permanezca entre 0 y 1 tendremos que rescalar la matriz de percentiles de consecuencia. En este caso, dividiéndola por 100\n",
    "    "
   ]
  },
  {
   "cell_type": "code",
   "execution_count": 13,
   "metadata": {},
   "outputs": [
    {
     "data": {
      "image/png": "[encoded data removed]",
      "text/plain": [
       "<Figure size 432x288 with 1 Axes>"
      ]
     },
     "metadata": {
      "needs_background": "light"
     },
     "output_type": "display_data"
    }
   ],
   "source": [
    "# Función para calcular un ECDF: devuelve x y y del ECDF\n",
    "import numpy as np \n",
    "def ecdf(datos): \n",
    "    n = len(datos) #<------ Numero de puntos de datos\n",
    "    x = np.sort(datos) #<----- ordena los datos \n",
    "    y = np.arange(1, len(x) + 1)/n #<------ datos especificamos uniformemente con maximo de uno \n",
    "    return x, y  #<--------- Regresar valores para x y y\n",
    "\n",
    "# calculando el ECDF para veriscolor data\n",
    "x_vers, y_vers = ecdf(versicolor_petal_lenght)\n",
    "    \n",
    "plt.plot(x_vers, y_vers, marker = '.')\n",
    "_ = plt.xlabel('Longitud')\n",
    "_ = plt.ylabel('ECDF')\n",
    "\n",
    "plt.plot(percentiles_versicolor, percentiles/100, marker = 'D', color = 'red', linestyle = 'none')\n",
    "\n",
    "plt.show()"
   ]
  },
  {
   "cell_type": "markdown",
   "metadata": {},
   "source": [
    "### <b> Box plot con Seaborn </b>"
   ]
  },
  {
   "cell_type": "code",
   "execution_count": 21,
   "metadata": {},
   "outputs": [
    {
     "data": {
      "image/png": "[encoded data removed]",
      "text/plain": [
       "<Figure size 432x288 with 1 Axes>"
      ]
     },
     "metadata": {
      "needs_background": "light"
     },
     "output_type": "display_data"
    }
   ],
   "source": [
    "import seaborn as sns\n",
    "sns.boxplot(x = 'Species', y = 'PetalLengthCm', data = iris_df )\n",
    "\n",
    "_ = plt.xlabel('species')\n",
    "_ = plt.ylabel('Longitud del petalo (CM)')\n",
    "plt.show()"
   ]
  },
  {
   "cell_type": "markdown",
   "metadata": {},
   "source": [
    "#### <b> Calculando la varianza </b>"
   ]
  },
  {
   "cell_type": "markdown",
   "metadata": {},
   "source": [
    "- Calculando la varianza de forma manual \n",
    "\n",
    " ## $  \\sigma{(x)^2} = \\frac{ \n",
    "\\sum_{1}^{n}(x_{i}-\\bar{x})^2\n",
    "}{N}  $"
   ]
  },
  {
   "cell_type": "code",
   "execution_count": 24,
   "metadata": {},
   "outputs": [
    {
     "name": "stdout",
     "output_type": "stream",
     "text": [
      "0.21640000000000012 0.21640000000000012\n"
     ]
    }
   ],
   "source": [
    "#calculamos la diferencia entre versversicolor_petal_lenght y su media \n",
    "\n",
    "diferencia = versicolor_petal_lenght - np.mean(versicolor_petal_lenght)\n",
    "\n",
    "#Obtenemos el cuadrado de la diferencia\n",
    "dif_cuadrado = diferencia**2\n",
    "\n",
    "# Obtenemos la raiz media\n",
    "dif_media = np.mean(dif_cuadrado)\n",
    "\n",
    "#calculamos con  el metodo np.variance \n",
    "varianza = np.var(versicolor_petal_lenght)\n",
    "\n",
    "#vemos que es el mismo resultado\n",
    "print(dif_media, varianza)"
   ]
  },
  {
   "cell_type": "markdown",
   "metadata": {},
   "source": [
    "### <b> Desviación estandar</b>\n",
    "\n",
    " - La desviación estandar es la raiz cuadrada de la varianza\n",
    " \n",
    " \n",
    " ## $  \\sigma{(x)} = \\sqrt{\\frac{ \n",
    "\\sum_{1}^{n}(x_{i}-\\bar{x})^2\n",
    "}{N}}  $"
   ]
  },
  {
   "cell_type": "code",
   "execution_count": 26,
   "metadata": {},
   "outputs": [
    {
     "name": "stdout",
     "output_type": "stream",
     "text": [
      "0.4651881339845204\n",
      "0.4651881339845204\n"
     ]
    }
   ],
   "source": [
    "#comprobando \n",
    "#utilizando los calculos anteriores, especificamente la variable variable\n",
    "# y obteniendo su raiz\n",
    "print(np.sqrt(varianza))\n",
    "\n",
    "#utilizando el metodo np.std\n",
    "print(np.std(versicolor_petal_lenght))\n",
    "# Podemos comprobar que son lo mismo "
   ]
  },
  {
   "cell_type": "markdown",
   "metadata": {},
   "source": [
    "### <b> Covarianza y Coeficiente de correlación de Pearson </b> "
   ]
  },
  {
   "cell_type": "markdown",
   "metadata": {},
   "source": [
    "- En los ejercicios anteriores se han utilizado graficos de caja, enjambre de abejas y ECDF, comparando longitudes diferentes entre distintas especies de iris. \n",
    "- ¿pero si quieres comparar dos propiedades de una sola especie? Utilizando un grafico de dispersión \n",
    "- un grafico de dispersión de las medidas de longitud y ancura de los petalos de las flores de iris versicolor. si la flor escala (es decir, conserva su proporción a medida que crece) Esperariamos que la longitud y la anchura estuvieran correlacionadas. "
   ]
  },
  {
   "cell_type": "code",
   "execution_count": 30,
   "metadata": {},
   "outputs": [
    {
     "data": {
      "image/png": "[encoded data removed]",
      "text/plain": [
       "<Figure size 432x288 with 1 Axes>"
      ]
     },
     "metadata": {
      "needs_background": "light"
     },
     "output_type": "display_data"
    }
   ],
   "source": [
    "_ = plt.plot(versicolor_petal_lenght, versicolor_petal_width, marker = '.', linestyle = 'none')\n",
    "_ = plt.xlabel('Longitud petalo')\n",
    "_ = plt.ylabel('Anchura petalo')\n",
    "plt.title('Correlación entre Longitud y Anchura')\n",
    "\n",
    "plt.show()"
   ]
  },
  {
   "cell_type": "markdown",
   "metadata": {},
   "source": [
    "### <b> Calculando la covarianza </b>\n",
    "\n",
    " ## $ S_{xy} =  cov(x,y) = {\\frac{ \n",
    "\\sum_{1}^{n}(x_{i}-\\bar{x})((y_{i}-\\bar{y})\n",
    "}{N}}  $"
   ]
  },
  {
   "cell_type": "markdown",
   "metadata": {},
   "source": [
    "- La covarianza puede calcularse utilizando el metodo np.cov \n",
    "\n",
    "- Teniendo dos conjuntos de datos x y y np.cov(x,y) devuelve una matriz 2D donde las entradas [0,1] y [1,0] son covarianzas. La entrada [0,0] es la varianza de los datos de x y la entrada [1,1] es la varianza de los datos en y.  "
   ]
  },
  {
   "cell_type": "code",
   "execution_count": 34,
   "metadata": {},
   "outputs": [
    {
     "name": "stdout",
     "output_type": "stream",
     "text": [
      "[[0.22081633 0.07310204]\n",
      " [0.07310204 0.03910612]]\n",
      "0.07310204081632653\n"
     ]
    }
   ],
   "source": [
    "# calculando la covarianza con el metodo np.cov\n",
    "\n",
    "covarianza = np.cov(versicolor_petal_lenght, versicolor_petal_width)\n",
    "\n",
    "print(covarianza)\n",
    "\n",
    "#Extraer la covarianza de la longitud y la anchura del petalo \n",
    "\n",
    "petalo_cov = covarianza[0,1]\n",
    "print(petalo_cov)"
   ]
  },
  {
   "cell_type": "markdown",
   "metadata": {},
   "source": [
    "### <b> coeficiente de correlación de Pearson  </b>\n",
    "\n",
    " ## $ \\rho = r = \\frac{S_{xy}}{\\sigma{(x)}\\sigma{(y)}}  $"
   ]
  },
  {
   "cell_type": "markdown",
   "metadata": {},
   "source": [
    " - el coeficiente de correlación de Pearson, también llamado r de Pearson, suele ser más fácil de interpretar que la covarianza. Se calcula con la función np.corrcoef(). Al igual que np.cov(), toma dos matrices como argumentos y devuelve una matriz 2D. Las entradas [0,0] y [1,1] son necesariamente iguales a 1 (¿puedes pensar por qué?), y el valor que buscamos es la entrada [0,1]."
   ]
  },
  {
   "cell_type": "code",
   "execution_count": 35,
   "metadata": {},
   "outputs": [
    {
     "name": "stdout",
     "output_type": "stream",
     "text": [
      "0.7866680885228169\n"
     ]
    }
   ],
   "source": [
    "# Función para devolver la entrada [0,1]\n",
    "def pearson_r(x,y):\n",
    "    corr_mat = np.corrcoef(x,y)\n",
    "    \n",
    "    return corr_mat[0,1]\n",
    "\n",
    "r = pearson_r(versicolor_petal_width, versicolor_petal_lenght)\n",
    "\n",
    "print(r)"
   ]
  }
 ],
 "metadata": {
  "kernelspec": {
   "display_name": "Python 3",
   "language": "python",
   "name": "python3"
  },
  "language_info": {
   "codemirror_mode": {
    "name": "ipython",
    "version": 3
   },
   "file_extension": ".py",
   "mimetype": "text/x-python",
   "name": "python",
   "nbconvert_exporter": "python",
   "pygments_lexer": "ipython3",
   "version": "3.8.5"
  }
 },
 "nbformat": 4,
 "nbformat_minor": 4
}
