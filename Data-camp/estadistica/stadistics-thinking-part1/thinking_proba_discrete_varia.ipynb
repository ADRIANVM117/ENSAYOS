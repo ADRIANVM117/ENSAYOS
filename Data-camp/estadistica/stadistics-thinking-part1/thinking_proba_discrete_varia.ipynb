{
 "cells": [
  {
   "cell_type": "markdown",
   "metadata": {},
   "source": [
    "# Pensamiento probabilistico - Variables discretas\n",
    "## Logica probabilistica y estadistica inferencial\n",
    "### Adrián Vázquez \n",
    "#### 17/05/21"
   ]
  },
  {
   "cell_type": "markdown",
   "metadata": {},
   "source": [
    "<b> Estadistica inferencial </b>\n",
    " - Se usa para sacar conclusiones probabilisticas sobre lo que podriamos esperar si volvieramos a recoher los mismos datos \n",
    " - Sacar conclusiones procesables a partir de los datos. \n",
    " - Sacar conclusiones mas generales a partir de relativamente pocos datos u observaciones. "
   ]
  },
  {
   "cell_type": "markdown",
   "metadata": {},
   "source": [
    "<b> Numeros aleatorios : </b>  np.random module"
   ]
  },
  {
   "cell_type": "markdown",
   "metadata": {},
   "source": [
    "- np.random.random() : Devuelve un numero aleatorio entre el cero y uno\n",
    "\n",
    "- El generador de numeros aleatorios funciona comenzando con un numero entero, una semilla. \n",
    "  y luego genera numeros aleatorios en suceción. La misma semilla de la misma secuencia de numeros aleatorios. "
   ]
  },
  {
   "cell_type": "markdown",
   "metadata": {},
   "source": [
    "<b> Ejemplo </b>\n",
    "- Generaremos muchos números aleatorios entre el cero y el uno, y luego trazaremos un histograma de los resultados. Si los números son realmente aleatorios, todas las barras del histograma deberían tener (casi) la misma altura."
   ]
  },
  {
   "cell_type": "code",
   "execution_count": 1,
   "metadata": {},
   "outputs": [
    {
     "data": {
      "image/png": "[encoded data removed]",
      "text/plain": [
       "<Figure size 432x288 with 1 Axes>"
      ]
     },
     "metadata": {
      "needs_background": "light"
     },
     "output_type": "display_data"
    }
   ],
   "source": [
    "import seaborn as sns\n",
    "import numpy as np\n",
    "import matplotlib.pyplot as plt\n",
    "# Ejemplo \n",
    "# declarando la semilla para el generador de numeros aleatorios\n",
    "\n",
    "np.random.seed(42)\n",
    "\n",
    "#iniciar los numeroos aleatorios \n",
    "random_numeros = np.empty(100000)#<-- crea un array del tamaño \n",
    "\n",
    "# genera numeros aleatorios usando un ciclo for alrededor de un rango de  100000\n",
    "for i in range(100000):\n",
    "    random_numeros[i] = np.random.random()\n",
    "    \n",
    "   \n",
    "_ = plt.hist(random_numeros)\n",
    "\n",
    "plt.show()\n"
   ]
  },
  {
   "cell_type": "markdown",
   "metadata": {},
   "source": [
    "## <b> Pruebas de bernoulli </b>"
   ]
  },
  {
   "cell_type": "markdown",
   "metadata": {},
   "source": [
    "- En un ensayo Bernoulli como el lanzamiento de una moneda posiblemente sesgada. En concreto, cada lanzamiento de la moneda tiene una probabilidad de salir cara (éxito) y una probabilidad de salir cruz (fracaso). En este ejercicio, escribirás una función para realizar n ensayos Bernoulli, perform_bernoulli_trials(n, p), que devuelve el número de aciertos de n ensayos Bernoulli, cada uno de los cuales tiene una probabilidad p de éxito. Para realizar cada ensayo Bernoulli, se utiliza la función np.random.random(), que devuelve un número aleatorio entre cero y uno."
   ]
  },
  {
   "cell_type": "code",
   "execution_count": 10,
   "metadata": {},
   "outputs": [],
   "source": [
    "def bernulli(n,p):\n",
    "    \n",
    "    n_exitos= 0\n",
    "    for i in range(n):\n",
    "        numero_random = np.random.random()\n",
    "        \n",
    "        if numero_random < p:\n",
    "            n_exitos += 1\n",
    "        \n",
    "    return n_exitos"
   ]
  },
  {
   "cell_type": "markdown",
   "metadata": {},
   "source": [
    "- Supongamos que un banco concede 100 préstamos hipotecarios. Es posible que entre 0 y 100 de los préstamos sean impagados. Te gustaría saber la probabilidad de obtener un número determinado de impagos, dado que la probabilidad de un impago es p = 0,05. Para investigar esto, harás una simulación. Realizarás 100 ensayos Bernoulli utilizando la función bernoulli() que escribiste en el ejercicio anterior y registrarás cuántos incumplimientos obtenemos. Aquí, un éxito es un defecto. (Recuerde que la palabra \"éxito\" sólo significa que el ensayo Bernoulli se evalúa como Verdadero, es decir, ¿el destinatario del préstamo incumplió?) Se hará esto para otros 100 ensayos de Bernoulli. Y una y otra vez hasta que lo hayamos probado 1000 veces. A continuación, trazarás un histograma que describa la probabilidad del número de impagos.\n"
   ]
  },
  {
   "cell_type": "code",
   "execution_count": 14,
   "metadata": {},
   "outputs": [
    {
     "data": {
      "image/png": "[encoded data removed]",
      "text/plain": [
       "<Figure size 432x288 with 1 Axes>"
      ]
     },
     "metadata": {
      "needs_background": "light"
     },
     "output_type": "display_data"
    }
   ],
   "source": [
    "#Insertar la semilla\n",
    "np.random.seed(42)\n",
    "\n",
    "defaults = np.empty(1000)\n",
    "\n",
    "for i in range(1000):\n",
    "    defaults[i] = bernulli(100, .05)\n",
    "    \n",
    "_ = plt.hist(defaults)\n",
    "_ = plt.xlabel('numero de impagos sobre 100 prestamos')\n",
    "_ = plt.ylabel('Probabilidad')\n",
    "plt.show()\n",
    "    "
   ]
  },
  {
   "cell_type": "markdown",
   "metadata": {},
   "source": [
    "<b> Graficar el numero de defectos que se tiene en el ejercicio anterior </b>\n",
    "- Si los tipos de interes son taleas que el banco perdera dinero si 10 o mas de sus prestamos son impagados. ¿Cual es la probabilidad de que el banco pierda dinero?\n",
    "- utilizar función ECDF"
   ]
  },
  {
   "cell_type": "code",
   "execution_count": 16,
   "metadata": {},
   "outputs": [],
   "source": [
    "# Función para calcular un ECDF: devuelve x y y del ECDF\n",
    "import numpy as np \n",
    "def ecdf(datos): \n",
    "    n = len(datos) #<------ Numero de puntos de datos\n",
    "    x = np.sort(datos) #<----- ordena los datos \n",
    "    y = np.arange(1, len(x) + 1)/n #<------ datos especificamos uniformemente con maximo de uno \n",
    "    return x, y  #<--------- Regresar valores para x y y\n",
    "\n"
   ]
  },
  {
   "cell_type": "code",
   "execution_count": 23,
   "metadata": {},
   "outputs": [
    {
     "data": {
      "image/png": "[encoded data removed]",
      "text/plain": [
       "<Figure size 432x288 with 1 Axes>"
      ]
     },
     "metadata": {
      "needs_background": "light"
     },
     "output_type": "display_data"
    },
    {
     "name": "stdout",
     "output_type": "stream",
     "text": [
      "probabilidad de perder dinero cada 10 impagos =  0.022\n"
     ]
    }
   ],
   "source": [
    "#calculando el ECDF\n",
    "x,y = ecdf(defaults)\n",
    "\n",
    "plt.plot (x, y, marker = '.' , linestyle = 'none')\n",
    "_ = plt.xlabel('Numero de impagos')\n",
    "_ = plt.ylabel('Probabilidad')\n",
    "plt.show()\n",
    "\n",
    "#Calculando el número de simulaciones de 100 préstamos con 10 o mas impagos\n",
    "n_perdidas =  np.sum(defaults >= 10)\n",
    "\n",
    "#calculando la probabilidad de perder dinero \n",
    "print('probabilidad de perder dinero cada 10 impagos = ', n_perdidas / len(defaults))"
   ]
  },
  {
   "cell_type": "markdown",
   "metadata": {},
   "source": [
    "- Como vemos lo mas probable es que se produzcan 5/100 impagos. Pero todavia tenemos un 2% de posibilidades de obtener 10 o mas impagos de cada 100 prestamos  "
   ]
  },
  {
   "cell_type": "markdown",
   "metadata": {},
   "source": [
    "## <b> Distribuciones de probabilidad y calculos: Distribución binomial </b>\n",
    "\n",
    "- Función de masa de probabilidad (PMF)\n",
    "- PMF : Se define como el conjunto de probabilidades de resultados discretos \n",
    "  - Es una propiedad de una distribución de probabilidad discreta"
   ]
  },
  {
   "cell_type": "markdown",
   "metadata": {},
   "source": [
    "<b>Muestreo de la distribución binomial</b>\n",
    "- Calcule la función de masa de probabilidad para el número de impagos que esperaríamos para 100 préstamos como en la última sección, pero en lugar de simular todos los ensayos Bernoulli, realice el muestreo utilizando np.random.binomial(). Esto es idéntico al cálculo que hizo en el último conjunto de ejercicios utilizando su función bernoulli() escrita a medida, pero mucho más eficiente computacionalmente. Dada esta eficiencia adicional, tomaremos 10.000 muestras en lugar de 1000. Después de tomar las muestras, trace la CDF como la última vez. Esta CDF que estás trazando es la de la distribución Binomial."
   ]
  },
  {
   "cell_type": "code",
   "execution_count": 25,
   "metadata": {},
   "outputs": [
    {
     "data": {
      "image/png": "[encoded data removed]",
      "text/plain": [
       "<Figure size 432x288 with 1 Axes>"
      ]
     },
     "metadata": {
      "needs_background": "light"
     },
     "output_type": "display_data"
    }
   ],
   "source": [
    "#Insertar la semilla\n",
    "np.random.seed(42)\n",
    "\n",
    "#calculando distribución normal\n",
    "n_defaults = np.random.binomial(100, 0.05, size = 10000)\n",
    "\n",
    "#calculando x, y en ECDF\n",
    "x, y = ecdf(n_defaults)\n",
    "plt.plot(x,y, marker = '.', linestyle = 'none')\n",
    "_ = plt.xlabel('numero de impagos de 100 prestamos')\n",
    "_ = plt.ylabel('CDF')\n",
    "_ = plt.title('Distribución normal')\n",
    "plt.show()"
   ]
  },
  {
   "cell_type": "markdown",
   "metadata": {},
   "source": [
    "## Trazando el PMF Binomial\n",
    "- vamos a trazar el PMF de la distribución Binomial como un histograma. El truco consiste en configurar los bordes de los intervalos para pasarlos a plt.hist() mediante el argumento de la palabra clave bins. Queremos que los bins estén centrados en los enteros. Por lo tanto, los bordes de los bins deben ser -0.5, 0.5, 1.5, 2.5, ... hasta max(n_defaults) + 1.5. Puedes generar un array como este usando np.arange() y luego restando 0.5 del array.\n",
    "\n",
    "- ya ha tomado muestras de la distribución Binomial durante sus ejercicios sobre los incumplimientos de los préstamos, y las muestras resultantes están en la matriz NumPy <b>defaults. </b>"
   ]
  },
  {
   "cell_type": "code",
   "execution_count": 28,
   "metadata": {},
   "outputs": [
    {
     "ename": "AttributeError",
     "evalue": "'Rectangle' object has no property 'normed'",
     "output_type": "error",
     "traceback": [
      "\u001b[0;31m---------------------------------------------------------------------------\u001b[0m",
      "\u001b[0;31mAttributeError\u001b[0m                            Traceback (most recent call last)",
      "\u001b[0;32m<ipython-input-28-6d0ea0f9ba53>\u001b[0m in \u001b[0;36m<module>\u001b[0;34m\u001b[0m\n\u001b[1;32m      2\u001b[0m \u001b[0mbins\u001b[0m \u001b[0;34m=\u001b[0m \u001b[0mnp\u001b[0m\u001b[0;34m.\u001b[0m\u001b[0marange\u001b[0m\u001b[0;34m(\u001b[0m\u001b[0;36m0\u001b[0m\u001b[0;34m,\u001b[0m\u001b[0mmax\u001b[0m\u001b[0;34m(\u001b[0m\u001b[0mn_defaults\u001b[0m\u001b[0;34m)\u001b[0m \u001b[0;34m+\u001b[0m \u001b[0;36m1.5\u001b[0m\u001b[0;34m)\u001b[0m \u001b[0;34m-\u001b[0m\u001b[0;36m0.5\u001b[0m\u001b[0;34m\u001b[0m\u001b[0;34m\u001b[0m\u001b[0m\n\u001b[1;32m      3\u001b[0m \u001b[0;34m\u001b[0m\u001b[0m\n\u001b[0;32m----> 4\u001b[0;31m \u001b[0m_\u001b[0m \u001b[0;34m=\u001b[0m \u001b[0mplt\u001b[0m\u001b[0;34m.\u001b[0m\u001b[0mhist\u001b[0m\u001b[0;34m(\u001b[0m\u001b[0mn_defaults\u001b[0m\u001b[0;34m,\u001b[0m \u001b[0mnormed\u001b[0m \u001b[0;34m=\u001b[0m \u001b[0;32mTrue\u001b[0m\u001b[0;34m,\u001b[0m \u001b[0mbins\u001b[0m \u001b[0;34m=\u001b[0m \u001b[0mbins\u001b[0m\u001b[0;34m)\u001b[0m\u001b[0;34m\u001b[0m\u001b[0;34m\u001b[0m\u001b[0m\n\u001b[0m\u001b[1;32m      5\u001b[0m \u001b[0;34m\u001b[0m\u001b[0m\n\u001b[1;32m      6\u001b[0m \u001b[0m_\u001b[0m \u001b[0;34m=\u001b[0m \u001b[0mplt\u001b[0m\u001b[0;34m.\u001b[0m\u001b[0mxlabel\u001b[0m\u001b[0;34m(\u001b[0m\u001b[0;34m'numero de impagos de 100 prestamos'\u001b[0m\u001b[0;34m)\u001b[0m\u001b[0;34m\u001b[0m\u001b[0;34m\u001b[0m\u001b[0m\n",
      "\u001b[0;32m~/anaconda3/lib/python3.8/site-packages/matplotlib/pyplot.py\u001b[0m in \u001b[0;36mhist\u001b[0;34m(x, bins, range, density, weights, cumulative, bottom, histtype, align, orientation, rwidth, log, color, label, stacked, data, **kwargs)\u001b[0m\n\u001b[1;32m   2683\u001b[0m         \u001b[0morientation\u001b[0m\u001b[0;34m=\u001b[0m\u001b[0;34m'vertical'\u001b[0m\u001b[0;34m,\u001b[0m \u001b[0mrwidth\u001b[0m\u001b[0;34m=\u001b[0m\u001b[0;32mNone\u001b[0m\u001b[0;34m,\u001b[0m \u001b[0mlog\u001b[0m\u001b[0;34m=\u001b[0m\u001b[0;32mFalse\u001b[0m\u001b[0;34m,\u001b[0m \u001b[0mcolor\u001b[0m\u001b[0;34m=\u001b[0m\u001b[0;32mNone\u001b[0m\u001b[0;34m,\u001b[0m\u001b[0;34m\u001b[0m\u001b[0;34m\u001b[0m\u001b[0m\n\u001b[1;32m   2684\u001b[0m         label=None, stacked=False, *, data=None, **kwargs):\n\u001b[0;32m-> 2685\u001b[0;31m     return gca().hist(\n\u001b[0m\u001b[1;32m   2686\u001b[0m         \u001b[0mx\u001b[0m\u001b[0;34m,\u001b[0m \u001b[0mbins\u001b[0m\u001b[0;34m=\u001b[0m\u001b[0mbins\u001b[0m\u001b[0;34m,\u001b[0m \u001b[0mrange\u001b[0m\u001b[0;34m=\u001b[0m\u001b[0mrange\u001b[0m\u001b[0;34m,\u001b[0m \u001b[0mdensity\u001b[0m\u001b[0;34m=\u001b[0m\u001b[0mdensity\u001b[0m\u001b[0;34m,\u001b[0m \u001b[0mweights\u001b[0m\u001b[0;34m=\u001b[0m\u001b[0mweights\u001b[0m\u001b[0;34m,\u001b[0m\u001b[0;34m\u001b[0m\u001b[0;34m\u001b[0m\u001b[0m\n\u001b[1;32m   2687\u001b[0m         \u001b[0mcumulative\u001b[0m\u001b[0;34m=\u001b[0m\u001b[0mcumulative\u001b[0m\u001b[0;34m,\u001b[0m \u001b[0mbottom\u001b[0m\u001b[0;34m=\u001b[0m\u001b[0mbottom\u001b[0m\u001b[0;34m,\u001b[0m \u001b[0mhisttype\u001b[0m\u001b[0;34m=\u001b[0m\u001b[0mhisttype\u001b[0m\u001b[0;34m,\u001b[0m\u001b[0;34m\u001b[0m\u001b[0;34m\u001b[0m\u001b[0m\n",
      "\u001b[0;32m~/anaconda3/lib/python3.8/site-packages/matplotlib/__init__.py\u001b[0m in \u001b[0;36minner\u001b[0;34m(ax, data, *args, **kwargs)\u001b[0m\n\u001b[1;32m   1436\u001b[0m     \u001b[0;32mdef\u001b[0m \u001b[0minner\u001b[0m\u001b[0;34m(\u001b[0m\u001b[0max\u001b[0m\u001b[0;34m,\u001b[0m \u001b[0;34m*\u001b[0m\u001b[0margs\u001b[0m\u001b[0;34m,\u001b[0m \u001b[0mdata\u001b[0m\u001b[0;34m=\u001b[0m\u001b[0;32mNone\u001b[0m\u001b[0;34m,\u001b[0m \u001b[0;34m**\u001b[0m\u001b[0mkwargs\u001b[0m\u001b[0;34m)\u001b[0m\u001b[0;34m:\u001b[0m\u001b[0;34m\u001b[0m\u001b[0;34m\u001b[0m\u001b[0m\n\u001b[1;32m   1437\u001b[0m         \u001b[0;32mif\u001b[0m \u001b[0mdata\u001b[0m \u001b[0;32mis\u001b[0m \u001b[0;32mNone\u001b[0m\u001b[0;34m:\u001b[0m\u001b[0;34m\u001b[0m\u001b[0;34m\u001b[0m\u001b[0m\n\u001b[0;32m-> 1438\u001b[0;31m             \u001b[0;32mreturn\u001b[0m \u001b[0mfunc\u001b[0m\u001b[0;34m(\u001b[0m\u001b[0max\u001b[0m\u001b[0;34m,\u001b[0m \u001b[0;34m*\u001b[0m\u001b[0mmap\u001b[0m\u001b[0;34m(\u001b[0m\u001b[0msanitize_sequence\u001b[0m\u001b[0;34m,\u001b[0m \u001b[0margs\u001b[0m\u001b[0;34m)\u001b[0m\u001b[0;34m,\u001b[0m \u001b[0;34m**\u001b[0m\u001b[0mkwargs\u001b[0m\u001b[0;34m)\u001b[0m\u001b[0;34m\u001b[0m\u001b[0;34m\u001b[0m\u001b[0m\n\u001b[0m\u001b[1;32m   1439\u001b[0m \u001b[0;34m\u001b[0m\u001b[0m\n\u001b[1;32m   1440\u001b[0m         \u001b[0mbound\u001b[0m \u001b[0;34m=\u001b[0m \u001b[0mnew_sig\u001b[0m\u001b[0;34m.\u001b[0m\u001b[0mbind\u001b[0m\u001b[0;34m(\u001b[0m\u001b[0max\u001b[0m\u001b[0;34m,\u001b[0m \u001b[0;34m*\u001b[0m\u001b[0margs\u001b[0m\u001b[0;34m,\u001b[0m \u001b[0;34m**\u001b[0m\u001b[0mkwargs\u001b[0m\u001b[0;34m)\u001b[0m\u001b[0;34m\u001b[0m\u001b[0;34m\u001b[0m\u001b[0m\n",
      "\u001b[0;32m~/anaconda3/lib/python3.8/site-packages/matplotlib/axes/_axes.py\u001b[0m in \u001b[0;36mhist\u001b[0;34m(self, x, bins, range, density, weights, cumulative, bottom, histtype, align, orientation, rwidth, log, color, label, stacked, **kwargs)\u001b[0m\n\u001b[1;32m   6818\u001b[0m             \u001b[0;32mif\u001b[0m \u001b[0mpatch\u001b[0m\u001b[0;34m:\u001b[0m\u001b[0;34m\u001b[0m\u001b[0;34m\u001b[0m\u001b[0m\n\u001b[1;32m   6819\u001b[0m                 \u001b[0mp\u001b[0m \u001b[0;34m=\u001b[0m \u001b[0mpatch\u001b[0m\u001b[0;34m[\u001b[0m\u001b[0;36m0\u001b[0m\u001b[0;34m]\u001b[0m\u001b[0;34m\u001b[0m\u001b[0;34m\u001b[0m\u001b[0m\n\u001b[0;32m-> 6820\u001b[0;31m                 \u001b[0mp\u001b[0m\u001b[0;34m.\u001b[0m\u001b[0mupdate\u001b[0m\u001b[0;34m(\u001b[0m\u001b[0mkwargs\u001b[0m\u001b[0;34m)\u001b[0m\u001b[0;34m\u001b[0m\u001b[0;34m\u001b[0m\u001b[0m\n\u001b[0m\u001b[1;32m   6821\u001b[0m                 \u001b[0;32mif\u001b[0m \u001b[0mlbl\u001b[0m \u001b[0;32mis\u001b[0m \u001b[0;32mnot\u001b[0m \u001b[0;32mNone\u001b[0m\u001b[0;34m:\u001b[0m\u001b[0;34m\u001b[0m\u001b[0;34m\u001b[0m\u001b[0m\n\u001b[1;32m   6822\u001b[0m                     \u001b[0mp\u001b[0m\u001b[0;34m.\u001b[0m\u001b[0mset_label\u001b[0m\u001b[0;34m(\u001b[0m\u001b[0mlbl\u001b[0m\u001b[0;34m)\u001b[0m\u001b[0;34m\u001b[0m\u001b[0;34m\u001b[0m\u001b[0m\n",
      "\u001b[0;32m~/anaconda3/lib/python3.8/site-packages/matplotlib/artist.py\u001b[0m in \u001b[0;36mupdate\u001b[0;34m(self, props)\u001b[0m\n\u001b[1;32m    994\u001b[0m                     \u001b[0mfunc\u001b[0m \u001b[0;34m=\u001b[0m \u001b[0mgetattr\u001b[0m\u001b[0;34m(\u001b[0m\u001b[0mself\u001b[0m\u001b[0;34m,\u001b[0m \u001b[0;34mf\"set_{k}\"\u001b[0m\u001b[0;34m,\u001b[0m \u001b[0;32mNone\u001b[0m\u001b[0;34m)\u001b[0m\u001b[0;34m\u001b[0m\u001b[0;34m\u001b[0m\u001b[0m\n\u001b[1;32m    995\u001b[0m                     \u001b[0;32mif\u001b[0m \u001b[0;32mnot\u001b[0m \u001b[0mcallable\u001b[0m\u001b[0;34m(\u001b[0m\u001b[0mfunc\u001b[0m\u001b[0;34m)\u001b[0m\u001b[0;34m:\u001b[0m\u001b[0;34m\u001b[0m\u001b[0;34m\u001b[0m\u001b[0m\n\u001b[0;32m--> 996\u001b[0;31m                         raise AttributeError(f\"{type(self).__name__!r} object \"\n\u001b[0m\u001b[1;32m    997\u001b[0m                                              f\"has no property {k!r}\")\n\u001b[1;32m    998\u001b[0m                     \u001b[0mret\u001b[0m\u001b[0;34m.\u001b[0m\u001b[0mappend\u001b[0m\u001b[0;34m(\u001b[0m\u001b[0mfunc\u001b[0m\u001b[0;34m(\u001b[0m\u001b[0mv\u001b[0m\u001b[0;34m)\u001b[0m\u001b[0;34m)\u001b[0m\u001b[0;34m\u001b[0m\u001b[0;34m\u001b[0m\u001b[0m\n",
      "\u001b[0;31mAttributeError\u001b[0m: 'Rectangle' object has no property 'normed'"
     ]
    },
    {
     "data": {
      "image/png": "[encoded data removed]",
      "text/plain": [
       "<Figure size 432x288 with 1 Axes>"
      ]
     },
     "metadata": {
      "needs_background": "light"
     },
     "output_type": "display_data"
    }
   ],
   "source": [
    "#calculando los bordes de los bins\n",
    "bins = np.arange(0,max(n_defaults) + 1.5) -0.5\n",
    "\n",
    "_ = plt.hist(n_defaults, normed = True, bins = bins)\n",
    "\n",
    "_ = plt.xlabel('numero de impagos de 100 prestamos')\n",
    "_ = plt.ylabel('CDF')\n",
    "_ = plt.title('Distribución normal')\n",
    "plt.show()"
   ]
  },
  {
   "cell_type": "markdown",
   "metadata": {},
   "source": [
    "## Distribución Possion \n",
    "\n",
    "### BINOMIAL VS POISSON\n",
    "\n",
    "- La distribución de Poisson es un límite de la distribución Binomial para los sucesos raros. \n",
    "- Es importante destacar que la distribución de Poisson suele ser más sencilla de trabajar porque sólo tiene un parámetro en lugar de los dos de la distribución Binomial."
   ]
  },
  {
   "cell_type": "code",
   "execution_count": 41,
   "metadata": {},
   "outputs": [
    {
     "name": "stdout",
     "output_type": "stream",
     "text": [
      "poisson\n",
      " media: \n",
      "   9.9347 \n",
      " desv. est: \n",
      "  3.1277205613673353\n",
      "n =  20 Binom:  9.9884 3.147072519024625\n",
      "n =  100 Binom:  9.9726 3.154591770736746\n",
      "n =  1000 Binom:  9.9934 3.1046024608635485\n"
     ]
    }
   ],
   "source": [
    "# Extraer 10000 muestras de la distribución Poisson con lambda 10\n",
    "muestras = np.random.poisson(10, size = 10000)\n",
    "\n",
    "#imprimir la media y la desviación \n",
    "print('poisson\\n', 'media: \\n  ', np.mean(muestras), '\\n', 'desv. est: \\n ', np.std(muestras))\n",
    "\n",
    "# lista de valores n y p a considerar para la distribución Binommial.\n",
    "n = [20,100,1000]\n",
    "p = [.5,.1,.01]\n",
    "# np siempre es 10 \n",
    "\n",
    "# Usando np.random.binomial() dentro del bucle for proporcionado, extrae 10000 muestras \n",
    "# de una distribución Binomial con cada par n, p e imprime la media y la desviación estándar \n",
    "# de las muestras. Hay 3 pares n, p: 20, 0.5, 100, 0.1, y 1000, 0.01. \n",
    "# Se puede acceder a ellos dentro del bucle como n[i], p[i].\n",
    "\n",
    "# Extraer 10, 000 muestras para cada n, p par \n",
    "for i in range(3): \n",
    "    muestra_binomial = np.random.binomial(1000, 0.01, size = 10000)\n",
    "    print( 'n = ' ,n[i], 'Binom: ' ,np.mean(muestra_binomial), np.std(muestra_binomial))"
   ]
  },
  {
   "cell_type": "markdown",
   "metadata": {},
   "source": [
    "<b>CONCLUSION</b>\n",
    "- Las medias son casi iguales, lo que puede demostrarse con un poco de trabajo de lápiz y papel. La desviación estándar de la distribución Binomial se acerca cada vez más a la de la distribución Poisson a medida que la probabilidad p es cada vez menor."
   ]
  },
  {
   "cell_type": "markdown",
   "metadata": {},
   "source": [
    "### Ultimo ejercicio: \n",
    "\n",
    "- ¡Fue 2015 un año anómalo?\n",
    "  - En 1990 y 2015 se produjo el mayor número de no-hitters de cualquier temporada de béisbol (hubo siete). Dado que hay una media de 251/115 no-hitters por temporada, ¿cuál es la probabilidad de tener siete o más en una temporada?"
   ]
  },
  {
   "cell_type": "code",
   "execution_count": 46,
   "metadata": {},
   "outputs": [
    {
     "name": "stdout",
     "output_type": "stream",
     "text": [
      "[4 1 3 ... 1 2 4]\n"
     ]
    }
   ],
   "source": [
    "# añadimos nuestra semilla\n",
    "np.random.seed(42)\n",
    "# Empezamos extrayendo 10000 muestras de una distribución poisson con una media de 251/115 \n",
    "n_nohitters = np.random.poisson(251/115, size = 10000)\n",
    "print(n_nohitters)"
   ]
  },
  {
   "cell_type": "code",
   "execution_count": 48,
   "metadata": {},
   "outputs": [
    {
     "name": "stdout",
     "output_type": "stream",
     "text": [
      "67\n"
     ]
    }
   ],
   "source": [
    "# calcular el numero de muestras que son mayor o igual a 7 \n",
    "n_large = np.sum(n_nohitters >= 7)\n",
    "print(n_large)"
   ]
  },
  {
   "cell_type": "code",
   "execution_count": 50,
   "metadata": {},
   "outputs": [
    {
     "name": "stdout",
     "output_type": "stream",
     "text": [
      "La probabilidad de obtener 7 o mas no-hitters es:  0.0067\n"
     ]
    }
   ],
   "source": [
    "#calculamos la probabilidad de obtener 7 o mas \n",
    "prob = n_large/10000\n",
    "#imprimimos\n",
    "print('La probabilidad de obtener 7 o mas no-hitters es: ', prob)"
   ]
  },
  {
   "cell_type": "markdown",
   "metadata": {},
   "source": [
    "<b> CONCLUSIÓN :</b>\n",
    "- El resultado es aproximadamente 0,007. Esto significa que no es tan improbable ver una temporada de 7 o más no-hits en un siglo. Hemos visto dos en siglo y medio, así que no es descabellado."
   ]
  }
 ],
 "metadata": {
  "kernelspec": {
   "display_name": "Python 3",
   "language": "python",
   "name": "python3"
  },
  "language_info": {
   "codemirror_mode": {
    "name": "ipython",
    "version": 3
   },
   "file_extension": ".py",
   "mimetype": "text/x-python",
   "name": "python",
   "nbconvert_exporter": "python",
   "pygments_lexer": "ipython3",
   "version": "3.8.5"
  }
 },
 "nbformat": 4,
 "nbformat_minor": 4
}
