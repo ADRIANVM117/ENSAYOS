{
 "cells": [
  {
   "cell_type": "markdown",
   "metadata": {},
   "source": [
    "## Iteración Eficiente\n",
    "### Adrián Vázquez\n",
    "#### 22/06/21"
   ]
  },
  {
   "cell_type": "markdown",
   "metadata": {},
   "source": [
    "<b> Crear un generador para un DataFrame de pandas </b>\n",
    "\n",
    "- Puedes crear fácilmente un generador a partir de un DataFrame de pandas. Cada vez que se itere a través de él, se obtendrán dos elementos el índice de la fila correspondiente una Serie pandas con todos los elementos de esa fila\n",
    "\n",
    "- Vamos a crear un generador sobre el conjunto de datos de póker, importado como póker_manos. A continuación, imprimirás todos los elementos de la 2ª fila, utilizando el generador."
   ]
  },
  {
   "cell_type": "code",
   "execution_count": 11,
   "metadata": {},
   "outputs": [],
   "source": [
    "import pandas as pd \n",
    "import numpy as np \n",
    "\n",
    "poker_hands = pd.read_csv('datasets/poker_hand.csv')"
   ]
  },
  {
   "cell_type": "code",
   "execution_count": 12,
   "metadata": {},
   "outputs": [
    {
     "name": "stdout",
     "output_type": "stream",
     "text": [
      "(0, S1        1\n",
      "R1       10\n",
      "S2        1\n",
      "R2       11\n",
      "S3        1\n",
      "R3       13\n",
      "S4        1\n",
      "R4       12\n",
      "S5        1\n",
      "R5        1\n",
      "Class     9\n",
      "Name: 0, dtype: int64) (1, S1        2\n",
      "R1       11\n",
      "S2        2\n",
      "R2       13\n",
      "S3        2\n",
      "R3       10\n",
      "S4        2\n",
      "R4       12\n",
      "S5        2\n",
      "R5        1\n",
      "Class     9\n",
      "Name: 1, dtype: int64)\n"
     ]
    }
   ],
   "source": [
    "# EJERCICIO 1\n",
    "# CREAR UN GENERADOR ALREDEDOR DE LAS FILAS \n",
    "\n",
    "generator = poker_hands.iterrows()\n",
    "\n",
    "first_element = next(generator)\n",
    "second_element = next(generator)\n",
    "\n",
    "print(first_element, second_element)\n"
   ]
  },
  {
   "cell_type": "markdown",
   "metadata": {},
   "source": [
    "### <b> La función iterrows() para hacer bucles </b>\n",
    "\n",
    "- Acabamos de ver cómo crear un generador a partir de un DataFrame de pandas. Ahora usarás este generador y verás cómo aprovechar ese método de bucle a través de un DataFrame de pandas, todavía usando el conjunto de datos poker_hands.\n",
    "\n",
    "- En concreto, queremos la suma de los rangos de todas las cartas, si el índice de la mano es un número impar. Los rangos de las cartas se encuentran en las columnas impares del DataFrame."
   ]
  },
  {
   "cell_type": "code",
   "execution_count": 13,
   "metadata": {},
   "outputs": [],
   "source": [
    "generador = poker_hands.iterrows()\n",
    "\n",
    "for index, values in generador:\n",
    "    # si el numero es par\n",
    "    if index % 2 != 0:\n",
    "        hand_sum = sum([values[1], values[3], values[5], values[7], values[9]])\n",
    "        "
   ]
  },
  {
   "cell_type": "markdown",
   "metadata": {},
   "source": [
    "### <b> .apply()  </b>\n",
    "\n",
    "- puedes usar .apply() para asignar una función a cada celda del DataFrame, sin importar la columna o la fila.\n",
    "\n",
    "- Vas a probarlo en el conjunto de datos poker_hands. Utilizarás .apply() para elevar al cuadrado cada celda del DataFrame. La forma nativa de Python para elevar al cuadrado un número n es n**2."
   ]
  },
  {
   "cell_type": "code",
   "execution_count": 14,
   "metadata": {},
   "outputs": [
    {
     "name": "stdout",
     "output_type": "stream",
     "text": [
      "   S1   R1  S2   R2  S3   R3  S4   R4  S5   R5  Class\n",
      "0   1  100   1  121   1  169   1  144   1    1     81\n",
      "1   4  121   4  169   4  100   4  144   4    1     81\n",
      "2   9  144   9  121   9  169   9  100   9    1     81\n",
      "3  16  100  16  121  16    1  16  169  16  144     81\n",
      "4  16    1  16  169  16  144  16  121  16  100     81\n"
     ]
    }
   ],
   "source": [
    "# Define the lambda transformation\n",
    "get_square = lambda x: np.square(x)\n",
    "# Apply the transformation\n",
    "data_sum = poker_hands.apply(get_square)\n",
    "print(data_sum.head())"
   ]
  },
  {
   "cell_type": "markdown",
   "metadata": {},
   "source": [
    "### <b> .apply() para la iteración de filas </b>\n",
    "\n",
    "- .apply() es muy útil para iterar por las filas de un DataFrame y aplicar una función específica.\n",
    "\n",
    "- Trabajará sobre un subconjunto del conjunto de datos poker_hands, que incluye sólo el rango de las cinco cartas de cada mano en cada fila (este subconjunto se genera para usted en el script). Vas a obtener la varianza de cada mano para todos los rangos, y cada rango para todas las manos."
   ]
  },
  {
   "cell_type": "code",
   "execution_count": 15,
   "metadata": {},
   "outputs": [
    {
     "name": "stdout",
     "output_type": "stream",
     "text": [
      "0    18.64\n",
      "1    18.64\n",
      "2    18.64\n",
      "3    18.64\n",
      "4    18.64\n",
      "dtype: float64\n"
     ]
    }
   ],
   "source": [
    "get_variance = lambda x: np.var(x)\n",
    "# Apply the transformation for every row\n",
    "data_tr = poker_hands[['R1', 'R2', 'R3', 'R4', 'R5']].apply(get_variance, axis=1)\n",
    "print(data_tr.head())"
   ]
  },
  {
   "cell_type": "code",
   "execution_count": 16,
   "metadata": {},
   "outputs": [
    {
     "name": "stdout",
     "output_type": "stream",
     "text": [
      "R1    14.060473\n",
      "R2    14.189523\n",
      "R3    14.024270\n",
      "R4    14.040552\n",
      "R5    13.998851\n",
      "dtype: float64\n"
     ]
    }
   ],
   "source": [
    "get_variance = lambda x: np.var(x)\n",
    "# Apply the transformation on every rank\n",
    "data_tr = poker_hands[['R1', 'R2', 'R3', 'R4', 'R5']].apply(get_variance, axis = 0)\n",
    "print(data_tr.head())"
   ]
  },
  {
   "cell_type": "markdown",
   "metadata": {},
   "source": [
    "###  <b> Pandas vectorización </b>\n",
    "\n",
    "- En este ejercicio, aplicarás la vectorización sobre series de pandas para:\n",
    "\n",
    "  - calcular el rango medio de todas las cartas de cada mano (fila)\n",
    "  - calcular el rango medio de cada una de las 5 cartas de cada mano (columna)\n",
    "\n",
    "- Utilizarás de nuevo el conjunto de datos poker_hands para comparar la eficiencia de ambos métodos."
   ]
  },
  {
   "cell_type": "code",
   "execution_count": 17,
   "metadata": {},
   "outputs": [
    {
     "name": "stdout",
     "output_type": "stream",
     "text": [
      "Time using pandas vectorization for rows: 0.002477407455444336 sec\n",
      "0    9.4\n",
      "1    9.4\n",
      "2    9.4\n",
      "3    9.4\n",
      "4    9.4\n",
      "dtype: float64\n",
      "Time using pandas vectorization for columns: 0.0032150745391845703 sec\n",
      "R1    6.995242\n",
      "R2    7.014194\n",
      "R3    7.014154\n",
      "R4    6.942463\n",
      "R5    6.962735\n",
      "dtype: float64\n"
     ]
    }
   ],
   "source": [
    "import time\n",
    "row_start_time = time.time()\n",
    "mean_r = poker_hands[['R1', 'R2', 'R3', 'R4', 'R5']].mean(axis=1)\n",
    "print(\"Time using pandas vectorization for rows: {} sec\".format(time.time() - row_start_time))\n",
    "print(mean_r.head())\n",
    "# Calculate the mean rank of each of the 5 card in all hands\n",
    "col_start_time = time.time()\n",
    "mean_c = poker_hands[['R1', 'R2', 'R3', 'R4', 'R5']].mean(axis=0)\n",
    "print(\"Time using pandas vectorization for columns: {} sec\".format(time.time() - col_start_time))\n",
    "print(mean_c.head())"
   ]
  },
  {
   "cell_type": "markdown",
   "metadata": {},
   "source": [
    "#### <b> Métodos de vectorización para el bucle de un DataFrame </b>\n",
    "\n",
    "- Ahora que estás familiarizado con la vectorización en pandas y NumPy, vas a comparar tú mismo sus respectivos rendimientos.\n",
    "\n",
    "- Tu tarea es calcular la varianza de todas las manos en cada mano usando la vectorización sobre pandas Series y luego modificar tu código usando el método de vectorización sobre Numpy ndarrays."
   ]
  },
  {
   "cell_type": "markdown",
   "metadata": {},
   "source": [
    "#### Calcula la varianza de los rangos de todas las cartas de cada mano utilizando la vectorización con pandas."
   ]
  },
  {
   "cell_type": "code",
   "execution_count": 18,
   "metadata": {},
   "outputs": [
    {
     "name": "stdout",
     "output_type": "stream",
     "text": [
      "Time using pandas vectorization: 0.0027437210083007812 sec\n",
      "0    23.3\n",
      "1    23.3\n",
      "2    23.3\n",
      "3    23.3\n",
      "4    23.3\n",
      "dtype: float64\n"
     ]
    }
   ],
   "source": [
    "# Calculate the variance in each hand\n",
    "start_time = time.time()\n",
    "poker_var = poker_hands[[ 'R1', 'R2', 'R3', 'R4', 'R5']].var(axis =1)\n",
    "print(\"Time using pandas vectorization: {} sec\".format(time.time() - start_time))\n",
    "print(poker_var.head())"
   ]
  },
  {
   "cell_type": "markdown",
   "metadata": {},
   "source": [
    "#### Calcula la varianza de los rangos de todas las cartas de cada mano utilizando la vectorización con NumPy."
   ]
  },
  {
   "cell_type": "code",
   "execution_count": 19,
   "metadata": {},
   "outputs": [
    {
     "name": "stdout",
     "output_type": "stream",
     "text": [
      "Time using NumPy vectorization: 0.00487065315246582 sec\n",
      "[23.3 23.3 23.3 23.3 23.3]\n"
     ]
    }
   ],
   "source": [
    "# Calculate the variance in each hand\n",
    "start_time = time.time()\n",
    "poker_var = poker_hands[[ 'R1', 'R2', 'R3', 'R4', 'R5']].values.var(axis=1, ddof=1)\n",
    "print(\"Time using NumPy vectorization: {} sec\".format(time.time() - start_time))\n",
    "print(poker_var[0:5])"
   ]
  },
  {
   "cell_type": "markdown",
   "metadata": {},
   "source": [
    "Conoces todas las técnicas para iterar a través de un DataFrame de pandas y aplicar funciones sobre sus valores! Por si te lo preguntas, se espera obtener 5 valores idénticos. El conjunto de datos contiene todas las combinaciones posibles de 5 cartas de una baraja estándar: las columnas contienen todas las mismas cartas, aunque en un orden diferente, por lo que la varianza es la misma para todas las columnas."
   ]
  },
  {
   "cell_type": "markdown",
   "metadata": {},
   "source": [
    "- Numpy opera en matrices llamadas ndarrays. Una diferencia entre series y ndsrrsys. Es que omite muchas operaciones como la indexación, la verificación del tipo de dato.\n",
    "\n",
    "- como resultado, las operaciones en matrices NumPy pueden ser significativamente mas rapidas que las operaciones en pandas series."
   ]
  },
  {
   "cell_type": "markdown",
   "metadata": {},
   "source": [
    "### <b> NOTA : </b>\n",
    "Se puede utilizar la vectorización sobre ndarrays de NumPy para sustituir la vectorización sobre series de pandas Cuando no se utilizan operaciones como la indexación o el tipo de datos."
   ]
  }
 ],
 "metadata": {
  "kernelspec": {
   "display_name": "Python 3",
   "language": "python",
   "name": "python3"
  },
  "language_info": {
   "codemirror_mode": {
    "name": "ipython",
    "version": 3
   },
   "file_extension": ".py",
   "mimetype": "text/x-python",
   "name": "python",
   "nbconvert_exporter": "python",
   "pygments_lexer": "ipython3",
   "version": "3.8.5"
  }
 },
 "nbformat": 4,
 "nbformat_minor": 4
}
