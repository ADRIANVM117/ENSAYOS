{
 "cells": [
  {
   "cell_type": "markdown",
   "metadata": {},
   "source": [
    "## Manipulación de datos usando .groupby()\n",
    "### Adrián Vázquez \n",
    "#### 23/06/21"
   ]
  },
  {
   "cell_type": "markdown",
   "metadata": {},
   "source": [
    "<b> La normalización min-max mediante .transform() </b>\n",
    "\n",
    "- Una operación muy común es la normalización min-max. Consiste en reescalar nuestro valor de interés restando el valor mínimo y dividiendo el resultado por la diferencia entre el valor máximo y el mínimo. Por ejemplo, para reescalar los datos de peso de los estudiantes que abarcan desde 160 libras hasta 200 libras, se resta 160 al peso de cada estudiante y se divide el resultado entre 40 (200 - 160).\n",
    "\n",
    "- Vas a definir y aplicar la normalización min-max a todas las variables numéricas de los datos del restaurante. Primero agruparás las entradas por la hora en que se realizó la comida (Almuerzo o Cena) y luego aplicarás la normalización a cada grupo por separado.\n"
   ]
  },
  {
   "cell_type": "code",
   "execution_count": 5,
   "metadata": {},
   "outputs": [],
   "source": [
    "import pandas as pd \n",
    "import numpy as np \n",
    "\n",
    "\n",
    "restaurant_data = pd.read_csv('datasets/restaurant_data.csv')"
   ]
  },
  {
   "cell_type": "code",
   "execution_count": 4,
   "metadata": {},
   "outputs": [
    {
     "name": "stdout",
     "output_type": "stream",
     "text": [
      "   total_bill       tip  size\n",
      "0    0.291579  0.001111   0.2\n",
      "1    0.152283  0.073333   0.4\n",
      "2    0.375786  0.277778   0.4\n",
      "3    0.431713  0.256667   0.2\n",
      "4    0.450775  0.290000   0.6\n"
     ]
    }
   ],
   "source": [
    "# Define the min-max transformation\n",
    "min_max_tr = lambda x: (x - x.min()) / (x.max() - x.min())\n",
    "# Group the data according to the time\n",
    "restaurant_grouped = restaurant_data.groupby('time')\n",
    "# Apply the transformation\n",
    "restaurant_min_max_group = restaurant_grouped.transform(min_max_tr)\n",
    "print(restaurant_min_max_group.head())"
   ]
  },
  {
   "cell_type": "markdown",
   "metadata": {},
   "source": [
    "<b> Transformación de valores a probabilidades </b>\n",
    "\n",
    "- En este ejercicio, aplicaremos una función de distribución de probabilidad a un DataFrame de pandas con parámetros relacionados con el grupo, transformando la variable de punta a probabilidades.\n",
    "\n",
    "- La transformación será una transformación exponencial. La distribución exponencial se define como"
   ]
  },
  {
   "cell_type": "markdown",
   "metadata": {},
   "source": [
    "###                 $ e^{-\\lambda*x} * \\lambda $"
   ]
  },
  {
   "cell_type": "markdown",
   "metadata": {},
   "source": [
    "- donde λ (lambda) es la media del grupo al que pertenece la observación x.\n",
    "  Vas a aplicar la transformación de la distribución exponencial al tamaño de cada tabla del conjunto de datos, después de agrupar los datos según la hora del día en que tuvo lugar la comida. Recuerda utilizar la media de cada grupo para el valor de λ."
   ]
  },
  {
   "cell_type": "code",
   "execution_count": 10,
   "metadata": {},
   "outputs": [
    {
     "data": {
      "text/plain": [
       "0    0.135141\n",
       "1    0.017986\n",
       "2    0.000060\n",
       "3    0.000108\n",
       "4    0.000042\n",
       "Name: tip, dtype: float64"
      ]
     },
     "execution_count": 10,
     "metadata": {},
     "output_type": "execute_result"
    }
   ],
   "source": [
    "# Define the exponential transformation\n",
    "exp_tr = lambda x: np.exp(-x.mean()*x) * x.mean()\n",
    "# Group the data according to the time\n",
    "restaurant_grouped = restaurant_data.groupby('time')\n",
    "# Apply the transformation\n",
    "restaurant_exp_group = restaurant_grouped['tip'].transform(exp_tr)\n",
    "\n",
    "restaurant_exp_group.head()"
   ]
  },
  {
   "cell_type": "code",
   "execution_count": 12,
   "metadata": {},
   "outputs": [
    {
     "data": {
      "text/html": [
       "<div>\n",
       "<style scoped>\n",
       "    .dataframe tbody tr th:only-of-type {\n",
       "        vertical-align: middle;\n",
       "    }\n",
       "\n",
       "    .dataframe tbody tr th {\n",
       "        vertical-align: top;\n",
       "    }\n",
       "\n",
       "    .dataframe thead th {\n",
       "        text-align: right;\n",
       "    }\n",
       "</style>\n",
       "<table border=\"1\" class=\"dataframe\">\n",
       "  <thead>\n",
       "    <tr style=\"text-align: right;\">\n",
       "      <th></th>\n",
       "      <th>total_bill</th>\n",
       "      <th>tip</th>\n",
       "      <th>sex</th>\n",
       "      <th>smoker</th>\n",
       "      <th>day</th>\n",
       "      <th>time</th>\n",
       "      <th>size</th>\n",
       "    </tr>\n",
       "  </thead>\n",
       "  <tbody>\n",
       "    <tr>\n",
       "      <th>0</th>\n",
       "      <td>16.99</td>\n",
       "      <td>1.01</td>\n",
       "      <td>Female</td>\n",
       "      <td>No</td>\n",
       "      <td>Sun</td>\n",
       "      <td>Dinner</td>\n",
       "      <td>2</td>\n",
       "    </tr>\n",
       "    <tr>\n",
       "      <th>1</th>\n",
       "      <td>10.34</td>\n",
       "      <td>1.66</td>\n",
       "      <td>Male</td>\n",
       "      <td>No</td>\n",
       "      <td>Sun</td>\n",
       "      <td>Dinner</td>\n",
       "      <td>3</td>\n",
       "    </tr>\n",
       "    <tr>\n",
       "      <th>2</th>\n",
       "      <td>21.01</td>\n",
       "      <td>3.50</td>\n",
       "      <td>Male</td>\n",
       "      <td>No</td>\n",
       "      <td>Sun</td>\n",
       "      <td>Dinner</td>\n",
       "      <td>3</td>\n",
       "    </tr>\n",
       "    <tr>\n",
       "      <th>3</th>\n",
       "      <td>23.68</td>\n",
       "      <td>3.31</td>\n",
       "      <td>Male</td>\n",
       "      <td>No</td>\n",
       "      <td>Sun</td>\n",
       "      <td>Dinner</td>\n",
       "      <td>2</td>\n",
       "    </tr>\n",
       "    <tr>\n",
       "      <th>4</th>\n",
       "      <td>24.59</td>\n",
       "      <td>3.61</td>\n",
       "      <td>Female</td>\n",
       "      <td>No</td>\n",
       "      <td>Sun</td>\n",
       "      <td>Dinner</td>\n",
       "      <td>4</td>\n",
       "    </tr>\n",
       "  </tbody>\n",
       "</table>\n",
       "</div>"
      ],
      "text/plain": [
       "   total_bill   tip     sex smoker  day    time  size\n",
       "0       16.99  1.01  Female     No  Sun  Dinner     2\n",
       "1       10.34  1.66    Male     No  Sun  Dinner     3\n",
       "2       21.01  3.50    Male     No  Sun  Dinner     3\n",
       "3       23.68  3.31    Male     No  Sun  Dinner     2\n",
       "4       24.59  3.61  Female     No  Sun  Dinner     4"
      ]
     },
     "execution_count": 12,
     "metadata": {},
     "output_type": "execute_result"
    }
   ],
   "source": [
    "restaurant_data.head()"
   ]
  },
  {
   "cell_type": "markdown",
   "metadata": {},
   "source": [
    "### <b> Validación de la normalización </b>\n",
    "\n",
    "- Para este ejercicio, realizaremos una normalización de la puntuación z y verificaremos que se ha realizado correctamente.\n",
    "\n",
    "- Una característica distintiva de los valores normalizados es que tienen una media igual a cero y una desviación estándar igual a uno.\n",
    "  Después de aplicar la transformación de normalización, puede agrupar de nuevo la misma variable y comprobar la media y la desviación estándar de cada grupo.\n"
   ]
  },
  {
   "cell_type": "code",
   "execution_count": 16,
   "metadata": {},
   "outputs": [
    {
     "name": "stdout",
     "output_type": "stream",
     "text": [
      "        S1   R1   S2   R2   S3   R3   S4   R4   S5   R5\n",
      "Class                                                  \n",
      "0      0.0  0.0 -0.0 -0.0 -0.0 -0.0  0.0 -0.0 -0.0 -0.0\n",
      "1     -0.0 -0.0  0.0 -0.0  0.0  0.0  0.0  0.0 -0.0  0.0\n",
      "2     -0.0 -0.0 -0.0 -0.0 -0.0  0.0 -0.0  0.0  0.0  0.0\n",
      "3     -0.0  0.0  0.0 -0.0 -0.0 -0.0  0.0 -0.0  0.0 -0.0\n",
      "4      0.0 -0.0 -0.0 -0.0  0.0 -0.0 -0.0  0.0  0.0  0.0\n",
      "5     -0.0 -0.0 -0.0  0.0 -0.0  0.0 -0.0 -0.0 -0.0  0.0\n",
      "6     -0.0 -0.0 -0.0  0.0  0.0 -0.0  0.0  0.0 -0.0  0.0\n",
      "7      0.0 -0.0 -0.0  0.0 -0.0  0.0  0.0 -0.0 -0.0 -0.0\n",
      "8     -0.0  0.0 -0.0  0.0 -0.0  0.0 -0.0  0.0 -0.0 -0.0\n",
      "9      0.0 -0.0  0.0 -0.0  0.0 -0.0  0.0  0.0  0.0 -0.0\n",
      "        S1   R1   S2   R2   S3   R3   S4   R4   S5   R5\n",
      "Class                                                  \n",
      "0      1.0  1.0  1.0  1.0  1.0  1.0  1.0  1.0  1.0  1.0\n",
      "1      1.0  1.0  1.0  1.0  1.0  1.0  1.0  1.0  1.0  1.0\n",
      "2      1.0  1.0  1.0  1.0  1.0  1.0  1.0  1.0  1.0  1.0\n",
      "3      1.0  1.0  1.0  1.0  1.0  1.0  1.0  1.0  1.0  1.0\n",
      "4      1.0  1.0  1.0  1.0  1.0  1.0  1.0  1.0  1.0  1.0\n",
      "5      1.0  1.0  1.0  1.0  1.0  1.0  1.0  1.0  1.0  1.0\n",
      "6      1.0  1.0  1.0  1.0  1.0  1.0  1.0  1.0  1.0  1.0\n",
      "7      1.0  1.0  1.0  1.0  1.0  1.0  1.0  1.0  1.0  1.0\n",
      "8      1.0  1.0  1.0  1.0  1.0  1.0  1.0  1.0  1.0  1.0\n",
      "9      1.0  1.0  1.0  1.0  1.0  1.0  1.0  1.0  1.0  1.0\n"
     ]
    }
   ],
   "source": [
    "poker_hands= pd.read_csv('datasets/poker_hand.csv')\n",
    "zscore = lambda x: (x - x.mean()) / x.std()\n",
    "# Apply the transformation\n",
    "poker_grouped = poker_hands.groupby('Class')\n",
    "\n",
    "poker_trans = poker_grouped.transform(zscore)\n",
    "# Re-group the grouped object\n",
    "poker_regrouped = poker_trans.groupby(poker_hands['Class'])\n",
    "# Print each group's means and standard deviation\n",
    "print(np.round(poker_regrouped.mean()))\n",
    "print(poker_regrouped.std())"
   ]
  },
  {
   "cell_type": "markdown",
   "metadata": {},
   "source": [
    "<b> Conclusión </b>\n",
    "\n",
    "- Ahora sabes que la normalización se ha realizado correctamente, ya que la media de cada grupo normalizado es 0 y la desviación estándar es 1.\n",
    "\n",
    "<B> NOTA:  </B>\n",
    "\n",
    "- La función .transform() aplica una función a todos los miembros de cada grupo y la transformación (1) produce los mismos resultados en todo el conjunto de datos, independientemente de las agrupaciones"
   ]
  },
  {
   "cell_type": "code",
   "execution_count": null,
   "metadata": {},
   "outputs": [],
   "source": [
    "# Transformación (1)\n",
    "lambda x: np.random.randint(0,10) "
   ]
  },
  {
   "cell_type": "markdown",
   "metadata": {},
   "source": [
    "### <b> Valoreas perdidos mediante transform() </b>"
   ]
  },
  {
   "cell_type": "markdown",
   "metadata": {},
   "source": [
    "<b> Identificación de los valores perdidos </b>\n",
    "\n",
    "- El primer paso antes de la imputación de valores perdidos es identificar si hay valores perdidos en nuestros datos, y si es así, de qué grupo surgen.\n",
    "\n",
    "- Para los mismos datos de restaurant_data que encontró en la lección, un empleado borró por error las propinas que quedaban en 65 mesas. La cuestión que se plantea es cuántas entradas perdidas proceden de las mesas en las que había fumadores frente a las mesas en las que no había fumadores.\n",
    "\n",
    "- El objetivo  es agrupar ambos conjuntos de datos según la variable fumador, contar el número o los valores presentes y luego calcular la diferencia.\n",
    "\n",
    "\n",
    "> Estamos imputando consejos para que practiques los conceptos enseñados en la lección. Desde un punto de vista ético, no deberías imputar datos financieros en la vida real, ya que podría considerarse un fraude."
   ]
  },
  {
   "cell_type": "code",
   "execution_count": 18,
   "metadata": {},
   "outputs": [
    {
     "ename": "NameError",
     "evalue": "name 'restaurant_nan' is not defined",
     "output_type": "error",
     "traceback": [
      "\u001b[0;31m---------------------------------------------------------------------------\u001b[0m",
      "\u001b[0;31mNameError\u001b[0m                                 Traceback (most recent call last)",
      "\u001b[0;32m<ipython-input-18-5c33063a5ff4>\u001b[0m in \u001b[0;36m<module>\u001b[0;34m\u001b[0m\n\u001b[1;32m      1\u001b[0m \u001b[0;31m# Group both objects according to smoke condition\u001b[0m\u001b[0;34m\u001b[0m\u001b[0;34m\u001b[0m\u001b[0;34m\u001b[0m\u001b[0m\n\u001b[0;32m----> 2\u001b[0;31m \u001b[0mrestaurant_nan_grouped\u001b[0m \u001b[0;34m=\u001b[0m \u001b[0mrestaurant_nan\u001b[0m\u001b[0;34m.\u001b[0m\u001b[0mgroupby\u001b[0m\u001b[0;34m(\u001b[0m\u001b[0;34m'smoker'\u001b[0m\u001b[0;34m)\u001b[0m\u001b[0;34m\u001b[0m\u001b[0;34m\u001b[0m\u001b[0m\n\u001b[0m\u001b[1;32m      3\u001b[0m \u001b[0;31m# Store the number of present values\u001b[0m\u001b[0;34m\u001b[0m\u001b[0;34m\u001b[0m\u001b[0;34m\u001b[0m\u001b[0m\n\u001b[1;32m      4\u001b[0m \u001b[0mrestaurant_nan_nval\u001b[0m \u001b[0;34m=\u001b[0m \u001b[0mrestaurant_nan_grouped\u001b[0m\u001b[0;34m[\u001b[0m\u001b[0;34m'tip'\u001b[0m\u001b[0;34m]\u001b[0m\u001b[0;34m.\u001b[0m\u001b[0mcount\u001b[0m\u001b[0;34m(\u001b[0m\u001b[0;34m)\u001b[0m\u001b[0;34m\u001b[0m\u001b[0;34m\u001b[0m\u001b[0m\n\u001b[1;32m      5\u001b[0m \u001b[0;31m# Print the group-wise missing entries\u001b[0m\u001b[0;34m\u001b[0m\u001b[0;34m\u001b[0m\u001b[0;34m\u001b[0m\u001b[0m\n",
      "\u001b[0;31mNameError\u001b[0m: name 'restaurant_nan' is not defined"
     ]
    }
   ],
   "source": [
    "# Group both objects according to smoke condition\n",
    "restaurant_nan_grouped = restaurant_nan.groupby('smoker')\n",
    "# Store the number of present values\n",
    "restaurant_nan_nval = restaurant_nan_grouped['tip'].count()\n",
    "# Print the group-wise missing entries\n",
    "print(restaurant_nan_grouped['total_bill'].count() - restaurant_nan_nval)"
   ]
  },
  {
   "cell_type": "markdown",
   "metadata": {},
   "source": [
    "> Ya sabes cómo comparar dos objetos agrupados en función de los valores perdidos por grupo. Veamos cómo podemos llenar estas lagunas."
   ]
  },
  {
   "cell_type": "markdown",
   "metadata": {},
   "source": [
    "<b> Imputación de valores perdidos </b>\n",
    "\n",
    "- Dado que la mayoría de los datos del mundo real contienen entradas que faltan, la sustitución de estas entradas por valores razonables puede aumentar la información que se puede obtener de nuestros datos.\n",
    "\n",
    "- En el conjunto de datos del restaurante, la columna \"factura_total\" tiene algunas entradas que faltan, lo que significa que no se ha registrado cuánto han pagado algunas mesas. Su tarea en este ejercicio es sustituir las entradas que faltan por el valor medio de la cantidad pagada, según si la entrada se registró en la comida o en la cena (variable de tiempo)."
   ]
  },
  {
   "cell_type": "code",
   "execution_count": 20,
   "metadata": {},
   "outputs": [
    {
     "name": "stdout",
     "output_type": "stream",
     "text": [
      "   total_bill   tip  size\n",
      "0       16.99  1.01     2\n",
      "1       10.34  1.66     3\n",
      "2       21.01  3.50     3\n",
      "3       23.68  3.31     2\n",
      "4       24.59  3.61     4\n"
     ]
    }
   ],
   "source": [
    "# Define the lambda function\n",
    "missing_trans = lambda x: x.fillna(x.median())\n",
    "# Group the data according to time\n",
    "restaurant_grouped = restaurant_data.groupby('time')\n",
    "# Apply the transformation\n",
    "restaurant_impute = restaurant_grouped.transform(missing_trans)\n",
    "print(restaurant_impute.head())"
   ]
  },
  {
   "cell_type": "markdown",
   "metadata": {},
   "source": [
    "### <b> Filtrado de datos </b>\n",
    "\n",
    "<b> NOTA </b>\n",
    "\n",
    "- Puede que necesites filtrar tus datos por varias razones.\n",
    "\n",
    "- En este ejercicio, utilizarás el filtrado para seleccionar una parte específica de nuestro DataFrame:\n",
    "  - por el número de entradas registradas en cada día de la semana\n",
    "  - por la cantidad media de dinero que los clientes pagaron al restaurante cada día de la semana"
   ]
  },
  {
   "cell_type": "markdown",
   "metadata": {},
   "source": [
    "<B> Cree un nuevo DataFrame que contenga sólo los días en los que el recuento de total_factura sea superior a 40. </B>\n"
   ]
  },
  {
   "cell_type": "code",
   "execution_count": 27,
   "metadata": {},
   "outputs": [
    {
     "name": "stdout",
     "output_type": "stream",
     "text": [
      "Number of tables where total_bill is greater than $40: 225\n"
     ]
    }
   ],
   "source": [
    "# Filter the days where the count of total_bill is greater than $40\n",
    "total_bill_40 = restaurant_data.groupby('day').filter(lambda x: x['total_bill'].count() > 40)\n",
    "# Print the number of tables where total_bill is greater than $40\n",
    "print('Number of tables where total_bill is greater than $40:', total_bill_40.shape[0])"
   ]
  },
  {
   "cell_type": "markdown",
   "metadata": {},
   "source": [
    "<B> Del DataFrame total_factura_40, seleccione sólo las entradas que tengan una media de factura total superior a 20 dólares, agrupadas por día. </B>\n"
   ]
  },
  {
   "cell_type": "code",
   "execution_count": 29,
   "metadata": {},
   "outputs": [
    {
     "name": "stdout",
     "output_type": "stream",
     "text": [
      "Days of the week that have a mean total_bill greater than $20: ['Sun' 'Sat']\n"
     ]
    }
   ],
   "source": [
    "# Select only the entries that have a mean total_bill greater than $20\n",
    "total_bill_20 = total_bill_40.groupby('day').filter(lambda x : x['total_bill'].mean() > 20)\n",
    "# Print days of the week that have a mean total_bill greater than $20\n",
    "print('Days of the week that have a mean total_bill greater than $20:', total_bill_20.day.unique())"
   ]
  },
  {
   "cell_type": "markdown",
   "metadata": {},
   "source": [
    "<b> Conclusión: </b>\n",
    "\n",
    "- Acabas de ayudar a un restaurante a ajustar sus horarios de apertura en función de los beneficios. No es de extrañar que el fin de semana sea el momento más rentable de la semana."
   ]
  }
 ],
 "metadata": {
  "kernelspec": {
   "display_name": "Python 3",
   "language": "python",
   "name": "python3"
  },
  "language_info": {
   "codemirror_mode": {
    "name": "ipython",
    "version": 3
   },
   "file_extension": ".py",
   "mimetype": "text/x-python",
   "name": "python",
   "nbconvert_exporter": "python",
   "pygments_lexer": "ipython3",
   "version": "3.8.5"
  }
 },
 "nbformat": 4,
 "nbformat_minor": 4
}
