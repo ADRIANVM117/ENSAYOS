{
 "cells": [
  {
   "cell_type": "markdown",
   "metadata": {},
   "source": [
    "## Test Driven Development (TDD)\n",
    "### Adrián Vázquez\n",
    "#### 06/07/21"
   ]
  },
  {
   "cell_type": "markdown",
   "metadata": {},
   "source": [
    "El TDD intenta garantizar que las pruebas unitarias se escriban. \n",
    "\n",
    "El desarrollo basado en pruebas altera el ciclo de vida habitual al agregar un solo paso antes de la implementación. \n",
    "\n",
    "Al convertir las pruebas unitarias en una condición previa para la implementación, asegura que las pruebas unitarias de escritura no se puedan posponer o despriorizar "
   ]
  },
  {
   "cell_type": "markdown",
   "metadata": {},
   "source": [
    "<b> TDD: Pruebas para argumentos normales. </b>\n",
    "\n",
    "- En este ejercicio y en los siguientes, implementarás la función convert_to_int() utilizando el Desarrollo Dirigido por Pruebas (TDD). En TDD, primero se escriben las pruebas y luego se implementa la función.\n",
    "\n",
    " - Los argumentos normales para convert_to_int() son cadenas de enteros con comas como separadores de miles. Como la mejor práctica es probar una función para dos o tres argumentos normales, aquí hay tres ejemplos sin coma, con una coma y con dos comas respectivamente."
   ]
  },
  {
   "cell_type": "markdown",
   "metadata": {},
   "source": [
    "|||Argument value   | Expected return value|||\n",
    "\n",
    "|\"756\"           |          756         |\n",
    "\n",
    "|\"2,081\"         |          2081        |\n",
    "\n",
    "|\"1,034,891\"     |         1034891      | "
   ]
  },
  {
   "cell_type": "markdown",
   "metadata": {},
   "source": [
    "Como la función convert_to_int() no existe todavía, no podrás importarla. Pero la usarás en las pruebas de todos modos. Así es como funciona TDD."
   ]
  },
  {
   "cell_type": "code",
   "execution_count": 4,
   "metadata": {},
   "outputs": [],
   "source": [
    "def test_with_no_comma():\n",
    "    actual = convert_to_int(\"756\")\n",
    "    # Complete the assert statement\n",
    "    assert actual == 756, \"Expected: 756, Actual: {0}\".format(actual)\n",
    "def test_with_one_comma():\n",
    "    actual = convert_to_int(\"2,081\")\n",
    "    # Complete the assert statement\n",
    "    assert actual == 2081, \"Expected: 2081, Actual: {0}\".format(actual)\n",
    "def test_with_two_commas():\n",
    "    actual = convert_to_int(\"1,034,891\")\n",
    "    # Complete the assert statement\n",
    "    assert actual == 1034891, \"Expected: 1034891, Actual: {0}\".format(actual)"
   ]
  },
  {
   "cell_type": "markdown",
   "metadata": {},
   "source": [
    "<b> TDD: Recogida de requisitos </b>\n",
    "\n",
    "- ¿Qué debe hacer convert_to_int() si los argumentos no son normales? En concreto, hay tres tipos de argumentos especiales:\n",
    "\n",
    "   - Argumentos a los que les falta una coma, por ejemplo, \"178100,301\".\n",
    "\n",
    "   - Argumentos que tienen la coma en el lugar equivocado, por ejemplo, \"12,72,891\".\n",
    "\n",
    "   - Cadenas con valor flotante, por ejemplo, \"23.816,92\".\n",
    "\n",
    "Además, ¿debería convert_to_int() lanzar una excepción para determinados valores de los argumentos?\n",
    "\n",
    "Cuando tu jefe te pidió que implementaras la función, ¡no te dijo nada sobre estos casos! Pero como quieres escribir pruebas para argumentos especiales y malos como parte de TDD, vas y le preguntas a tu jefa.\n",
    "\n",
    "Ella dice que convert_to_int() debería devolver None para cada argumento especial y que no hay argumentos malos para esta función."
   ]
  },
  {
   "cell_type": "code",
   "execution_count": 3,
   "metadata": {},
   "outputs": [],
   "source": [
    "import pytest"
   ]
  },
  {
   "cell_type": "code",
   "execution_count": 8,
   "metadata": {},
   "outputs": [],
   "source": [
    "# Give a name to the test for an argument with missing comma\n",
    "def test_on_string_with_missing_comma():\n",
    "    actual = convert_to_int(\"178100,301\")\n",
    "    assert actual is None, \"Expected: None, Actual: {0}\".format(actual)\n",
    "def test_on_string_with_incorrectly_placed_comma():\n",
    "    # Assign to the actual return value for the argument \"12,72,891\"\n",
    "    actual = convert_to_int('12,72,891')\n",
    "    assert actual is None, \"Expected: None, Actual: {0}\".format(actual)\n",
    "def test_on_float_valued_string():\n",
    "    actual = convert_to_int(\"23,816.92\")\n",
    "    # Complete the assert statement\n",
    "    assert actual is None, \"Expected: None, Actual: {0}\".format(actual)"
   ]
  },
  {
   "cell_type": "code",
   "execution_count": 7,
   "metadata": {},
   "outputs": [
    {
     "name": "stdout",
     "output_type": "stream",
     "text": [
      "\u001b[1m============================= test session starts ==============================\u001b[0m\n",
      "platform linux -- Python 3.8.5, pytest-6.1.1, py-1.9.0, pluggy-0.13.1\n",
      "rootdir: /home/radianvm/Proyectos/ENSAYOS/Data-camp/python-programming/unit_testing_for_data_science\n",
      "collected 0 items                                                              \u001b[0m\n",
      "\n",
      "\u001b[33m============================ \u001b[33mno tests ran\u001b[0m\u001b[33m in 0.00s\u001b[0m\u001b[33m =============================\u001b[0m\n",
      "\u001b[31mERROR: file or directory not found: test_convert_to_int.py\n",
      "\u001b[0m\n"
     ]
    }
   ],
   "source": [
    "!pytest test_convert_to_int.py"
   ]
  },
  {
   "cell_type": "markdown",
   "metadata": {},
   "source": [
    "<b> Conclusión </b>\n",
    "\n",
    "En TDD, la primera ejecución de las pruebas siempre falla con un NameError o ImportError porque la función no existe todavía. En el próximo ejercicio, implementarás la función y solucionarás esto. Pero antes de seguir adelante, fíjate en que pensar en los argumentos especiales y malos ha cristalizado los requisitos de la función. Esto nos ayudará enormemente a implementar la función en el próximo ejercicio."
   ]
  },
  {
   "cell_type": "markdown",
   "metadata": {},
   "source": [
    "<b> TDD: Implementar la función </b>\n",
    "\n",
    "- convert_to_int() devuelve None para lo siguiente:\n",
    "\n",
    "  - Argumentos a los que les falta la coma de los miles, por ejemplo, \"178100,301\". Si divide la cadena en la coma utilizando \"178100,301\".split(\",\"), la lista resultante [\"178100\", \"301\"] tendrá al menos una entrada con una longitud superior a 3, por ejemplo \"178100\".\n",
    "\n",
    "  - Argumentos con una coma mal colocada, por ejemplo, \"12,72,891\". Si se divide en la coma, la lista resultante es [\"12\", \"72\", \"891\"]. Tenga en cuenta que la primera entrada puede tener cualquier longitud entre 1 y 3. Pero si cualquier otra entrada tiene una longitud distinta de 3, como \"72\", entonces hay una coma mal colocada.\n",
    "\n",
    "  - Cadenas con valor flotante, por ejemplo, \"23.816,92\". Si elimina las comas y llama a int() sobre esta cadena, es decir, int(\"23816.92\"), obtendrá un ValueError."
   ]
  },
  {
   "cell_type": "code",
   "execution_count": 10,
   "metadata": {},
   "outputs": [],
   "source": [
    "def convert_to_int(integer_string_with_commas):\n",
    "    comma_separated_parts = integer_string_with_commas.split(\",\")\n",
    "    for i in range(len(comma_separated_parts)):\n",
    "        # Write an if statement for checking missing commas\n",
    "        if len(comma_separated_parts[i]) > 3:\n",
    "            return None\n",
    "        # Write the if statement for incorrectly placed commas\n",
    "        if i != 0 and len(comma_separated_parts[i]) != 3:\n",
    "            return None\n",
    "    integer_string_without_commas = \"\".join(comma_separated_parts)\n",
    "    try:\n",
    "        return int(integer_string_without_commas)\n",
    "    # Fill in with a ValueError\n",
    "    except  ValueError:\n",
    "        return None"
   ]
  },
  {
   "cell_type": "code",
   "execution_count": 13,
   "metadata": {},
   "outputs": [
    {
     "name": "stdout",
     "output_type": "stream",
     "text": [
      "\u001b[1m============================= test session starts ==============================\u001b[0m\n",
      "platform linux -- Python 3.8.5, pytest-6.1.1, py-1.9.0, pluggy-0.13.1\n",
      "rootdir: /home/radianvm/Proyectos/ENSAYOS/Data-camp/python-programming/unit_testing_for_data_science\n",
      "collected 0 items / 1 error                                                    \u001b[0m\n",
      "\n",
      "==================================== ERRORS ====================================\n",
      "\u001b[31m\u001b[1m___________________ ERROR collecting test_convert_to_int.py ____________________\u001b[0m\n",
      "\u001b[1m\u001b[31mtest_convert_to_int.py\u001b[0m:197: in <module>\n",
      "    \u001b[33m\"\u001b[39;49;00m\u001b[33mexecution_count\u001b[39;49;00m\u001b[33m\"\u001b[39;49;00m: null,\n",
      "\u001b[1m\u001b[31mE   NameError: name 'null' is not defined\u001b[0m\n",
      "=========================== short test summary info ============================\n",
      "ERROR test_convert_to_int.py - NameError: name 'null' is not defined\n",
      "!!!!!!!!!!!!!!!!!!!! Interrupted: 1 error during collection !!!!!!!!!!!!!!!!!!!!\n",
      "\u001b[31m=============================== \u001b[31m\u001b[1m1 error\u001b[0m\u001b[31m in 0.10s\u001b[0m\u001b[31m ===============================\u001b[0m\n"
     ]
    }
   ],
   "source": [
    "!pytest test_convert_to_int.py"
   ]
  },
  {
   "cell_type": "code",
   "execution_count": null,
   "metadata": {},
   "outputs": [],
   "source": []
  }
 ],
 "metadata": {
  "kernelspec": {
   "display_name": "Python 3",
   "language": "python",
   "name": "python3"
  },
  "language_info": {
   "codemirror_mode": {
    "name": "ipython",
    "version": 3
   },
   "file_extension": ".py",
   "mimetype": "text/x-python",
   "name": "python",
   "nbconvert_exporter": "python",
   "pygments_lexer": "ipython3",
   "version": "3.8.5"
  }
 },
 "nbformat": 4,
 "nbformat_minor": 4
}
