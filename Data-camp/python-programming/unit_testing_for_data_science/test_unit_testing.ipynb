{
 "cells": [
  {
   "cell_type": "markdown",
   "metadata": {},
   "source": [
    "## Prueba unitaria\n",
    "### Adrián Vázquez \n",
    "#### 02/07/21"
   ]
  },
  {
   "cell_type": "markdown",
   "metadata": {},
   "source": [
    "<b> unit testing </b> : es  un método para determinar si un módulo o un conjunto de módulos de código funciona correctamente. El concepto de Unit testing no se limita a ningún lenguaje específico, sino que es una herramienta de la programación en general. Las pruebas unitarias se implementan a la par con el desarrollo de un módulo o proyecto, y se ejecutan cuando este último sufre modificaciones para garantizar su funcionamiento.\n",
    "\n",
    "Fragmento tomado de : https://recursospython.com/guias-y-manuales/unit-testing-doc-testing/#:~:text=%C2%BFQu%C3%A9%20es%20Unit%20testing%3F,m%C3%B3dulos%20de%20c%C3%B3digo%20funciona%20correctamente.&text=Las%20pruebas%20unitarias%20se%20implementan,modificaciones%20para%20garantizar%20su%20funcionamiento."
   ]
  },
  {
   "cell_type": "markdown",
   "metadata": {},
   "source": [
    "- Usaremos pytest: es la biblioteca mas popular en pthon para hacer puruebas unitarias"
   ]
  },
  {
   "cell_type": "markdown",
   "metadata": {},
   "source": [
    "> se crea un archivo con la plabra inicial `test`, asi python sabra que no es un archivo común, sino uno especial que contiene pruebas unitarias"
   ]
  },
  {
   "cell_type": "code",
   "execution_count": 2,
   "metadata": {},
   "outputs": [],
   "source": [
    "import pytest\n"
   ]
  },
  {
   "cell_type": "markdown",
   "metadata": {},
   "source": [
    "### Entendiendo el resporte del resultado de la prueba "
   ]
  },
  {
   "cell_type": "markdown",
   "metadata": {},
   "source": [
    "<b> Esta salida se denomina informe de resultado de la prueba y contiene información que nos ayuda a corregir errores </b>"
   ]
  },
  {
   "cell_type": "markdown",
   "metadata": {},
   "source": [
    " - Para entender la informe general es mas practico dividirlo en secciones y entenderlas individualmente. \n",
    " \n",
    "   - <b> 1ra. sección: </b> Proporciona información sobre el sistema operativo, la versión de python, la versión del paquete pytest, el directorio de trabajo y los complementos de pytest.\n",
    "   \n",
    "   - <b> 2da. sección: </b> indica cuantas veces se recopilo un elemento, lo que significa que pytest encontro n pruebas para ejecutar. La siguiente linea contiene el nombre del módulo de prueba junto a este se muuestran diversos caaracteres, estos pueden ser \" . \" o \" F \". \n",
    "     - El caracter F significa fracaso: Una prueba unitaria falla si se genera una excepción al ejecutar el código de prueba unitaria. \n",
    "     - El caracter . significa que paso la prueba unitaria: Esto significa que la declaración de aserción o cualquier otra parte de la prueba unitaria no genera excepciones \n",
    "   \n",
    "   - <b> 3ra. sección:  </b> Contiene información detallada sobre las pruebas fallidas\n",
    "  \n",
    " "
   ]
  },
  {
   "cell_type": "markdown",
   "metadata": {},
   "source": [
    "<b> NOTA: </b>\n",
    "\n",
    "-  Si obtienes un AssertionError, esto significa que la función tiene un error y deberías arreglarlo. Si obtienes otra excepción, por ejemplo NameError, esto significa que algo más está mal con el código de prueba de la unidad y debes arreglarlo para que la declaración de aserción pueda realmente ejecutarse."
   ]
  },
  {
   "cell_type": "markdown",
   "metadata": {},
   "source": [
    "### <b> Detectar y corregir errores. </b>\n",
    "\n",
    "- Para encontrar errores en las funciones, hay que seguir un procedimiento de cuatro pasos.\n",
    "\n",
    "   - Escribir pruebas unitarias.\n",
    "   - Ejecutarlas.\n",
    "   - Leer el informe de resultados de las pruebas y detectar los errores.\n",
    "   - Corregir los errores.\n",
    "\n",
    "En un ejercicio anterior, escribiste una prueba unitaria para la función convert_to_int(), que se supone que convierte una cadena de números enteros separados por comas como \"2,081\" al número entero 2081. También has ejecutado la prueba unitaria y has descubierto que falla.\n",
    "En este ejercicio, leerás el informe de resultados de la prueba de ese ejercicio en detalle, y luego detectarás y solucionarás el error. Esto te dotará de todos los conocimientos básicos para empezar a utilizar las pruebas unitarias en tus proyectos.\n",
    "La función convert_to_int() está definida en el archivo preprocessing_helpers.py. La prueba unitaria está disponible en el módulo de prueba test_convert_to_int.py."
   ]
  },
  {
   "cell_type": "code",
   "execution_count": 1,
   "metadata": {},
   "outputs": [],
   "source": [
    " #def test_convert_to_int():\n",
    "     #assert convert_to_int(\"2,081\") == 2081\n",
    "    \n",
    "# !pytest test_convert_to_int.py"
   ]
  },
  {
   "cell_type": "markdown",
   "metadata": {},
   "source": [
    "<b> Pruebas unitarias como documentación </b>\n",
    "\n",
    "- Para ver las pruebas usar `!cat` y no `!pytest` en las entradas "
   ]
  },
  {
   "cell_type": "markdown",
   "metadata": {},
   "source": [
    "Las pruebas unitarias tambien aumentan la confianza en un paquete, ya que los usuarios pueden ejecutar estas y verificar que las funciones funciona. "
   ]
  },
  {
   "cell_type": "code",
   "execution_count": null,
   "metadata": {},
   "outputs": [],
   "source": []
  }
 ],
 "metadata": {
  "kernelspec": {
   "display_name": "Python 3",
   "language": "python",
   "name": "python3"
  },
  "language_info": {
   "codemirror_mode": {
    "name": "ipython",
    "version": 3
   },
   "file_extension": ".py",
   "mimetype": "text/x-python",
   "name": "python",
   "nbconvert_exporter": "python",
   "pygments_lexer": "ipython3",
   "version": "3.8.5"
  }
 },
 "nbformat": 4,
 "nbformat_minor": 4
}
