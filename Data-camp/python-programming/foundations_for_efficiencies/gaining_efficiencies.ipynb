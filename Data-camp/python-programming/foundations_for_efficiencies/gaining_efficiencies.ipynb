{
 "cells": [
  {
   "cell_type": "markdown",
   "metadata": {},
   "source": [
    "## Ganando en eficiencia. \n",
    "### Adrián Vázquez \n",
    "#### 14/06/21"
   ]
  },
  {
   "cell_type": "markdown",
   "metadata": {},
   "source": [
    "#### <b> The collections module </b>"
   ]
  },
  {
   "cell_type": "code",
   "execution_count": 18,
   "metadata": {},
   "outputs": [],
   "source": [
    "from collections import Counter"
   ]
  },
  {
   "cell_type": "markdown",
   "metadata": {},
   "source": []
  },
  {
   "cell_type": "code",
   "execution_count": 25,
   "metadata": {},
   "outputs": [],
   "source": [
    "nombres =  ['Abomasnow', 'Abra', 'Absol', 'Accelgor', 'Aerodactyl', 'Aggron', 'Aipom', 'Ambipom', 'Seel', 'Nidorino', 'Fearow', 'Vanilluxe', 'Relicanth', 'Karrablast', 'Exeggutor', 'Diggersby', 'Mew', 'Flabébé', 'Archen', 'Cryogonal', 'Cherubi', 'Barbaracle', 'Jirachi', 'Lopunny', 'Sentret', 'Heatmor', 'Bellossom', 'Drilbur', 'Gallade', 'Ivysaur', 'Sandslash', 'Aipom', 'Scatterbug', 'Carracosta', 'Frillish', 'Honedge', 'Gogoat', 'Kangaskhan', 'Hippowdon', 'Lillipup', 'Braixen', 'Wooper', 'Helioptile', 'Geodude', 'Claydol', 'Furret', 'Burmy', 'Clefairy', 'Sandile', 'Walrein', 'Throh', 'Leavanny', 'Gengar', 'Solosis', 'Eelektross', 'Foongus', 'Ferroseed', 'Sylveon', 'Marowak', 'Wailord', 'Chimchar', 'Tyrunt', 'Golem', 'Mamoswine', 'Elgyem', 'Metagross', 'Panpour', 'Cinccino', 'Gloom']\n",
    "tipo = ['Grass', 'Psychic', 'Dark', 'Bug', 'Rock', 'Steel', 'Normal', 'Psychic']\n",
    "tipo_2 = ['Ice', 'nan', 'nan', 'nan', 'Flying', 'Rock', 'nan', 'nan', 'nan', 'Flying']\n",
    "generacion = [1, 1, 1, 5, 3, 5, 1, 6, 1, 6, 5, 5, 4, 6, 3, 4, 2, 5, 2, 5, 4, 1, 1, 2, 6, 5, 5, 6, 6, 1, 4, 5, 6, 2, 6, 1, 3, 2, 4, 1, 5, 3, 5, 5, 1, 5, 5, 5, 5, 6, 1, 3, 4, 6, 1, 4, 5, 3, 5, 5, 1, 4, 1, 1, 5, 6, 5, 1, 1, 6, 5, 5, 4, 6, 1, 1, 4, 5, 4, 5, 6, 2, 3, 5, 6, 5, 3, 4, 5, 1, 5, 6, 1, 1, 2, 3, 3, 3, 4, 4, 1, 3, 6, 3, 5, 3, 5]"
   ]
  },
  {
   "cell_type": "code",
   "execution_count": 5,
   "metadata": {},
   "outputs": [
    {
     "name": "stdout",
     "output_type": "stream",
     "text": [
      "('Abomasnow', 'Grass')\n",
      "('Abra', 'Psychic')\n",
      "('Absol', 'Dark')\n",
      "('Accelgor', 'Bug')\n",
      "('Aerodactyl', 'Rock')\n"
     ]
    }
   ],
   "source": [
    "#Ejercicio 1 combinando nombres y tipo \n",
    "\n",
    "nombres_tipo_1 = [*zip(nombres, tipo)]\n",
    "print(*nombres_tipo_1[:5], sep = '\\n' )\n"
   ]
  },
  {
   "cell_type": "code",
   "execution_count": 9,
   "metadata": {},
   "outputs": [
    {
     "name": "stdout",
     "output_type": "stream",
     "text": [
      "('Abomasnow', 'Grass', 'Ice')\n",
      "('Abra', 'Psychic', 'nan')\n",
      "('Absol', 'Dark', 'nan')\n",
      "('Accelgor', 'Bug', 'nan')\n",
      "('Aerodactyl', 'Rock', 'Flying')\n"
     ]
    }
   ],
   "source": [
    "# Ejercicio 2: combinando nombres, tipo y tipo 2\n",
    "\n",
    "nombres_tipo_2 = [*zip(nombres, tipo, tipo_2)]\n",
    "print(*nombres_tipo_2[:5], sep = '\\n')"
   ]
  },
  {
   "cell_type": "code",
   "execution_count": 11,
   "metadata": {},
   "outputs": [
    {
     "name": "stdout",
     "output_type": "stream",
     "text": [
      "('Abomasnow', 'Grass')\n",
      "('Abra', 'Psychic')\n",
      "('Absol', 'Dark')\n"
     ]
    }
   ],
   "source": [
    "# Ejercicio 3: Combinando los 5 primeros items de nombres y los 3 primeros de tipo\n",
    "diferentes = [*zip(nombres[:5], tipo[:3])]\n",
    "print(*diferentes, sep = '\\n')"
   ]
  },
  {
   "cell_type": "markdown",
   "metadata": {},
   "source": [
    "- Es util el uso de zip() para combinar varios objetos. Esta es una buena función que te permite combinar fácilmente dos o más objetos.\n",
    "\n",
    "<b> NOTA: </b>\n",
    "\n",
    "- ¿Te has dado cuenta de que si proporcionas a zip() objetos de diferentes longitudes, sólo combinará hasta que se agote el objeto de menor longitud?"
   ]
  },
  {
   "cell_type": "markdown",
   "metadata": {},
   "source": [
    "<b> Counter() </b>"
   ]
  },
  {
   "cell_type": "code",
   "execution_count": 21,
   "metadata": {},
   "outputs": [
    {
     "name": "stdout",
     "output_type": "stream",
     "text": [
      "Counter({'Psychic': 2, 'Grass': 1, 'Dark': 1, 'Bug': 1, 'Rock': 1, 'Steel': 1, 'Normal': 1}) \n",
      "\n"
     ]
    }
   ],
   "source": [
    "# Recoger el recuento de los tipos primarios\n",
    "tipo_conteo = Counter(tipo)\n",
    "print(tipo_conteo, '\\n')\n"
   ]
  },
  {
   "cell_type": "code",
   "execution_count": 24,
   "metadata": {},
   "outputs": [
    {
     "name": "stdout",
     "output_type": "stream",
     "text": [
      "Counter({5: 31, 1: 24, 6: 17, 3: 14, 4: 14, 2: 7}) \n",
      "\n"
     ]
    }
   ],
   "source": [
    "#Recoger el recuento de las generaciones\n",
    "generacion_conteo = Counter(generacion)\n",
    "print(generacion_conteo, '\\n')\n"
   ]
  },
  {
   "cell_type": "code",
   "execution_count": 28,
   "metadata": {},
   "outputs": [
    {
     "name": "stdout",
     "output_type": "stream",
     "text": [
      "Counter({'A': 10, 'S': 7, 'C': 7, 'F': 6, 'G': 6, 'M': 4, 'B': 4, 'H': 4, 'E': 3, 'L': 3, 'W': 3, 'K': 2, 'D': 2, 'T': 2, 'N': 1, 'V': 1, 'R': 1, 'J': 1, 'I': 1, 'P': 1})\n"
     ]
    }
   ],
   "source": [
    "# Lista de comprensión \n",
    "\n",
    "lista = [nombre[0] for nombre in nombres] #<--- tomar la primera letra de cada nombre dentro de \n",
    "                                               # la lista nombres\n",
    "conteo_lista = Counter(lista) # <---- Conteo ded cada inicial\n",
    "print(conteo_lista)"
   ]
  },
  {
   "cell_type": "markdown",
   "metadata": {},
   "source": [
    " <b> utilizando el contador del módulo de colecciones se puede  comprender mejor la muestra </b>"
   ]
  },
  {
   "cell_type": "markdown",
   "metadata": {},
   "source": [
    "### Itertools \n",
    "\n",
    "- combinations\n"
   ]
  },
  {
   "cell_type": "markdown",
   "metadata": {},
   "source": [
    "- Ash, un entrenador Pokémon, se encuentra con un grupo de cinco Pokémon. Estos Pokémon han sido cargados en una lista dentro de su sesión (llamada pokemon) e impresos en la consola para su comodidad.\n",
    "\n",
    "- A Ash le gustaría intentar capturar algunos de estos Pokémon, pero su Pokédex sólo puede almacenar dos Pokémon a la vez. Usemos las combinaciones del módulo itertools para ver cuáles son los posibles pares de Pokémon que Ash podría atrapar."
   ]
  },
  {
   "cell_type": "code",
   "execution_count": 33,
   "metadata": {},
   "outputs": [],
   "source": [
    "from itertools import combinations"
   ]
  },
  {
   "cell_type": "code",
   "execution_count": 34,
   "metadata": {},
   "outputs": [],
   "source": [
    "pokemon = ['Geodude', 'Cubone', 'Lickitung', 'Persian', 'Diglett']"
   ]
  },
  {
   "cell_type": "code",
   "execution_count": 43,
   "metadata": {},
   "outputs": [
    {
     "name": "stdout",
     "output_type": "stream",
     "text": [
      "<itertools.combinations object at 0x7fbf680fdf40>\n"
     ]
    }
   ],
   "source": [
    "# Crear una combinación de pares de la lista pokemon\n",
    "combo = combinations(pokemon, 2)\n",
    "print(combo)"
   ]
  },
  {
   "cell_type": "code",
   "execution_count": 44,
   "metadata": {},
   "outputs": [
    {
     "name": "stdout",
     "output_type": "stream",
     "text": [
      "[('Geodude', 'Cubone'), ('Geodude', 'Lickitung'), ('Geodude', 'Persian'), ('Geodude', 'Diglett'), ('Cubone', 'Lickitung'), ('Cubone', 'Persian'), ('Cubone', 'Diglett'), ('Lickitung', 'Persian'), ('Lickitung', 'Diglett'), ('Persian', 'Diglett')]\n"
     ]
    }
   ],
   "source": [
    "#al objeto combo volverlo una lista\n",
    "combo_lista = list(combo)\n",
    "print(combo_lista)"
   ]
  },
  {
   "cell_type": "code",
   "execution_count": 46,
   "metadata": {},
   "outputs": [
    {
     "name": "stdout",
     "output_type": "stream",
     "text": [
      "[('Geodude', 'Cubone', 'Lickitung', 'Persian'), ('Geodude', 'Cubone', 'Lickitung', 'Diglett'), ('Geodude', 'Cubone', 'Persian', 'Diglett'), ('Geodude', 'Lickitung', 'Persian', 'Diglett'), ('Cubone', 'Lickitung', 'Persian', 'Diglett')]\n"
     ]
    }
   ],
   "source": [
    "# Crear una combinación de 4 items  de la lista pokemon y ya imprimirlo como lista\n",
    "combo_ = [*combinations(pokemon, 4)]\n",
    "print(combo_)"
   ]
  },
  {
   "cell_type": "markdown",
   "metadata": {},
   "source": [
    "<b> Conclusión:  </b>\n",
    "- utilizando combinations() de itertools para recoger varias combinaciones-tuplas de una lista. combinations() te permite especificar cualquier tamaño de combinaciones pasando un entero como segundo argumento. Ash tiene 10 opciones de combinación cuando su Pokédex puede almacenar sólo dos Pokémon. Tiene 5 opciones de combinación cuando su Pokédex puede almacenar cuatro Pokémon.\n"
   ]
  },
  {
   "cell_type": "markdown",
   "metadata": {},
   "source": [
    "## Set theory (Teoria de conjuntos)\n",
    "\n",
    "- A menudo, nos gustaria comparar dos objetos para observar similitudes y diferencias entre sus contenidos.\n",
    "- Al hacer este tipo de comparación, es mejor aprovechar una rama de las matematicas llamada teoría de conjuntos. \n",
    "\n",
    "- algunos metodos dentro de set\n",
    "   - intersection()\n",
    "   - difference()\n",
    "   - symmetric_difference()\n",
    "   - union()\n",
    "   \n",
    "- Otra caracteristica interesante de los conjuntos es su capacidad para comprobar rapidamente si existe un valor dentro de sus miembros. A ESTO SE LE LLAMA PRUEBA DE MEMBRESIA. "
   ]
  },
  {
   "cell_type": "markdown",
   "metadata": {},
   "source": [
    "<b> Ejercicio 1  </b>\n",
    "> Dos entrenadores Pokémon, Ash y Misty, quieren comparar sus colecciones individuales de Pokémon. Veamos qué Pokémon tienen en común y qué Pokémon tiene Ash que no tiene Misty.\n",
    "Las Pokédex de Ash y Misty (su colección de Pokémon) se han cargado en tu sesión como listas llamadas ash_pokedex y misty_pokedex. Se han impreso en la consola para tu comodidad. "
   ]
  },
  {
   "cell_type": "code",
   "execution_count": 49,
   "metadata": {},
   "outputs": [],
   "source": [
    "entrenador1 = ['Pikachu', 'Bulbasaur', 'Koffing', 'Spearow', 'Vulpix', 'Wigglytuff', 'Zubat', 'Rattata', 'Psyduck', 'Squirtle']\n",
    "entrenador2 = ['Krabby', 'Horsea', 'Slowbro', 'Tentacool', 'Vaporeon', 'Magikarp', 'Poliwag', 'Starmie', 'Psyduck', 'Squirtle']"
   ]
  },
  {
   "cell_type": "code",
   "execution_count": 53,
   "metadata": {},
   "outputs": [
    {
     "name": "stdout",
     "output_type": "stream",
     "text": [
      "{'Squirtle', 'Psyduck'} \n",
      "\n",
      "{'Koffing', 'Pikachu', 'Vulpix', 'Rattata', 'Spearow', 'Zubat', 'Bulbasaur', 'Wigglytuff'} \n",
      "\n",
      "{'Starmie', 'Koffing', 'Magikarp', 'Poliwag', 'Pikachu', 'Vaporeon', 'Vulpix', 'Horsea', 'Rattata', 'Spearow', 'Krabby', 'Wigglytuff', 'Zubat', 'Bulbasaur', 'Slowbro', 'Tentacool'} \n",
      "\n"
     ]
    }
   ],
   "source": [
    "# Convertir las listas a conjuntos\n",
    "ash_set = set(entrenador1)\n",
    "misty_set = set(entrenador2)\n",
    "# los elementos que estan presente en los dos conjuntos \n",
    "both = ash_set.intersection(misty_set)\n",
    "print(both, '\\n')\n",
    "# los elementos que estan en el conjunto de ash y no en el conjunto de misty\n",
    "ash_only = ash_set.difference(misty_set)\n",
    "print(ash_only,  '\\n')\n",
    "# todos los elementos que solo se encuentran en  un conjunto (no ambos)\n",
    "unique_to_set = ash_set.symmetric_difference(misty_set)\n",
    "print(unique_to_set,  '\\n')"
   ]
  },
  {
   "cell_type": "markdown",
   "metadata": {},
   "source": [
    "<b> Conclusión: </b>\n",
    "-  Usar conjuntos te permite hacer algunas comparaciones interesantes entre objetos sin necesidad de escribir un bucle for. Con unas pocas líneas de código, has podido ver que tanto Ash como Misty tienen 'Psyduck' y 'Squirtle' en su Pokédex. También has podido ver que Ash tiene 8 Pokémon que Misty no tiene.\n"
   ]
  },
  {
   "cell_type": "markdown",
   "metadata": {},
   "source": [
    "<b> Ejercicio 2 </b>\n",
    "\n",
    "- Dos entrenadores Pokémon, Ash y Brock, tienen una colección de diez Pokémon cada uno. La Pokédex de cada entrenador (su colección de Pokémon) se ha cargado en tu sesión como listas llamadas ash_pokedex y brock_pokedex respectivamente.\n",
    "\n",
    "- Te gustaría ver si ciertos Pokémon son miembros de la Pokédex de Ash o de Brock. Vamos a comparar el uso de un conjunto frente al uso de una lista al realizar esta prueba de pertenencia.\n",
    "\n"
   ]
  },
  {
   "cell_type": "code",
   "execution_count": 1,
   "metadata": {},
   "outputs": [],
   "source": [
    "ash = ['Pikachu', 'Bulbasaur', 'Koffing', 'Spearow', 'Vulpix', 'Wigglytuff', 'Zubat', 'Rattata', 'Psyduck', 'Squirtle'] \n",
    "brock = ['Onix', 'Geodude', 'Zubat', 'Golem', 'Vulpix', 'Tauros', 'Kabutops', 'Omastar', 'Machop', 'Dugtrio']\n"
   ]
  },
  {
   "cell_type": "code",
   "execution_count": 3,
   "metadata": {},
   "outputs": [
    {
     "name": "stdout",
     "output_type": "stream",
     "text": [
      "{'Omastar', 'Onix', 'Tauros', 'Golem', 'Kabutops', 'Vulpix', 'Machop', 'Geodude', 'Zubat', 'Dugtrio'}\n"
     ]
    }
   ],
   "source": [
    "# Convertir la lista de broke en un conjunto \n",
    "brock_pokedex_set = set(brock)\n",
    "print(brock_pokedex_set)"
   ]
  },
  {
   "cell_type": "code",
   "execution_count": 9,
   "metadata": {},
   "outputs": [
    {
     "name": "stdout",
     "output_type": "stream",
     "text": [
      "True\n",
      "False \n",
      "\n",
      "False\n",
      "True\n"
     ]
    }
   ],
   "source": [
    "# CRevisar  si  Psyduck esta en la lista de ash o en el conjunto de brock\n",
    "print('Psyduck' in ash)\n",
    "print('Psyduck' in brock_pokedex_set, '\\n')\n",
    "# revisar si Machop esta en la lista de ash o en el conjunto de brock\n",
    "print( 'Machop' in ash)\n",
    "print( 'Machop' in brock_pokedex_set)"
   ]
  },
  {
   "cell_type": "code",
   "execution_count": 17,
   "metadata": {},
   "outputs": [
    {
     "name": "stdout",
     "output_type": "stream",
     "text": [
      "123 ns ± 1.08 ns per loop (mean ± std. dev. of 7 runs, 10000000 loops each)\n"
     ]
    }
   ],
   "source": [
    "%timeit 'Psyduck' in ash \n"
   ]
  },
  {
   "cell_type": "code",
   "execution_count": 16,
   "metadata": {},
   "outputs": [
    {
     "name": "stdout",
     "output_type": "stream",
     "text": [
      "126 ns ± 0.351 ns per loop (mean ± std. dev. of 7 runs, 10000000 loops each)\n"
     ]
    }
   ],
   "source": [
    "%timeit 'Machop' in ash "
   ]
  },
  {
   "cell_type": "code",
   "execution_count": 18,
   "metadata": {},
   "outputs": [
    {
     "name": "stdout",
     "output_type": "stream",
     "text": [
      "28.7 ns ± 0.436 ns per loop (mean ± std. dev. of 7 runs, 10000000 loops each)\n"
     ]
    }
   ],
   "source": [
    "%timeit 'Psyduck' in brock_pokedex_set"
   ]
  },
  {
   "cell_type": "code",
   "execution_count": 19,
   "metadata": {},
   "outputs": [
    {
     "name": "stdout",
     "output_type": "stream",
     "text": [
      "28 ns ± 0.0359 ns per loop (mean ± std. dev. of 7 runs, 10000000 loops each)\n"
     ]
    }
   ],
   "source": [
    "%timeit 'Machop' in brock_pokedex_set"
   ]
  },
  {
   "cell_type": "markdown",
   "metadata": {},
   "source": [
    "<b> Conclusión: </b>     \n",
    "- La comprobación de miembros es mucho más rápida cuando se utilizan conjuntos. ¿Te has dado cuenta de que usar un set para la prueba de miembros es más rápido que usar una lista, independientemente de que el elemento que estés comprobando esté en el set? Buscar \"Psyduck\" (que no estaba en el conjunto de Brock) sigue siendo más rápido que buscar \"Psyduck\" en la lista de Ash."
   ]
  },
  {
   "cell_type": "markdown",
   "metadata": {},
   "source": [
    "<b> Ejercicio 3 </b>\n",
    "\n",
    "-"
   ]
  },
  {
   "cell_type": "code",
   "execution_count": 25,
   "metadata": {},
   "outputs": [],
   "source": [
    "nombres_pok = ['Forretress', 'WormadamSandy Cloak', 'Croagunk', 'Mime Jr.', 'Camerupt', 'Alomomola', 'Munchlax', 'Tauros', 'Victini', 'Salamence', 'Flygon', 'Cottonee', 'Pachirisu', 'Caterpie', 'Avalugg', 'Beldum', 'Foongus', 'Zigzagoon', 'Buizel', 'Octillery', 'Seviper', 'Charmeleon', 'Torkoal', 'Doublade', 'Grovyle', 'Maractus', 'Tynamo', 'Magikarp', 'Beautifly', 'Parasect', 'Frogadier', 'Clefairy', 'Doduo', 'Aggron', 'Conkeldurr', 'Volbeat', 'Whimsicott', 'Sentret', 'Lairon', 'Jirachi', 'Cloyster', 'Dragalge', 'Hitmonlee', 'Gothitelle', 'Delphox', 'Magmortar', 'Talonflame', 'Victini', 'Feebas', 'Rampardos', 'Marowak', 'Pelipper', 'Espurr', 'MeowsticMale', 'Stunfisk', 'Cascoon', 'Metang', 'Scizor', 'Chimecho', 'Anorith', 'Heatmor', 'Shieldon', 'Doduo', 'Mesprit', 'Nidoran:signo_femenino:', 'Wartortle', 'Wooper', 'Mr. Mime', 'Mightyena', 'Mankey', 'Golbat', 'Azurill', 'Bagon', 'Leafeon', 'Electivire', 'Milotic', 'Elekid', 'Chimecho', 'Delphox', 'Gabite', 'Scizor', 'Budew', 'Haxorus', 'Porygon-Z', 'Beldum', 'Torterra', 'Volcanion', 'Chimecho', 'Pidove', 'Entei', 'WormadamPlant Cloak', 'Azelf', 'Galvantula', 'Tirtouga', 'Gible', 'Primeape', 'Zweilous', 'Shellder', 'Ho-oh', 'Emboar', 'Rotom', 'Solosis', 'Vigoroth', 'Frogadier', 'Ampharos', 'Gastly', 'Riolu', 'Doublade', 'Kirlia', 'Lickitung', 'Aromatisse', 'Mandibuzz', 'Happiny', 'Chandelure', 'Gorebyss', 'Barboach', 'Eevee', 'Ho-oh', 'Duosion', 'Sewaddle', 'Hippopotas', 'Seaking', 'Butterfree', 'Mew', 'Bronzor', 'Suicune', 'Herdier', 'Xerneas', 'Mareep', 'Slakoth', 'Uxie', 'Samurott', 'Dewgong', 'Togekiss', 'Pichu', 'Vanillish', 'Zapdos', 'Floette', 'Fletchling', 'Vigoroth', 'Umbreon', 'Conkeldurr', 'Phantump', 'Shellder', 'WormadamTrash Cloak', 'Rampardos', 'Electabuzz', 'Clawitzer', 'Dedenne', 'Regigigas', 'Xatu', 'Wartortle', 'Growlithe', 'Gulpin', 'Weezing', 'Starly', 'Scraggy', 'Skrelp', 'Wynaut', 'Carvanha', 'Solrock', 'Heatmor', 'KyogrePrimal Kyogre', 'Swinub', 'Mothim', 'Eelektrik', 'Yanma', 'Piplup', 'Chespin', 'Shellos', 'Cradily', 'Chatot', 'Burmy', 'Groudon', 'Inkay', 'Azumarill', 'Spinarak', 'Surskit', 'Azelf', 'Chandelure', 'Ariados', 'Gloom', 'Toxicroak', 'Teddiursa', 'Forretress', 'Onix', 'Musharna', 'Carbink', 'Phantump', 'Ledyba', 'Escavalier', 'Misdreavus', 'Nuzleaf', 'Drilbur', 'Staravia', 'Garbodor', 'Slakoth', 'Glalie', 'Minccino']"
   ]
  },
  {
   "cell_type": "code",
   "execution_count": 27,
   "metadata": {},
   "outputs": [],
   "source": [
    "#Funcion para recolectar nombres no repetidos \n",
    "\n",
    "def unicos(data):\n",
    "    \n",
    "    lista_unicos = []\n",
    "    for item in data:\n",
    "        if item not in lista_unicos:\n",
    "            lista_unicos.append(item)\n",
    "    return lista_unicos"
   ]
  },
  {
   "cell_type": "code",
   "execution_count": 29,
   "metadata": {},
   "outputs": [
    {
     "name": "stdout",
     "output_type": "stream",
     "text": [
      "178\n"
     ]
    }
   ],
   "source": [
    "# Usar la función anterior con la lista nombres para obtener cuantos son unicos \n",
    "\n",
    "unicos_nombres = unicos(nombres_pok)\n",
    "print(len(unicos_nombres))"
   ]
  },
  {
   "cell_type": "code",
   "execution_count": 31,
   "metadata": {},
   "outputs": [
    {
     "name": "stdout",
     "output_type": "stream",
     "text": [
      "178\n"
     ]
    }
   ],
   "source": [
    "# Ahora cutilizando conjuntos, sin la función anterior\n",
    "\n",
    "#convertir la lista en un conjunto \n",
    "\n",
    "nombre_conjunto = set(nombres_pok)\n",
    "print(len(nombre_conjunto))\n",
    "\n",
    "# mismo resultado. pero mucho mas eficiente utilizando conjuntos, sin necesidad de usar \n",
    "# la función anterior"
   ]
  },
  {
   "cell_type": "code",
   "execution_count": 34,
   "metadata": {},
   "outputs": [
    {
     "name": "stdout",
     "output_type": "stream",
     "text": [
      "True\n"
     ]
    }
   ],
   "source": [
    "# Revisando que los dos procedimientos anteriores son iguales \n",
    "print(sorted(unicos_nombres) == sorted(nombre_conjunto) ) "
   ]
  },
  {
   "cell_type": "markdown",
   "metadata": {},
   "source": [
    "<b> Conclusión : </b>\n",
    "\n",
    "- Utilizar un tipo de datos set para recoger valores únicos es mucho más rápido que utilizar un bucle for (como en la función unico()). Dado que un conjunto se define como una colección de elementos distintos, es una forma eficiente de recoger elementos únicos de un objeto existente. Aquí se aprovechó un conjunto para encontrar los Pokémon distintos de la muestra (eliminando los Pokémon duplicados) y se vio qué tipos y generaciones de Pokémon únicos se incluyeron en la muestra."
   ]
  },
  {
   "cell_type": "markdown",
   "metadata": {},
   "source": [
    "## Eliminando loops"
   ]
  },
  {
   "cell_type": "markdown",
   "metadata": {},
   "source": [
    "- Los loops muchas veces son ineficientes y poco eficacez en cuestión de rapidez y costo\n",
    "- loops como:\n",
    "  - for \n",
    "  - while \n",
    "  - anidados \n",
    "\n",
    "- pueden ser reemplazados si se utilizan las herramientas correctas "
   ]
  },
  {
   "cell_type": "markdown",
   "metadata": {},
   "source": [
    "<b> Ejercicio  </b>\n",
    "\n",
    "- Reunir Pokémon sin un bucle\n",
    "- Una lista que contiene 720 Pokémon ha sido cargada en tu sesión como poke_names. Se ha cargado otra lista que contiene la generación correspondiente a cada Pokémon como poke_gens. \n",
    "- se ha creado un bucle for para filtrar los Pokémon que pertenecen a la primera o segunda generación, y recoger el número de letras del nombre de cada Pokémon:\n"
   ]
  },
  {
   "cell_type": "code",
   "execution_count": 38,
   "metadata": {},
   "outputs": [],
   "source": [
    "nombres_pokemon = ['Abomasnow', 'Abra', 'Absol', 'Accelgor', 'Aerodactyl', 'Aggron', 'Aipom', 'Alakazam', 'Alomomola', 'Altaria', 'Amaura', 'Ambipom', 'Amoonguss', 'Ampharos', 'Anorith', 'Arbok', 'Arcanine', 'Arceus', 'Archen', 'Archeops', 'Ariados', 'Armaldo', 'Aromatisse', 'Aron', 'Articuno', 'Audino', 'Aurorus', 'Avalugg', 'Axew', 'Azelf', 'Azumarill', 'Azurill', 'Bagon', 'Baltoy', 'Banette', 'Barbaracle', 'Barboach', 'Basculin', 'Bastiodon', 'Bayleef', 'Beartic', 'Beautifly', 'Beedrill', 'Beheeyem', 'Beldum', 'Bellossom', 'Bellsprout', 'Bergmite', 'Bibarel', 'Bidoof', 'Binacle', 'Bisharp', 'Blastoise', 'Blaziken', 'Blissey', 'Blitzle', 'Boldore', 'Bonsly', 'Bouffalant', 'Braixen', 'Braviary', 'Breloom', 'Bronzong', 'Bronzor', 'Budew', 'Buizel', 'Bulbasaur', 'Buneary', 'Bunnelby', 'Burmy', 'Butterfree', 'Cacnea', 'Cacturne', 'Camerupt', 'Carbink', 'Carnivine', 'Carracosta', 'Carvanha', 'Cascoon', 'Castform', 'Caterpie', 'Celebi', 'Chandelure', 'Chansey', 'Charizard', 'Charmander', 'Charmeleon', 'Chatot', 'Cherrim', 'Cherubi', 'Chesnaught', 'Chespin', 'Chikorita', 'Chimchar', 'Chimecho', 'Chinchou', 'Chingling', 'Cinccino', 'Clamperl', 'Clauncher', 'Clawitzer', 'Claydol', 'Clefable', 'Clefairy', 'Cleffa', 'Cloyster', 'Cobalion', 'Cofagrigus', 'Combee', 'Combusken', 'Conkeldurr', 'Corphish', 'Corsola', 'Cottonee', 'Cradily', 'Cranidos', 'Crawdaunt', 'Cresselia', 'Croagunk', 'Crobat', 'Croconaw', 'Crustle', 'Cryogonal', 'Cubchoo', 'Cubone', 'Cyndaquil', 'Darkrai', 'DarmanitanStandard Mode', 'DarmanitanZen Mode', 'Darumaka', 'Dedenne', 'Deerling', 'Deino', 'Delcatty', 'Delibird', 'Delphox', 'Dewgong', 'Dewott', 'Dialga', 'Diancie', 'Diggersby', 'Diglett', 'Ditto', 'Dodrio', 'Doduo', 'Donphan', 'Doublade', 'Dragalge', 'Dragonair', 'Dragonite', 'Drapion', 'Dratini', 'Drifblim', 'Drifloon', 'Drilbur', 'Drowzee', 'Druddigon', 'Ducklett', 'Dugtrio', 'Dunsparce', 'Duosion', 'Durant', 'Dusclops', 'Dusknoir', 'Duskull', 'Dustox', 'Dwebble', 'Eelektrik', 'Eelektross', 'Eevee', 'Ekans', 'Electabuzz', 'Electivire', 'Electrike', 'Electrode', 'Elekid', 'Elgyem', 'Emboar', 'Emolga', 'Empoleon', 'Entei', 'Escavalier', 'Espeon', 'Espurr', 'Excadrill', 'Exeggcute', 'Exeggutor', 'Exploud', \"Farfetch'd\", 'Fearow', 'Feebas', 'Fennekin', 'Feraligatr', 'Ferroseed', 'Ferrothorn', 'Finneon', 'Flaaffy', 'Flabébé', 'Flareon', 'Fletchinder', 'Fletchling', 'Floatzel', 'Floette', 'Florges', 'Flygon', 'Foongus', 'Forretress', 'Fraxure', 'Frillish', 'Froakie', 'Frogadier', 'Froslass', 'Furfrou', 'Furret', 'Gabite', 'Gallade', 'Galvantula', 'Garbodor', 'Garchomp', 'Gardevoir', 'Gastly', 'Gastrodon', 'Genesect', 'Gengar', 'Geodude', 'Gible', 'Gigalith', 'Girafarig', 'Glaceon', 'Glalie', 'Glameow', 'Gligar', 'Gliscor', 'Gloom', 'Gogoat', 'Golbat', 'Goldeen', 'Golduck', 'Golem', 'Golett', 'Golurk', 'Goodra', 'Goomy', 'Gorebyss', 'Gothita', 'Gothitelle', 'Gothorita', 'Granbull', 'Graveler', 'Greninja', 'Grimer', 'Grotle', 'Groudon', 'GroudonPrimal Groudon', 'Grovyle', 'Growlithe', 'Grumpig', 'Gulpin', 'Gurdurr', 'Gyarados', 'Happiny', 'Hariyama', 'Haunter', 'Hawlucha', 'Haxorus', 'Heatmor', 'Heatran', 'Heliolisk', 'Helioptile', 'Heracross', 'Herdier', 'Hippopotas', 'Hippowdon', 'Hitmonchan', 'Hitmonlee', 'Hitmontop', 'Ho-oh', 'Honchkrow', 'Honedge', 'Hoothoot', 'Hoppip', 'Horsea', 'Houndoom', 'Houndour', 'Huntail', 'Hydreigon', 'Hypno', 'Igglybuff', 'Illumise', 'Infernape', 'Inkay', 'Ivysaur', 'Jellicent', 'Jigglypuff', 'Jirachi', 'Jolteon', 'Joltik', 'Jumpluff', 'Jynx', 'Kabuto', 'Kabutops', 'Kadabra', 'Kakuna', 'Kangaskhan', 'Karrablast', 'Kecleon', 'Kingdra', 'Kingler', 'Kirlia', 'Klang', 'Klefki', 'Klink', 'Klinklang', 'Koffing', 'Krabby', 'Kricketot']\n",
    "generación_pokemon = [4, 1, 3, 5, 1, 3, 2, 1, 5, 3, 6, 4, 5, 2, 3, 1, 1, 4, 5, 5, 2, 3, 6, 3, 1, 5, 6, 6, 5, 4, 2, 3, 3, 3, 3, 6, 3, 5, 4, 2, 5, 3, 1, 5, 3, 2, 1, 6, 4, 4, 6, 5, 1, 3, 2, 5, 5, 4, 5, 6, 5, 3, 4, 4, 4, 4, 1, 4, 6, 4, 1, 3, 3, 3, 6, 4, 5, 3, 3, 3, 1, 2, 5, 1, 1, 1, 1, 4, 4, 4, 6, 6, 2, 4, 3, 2, 4, 5, 3, 6, 6, 3, 1, 1, 2, 1, 5, 5, 4, 3, 5, 3, 2, 5, 3, 4, 3, 4, 4, 2, 2, 5, 5, 5, 1, 2, 4, 5, 5, 5, 6, 5, 5, 3, 2, 6, 1, 5, 4, 6, 6, 1, 1, 1, 1, 2, 6, 6, 1, 1, 4, 1, 4, 4, 5, 1, 5, 5, 1, 2, 5, 5, 3, 4, 3, 3, 5, 5, 5, 1, 1, 1, 4, 3, 1, 2, 5, 5, 5, 4, 2, 5, 2, 6, 5, 1, 1, 3, 1, 1, 3, 6, 2, 5, 5, 4, 2, 6, 1, 6, 6, 4, 6, 6, 3, 5, 2, 5, 5, 6, 6, 4, 6, 2, 4, 4, 5, 5, 4, 3, 1, 4, 5, 1, 1, 4, 5, 2, 4, 3, 4, 2, 4, 1, 6, 1, 1, 1, 1, 5, 5, 6, 6, 3, 5, 5, 5, 2, 1, 6, 1, 4, 3, 3, 3, 1, 3, 3, 5, 1, 4, 3, 1, 6, 5, 5, 4, 6, 6, 2, 5, 4, 4, 1, 1, 2, 2, 4, 6, 2, 2, 1, 2, 2, 3, 5, 1, 2, 3, 4, 6, 1, 5, 1, 3, 1, 5, 2, 1, 1, 1, 1, 1, 1, 5, 3, 2, 1, 3, 5, 6, 5, 5, 1, 1, 4, 4, 5, 5, 3, 3, 5, 5, 5, 3, 5, 2, 1, 5, 2, 3, 3, 4, 5, 2, 2, 4, 1, 5, 3, 5, 5, 3, 6, 5, 3, 4, 3, 3, 4, 3, 2, 4, 3, 3, 4, 4, 1, 1, 1, 2, 2, 1, 1, 4, 1, 1, 4, 3, 6, 4, 4, 5, 3, 1, 2, 4, 5, 2, 2, 1, 3, 3, 3, 3, 3, 6, 6, 1, 4, 3, 3, 1, 1, 1, 5, 5, 3, 3, 2, 4, 5, 3, 2, 4, 1, 4, 4, 1, 3, 1, 4, 5, 2, 5, 2, 1, 1, 1, 1, 1, 1, 3, 1, 3, 2, 6, 6, 3, 3, 3, 2, 1, 1, 1, 1, 5, 4, 4, 5, 6, 6, 5, 5, 5, 1, 1, 5, 5, 3, 1, 5, 2, 6, 4, 2, 1, 1, 1, 5, 5, 1, 2, 2, 1, 4, 3, 2, 1, 1, 1, 1, 3, 1, 4, 2, 1, 4, 4, 1, 2, 5, 4, 6, 2, 2, 6, 2, 1, 2, 3, 4, 1, 1, 1, 3, 3, 4, 3, 3, 3, 2, 5, 5, 1, 1, 4, 4, 5, 3, 4, 4, 4, 4, 4, 4, 4, 5, 3, 3, 5, 5, 1, 1, 5, 5, 6, 3, 2, 5, 5, 5, 1, 1, 1, 3, 3, 1, 5, 2, 5, 5, 3, 5, 3, 3, 3, 1, 4, 5, 4, 3, 4, 3, 2, 3, 5, 3, 5, 5, 5, 2, 6, 2, 3, 4, 6, 4, 3, 3, 6, 1, 2, 1, 2, 6, 2, 2, 2, 5, 1, 3, 4, 2, 5, 3, 1, 6, 3, 2, 3, 4, 3, 6, 1, 2, 4, 4, 4, 1, 1, 2, 5, 5, 4, 2, 2, 2, 2, 3, 3, 5, 3]"
   ]
  },
  {
   "cell_type": "code",
   "execution_count": 41,
   "metadata": {},
   "outputs": [],
   "source": [
    "# bucle for para filtrar pokemon que sean de segunda o primera generación y contar el numero \n",
    "# de letras de su nombre \n",
    "\n",
    "gen1_gen2_name_lengths_loop = []\n",
    "\n",
    "for name, gen in zip(nombres_pokemon, generación_pokemon):\n",
    "    if gen < 3:\n",
    "        name_length = len(name)\n",
    "        pokemon_tupla = (name, name_length)\n",
    "        gen1_gen2_name_lengths_loop.append(pokemon_tupla)"
   ]
  },
  {
   "cell_type": "code",
   "execution_count": 42,
   "metadata": {},
   "outputs": [
    {
     "name": "stdout",
     "output_type": "stream",
     "text": [
      "[('Abra', 4), ('Aerodactyl', 10), ('Aipom', 5), ('Alakazam', 8), ('Ampharos', 8)]\n",
      "[('Abra', 4), ('Aerodactyl', 10), ('Aipom', 5), ('Alakazam', 8), ('Ampharos', 8)]\n"
     ]
    }
   ],
   "source": [
    "# Evitando los loops \n",
    "\n",
    "#\n",
    "gen1_gen2_pokemon = [name for name,gen in zip(nombres_pokemon, generación_pokemon ) if gen < 3]\n",
    "# Create a map object that stores the name lengths\n",
    "name_lengths_map = map(len, gen1_gen2_pokemon)\n",
    "# Combine gen1_gen2_pokemon and name_lengths_map into a list\n",
    "gen1_gen2_name_lengths = [*zip(gen1_gen2_pokemon, name_lengths_map)]\n",
    "print(gen1_gen2_name_lengths_loop[:5])\n",
    "print(gen1_gen2_name_lengths[:5])"
   ]
  },
  {
   "cell_type": "markdown",
   "metadata": {},
   "source": [
    "> Buen trabajo. Has utilizado con éxito la comprensión de la lista y la función map() para eliminar un bucle for. Si comparas los tiempos de ejecución entre el bucle for y el uso de la comprensión de listas con una función map(), verás que el bucle for tarda bastante más.\n",
    "Si eres un experto en Python, te habrás dado cuenta de que puedes sustituir todo el bucle for por una comprensión de lista: [(nombre, len(nombre)) for nombre,gen in  zip(poke_nombres, poke_gens) if gen < 3]\n"
   ]
  },
  {
   "cell_type": "code",
   "execution_count": 54,
   "metadata": {},
   "outputs": [
    {
     "name": "stdout",
     "output_type": "stream",
     "text": [
      "[('Abra', 4), ('Aerodactyl', 10), ('Aipom', 5), ('Alakazam', 8), ('Ampharos', 8)]\n"
     ]
    }
   ],
   "source": [
    "# Una mas pro\n",
    "\n",
    "lista_pro = [(name, len(name))  for name,gen in zip(nombres_pokemon, generación_pokemon) if gen <3]\n",
    "print(lista_pro[:5])"
   ]
  },
  {
   "cell_type": "markdown",
   "metadata": {},
   "source": [
    "### Estadisticas sin usar loops"
   ]
  },
  {
   "cell_type": "markdown",
   "metadata": {},
   "source": [
    "- Se ha cargado una lista de okémon en tu sesión llamada nombres. Las estadísticas correspondientes a cada Pokémon se han cargado como una matriz NumPy llamada stats. Cada fila de estadísticas corresponde a un Pokémon en los nombres y cada columna representa una estadística individual del Pokémon (HP, Ataque, Defensa, Ataque Especial, Defensa Especial y Velocidad respectivamente).\n",
    "\n",
    "- Quieres reunir el valor total de las estadísticas de cada Pokémon (es decir, la suma de cada fila de estadísticas) y el valor medio de las estadísticas de cada Pokémon (es decir, la media de cada fila de estadísticas) para encontrar el Pokémon más fuerte.\n",
    "\n"
   ]
  },
  {
   "cell_type": "code",
   "execution_count": 57,
   "metadata": {},
   "outputs": [
    {
     "ename": "NameError",
     "evalue": "name 'stats' is not defined",
     "output_type": "error",
     "traceback": [
      "\u001b[0;31m---------------------------------------------------------------------------\u001b[0m",
      "\u001b[0;31mNameError\u001b[0m                                 Traceback (most recent call last)",
      "\u001b[0;32m<ipython-input-57-8cbdffb4dde5>\u001b[0m in \u001b[0;36m<module>\u001b[0;34m\u001b[0m\n\u001b[1;32m      2\u001b[0m \u001b[0;34m\u001b[0m\u001b[0m\n\u001b[1;32m      3\u001b[0m \u001b[0mpoke_list\u001b[0m \u001b[0;34m=\u001b[0m \u001b[0;34m[\u001b[0m\u001b[0;34m]\u001b[0m\u001b[0;34m\u001b[0m\u001b[0;34m\u001b[0m\u001b[0m\n\u001b[0;32m----> 4\u001b[0;31m \u001b[0;32mfor\u001b[0m \u001b[0mpokemon\u001b[0m\u001b[0;34m,\u001b[0m\u001b[0mrow\u001b[0m \u001b[0;32min\u001b[0m \u001b[0mzip\u001b[0m\u001b[0;34m(\u001b[0m\u001b[0mnombres_pokemon\u001b[0m\u001b[0;34m,\u001b[0m \u001b[0mstats\u001b[0m\u001b[0;34m)\u001b[0m\u001b[0;34m:\u001b[0m\u001b[0;34m\u001b[0m\u001b[0;34m\u001b[0m\u001b[0m\n\u001b[0m\u001b[1;32m      5\u001b[0m     \u001b[0mtotal_stats\u001b[0m \u001b[0;34m=\u001b[0m \u001b[0mnp\u001b[0m\u001b[0;34m.\u001b[0m\u001b[0msum\u001b[0m\u001b[0;34m(\u001b[0m\u001b[0mrow\u001b[0m\u001b[0;34m)\u001b[0m\u001b[0;34m\u001b[0m\u001b[0;34m\u001b[0m\u001b[0m\n\u001b[1;32m      6\u001b[0m     \u001b[0mavg_stats\u001b[0m \u001b[0;34m=\u001b[0m \u001b[0mnp\u001b[0m\u001b[0;34m.\u001b[0m\u001b[0mmean\u001b[0m\u001b[0;34m(\u001b[0m\u001b[0mrow\u001b[0m\u001b[0;34m)\u001b[0m\u001b[0;34m\u001b[0m\u001b[0;34m\u001b[0m\u001b[0m\n",
      "\u001b[0;31mNameError\u001b[0m: name 'stats' is not defined"
     ]
    }
   ],
   "source": [
    "# El siguiente bucle for fue escrito para recoger estos valores:\n",
    "\n",
    "poke_list = []\n",
    "for pokemon,row in zip(nombres_pokemon, stats):\n",
    "    total_stats = np.sum(row)\n",
    "    avg_stats = np.mean(row)\n",
    "    poke_list.append((pokemon, total_stats, avg_stats))"
   ]
  },
  {
   "cell_type": "markdown",
   "metadata": {},
   "source": [
    "<b> Bucle de conversión holístico </b>\n",
    "- Una lista de todos los tipos de Pokémon posibles ha sido cargada en tu sesión como pokemon_types.\n",
    "\n",
    "- Te gustaría reunir todos los pares posibles de tipos de Pokémon. Quieres almacenar cada uno de estos pares en una lista individual con un índice enumerado como primer elemento de cada lista. Esto le permite ver el número total de pares posibles y proporciona una etiqueta indexada para cada par.\n",
    "\n",
    "- El siguiente bucle fue escrito para lograr esta tarea"
   ]
  },
  {
   "cell_type": "code",
   "execution_count": 2,
   "metadata": {},
   "outputs": [],
   "source": [
    "lista = ['Bug', 'Dark', 'Dragon', 'Electric', 'Fairy', 'Fighting', 'Fire', 'Flying', 'Ghost', 'Grass', 'Ground', 'Ice', 'Normal', 'Poison', 'Psychic', 'Rock', 'Steel', 'Water']"
   ]
  },
  {
   "cell_type": "code",
   "execution_count": 4,
   "metadata": {},
   "outputs": [
    {
     "ename": "NameError",
     "evalue": "name 'possible_pairs' is not defined",
     "output_type": "error",
     "traceback": [
      "\u001b[0;31m---------------------------------------------------------------------------\u001b[0m",
      "\u001b[0;31mNameError\u001b[0m                                 Traceback (most recent call last)",
      "\u001b[0;32m<ipython-input-4-825874993569>\u001b[0m in \u001b[0;36m<module>\u001b[0;34m\u001b[0m\n\u001b[1;32m      1\u001b[0m \u001b[0menumerated_pairs\u001b[0m \u001b[0;34m=\u001b[0m \u001b[0;34m[\u001b[0m\u001b[0;34m]\u001b[0m\u001b[0;34m\u001b[0m\u001b[0;34m\u001b[0m\u001b[0m\n\u001b[0;32m----> 2\u001b[0;31m \u001b[0;32mfor\u001b[0m \u001b[0mi\u001b[0m\u001b[0;34m,\u001b[0m\u001b[0mpair\u001b[0m \u001b[0;32min\u001b[0m \u001b[0menumerate\u001b[0m\u001b[0;34m(\u001b[0m\u001b[0mpossible_pairs\u001b[0m\u001b[0;34m,\u001b[0m \u001b[0;36m1\u001b[0m\u001b[0;34m)\u001b[0m\u001b[0;34m:\u001b[0m\u001b[0;34m\u001b[0m\u001b[0;34m\u001b[0m\u001b[0m\n\u001b[0m\u001b[1;32m      3\u001b[0m     \u001b[0menumerated_pair_tuple\u001b[0m \u001b[0;34m=\u001b[0m \u001b[0;34m(\u001b[0m\u001b[0mi\u001b[0m\u001b[0;34m,\u001b[0m\u001b[0;34m)\u001b[0m \u001b[0;34m+\u001b[0m \u001b[0mpair\u001b[0m\u001b[0;34m\u001b[0m\u001b[0;34m\u001b[0m\u001b[0m\n\u001b[1;32m      4\u001b[0m     \u001b[0menumerated_pair_list\u001b[0m \u001b[0;34m=\u001b[0m \u001b[0mlist\u001b[0m\u001b[0;34m(\u001b[0m\u001b[0menumerated_pair_tuple\u001b[0m\u001b[0;34m)\u001b[0m\u001b[0;34m\u001b[0m\u001b[0;34m\u001b[0m\u001b[0m\n\u001b[1;32m      5\u001b[0m     \u001b[0menumerated_pairs\u001b[0m\u001b[0;34m.\u001b[0m\u001b[0mappend\u001b[0m\u001b[0;34m(\u001b[0m\u001b[0menumerated_pair_list\u001b[0m\u001b[0;34m)\u001b[0m\u001b[0;34m\u001b[0m\u001b[0;34m\u001b[0m\u001b[0m\n",
      "\u001b[0;31mNameError\u001b[0m: name 'possible_pairs' is not defined"
     ]
    }
   ],
   "source": [
    "enumerated_pairs = []\n",
    "for i,pair in enumerate(possible_pairs, 1):\n",
    "    enumerated_pair_tuple = (i,) + pair\n",
    "    enumerated_pair_list = list(enumerated_pair_tuple)\n",
    "    enumerated_pairs.append(enumerated_pair_list)"
   ]
  },
  {
   "cell_type": "code",
   "execution_count": 13,
   "metadata": {},
   "outputs": [
    {
     "name": "stdout",
     "output_type": "stream",
     "text": [
      "[[1, 'Bug', 'Dark'], [2, 'Bug', 'Dragon'], [3, 'Bug', 'Electric'], [4, 'Bug', 'Fairy'], [5, 'Bug', 'Fighting'], [6, 'Bug', 'Fire'], [7, 'Bug', 'Flying'], [8, 'Bug', 'Ghost'], [9, 'Bug', 'Grass'], [10, 'Bug', 'Ground'], [11, 'Bug', 'Ice'], [12, 'Bug', 'Normal'], [13, 'Bug', 'Poison'], [14, 'Bug', 'Psychic'], [15, 'Bug', 'Rock'], [16, 'Bug', 'Steel'], [17, 'Bug', 'Water'], [18, 'Dark', 'Dragon'], [19, 'Dark', 'Electric'], [20, 'Dark', 'Fairy'], [21, 'Dark', 'Fighting'], [22, 'Dark', 'Fire'], [23, 'Dark', 'Flying'], [24, 'Dark', 'Ghost'], [25, 'Dark', 'Grass'], [26, 'Dark', 'Ground'], [27, 'Dark', 'Ice'], [28, 'Dark', 'Normal'], [29, 'Dark', 'Poison'], [30, 'Dark', 'Psychic'], [31, 'Dark', 'Rock'], [32, 'Dark', 'Steel'], [33, 'Dark', 'Water'], [34, 'Dragon', 'Electric'], [35, 'Dragon', 'Fairy'], [36, 'Dragon', 'Fighting'], [37, 'Dragon', 'Fire'], [38, 'Dragon', 'Flying'], [39, 'Dragon', 'Ghost'], [40, 'Dragon', 'Grass'], [41, 'Dragon', 'Ground'], [42, 'Dragon', 'Ice'], [43, 'Dragon', 'Normal'], [44, 'Dragon', 'Poison'], [45, 'Dragon', 'Psychic'], [46, 'Dragon', 'Rock'], [47, 'Dragon', 'Steel'], [48, 'Dragon', 'Water'], [49, 'Electric', 'Fairy'], [50, 'Electric', 'Fighting'], [51, 'Electric', 'Fire'], [52, 'Electric', 'Flying'], [53, 'Electric', 'Ghost'], [54, 'Electric', 'Grass'], [55, 'Electric', 'Ground'], [56, 'Electric', 'Ice'], [57, 'Electric', 'Normal'], [58, 'Electric', 'Poison'], [59, 'Electric', 'Psychic'], [60, 'Electric', 'Rock'], [61, 'Electric', 'Steel'], [62, 'Electric', 'Water'], [63, 'Fairy', 'Fighting'], [64, 'Fairy', 'Fire'], [65, 'Fairy', 'Flying'], [66, 'Fairy', 'Ghost'], [67, 'Fairy', 'Grass'], [68, 'Fairy', 'Ground'], [69, 'Fairy', 'Ice'], [70, 'Fairy', 'Normal'], [71, 'Fairy', 'Poison'], [72, 'Fairy', 'Psychic'], [73, 'Fairy', 'Rock'], [74, 'Fairy', 'Steel'], [75, 'Fairy', 'Water'], [76, 'Fighting', 'Fire'], [77, 'Fighting', 'Flying'], [78, 'Fighting', 'Ghost'], [79, 'Fighting', 'Grass'], [80, 'Fighting', 'Ground'], [81, 'Fighting', 'Ice'], [82, 'Fighting', 'Normal'], [83, 'Fighting', 'Poison'], [84, 'Fighting', 'Psychic'], [85, 'Fighting', 'Rock'], [86, 'Fighting', 'Steel'], [87, 'Fighting', 'Water'], [88, 'Fire', 'Flying'], [89, 'Fire', 'Ghost'], [90, 'Fire', 'Grass'], [91, 'Fire', 'Ground'], [92, 'Fire', 'Ice'], [93, 'Fire', 'Normal'], [94, 'Fire', 'Poison'], [95, 'Fire', 'Psychic'], [96, 'Fire', 'Rock'], [97, 'Fire', 'Steel'], [98, 'Fire', 'Water'], [99, 'Flying', 'Ghost'], [100, 'Flying', 'Grass'], [101, 'Flying', 'Ground'], [102, 'Flying', 'Ice'], [103, 'Flying', 'Normal'], [104, 'Flying', 'Poison'], [105, 'Flying', 'Psychic'], [106, 'Flying', 'Rock'], [107, 'Flying', 'Steel'], [108, 'Flying', 'Water'], [109, 'Ghost', 'Grass'], [110, 'Ghost', 'Ground'], [111, 'Ghost', 'Ice'], [112, 'Ghost', 'Normal'], [113, 'Ghost', 'Poison'], [114, 'Ghost', 'Psychic'], [115, 'Ghost', 'Rock'], [116, 'Ghost', 'Steel'], [117, 'Ghost', 'Water'], [118, 'Grass', 'Ground'], [119, 'Grass', 'Ice'], [120, 'Grass', 'Normal'], [121, 'Grass', 'Poison'], [122, 'Grass', 'Psychic'], [123, 'Grass', 'Rock'], [124, 'Grass', 'Steel'], [125, 'Grass', 'Water'], [126, 'Ground', 'Ice'], [127, 'Ground', 'Normal'], [128, 'Ground', 'Poison'], [129, 'Ground', 'Psychic'], [130, 'Ground', 'Rock'], [131, 'Ground', 'Steel'], [132, 'Ground', 'Water'], [133, 'Ice', 'Normal'], [134, 'Ice', 'Poison'], [135, 'Ice', 'Psychic'], [136, 'Ice', 'Rock'], [137, 'Ice', 'Steel'], [138, 'Ice', 'Water'], [139, 'Normal', 'Poison'], [140, 'Normal', 'Psychic'], [141, 'Normal', 'Rock'], [142, 'Normal', 'Steel'], [143, 'Normal', 'Water'], [144, 'Poison', 'Psychic'], [145, 'Poison', 'Rock'], [146, 'Poison', 'Steel'], [147, 'Poison', 'Water'], [148, 'Psychic', 'Rock'], [149, 'Psychic', 'Steel'], [150, 'Psychic', 'Water'], [151, 'Rock', 'Steel'], [152, 'Rock', 'Water'], [153, 'Steel', 'Water']]\n"
     ]
    }
   ],
   "source": [
    "from itertools import combinations\n",
    "\n",
    "# Collect all possible pairs using combinations()\n",
    "possible_pairs = [*combinations(lista, 2)]\n",
    "# Create an empty list called enumerated_tuples\n",
    "enumerated_tuples = []\n",
    "# Append each enumerated_pair_tuple to the empty list above\n",
    "for i,pair in enumerate(possible_pairs, 1):\n",
    "    enumerated_pair_tuple = (i,) + pair\n",
    "    enumerated_tuples.append(enumerated_pair_tuple)\n",
    "# Convert all tuples in enumerated_tuples to a list\n",
    "enumerated_pairs = [*map(list, enumerated_tuples)]\n",
    "print(enumerated_pairs, sep = '\\n')\n"
   ]
  },
  {
   "cell_type": "markdown",
   "metadata": {},
   "source": [
    "<b> Conclusión:  </b>\n",
    "\n",
    "- En lugar de convertir cada tupla en una lista dentro del bucle, has utilizado la función map() para convertir tuplas en listas de una sola vez fuera de un bucle. Estás aprendiendo a escribir bucles eficientes. \n",
    "\n",
    "- Recuerda que debes evitar los bucles tanto como sea posible cuando escribas código Python. En los casos en los que el bucle es inevitable, asegúrate de revisar tus bucles para los cálculos de una sola vez y las conversiones holísticas para hacerlos más eficientes."
   ]
  },
  {
   "cell_type": "markdown",
   "metadata": {},
   "source": [
    "<b> Uniendo todo: Puntuaciones z de Pokémon </b>\n",
    "\n",
    "- Una lista de Pokémon ha sido cargada en tu sesión como nombres. Los Puntos de Salud correspondientes a cada Pokémon están almacenados en una matriz NumPy llamada hps. \n",
    "\n",
    "- Quieres analizar los Puntos de Salud usando el z-score para ver cuántas desviaciones estándar tiene el HP de cada Pokémon con respecto a la media de todos los HPs.\n",
    "\n",
    "- El siguiente código fue escrito para calcular el HP z-score para cada Pokémon y reunir los Pokémon con los más altos HPs basados en sus z-scores:"
   ]
  },
  {
   "cell_type": "code",
   "execution_count": 22,
   "metadata": {},
   "outputs": [],
   "source": [
    "names = ['Abomasnow', 'Abra', 'Absol', 'Accelgor', 'Aerodactyl', 'Aggron', 'Aipom', 'Alakazam', 'Alomomola', 'Altaria', 'Amaura', 'Ambipom', 'Amoonguss', 'Ampharos', 'Anorith', 'Arbok', 'Arcanine', 'Arceus', 'Archen', 'Archeops', 'Ariados', 'Armaldo', 'Aromatisse', 'Aron', 'Articuno', 'Audino', 'Aurorus', 'Avalugg', 'Axew', 'Azelf', 'Azumarill', 'Azurill', 'Bagon', 'Baltoy', 'Banette', 'Barbaracle', 'Barboach', 'Basculin', 'Bastiodon', 'Bayleef', 'Beartic', 'Beautifly', 'Beedrill', 'Beheeyem', 'Beldum', 'Bellossom', 'Bellsprout', 'Bergmite', 'Bibarel', 'Bidoof', 'Binacle', 'Bisharp', 'Blastoise', 'Blaziken', 'Blissey', 'Blitzle', 'Boldore', 'Bonsly', 'Bouffalant', 'Braixen', 'Braviary', 'Breloom', 'Bronzong', 'Bronzor', 'Budew', 'Buizel', 'Bulbasaur', 'Buneary', 'Bunnelby', 'Burmy', 'Butterfree', 'Cacnea', 'Cacturne', 'Camerupt', 'Carbink', 'Carnivine', 'Carracosta', 'Carvanha', 'Cascoon', 'Castform', 'Caterpie', 'Celebi', 'Chandelure', 'Chansey', 'Charizard', 'Charmander', 'Charmeleon', 'Chatot', 'Cherrim', 'Cherubi', 'Chesnaught', 'Chespin', 'Chikorita', 'Chimchar', 'Chimecho', 'Chinchou', 'Chingling', 'Cinccino', 'Clamperl', 'Clauncher', 'Clawitzer', 'Claydol', 'Clefable', 'Clefairy', 'Cleffa', 'Cloyster', 'Cobalion', 'Cofagrigus', 'Combee', 'Combusken', 'Conkeldurr', 'Corphish', 'Corsola', 'Cottonee', 'Cradily', 'Cranidos', 'Crawdaunt', 'Cresselia', 'Croagunk', 'Crobat', 'Croconaw', 'Crustle', 'Cryogonal', 'Cubchoo', 'Cubone', 'Cyndaquil', 'Darkrai', 'DarmanitanStandard Mode', 'DarmanitanZen Mode', 'Darumaka', 'Dedenne', 'Deerling', 'Deino', 'Delcatty', 'Delibird', 'Delphox', 'Dewgong', 'Dewott', 'Dialga', 'Diancie', 'Diggersby', 'Diglett', 'Ditto', 'Dodrio', 'Doduo', 'Donphan', 'Doublade', 'Dragalge', 'Dragonair', 'Dragonite', 'Drapion', 'Dratini', 'Drifblim', 'Drifloon', 'Drilbur', 'Drowzee', 'Druddigon', 'Ducklett', 'Dugtrio', 'Dunsparce', 'Duosion', 'Durant', 'Dusclops', 'Dusknoir', 'Duskull', 'Dustox', 'Dwebble', 'Eelektrik', 'Eelektross', 'Eevee', 'Ekans', 'Electabuzz', 'Electivire', 'Electrike', 'Electrode', 'Elekid', 'Elgyem', 'Emboar', 'Emolga', 'Empoleon', 'Entei', 'Escavalier', 'Espeon', 'Espurr', 'Excadrill', 'Exeggcute', 'Exeggutor', 'Exploud', \"Farfetch'd\", 'Fearow', 'Feebas', 'Fennekin', 'Feraligatr', 'Ferroseed', 'Ferrothorn', 'Finneon', 'Flaaffy', 'Flabébé', 'Flareon', 'Fletchinder', 'Fletchling', 'Floatzel', 'Floette', 'Florges', 'Flygon', 'Foongus', 'Forretress', 'Fraxure', 'Frillish', 'Froakie', 'Frogadier', 'Froslass', 'Furfrou', 'Furret', 'Gabite', 'Gallade', 'Galvantula', 'Garbodor', 'Garchomp', 'Gardevoir', 'Gastly', 'Gastrodon', 'Genesect', 'Gengar', 'Geodude', 'Gible', 'Gigalith', 'Girafarig', 'Glaceon', 'Glalie', 'Glameow', 'Gligar', 'Gliscor', 'Gloom', 'Gogoat', 'Golbat', 'Goldeen', 'Golduck', 'Golem', 'Golett', 'Golurk', 'Goodra', 'Goomy', 'Gorebyss', 'Gothita', 'Gothitelle', 'Gothorita', 'Granbull', 'Graveler', 'Greninja', 'Grimer', 'Grotle', 'Groudon', 'GroudonPrimal Groudon', 'Grovyle', 'Growlithe', 'Grumpig', 'Gulpin', 'Gurdurr', 'Gyarados', 'Happiny', 'Hariyama', 'Haunter', 'Hawlucha', 'Haxorus', 'Heatmor', 'Heatran', 'Heliolisk', 'Helioptile', 'Heracross', 'Herdier', 'Hippopotas', 'Hippowdon', 'Hitmonchan', 'Hitmonlee', 'Hitmontop', 'Ho-oh', 'Honchkrow', 'Honedge', 'Hoothoot', 'Hoppip', 'Horsea', 'Houndoom', 'Houndour', 'Huntail', 'Hydreigon', 'Hypno', 'Igglybuff', 'Illumise', 'Infernape', 'Inkay', 'Ivysaur', 'Jellicent', 'Jigglypuff', 'Jirachi', 'Jolteon', 'Joltik', 'Jumpluff', 'Jynx', 'Kabuto', 'Kabutops', 'Kadabra', 'Kakuna', 'Kangaskhan', 'Karrablast', 'Kecleon', 'Kingdra', 'Kingler', 'Kirlia', 'Klang', 'Klefki', 'Klink', 'Klinklang', 'Koffing', 'Krabby', 'Kricketot', 'Kricketune', 'Krokorok', 'Krookodile', 'Kyogre', 'KyogrePrimal Kyogre', 'Kyurem', 'KyuremBlack Kyurem', 'KyuremWhite Kyurem', 'Lairon', 'Lampent', 'Lanturn', 'Lapras', 'Larvesta', 'Larvitar', 'Latias', 'Latios', 'Leafeon', 'Leavanny', 'Ledian', 'Ledyba', 'Lickilicky', 'Lickitung', 'Liepard', 'Lileep', 'Lilligant', 'Lillipup', 'Linoone', 'Litleo', 'Litwick', 'Lombre', 'Lopunny', 'Lotad', 'Loudred', 'Lucario', 'Ludicolo', 'Lugia', 'Lumineon', 'Lunatone', 'Luvdisc', 'Luxio', 'Luxray', 'Machamp', 'Machoke', 'Machop', 'Magby', 'Magcargo', 'Magikarp', 'Magmar', 'Magmortar', 'Magnemite', 'Magneton', 'Magnezone', 'Makuhita', 'Malamar', 'Mamoswine', 'Manaphy', 'Mandibuzz', 'Manectric', 'Mankey', 'Mantine', 'Mantyke', 'Maractus', 'Mareep', 'Marill', 'Marowak', 'Marshtomp', 'Masquerain', 'Mawile', 'Medicham', 'Meditite', 'MeowsticFemale', 'MeowsticMale', 'Meowth', 'Mesprit', 'Metagross', 'Metang', 'Metapod', 'Mew', 'Mewtwo', 'Mienfoo', 'Mienshao', 'Mightyena', 'Milotic', 'Miltank', 'Mime Jr.', 'Minccino', 'Minun', 'Misdreavus', 'Mismagius', 'Moltres', 'Monferno', 'Mothim', 'Mr. Mime', 'Mudkip', 'Muk', 'Munchlax', 'Munna', 'Murkrow', 'Musharna', 'Natu', 'Nidoking', 'Nidoqueen', 'Nidoran:signo_femenino:', 'Nidoran:signo_masculino:', 'Nidorina', 'Nidorino', 'Nincada', 'Ninetales', 'Ninjask', 'Noctowl', 'Noibat', 'Noivern', 'Nosepass', 'Numel', 'Nuzleaf', 'Octillery', 'Oddish', 'Omanyte', 'Omastar', 'Onix', 'Oshawott', 'Pachirisu', 'Palkia', 'Palpitoad', 'Pancham', 'Pangoro', 'Panpour', 'Pansage', 'Pansear', 'Paras', 'Parasect', 'Patrat', 'Pawniard', 'Pelipper', 'Persian', 'Petilil', 'Phanpy', 'Phantump', 'Phione', 'Pichu', 'Pidgeot', 'Pidgeotto', 'Pidgey', 'Pidove', 'Pignite', 'Pikachu', 'Piloswine', 'Pineco', 'Pinsir', 'Piplup', 'Plusle', 'Politoed', 'Poliwag', 'Poliwhirl', 'Poliwrath', 'Ponyta', 'Poochyena', 'Porygon', 'Porygon-Z', 'Porygon2', 'Primeape', 'Prinplup', 'Probopass', 'Psyduck', 'Pupitar', 'Purrloin', 'Purugly', 'Pyroar', 'Quagsire', 'Quilava', 'Quilladin', 'Qwilfish', 'Raichu', 'Raikou', 'Ralts', 'Rampardos', 'Rapidash', 'Raticate', 'Rattata', 'Rayquaza', 'Regice', 'Regigigas', 'Regirock', 'Registeel', 'Relicanth', 'Remoraid', 'Reshiram', 'Reuniclus', 'Rhydon', 'Rhyhorn', 'Rhyperior', 'Riolu', 'Roggenrola', 'Roselia', 'Roserade', 'Rotom', 'RotomFan Rotom', 'RotomFrost Rotom', 'RotomHeat Rotom', 'RotomMow Rotom', 'RotomWash Rotom', 'Rufflet', 'Sableye', 'Salamence', 'Samurott', 'Sandile', 'Sandshrew', 'Sandslash', 'Sawk', 'Sawsbuck', 'Scatterbug', 'Sceptile', 'Scizor', 'Scolipede', 'Scrafty', 'Scraggy', 'Scyther', 'Seadra', 'Seaking', 'Sealeo', 'Seedot', 'Seel', 'Seismitoad', 'Sentret', 'Serperior', 'Servine', 'Seviper', 'Sewaddle', 'Sharpedo', 'Shedinja', 'Shelgon', 'Shellder', 'Shellos', 'Shelmet', 'Shieldon', 'Shiftry', 'Shinx', 'Shroomish', 'Shuckle', 'Shuppet', 'Sigilyph', 'Silcoon', 'Simipour', 'Simisage', 'Simisear', 'Skarmory', 'Skiddo', 'Skiploom', 'Skitty', 'Skorupi', 'Skrelp', 'Skuntank', 'Slaking', 'Slakoth', 'Sliggoo', 'Slowbro', 'Slowking', 'Slowpoke', 'Slugma', 'Slurpuff', 'Smeargle', 'Smoochum', 'Sneasel', 'Snivy', 'Snorlax', 'Snorunt', 'Snover', 'Snubbull', 'Solosis', 'Solrock', 'Spearow', 'Spewpa', 'Spheal', 'Spinarak', 'Spinda', 'Spiritomb', 'Spoink', 'Spritzee', 'Squirtle', 'Stantler', 'Staraptor', 'Staravia', 'Starly', 'Starmie', 'Staryu', 'Steelix', 'Stoutland', 'Stunfisk', 'Stunky', 'Sudowoodo', 'Suicune', 'Sunflora', 'Sunkern', 'Surskit', 'Swablu', 'Swadloon', 'Swalot', 'Swampert', 'Swanna', 'Swellow', 'Swinub', 'Swirlix', 'Swoobat', 'Sylveon', 'Taillow', 'Talonflame', 'Tangela', 'Tangrowth', 'Tauros', 'Teddiursa', 'Tentacool', 'Tentacruel', 'Tepig', 'Terrakion', 'Throh', 'Timburr', 'Tirtouga', 'Togekiss', 'Togepi', 'Togetic', 'Torchic', 'Torkoal', 'Torterra', 'Totodile', 'Toxicroak', 'Tranquill', 'Trapinch', 'Treecko', 'Trevenant', 'Tropius', 'Trubbish', 'Turtwig', 'Tympole', 'Tynamo', 'Typhlosion', 'Tyranitar', 'Tyrantrum', 'Tyrogue', 'Tyrunt', 'Umbreon', 'Unfezant', 'Unown', 'Ursaring', 'Uxie', 'Vanillish', 'Vanillite', 'Vanilluxe', 'Vaporeon', 'Venipede', 'Venomoth', 'Venonat', 'Venusaur', 'Vespiquen', 'Vibrava', 'Victini', 'Victreebel', 'Vigoroth', 'Vileplume', 'Virizion', 'Vivillon', 'Volbeat', 'Volcanion', 'Volcarona', 'Voltorb', 'Vullaby', 'Vulpix', 'Wailmer', 'Wailord', 'Walrein', 'Wartortle', 'Watchog', 'Weavile', 'Weedle', 'Weepinbell', 'Weezing', 'Whimsicott', 'Whirlipede', 'Whiscash', 'Whismur', 'Wigglytuff', 'Wingull', 'Wobbuffet', 'Woobat', 'Wooper', 'WormadamPlant Cloak', 'WormadamSandy Cloak', 'WormadamTrash Cloak', 'Wurmple', 'Wynaut', 'Xatu', 'Xerneas', 'Yamask', 'Yanma', 'Yanmega', 'Yveltal', 'Zangoose', 'Zapdos', 'Zebstrika', 'Zekrom', 'Zigzagoon', 'Zoroark', 'Zorua', 'Zubat', 'Zweilous']\n"
   ]
  },
  {
   "cell_type": "code",
   "execution_count": 23,
   "metadata": {},
   "outputs": [
    {
     "ename": "SyntaxError",
     "evalue": "invalid syntax (<ipython-input-23-69231b4e58e2>, line 1)",
     "output_type": "error",
     "traceback": [
      "\u001b[0;36m  File \u001b[0;32m\"<ipython-input-23-69231b4e58e2>\"\u001b[0;36m, line \u001b[0;32m1\u001b[0m\n\u001b[0;31m    hps = [ 80.  60. 131.  62.  71. 109.  45.  53.  73.  60.  37.  63.  59.  84.\u001b[0m\n\u001b[0m                 ^\u001b[0m\n\u001b[0;31mSyntaxError\u001b[0m\u001b[0;31m:\u001b[0m invalid syntax\n"
     ]
    }
   ],
   "source": [
    "hps = [ 80.  60. 131.  62.  71. 109.  45.  53.  73.  60.  37.  63.  59.  84.\n",
    "  25.  50.  98. 116.  29.  85.  43.  46.  46.  57.  94.  87.  70.  59.\n",
    "  68.  65.  89.  52.  68.  66.  67.  75.  73. 103.  66. 109.  60.  56.\n",
    "  71.  77.  75. 102.  98.  81.  60.  66. 105.  74.  34.  50.  53.  98.\n",
    "  65. 127.  85.  71.  57.  93.  62.  47.  83.  69.  99.  66.   1.  89.\n",
    "  20. 108. 115.  57.  38.  32.  91.  63.  53.  62. 122.  77.  87.  88.\n",
    "  95.  96.  50.  63.  49.  50.  98.  55.  66.  50.  53.  89.  57.  56.\n",
    "  81.  81.  89.  73.  23.  85.  81.  95.  46. 133.  36.  87.  69.  56.\n",
    "  89.  61.   8.  38.  80. 126.  30.  68. 106.  84.  59.  32.  22.  49.\n",
    "  59.  10.  24.  76.  58.  49.  58.  47.  92. 111. 122.  87.  88. 106.\n",
    " 113. 106. 100.  52.  27.  91.  66.  67.  45.  35. 104.  80.  41.  78.\n",
    "  76.  82. 126.  67.  35.  69.  52.  82.  74.  77.  54.  79.  55.  82.\n",
    "  60.  39.  81.  50. 106.  80.  80.  71.  67.   7. 100.  47.  93.  52.\n",
    "  65.  62.  41.  64.  81.  58.  36.  53.  75.  98.  90.  76.  43.  92.\n",
    "  69.  62.  92.  84.  81.  38.  52.  24.  73.  69.  92.  74.  59. 123.\n",
    "  42.  34.  52.  82.  59.  57.  39. 106.  52.  40.  65.  47.  62. 103.\n",
    "  57.  67.  59.  63.  89.  82.  59.  44.  65.  90.  68.  65.  22.  94.\n",
    "  30.  35.  59.  69.  69.  48.  60.  53.  21.  62.  50.  79.  64.  93.\n",
    "  86.  91.  99.  86.  64. 103.  44.  67.  90.  61.  87.  47.  54.  82.\n",
    "  87.  99.  66.  76.  84.  80.  35.  54. 105.  36.  84.  57.  94.  48.\n",
    "  69.  16.  67.  96.  29.  99.  50.  67.   1.  96.  46.  54.  35.  43.\n",
    "  98.  55.  91.  64.  77.  55.  79. 135.  85.  81.  56.  94. 103.  24.\n",
    "  33. 123.  79.  72.  83.  97.  89.  62. 122.  69.  46.  54.  65.  58.\n",
    "  63.  76.   1.  48.  93.  83.  51.  52.  98.  62.  55. 116.  59.  86.\n",
    "  67.  70.  44.  47. 101.  39.  75.  37.  62.  67.  26.  98.  63. 100.\n",
    "  44.  92. 129.  74.  52.  81.  72.  63.  65.  53.  79.  58.  46.  89.\n",
    "  64. 137.  62.  50.  54.  78.  50.  36. 111.  36. 107.  72.  41. 111.\n",
    "  63.  42.  70. 101.  86.  90. 114.  74.  78.  62.  31.  64. 110.  24.\n",
    " 103.  75.  45.  70. 114.  53.  89.  97.  45.  85.  82.  56.  86.  59.\n",
    "  53.  36.  78.  57.  54.  39.  33.  48.  87.  47. 106.  79.  72.  37.\n",
    " 119.  31.  82. 112.  63.  51.  68.  92. 103.  84.  41.  51.  73.  35.\n",
    "  62. 126.  41.  98.  44.  59.  66.  29.  66. 102.  87.  86.  47.  64.\n",
    "  73.  86. 103.  42. 112.  61.  62.  37.  66.  62.  36.  61.  71.  58.\n",
    "  88.  42.  91.  63.  78.  21.  72.  67.  92.  38. 103.  40. 102.  83.\n",
    "  49. 124.  37.  64.  74.  82.  74.  89.  80.  69.  44.  59.  92.  38.\n",
    "  71.  15.  50.  26. 100.  21.  62.  87.  84.  88.  96.  80.  90.  67.\n",
    "  68.  23.  73. 101.  49.  38.  71.  98.  99.  29.  80.  51.  75.  10.\n",
    "  92.  58.  74.  64.  42.  82.  56.  50.  85.  66.  50.  92.  53.  67.\n",
    "  87.  93.  99. 111.  69.  48. 111. 104.  60.  86.  58.  28.  95.  77.\n",
    "  71. 112. 105.  52.  40.  19.  68.  58.  78.  69.  51.  58.  28. 100.\n",
    "  54.  84.  51.  70.  84.  61.  47. 128.  63.  83.  66.  48. 102.  78.\n",
    "  77.   9.  76.  90.  76.  64.  99.  75.  83.  95.  94.  34.  77.  49.\n",
    "  16.  76.  23.  56.   3.  42.  56.  68.  54.  44.  45. 108.  56.  66.\n",
    " 117.  23.  15.  42.  58.  39.  67.  66.  28.  72.  31.  86.  74. 125.\n",
    "  89.  63.  77.  72.  49.  31.  96. 107.  56.  61.  56.  94.  99.  46.\n",
    "  59.  54.  74.  88.  96.  61.  43.  82.  83.  59.  72.  77.  91.  70.\n",
    "  81.  73.  43.  86.  71.  95.  38.  50.  77.  24.  65.  57.  57.  62.\n",
    "  11.  69.  70.  95. 106.  77.  92.   6.  82.  97.  91.  74.  59.  59.\n",
    "  69.  79.  83.  66.  36. 115.  46.   1. 105.  94.  73.  93.  80.  47.\n",
    "  71.  36.  51.  46.  72.  96.  52.  80.  13.  41.  82.  93.  93.  96.\n",
    "  26.  55.   2.  64.  74.  59.  44.  79.  82.  72.  53.  69.  70.  75.\n",
    "  84.  68.  31.  61.  78.  57.]"
   ]
  },
  {
   "cell_type": "code",
   "execution_count": 19,
   "metadata": {},
   "outputs": [
    {
     "ename": "NameError",
     "evalue": "name 'names' is not defined",
     "output_type": "error",
     "traceback": [
      "\u001b[0;31m---------------------------------------------------------------------------\u001b[0m",
      "\u001b[0;31mNameError\u001b[0m                                 Traceback (most recent call last)",
      "\u001b[0;32m<ipython-input-19-84b84c956abd>\u001b[0m in \u001b[0;36m<module>\u001b[0;34m\u001b[0m\n\u001b[1;32m      1\u001b[0m \u001b[0mpoke_zscores\u001b[0m \u001b[0;34m=\u001b[0m \u001b[0;34m[\u001b[0m\u001b[0;34m]\u001b[0m\u001b[0;34m\u001b[0m\u001b[0;34m\u001b[0m\u001b[0m\n\u001b[0;32m----> 2\u001b[0;31m \u001b[0;32mfor\u001b[0m \u001b[0mname\u001b[0m\u001b[0;34m,\u001b[0m\u001b[0mhp\u001b[0m \u001b[0;32min\u001b[0m \u001b[0mzip\u001b[0m\u001b[0;34m(\u001b[0m\u001b[0mnames\u001b[0m\u001b[0;34m,\u001b[0m \u001b[0mhps\u001b[0m\u001b[0;34m)\u001b[0m\u001b[0;34m:\u001b[0m\u001b[0;34m\u001b[0m\u001b[0;34m\u001b[0m\u001b[0m\n\u001b[0m\u001b[1;32m      3\u001b[0m     \u001b[0mhp_avg\u001b[0m \u001b[0;34m=\u001b[0m \u001b[0mhps\u001b[0m\u001b[0;34m.\u001b[0m\u001b[0mmean\u001b[0m\u001b[0;34m(\u001b[0m\u001b[0;34m)\u001b[0m\u001b[0;34m\u001b[0m\u001b[0;34m\u001b[0m\u001b[0m\n\u001b[1;32m      4\u001b[0m     \u001b[0mhp_std\u001b[0m \u001b[0;34m=\u001b[0m \u001b[0mhps\u001b[0m\u001b[0;34m.\u001b[0m\u001b[0mstd\u001b[0m\u001b[0;34m(\u001b[0m\u001b[0;34m)\u001b[0m\u001b[0;34m\u001b[0m\u001b[0;34m\u001b[0m\u001b[0m\n\u001b[1;32m      5\u001b[0m     \u001b[0mz_score\u001b[0m \u001b[0;34m=\u001b[0m \u001b[0;34m(\u001b[0m\u001b[0mhp\u001b[0m \u001b[0;34m-\u001b[0m \u001b[0mhp_avg\u001b[0m\u001b[0;34m)\u001b[0m\u001b[0;34m/\u001b[0m\u001b[0mhp_std\u001b[0m\u001b[0;34m\u001b[0m\u001b[0;34m\u001b[0m\u001b[0m\n",
      "\u001b[0;31mNameError\u001b[0m: name 'names' is not defined"
     ]
    }
   ],
   "source": [
    "poke_zscores = []\n",
    "for name,hp in zip(names, hps):\n",
    "    hp_avg = hps.mean()\n",
    "    hp_std = hps.std()\n",
    "    z_score = (hp - hp_avg)/hp_std\n",
    "    poke_zscores.append((name, hp, z_score))\n",
    "highest_hp_pokemon = []\n",
    "for name,hp,zscore in poke_zscores:\n",
    "    if zscore > 2:\n",
    "        highest_hp_pokemon.append((name, hp, zscore))"
   ]
  },
  {
   "cell_type": "code",
   "execution_count": 24,
   "metadata": {},
   "outputs": [
    {
     "ename": "NameError",
     "evalue": "name 'hps' is not defined",
     "output_type": "error",
     "traceback": [
      "\u001b[0;31m---------------------------------------------------------------------------\u001b[0m",
      "\u001b[0;31mNameError\u001b[0m                                 Traceback (most recent call last)",
      "\u001b[0;32m<ipython-input-24-79cfa27e4be1>\u001b[0m in \u001b[0;36m<module>\u001b[0;34m\u001b[0m\n\u001b[1;32m      1\u001b[0m \u001b[0;31m# Calculate the total HP avg and total HP standard deviation\u001b[0m\u001b[0;34m\u001b[0m\u001b[0;34m\u001b[0m\u001b[0;34m\u001b[0m\u001b[0m\n\u001b[0;32m----> 2\u001b[0;31m \u001b[0mhp_avg\u001b[0m \u001b[0;34m=\u001b[0m \u001b[0mhps\u001b[0m\u001b[0;34m.\u001b[0m\u001b[0mmean\u001b[0m\u001b[0;34m(\u001b[0m\u001b[0;34m)\u001b[0m\u001b[0;34m\u001b[0m\u001b[0;34m\u001b[0m\u001b[0m\n\u001b[0m\u001b[1;32m      3\u001b[0m \u001b[0mhp_std\u001b[0m \u001b[0;34m=\u001b[0m \u001b[0mhps\u001b[0m\u001b[0;34m.\u001b[0m\u001b[0mstd\u001b[0m\u001b[0;34m(\u001b[0m\u001b[0;34m)\u001b[0m\u001b[0;34m\u001b[0m\u001b[0;34m\u001b[0m\u001b[0m\n\u001b[1;32m      4\u001b[0m \u001b[0;31m# Use NumPy to eliminate the previous for loop\u001b[0m\u001b[0;34m\u001b[0m\u001b[0;34m\u001b[0m\u001b[0;34m\u001b[0m\u001b[0m\n\u001b[1;32m      5\u001b[0m \u001b[0mz_scores\u001b[0m \u001b[0;34m=\u001b[0m \u001b[0;34m(\u001b[0m\u001b[0mhps\u001b[0m \u001b[0;34m-\u001b[0m \u001b[0mhp_avg\u001b[0m\u001b[0;34m)\u001b[0m\u001b[0;34m/\u001b[0m\u001b[0mhp_std\u001b[0m\u001b[0;34m\u001b[0m\u001b[0;34m\u001b[0m\u001b[0m\n",
      "\u001b[0;31mNameError\u001b[0m: name 'hps' is not defined"
     ]
    }
   ],
   "source": [
    "# Calculate the total HP avg and total HP standard deviation\n",
    "hp_avg = hps.mean()\n",
    "hp_std = hps.std()\n",
    "# Use NumPy to eliminate the previous for loop\n",
    "z_scores = (hps - hp_avg)/hp_std\n",
    "# Combine names, hps, and z_scores\n",
    "poke_zscores2 = [*zip(names, hps, z_scores)]\n",
    "print(*poke_zscores2[:3], sep='\\n')\n",
    "# Use list comprehension with the same logic as the highest_hp_pokemon code block\n",
    "highest_hp_pokemon2 = [(names, hps, z_scores) for  names,hps, z_scores in poke_zscores2 if z_scores > 2]\n",
    "print(*highest_hp_pokemon2, sep='\\n')"
   ]
  },
  {
   "cell_type": "markdown",
   "metadata": {},
   "source": [
    "<b> Conclusión: </b>\n",
    "\n",
    "- Los estás atrapando a todos (es decir, a la eficiencia). Has eliminado dos bucles utilizando la difusión de NumPy y la comprensión de listas. \n",
    "- ¿Te has dado cuenta de lo rápido que es el enfoque que has desarrollado en comparación con los bucles originales? ¡Qué gran mejora!\n",
    "- Recuerda las técnicas que has aprendido a lo largo de este capítulo cuando sigas escribiendo código Python fuera de este curso. Ten en cuenta las funciones incorporadas y los módulos que has cubierto para eliminar los bucles y recuerda revisar tus bucles inevitables para ver si hay cosas que se pueden mover fuera."
   ]
  }
 ],
 "metadata": {
  "kernelspec": {
   "display_name": "Python 3",
   "language": "python",
   "name": "python3"
  },
  "language_info": {
   "codemirror_mode": {
    "name": "ipython",
    "version": 3
   },
   "file_extension": ".py",
   "mimetype": "text/x-python",
   "name": "python",
   "nbconvert_exporter": "python",
   "pygments_lexer": "ipython3",
   "version": "3.8.5"
  }
 },
 "nbformat": 4,
 "nbformat_minor": 4
}
