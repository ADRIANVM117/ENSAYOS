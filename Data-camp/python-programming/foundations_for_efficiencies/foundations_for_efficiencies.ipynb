{
 "cells": [
  {
   "cell_type": "markdown",
   "metadata": {},
   "source": [
    "# Bases para la eficiencia \n",
    "## Adrián Vázquez\n",
    "### 13/06/21"
   ]
  },
  {
   "cell_type": "markdown",
   "metadata": {},
   "source": [
    "<b> Codigo eficiente. </b> \n",
    "- Dos cosas:\n",
    "  - Rapido y tiene una pequeña latencia entre la ejecución y la devolución de un resultado.\n",
    "  - Asigna recursos habilmente y no esta sujeto a una sobrecarga innecesaria. "
   ]
  },
  {
   "cell_type": "markdown",
   "metadata": {},
   "source": [
    ">  1r ejercicio. Sin enfoque no pythonic \n",
    "\n",
    "   > Supongamos que quieres recoger los nombres de una lista  que tienen seis letras o más. En otros lenguajes de programación, el enfoque típico es crear una variable de índice (i), usar i para iterar sobre la lista, y usar una sentencia if para recoger los nombres con seis letras o más:"
   ]
  },
  {
   "cell_type": "code",
   "execution_count": 4,
   "metadata": {},
   "outputs": [
    {
     "name": "stdout",
     "output_type": "stream",
     "text": [
      "['Kramer', 'Elaine', 'George', 'Newman']\n"
     ]
    }
   ],
   "source": [
    "# Lista con nombres que cumplan con solo 6 o mas caracteres\n",
    "names = ['Jerry', 'Kramer', 'Elaine', 'George', 'Newman']\n",
    "\n",
    "i = 0 \n",
    "lista = []\n",
    "while i < len(names):\n",
    "    if len(names[i]) >= 6:\n",
    "        lista.append(names[i])\n",
    "    i += 1 \n",
    "print(lista)"
   ]
  },
  {
   "cell_type": "markdown",
   "metadata": {},
   "source": [
    "#### Nota:\n",
    "<b> Un enfoque mas pythonic seria hacer un bucle sobre el contenido de los nombres. En lugar de utilizar una variable de indice </b>"
   ]
  },
  {
   "cell_type": "code",
   "execution_count": 8,
   "metadata": {},
   "outputs": [
    {
     "name": "stdout",
     "output_type": "stream",
     "text": [
      "['Kramer', 'Elaine', 'George', 'Newman']\n"
     ]
    }
   ],
   "source": [
    "lista = []\n",
    "for name in names:\n",
    "    if len(name) >=6:\n",
    "        lista.append(name)\n",
    "print(lista)"
   ]
  },
  {
   "cell_type": "markdown",
   "metadata": {},
   "source": [
    "#### Mismo ejemplo con lista de comprensión."
   ]
  },
  {
   "cell_type": "code",
   "execution_count": 12,
   "metadata": {},
   "outputs": [
    {
     "name": "stdout",
     "output_type": "stream",
     "text": [
      "['Kramer', 'Elaine', 'George', 'Newman']\n"
     ]
    }
   ],
   "source": [
    "lista = [ name for name in names if len(name) >= 6]\n",
    "print(lista)"
   ]
  },
  {
   "cell_type": "markdown",
   "metadata": {},
   "source": [
    "<b> Zen de python </b>\n",
    "- Huevo de pascua. "
   ]
  },
  {
   "cell_type": "code",
   "execution_count": 15,
   "metadata": {},
   "outputs": [],
   "source": [
    "import this"
   ]
  },
  {
   "cell_type": "markdown",
   "metadata": {},
   "source": [
    "- #### Recordar: \n",
    "  - Python tiene una filosofía de diseño que enfatiza la legibilidad. Un código más rápido es bueno, pero un código más rápido y legible es mejor."
   ]
  },
  {
   "cell_type": "markdown",
   "metadata": {},
   "source": [
    "#### Practicando con objetos ya incorporados"
   ]
  },
  {
   "cell_type": "markdown",
   "metadata": {},
   "source": [
    "<b> range() </b>"
   ]
  },
  {
   "cell_type": "code",
   "execution_count": 17,
   "metadata": {},
   "outputs": [
    {
     "name": "stdout",
     "output_type": "stream",
     "text": [
      "<class 'range'>\n",
      "[0, 1, 2, 3, 4, 5]\n",
      "[1, 3, 5, 7, 9, 11]\n"
     ]
    }
   ],
   "source": [
    "# Crear un rango que vaya del 0 al 5\n",
    "nums = range(6)\n",
    "print(type(nums))\n",
    "# Convertir el rango en una lista\n",
    "nums_list = list(nums)\n",
    "print(nums_list)\n",
    "# Crear una nueva lista del 1 al 11 con saltos de 2 y empaquetar el objeto range\n",
    "nums_list2 = [*range(1,12,2)]\n",
    "print(nums_list2)"
   ]
  },
  {
   "cell_type": "markdown",
   "metadata": {},
   "source": [
    "- Observe que el uso de la función range() de Python le permite crear un objeto rango de números sin tener que escribirlos explícitamente. Puedes convertir el objeto rango en una lista utilizando la función list() o descomponiéndolo en una lista utilizando el carácter estrella (*)."
   ]
  },
  {
   "cell_type": "markdown",
   "metadata": {},
   "source": [
    "<b> enumerate() </b>"
   ]
  },
  {
   "cell_type": "code",
   "execution_count": 20,
   "metadata": {},
   "outputs": [
    {
     "name": "stdout",
     "output_type": "stream",
     "text": [
      "[(0, 'Jerry'), (1, 'Kramer'), (2, 'Elaine'), (3, 'George'), (4, 'Newman')]\n",
      "[(0, 'Jerry'), (1, 'Kramer'), (2, 'Elaine'), (3, 'George'), (4, 'Newman')]\n",
      "[(1, 'Jerry'), (2, 'Kramer'), (3, 'Elaine'), (4, 'George'), (5, 'Newman')]\n"
     ]
    }
   ],
   "source": [
    "# enumerando la lista con ciclo for y un indice \n",
    "indexed_names = []\n",
    "for i, name in enumerate(names):\n",
    "    index_name = (i,name)\n",
    "    indexed_names.append(index_name) \n",
    "print(indexed_names)\n",
    "# escribiendo el anterior ciclo for usando una lista de comprensión\n",
    "indexed_names_comp = [(i,name) for i,name in enumerate(names)]\n",
    "print(indexed_names_comp)\n",
    "#  Desempaquetar un objeto enumerado con un índice inicial de uno\n",
    "indexed_names_unpack = [*enumerate(names, 1)]\n",
    "print(indexed_names_unpack)\n"
   ]
  },
  {
   "cell_type": "markdown",
   "metadata": {},
   "source": [
    "- El uso de la función incorporada de Python enumerate() le permite crear un índice para cada elemento en el objeto que usted le da. Puedes utilizar la comprensión de la lista, o incluso desempaquetar el objeto enumerar directamente en una lista, para escribir una bonita y simple línea."
   ]
  },
  {
   "cell_type": "markdown",
   "metadata": {},
   "source": [
    "<b> map() </b>\n",
    "\n",
    "- Supongamos que quiere crear una nueva lista (llamada names_uppercase) que convierta todas las letras de cada nombre en mayúsculas. podría lograrlo con el siguiente bucle for:"
   ]
  },
  {
   "cell_type": "code",
   "execution_count": 23,
   "metadata": {},
   "outputs": [
    {
     "name": "stdout",
     "output_type": "stream",
     "text": [
      "<class 'map'>\n",
      "['JERRY', 'KRAMER', 'ELAINE', 'GEORGE', 'NEWMAN']\n"
     ]
    }
   ],
   "source": [
    "names = ['Jerry', 'Kramer', 'Elaine', 'George', 'Newman']\n",
    "\n",
    "# Usar  map para aplicar str.upper a todos los elementos de names\n",
    "names_map  = map(str.upper, names)\n",
    "# el tipo de names_mao\n",
    "print(type(names_map))\n",
    "# enpaquetar names_map en una lista\n",
    "names_uppercase = [*names_map]\n",
    "# Print the list created above\n",
    "print(names_uppercase)"
   ]
  },
  {
   "cell_type": "code",
   "execution_count": null,
   "metadata": {},
   "outputs": [],
   "source": []
  }
 ],
 "metadata": {
  "kernelspec": {
   "display_name": "Python 3",
   "language": "python",
   "name": "python3"
  },
  "language_info": {
   "codemirror_mode": {
    "name": "ipython",
    "version": 3
   },
   "file_extension": ".py",
   "mimetype": "text/x-python",
   "name": "python",
   "nbconvert_exporter": "python",
   "pygments_lexer": "ipython3",
   "version": "3.8.5"
  }
 },
 "nbformat": 4,
 "nbformat_minor": 4
}
