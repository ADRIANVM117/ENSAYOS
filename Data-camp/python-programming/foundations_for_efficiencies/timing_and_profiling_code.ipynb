{
 "cells": [
  {
   "cell_type": "markdown",
   "metadata": {},
   "source": [
    "## %timeit \n",
    "### Adrián Vázquez\n",
    "####  13/06/21"
   ]
  },
  {
   "cell_type": "markdown",
   "metadata": {},
   "source": [
    "- Uso de %timeit: nombre formal o sintaxis literal\n",
    "- Python te permite crear estructuras de datos utilizando un nombre formal o una sintaxis literal."
   ]
  },
  {
   "cell_type": "markdown",
   "metadata": {},
   "source": [
    "<tr>\n",
    "<th> <Name> </th>\n",
    "<th> <Address> </th>\n",
    "<th> <Salary> </th>\n",
    "</tr>"
   ]
  },
  {
   "cell_type": "markdown",
   "metadata": {},
   "source": [
    " data structure:  | formal name | literal syntax\n",
    ":----------------:| ------------|--------------- \n",
    "list              | list()      | [ ] \n",
    "dictionary        | dict()      |  { }\n",
    "tuple             | tuple()     | ( )\n"
   ]
  },
  {
   "cell_type": "code",
   "execution_count": 5,
   "metadata": {},
   "outputs": [
    {
     "name": "stdout",
     "output_type": "stream",
     "text": [
      "[]\n",
      "()\n"
     ]
    }
   ],
   "source": [
    "# creando una lista de forma formal \n",
    "lista_formal = list()\n",
    "print(lista_formal)\n",
    "\n",
    "#creando una lista de forma de syntaxis literal\n",
    "lista_literal = ()\n",
    "print(lista_literal)"
   ]
  },
  {
   "cell_type": "markdown",
   "metadata": {},
   "source": [
    "<b> Comparando %timeit entre sintaxis </b>\n"
   ]
  },
  {
   "cell_type": "code",
   "execution_count": 8,
   "metadata": {},
   "outputs": [
    {
     "name": "stdout",
     "output_type": "stream",
     "text": [
      "63 ns ± 0.539 ns per loop (mean ± std. dev. of 7 runs, 10000000 loops each)\n"
     ]
    }
   ],
   "source": [
    "%timeit (list())"
   ]
  },
  {
   "cell_type": "code",
   "execution_count": 10,
   "metadata": {},
   "outputs": [
    {
     "name": "stdout",
     "output_type": "stream",
     "text": [
      "17.9 ns ± 0.0981 ns per loop (mean ± std. dev. of 7 runs, 100000000 loops each)\n"
     ]
    }
   ],
   "source": [
    "%timeit ([])"
   ]
  },
  {
   "cell_type": "markdown",
   "metadata": {},
   "source": [
    "- Considere la posibilidad de utilizar las sintaxis literales (como [] en lugar de list(), {} en lugar de dict(), o () en lugar de tuple()), cuando corresponda, para ganar algo de velocidad."
   ]
  },
  {
   "cell_type": "markdown",
   "metadata": {},
   "source": [
    "### %%timeit\n",
    "\n",
    "- "
   ]
  },
  {
   "cell_type": "markdown",
   "metadata": {},
   "source": [
    "### <b> Creación de perfiles de código. </b>\n",
    "- Es na tecnica que se utiliza para describir cuanto tiempo y con que frecuencia se ejecutan varias partes de un programa. \n",
    "- La belleza de un generador de perfiles de código es su capacidad para recopilar resúmenes estadisticos sobre partes individuales de nuestro codigo sin usar comandos como %timeit."
   ]
  },
  {
   "cell_type": "markdown",
   "metadata": {},
   "source": [
    "<b> Instalando el paquete line_profiler</b>\n",
    "- Sirve para tomar el tiempo linea por linea dentro de un codigo "
   ]
  },
  {
   "cell_type": "code",
   "execution_count": 15,
   "metadata": {},
   "outputs": [
    {
     "name": "stdout",
     "output_type": "stream",
     "text": [
      "Requirement already satisfied: line_profiler in /home/radianvm/anaconda3/lib/python3.8/site-packages (3.3.0)\n",
      "Requirement already satisfied: IPython>=0.13; python_version >= \"3.7\" in /home/radianvm/anaconda3/lib/python3.8/site-packages (from line_profiler) (7.19.0)\n",
      "Requirement already satisfied: jedi>=0.10 in /home/radianvm/anaconda3/lib/python3.8/site-packages (from IPython>=0.13; python_version >= \"3.7\"->line_profiler) (0.17.1)\n",
      "Requirement already satisfied: backcall in /home/radianvm/anaconda3/lib/python3.8/site-packages (from IPython>=0.13; python_version >= \"3.7\"->line_profiler) (0.2.0)\n",
      "Requirement already satisfied: prompt-toolkit!=3.0.0,!=3.0.1,<3.1.0,>=2.0.0 in /home/radianvm/anaconda3/lib/python3.8/site-packages (from IPython>=0.13; python_version >= \"3.7\"->line_profiler) (3.0.8)\n",
      "Requirement already satisfied: pexpect>4.3; sys_platform != \"win32\" in /home/radianvm/anaconda3/lib/python3.8/site-packages (from IPython>=0.13; python_version >= \"3.7\"->line_profiler) (4.8.0)\n",
      "Requirement already satisfied: pickleshare in /home/radianvm/anaconda3/lib/python3.8/site-packages (from IPython>=0.13; python_version >= \"3.7\"->line_profiler) (0.7.5)\n",
      "Requirement already satisfied: pygments in /home/radianvm/anaconda3/lib/python3.8/site-packages (from IPython>=0.13; python_version >= \"3.7\"->line_profiler) (2.7.2)\n",
      "Requirement already satisfied: decorator in /home/radianvm/anaconda3/lib/python3.8/site-packages (from IPython>=0.13; python_version >= \"3.7\"->line_profiler) (4.4.2)\n",
      "Requirement already satisfied: traitlets>=4.2 in /home/radianvm/anaconda3/lib/python3.8/site-packages (from IPython>=0.13; python_version >= \"3.7\"->line_profiler) (5.0.5)\n",
      "Requirement already satisfied: setuptools>=18.5 in /home/radianvm/anaconda3/lib/python3.8/site-packages (from IPython>=0.13; python_version >= \"3.7\"->line_profiler) (50.3.1.post20201107)\n",
      "Requirement already satisfied: parso<0.8.0,>=0.7.0 in /home/radianvm/anaconda3/lib/python3.8/site-packages (from jedi>=0.10->IPython>=0.13; python_version >= \"3.7\"->line_profiler) (0.7.0)\n",
      "Requirement already satisfied: wcwidth in /home/radianvm/anaconda3/lib/python3.8/site-packages (from prompt-toolkit!=3.0.0,!=3.0.1,<3.1.0,>=2.0.0->IPython>=0.13; python_version >= \"3.7\"->line_profiler) (0.2.5)\n",
      "Requirement already satisfied: ptyprocess>=0.5 in /home/radianvm/anaconda3/lib/python3.8/site-packages (from pexpect>4.3; sys_platform != \"win32\"->IPython>=0.13; python_version >= \"3.7\"->line_profiler) (0.6.0)\n",
      "Requirement already satisfied: ipython-genutils in /home/radianvm/anaconda3/lib/python3.8/site-packages (from traitlets>=4.2->IPython>=0.13; python_version >= \"3.7\"->line_profiler) (0.2.0)\n",
      "Note: you may need to restart the kernel to use updated packages.\n"
     ]
    }
   ],
   "source": [
    "pip install line_profiler"
   ]
  },
  {
   "cell_type": "markdown",
   "metadata": {},
   "source": [
    "<b> Cargando el paquete </b>\n",
    "- Para usarlo primero se inicia en nuestra sesión "
   ]
  },
  {
   "cell_type": "code",
   "execution_count": 18,
   "metadata": {},
   "outputs": [
    {
     "name": "stdout",
     "output_type": "stream",
     "text": [
      "The line_profiler extension is already loaded. To reload it, use:\n",
      "  %reload_ext line_profiler\n"
     ]
    }
   ],
   "source": [
    "%load_ext line_profiler"
   ]
  },
  {
   "cell_type": "markdown",
   "metadata": {},
   "source": [
    "####  <b> %lprun -f </b>\n",
    "- Para recopilar todos los tiempos de ejecución para lineas individuales de código dentro de una función \n",
    "\n",
    "### <b> Sintaxis de %lprun -f </b>\n",
    "- %lprun -f aqui_función_que_quieres aqui_función_que_quieres(argumnetos necesarios)"
   ]
  },
  {
   "cell_type": "markdown",
   "metadata": {},
   "source": [
    "<b> Instalando el paquete memory_profiler</b>\n",
    "- Sirve para ver cuanda memoria utilia cada linea dentro de un codigo"
   ]
  },
  {
   "cell_type": "code",
   "execution_count": 6,
   "metadata": {},
   "outputs": [
    {
     "name": "stdout",
     "output_type": "stream",
     "text": [
      "Requirement already satisfied: memory_profiler in /home/radianvm/anaconda3/lib/python3.8/site-packages (0.58.0)\n",
      "Requirement already satisfied: psutil in /home/radianvm/anaconda3/lib/python3.8/site-packages (from memory_profiler) (5.7.2)\n",
      "Note: you may need to restart the kernel to use updated packages.\n"
     ]
    }
   ],
   "source": [
    "pip install memory_profiler"
   ]
  },
  {
   "cell_type": "markdown",
   "metadata": {},
   "source": [
    "####  <b> %mprun -f </b>\n",
    "- Para recopilar cuanto espacio utiliza  para lineas individuales de código dentro de una función \n",
    "\n",
    "### <b> Sintaxis de %mprun -f </b>\n",
    "- %lprun -f aqui_función_que_quieres aqui_función_que_quieres(argumnetos necesarios)"
   ]
  },
  {
   "cell_type": "markdown",
   "metadata": {},
   "source": [
    "####  <b> NOTA: </b>\n",
    "- %mprun solo se puede usar en funciones definidas en archivos fisicos y no en la sesión de IPython.\n",
    "\n",
    "- MBI funciona casi igual que MB (megabytes)"
   ]
  },
  {
   "cell_type": "markdown",
   "metadata": {},
   "source": [
    " > Si ejecuta %mprun varias veces dentro de su sesión, puede notar que la columna de incremento reporta 0.0 MiB para todas las líneas de código. Esto se debe a una limitación con el comando mágico. Después de ejecutar %mprun una vez, la asignación de memoria analizada previamente se tiene en cuenta para todas las ejecuciones consecutivas y %mprun empezará desde el lugar en el que se quedó la primera ejecución.\n"
   ]
  },
  {
   "cell_type": "code",
   "execution_count": null,
   "metadata": {},
   "outputs": [],
   "source": []
  }
 ],
 "metadata": {
  "kernelspec": {
   "display_name": "Python 3",
   "language": "python",
   "name": "python3"
  },
  "language_info": {
   "codemirror_mode": {
    "name": "ipython",
    "version": 3
   },
   "file_extension": ".py",
   "mimetype": "text/x-python",
   "name": "python",
   "nbconvert_exporter": "python",
   "pygments_lexer": "ipython3",
   "version": "3.8.5"
  }
 },
 "nbformat": 4,
 "nbformat_minor": 4
}
