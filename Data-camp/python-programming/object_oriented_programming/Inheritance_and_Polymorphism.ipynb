{
 "cells": [
  {
   "cell_type": "markdown",
   "metadata": {},
   "source": [
    "## Inherencia y Polimorfismo \n",
    "### Adrián Vázquez\n",
    "#### 12/07/21"
   ]
  },
  {
   "cell_type": "markdown",
   "metadata": {},
   "source": [
    "#### Metodos de clase\n",
    "\n",
    "- El caso de uso principal son los contrustores alternativos.  Una clase solo puede tener un metodo de inicio, pero puede haber varias formas de inicializar un objeto. "
   ]
  },
  {
   "cell_type": "markdown",
   "metadata": {},
   "source": [
    "<b> Atributos de clase </b>\n",
    "\n",
    "- Los atributos de clase almacenan datos que se comparten entre todas las instancias de la clase. Se les asignan valores en el cuerpo de la clase, y se hace referencia a ellos utilizando la sintaxis ClassName. en lugar de la sintaxis self. cuando se utilizan en los métodos.\n",
    "\n",
    "- En este ejercicio, serás un desarrollador de juegos trabajando en un juego que tendrá varios jugadores moviéndose en una cuadrícula e interactuando entre ellos. Como primer paso, querrás definir una clase Player que sólo se moverá a lo largo de una línea recta. El jugador tendrá un atributo de posición y un método move(). La cuadrícula es limitada, por lo que la posición de Player tendrá un valor máximo."
   ]
  },
  {
   "cell_type": "markdown",
   "metadata": {},
   "source": [
    "- Define a class Player that has:\n",
    "  - A class attribute MAX_POSITION with value 10.\n",
    "  \n",
    "\n",
    "-  The __init__() method that sets the position instance attribute to 0.\n",
    "- Print Player.MAX_POSITION.\n",
    "- Create a Player object p and print its MAX_POSITION."
   ]
  },
  {
   "cell_type": "code",
   "execution_count": 1,
   "metadata": {},
   "outputs": [
    {
     "name": "stdout",
     "output_type": "stream",
     "text": [
      "10\n",
      "10\n"
     ]
    }
   ],
   "source": [
    "# Create a Player class\n",
    "class Player:\n",
    "    MAX_POSITION = 10\n",
    "    def __init__(self):\n",
    "        self.position = 0\n",
    "# Print Player.MAX_POSITION  \n",
    "print(Player.MAX_POSITION)   \n",
    "# Create a player p and print its MAX_POSITITON\n",
    "p = Player()\n",
    "print(p.MAX_POSITION)"
   ]
  },
  {
   "cell_type": "markdown",
   "metadata": {},
   "source": [
    "<b> Constructores alternativos </b>\n",
    "- Python permite definir también métodos de clase, utilizando el decorador @classmethod y un primer argumento especial cls. El uso principal de los métodos de clase es definir métodos que devuelvan una instancia de la clase, pero que no utilicen el mismo código que __init__().\n",
    "\n",
    "- Por ejemplo, estás desarrollando un paquete de series temporales y quieres definir tu propia clase para trabajar con fechas, BetterDate. Los atributos de la clase serán año, mes y día. Quiere tener un constructor que cree objetos BetterDate dados los valores de año, mes y día, pero también quiere ser capaz de crear objetos BetterDate a partir de cadenas como 2020-04-30.\n",
    "\n",
    "- Las siguientes funciones pueden resultarle útiles: El método .split(\"-\") dividirá una cadena en \"-\" en una matriz, por ejemplo, \"2020-04-30\".split(\"-\") devuelve [\"2020\", \"04\", \"30\"], int() convertirá una cadena en un número, por ejemplo, int(\"2019\") es 2019 ."
   ]
  },
  {
   "cell_type": "markdown",
   "metadata": {},
   "source": [
    "- Add a class method from_str() that:\n",
    "   - accepts a string datestr of the format'YYYY-MM-DD',\n",
    "   - splits datestr and converts each part into an integer, \n",
    "   - returns an instance of the class with the attributes set to the values extracted from datestr."
   ]
  },
  {
   "cell_type": "code",
   "execution_count": 3,
   "metadata": {},
   "outputs": [
    {
     "name": "stdout",
     "output_type": "stream",
     "text": [
      "2020\n",
      "4\n",
      "30\n"
     ]
    }
   ],
   "source": [
    "class BetterDate:    \n",
    "    # Constructor\n",
    "    def __init__(self, year, month, day):\n",
    "      # Recall that Python allows multiple variable assignments in one line\n",
    "      self.year, self.month, self.day = year, month, day\n",
    "    # Define a class method from_str\n",
    "    @classmethod\n",
    "    def from_str(cls, datestr):\n",
    "        # Split the string at \"-\" and convert each part to integer\n",
    "        parts = datestr.split(\"-\")\n",
    "        year, month, day = int(parts[0]), int(parts[1]), int(parts[2])\n",
    "        # Return the class instance\n",
    "        return cls(year, month, day)\n",
    "bd = BetterDate.from_str('2020-04-30')   \n",
    "print(bd.year)\n",
    "print(bd.month)\n",
    "print(bd.day)"
   ]
  },
  {
   "cell_type": "markdown",
   "metadata": {},
   "source": [
    "- For compatibility, you also want to be able to convert a datetime object into a BetterDate object.\n",
    "\n",
    "- Add a class method from_datetime() that accepts a datetime object as the argument, and uses its attributes .year, .month and .day to create a BetterDate object with the same attribute values."
   ]
  },
  {
   "cell_type": "code",
   "execution_count": 5,
   "metadata": {},
   "outputs": [
    {
     "name": "stdout",
     "output_type": "stream",
     "text": [
      "2021\n",
      "7\n",
      "13\n"
     ]
    }
   ],
   "source": [
    "# import datetime from datetime\n",
    "from datetime import datetime\n",
    "class BetterDate:\n",
    "    def __init__(self, year, month, day):\n",
    "        self.year, self.month, self.day = year, month, day\n",
    "    @classmethod\n",
    "    def from_str(cls, datestr):\n",
    "        year, month, day = map(int, datestr.split(\"-\"))\n",
    "        return cls(year, month, day)\n",
    "    # Define a class method from_datetime accepting a datetime object\n",
    "    @classmethod\n",
    "    def from_datetime(cls, datetime):\n",
    "        year = datetime.year\n",
    "        month = datetime.month\n",
    "        day = datetime.day\n",
    "        return cls(year, month, day)\n",
    "# You should be able to run the code below with no errors: \n",
    "today = datetime.today()     \n",
    "bd = BetterDate.from_datetime(today)   \n",
    "print(bd.year)\n",
    "print(bd.month)\n",
    "print(bd.day)"
   ]
  },
  {
   "cell_type": "markdown",
   "metadata": {},
   "source": [
    "<b> Conclusión  </b>\n",
    "\n",
    "¡Buen trabajo con esos métodos de clase! Hay otro tipo de métodos que no están ligados a una instancia de clase: los métodos estáticos, definidos con el decorador @staticmethod. Se utilizan principalmente para funciones de ayuda o de utilidad que también podrían vivir fuera de la clase, pero que tienen más sentido cuando se agrupan en la clase. Los métodos estáticos están fuera del alcance de esta clase, pero puedes leer sobre ellos aquí."
   ]
  },
  {
   "cell_type": "markdown",
   "metadata": {},
   "source": [
    "### Herencia de clases\n",
    "\n",
    "- La herencia de clases es un mecanismo mediante el cual podemos definir una nueva clase que obtiene todos las funcionalidades de otra clase mas tal vez algo extra sin volver a implementar codigo \n",
    "\n",
    "- El hecho de que las instancias de una clase hija sean también instancias de la clase padre permite crear las interfaces consistentes. En cualquier lugar en el que un Contador pudiera ir -- por ejemplo, como argumento de una función, podrás usar Indexador en su lugar porque tiene los mismos métodos y atributos que Contador."
   ]
  },
  {
   "cell_type": "markdown",
   "metadata": {},
   "source": [
    "</b>Crear una subclase </b>\n",
    "\n",
    "- El propósito de las clases hijas -o subclases, como suelen llamarse- es personalizar y extender la funcionalidad de la clase padre.\n",
    "\n",
    "- Recuerde la clase Empleado de este curso. En la mayoría de las organizaciones, los gerentes disfrutan de más privilegios y más responsabilidades que un empleado normal. Así que tendría sentido introducir una clase Manager que tenga más funcionalidad que Employee. Pero un Gerente sigue siendo un empleado, por lo que la clase Gerente debe ser heredada de la clase Empleado."
   ]
  },
  {
   "cell_type": "code",
   "execution_count": null,
   "metadata": {},
   "outputs": [],
   "source": []
  },
  {
   "cell_type": "code",
   "execution_count": 7,
   "metadata": {},
   "outputs": [
    {
     "name": "stdout",
     "output_type": "stream",
     "text": [
      "Debbie Lashko\n"
     ]
    }
   ],
   "source": [
    "class Employee:\n",
    "    MIN_SALARY = 30000\n",
    "    def __init__(self, name, salary=MIN_SALARY):\n",
    "        self.name = name\n",
    "        if salary >= Employee.MIN_SALARY:\n",
    "            self.salary = salary\n",
    "        else:\n",
    "            self.salary = Employee.MIN_SALARY\n",
    "        \n",
    "        def give_raise(self, amount):\n",
    "            self.salary += amount\n",
    "# Define a new class Manager inheriting from Employee\n",
    "class Manager(Employee):\n",
    "    pass\n",
    "# Define a Manager object\n",
    "mng = Manager(\"Debbie Lashko\", 86500)\n",
    "# Print mng's name\n",
    "print(mng.name)"
   ]
  },
  {
   "cell_type": "markdown",
   "metadata": {},
   "source": [
    "- Remove the pass statement and add a display() method to the Manager class that just prints the string \"Manager\" followed by the full name, e.g. \"Manager Katie Flatcher\"\n",
    "\n",
    "- Call the .display()method from the mnginstance."
   ]
  },
  {
   "cell_type": "code",
   "execution_count": 10,
   "metadata": {},
   "outputs": [
    {
     "name": "stdout",
     "output_type": "stream",
     "text": [
      "Debbie Lashko\n",
      "Manager  Debbie Lashko\n"
     ]
    }
   ],
   "source": [
    "class Employee:\n",
    "    MIN_SALARY = 30000    \n",
    "    def __init__(self, name, salary=MIN_SALARY):\n",
    "        self.name = name\n",
    "        if salary >= Employee.MIN_SALARY:\n",
    "            self.salary = salary\n",
    "        else:\n",
    "            self.salary = Employee.MIN_SALARY\n",
    "    def give_raise(self, amount):\n",
    "        self.salary += amount\n",
    "# MODIFY Manager class and add a display method\n",
    "class Manager(Employee):\n",
    "    def display(self):\n",
    "        print(\"Manager \", self.name)\n",
    "mng = Manager(\"Debbie Lashko\", 86500)\n",
    "print(mng.name)\n",
    "# Call mng.display()\n",
    "mng.display()"
   ]
  },
  {
   "cell_type": "code",
   "execution_count": null,
   "metadata": {},
   "outputs": [],
   "source": []
  },
  {
   "cell_type": "code",
   "execution_count": null,
   "metadata": {},
   "outputs": [],
   "source": []
  },
  {
   "cell_type": "code",
   "execution_count": null,
   "metadata": {},
   "outputs": [],
   "source": []
  }
 ],
 "metadata": {
  "kernelspec": {
   "display_name": "Python 3",
   "language": "python",
   "name": "python3"
  },
  "language_info": {
   "codemirror_mode": {
    "name": "ipython",
    "version": 3
   },
   "file_extension": ".py",
   "mimetype": "text/x-python",
   "name": "python",
   "nbconvert_exporter": "python",
   "pygments_lexer": "ipython3",
   "version": "3.8.5"
  }
 },
 "nbformat": 4,
 "nbformat_minor": 4
}
