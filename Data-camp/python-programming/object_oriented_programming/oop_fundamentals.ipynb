{
 "cells": [
  {
   "cell_type": "markdown",
   "metadata": {},
   "source": [
    "## OOP Principios\n",
    "### Adrián Vázquez \n",
    "#### 08/07/21"
   ]
  },
  {
   "cell_type": "code",
   "execution_count": null,
   "metadata": {},
   "outputs": [],
   "source": []
  },
  {
   "cell_type": "code",
   "execution_count": null,
   "metadata": {},
   "outputs": [],
   "source": []
  },
  {
   "cell_type": "markdown",
   "metadata": {},
   "source": [
    "<b> Objeto: </b>\n",
    "\n",
    "- Se trata de un ente abstracto usado en programación que permite separar los diferentes componentes de un programa, simplificando así su elaboración, depuración y posteriores mejoras. Los objetos integran, a diferencia de los métodos procedurales, tanto los procedimientos como las variables y datos referentes al objeto. A los objetos se les otorga ciertas características en la vida real. Cada parte del programa que se desea realizar es tratado como objeto, siendo así estas partes independientes las unas de las otras.Los objetos se componen de 3 partes fundamentales: metodos, eventos y atributos.\n",
    "\n",
    "\n",
    "<b> Métodos: </b>\n",
    "\n",
    "- Son aquellas funciones que permite efectuar el objeto y que nos rinden algún tipo de servicio durante el transcurso del programa. Determinan a su vez como va a responder el objeto cuando recibe un mensaje.\n",
    "\n",
    "\n",
    "<b> Eventos: </b>\n",
    "\n",
    "- Son aquellas acciones mediante las cuales el objeto reconoce que se está interactuando con él. De esta forma el objeto se activa y responde al evento según lo programado en su código.\n",
    "\n",
    "<b> Atributos: </b>\n",
    "\n",
    "- Características que aplican al objeto solo en el caso en que el sea visible en pantalla por el usuario; entonces sus atributos son el aspecto que refleja, tanto en color, tamaño, posición, si está o no habilitado."
   ]
  },
  {
   "cell_type": "markdown",
   "metadata": {},
   "source": [
    "Entender las definiciones de las clases\n",
    "Los objetos y las clases constan de atributos (que almacenan el estado) y métodos (que almacenan el comportamiento)."
   ]
  },
  {
   "cell_type": "markdown",
   "metadata": {},
   "source": [
    "<b> Ejercicio </b>\n",
    "\n",
    "empezarás a construir la clase Empleado que exploraste brevemente en la lección anterior. Empezarás creando métodos que establezcan atributos, y luego añadirás algunos métodos que los manipulen.\n",
    "\n",
    "Crea una clase vacía Empleado.\n",
    "Crea un objeto emp de la clase Empleado llamando a Employee().\n",
    "Intenta imprimir el atributo .name del objeto emp en la consola. ¿Qué ocurre?"
   ]
  },
  {
   "cell_type": "code",
   "execution_count": 2,
   "metadata": {},
   "outputs": [],
   "source": [
    "# Create an empty class Employee\n",
    "class Employee:\n",
    "    pass\n",
    "# Create an object emp of class Employee  \n",
    "emp = Employee()"
   ]
  },
  {
   "cell_type": "markdown",
   "metadata": {},
   "source": [
    "- Modifique la clase Empleado para incluir un método .set_name() que tome un argumento new_name, y asigne new_name al atributo .name de la clase.\n",
    "\n",
    "- Utilice el método set_name() en emp para establecer el nombre a 'Korel Rossi'. Imprime emp.name.\n"
   ]
  },
  {
   "cell_type": "code",
   "execution_count": 3,
   "metadata": {},
   "outputs": [
    {
     "name": "stdout",
     "output_type": "stream",
     "text": [
      "Korel Rossi\n"
     ]
    }
   ],
   "source": [
    "# Include a set_name method\n",
    "class Employee:\n",
    "    def set_name(self, new_name):\n",
    "        self.name = new_name\n",
    "# Create an object emp of class Employee  \n",
    "emp = Employee()\n",
    "# Use set_name() on emp to set the name of emp to 'Korel Rossi'\n",
    "emp.set_name('Korel Rossi')\n",
    "# Print the name of emp\n",
    "print(emp.name)"
   ]
  },
  {
   "cell_type": "markdown",
   "metadata": {},
   "source": [
    "- Sigue el patrón para añadir otro método - set_salary() - que establecerá el atributo salario de la clase al parámetro new_salary pasado al método.\n",
    "\n",
    "- Establece el salario de emp a 50000."
   ]
  },
  {
   "cell_type": "code",
   "execution_count": 4,
   "metadata": {},
   "outputs": [],
   "source": [
    "class Employee:\n",
    "    def set_name(self, new_name):\n",
    "        self.name = new_name\n",
    "  # Add set_salary() method\n",
    "    def set_salary(self, new_salary):\n",
    "        self.salary = new_salary\n",
    "# Create an object emp of class Employee  \n",
    "emp = Employee()\n",
    "# Use set_name to set the name of emp to 'Korel Rossi'\n",
    "emp.set_name('Korel Rossi')\n",
    "# Set the salary of emp to 50000\n",
    "emp.set_salary(50000)"
   ]
  },
  {
   "cell_type": "markdown",
   "metadata": {},
   "source": [
    "<b> Uso de atributos en la definición de clases. </b>\n",
    "\n",
    "- En el ejercicio anterior, has definido una clase Empleado con dos atributos y dos métodos que establecen dichos atributos. Este tipo de método, llamado apropiadamente método setter, está lejos de ser el único posible. Los métodos son funciones, así que todo lo que se puede hacer con una función, también se puede hacer con un método. Por ejemplo, puedes usar métodos para imprimir, devolver valores, hacer gráficos y lanzar excepciones, siempre que tenga sentido como comportamiento de los objetos descritos por la clase (un Empleado probablemente no tendría un método pivot_table()).\n",
    "\n",
    "- En este ejercicio, irás más allá de los métodos setter y aprenderás a utilizar los atributos de clase existentes para definir nuevos métodos. La clase Empleado y el objeto emp del ejercicio anterior están en su panel de script."
   ]
  },
  {
   "cell_type": "markdown",
   "metadata": {},
   "source": [
    "Imprime el atributo salario de emp.\n",
    "Los atributos no son de sólo lectura: utilice la asignación (signo de igualdad) para aumentar el atributo salario de emp en 1500, e imprímalo de nuevo."
   ]
  },
  {
   "cell_type": "code",
   "execution_count": 5,
   "metadata": {},
   "outputs": [
    {
     "name": "stdout",
     "output_type": "stream",
     "text": [
      "50000\n",
      "51500\n"
     ]
    }
   ],
   "source": [
    "class Employee:\n",
    "    def set_name(self, new_name):\n",
    "        self.name = new_name\n",
    "    def set_salary(self, new_salary):\n",
    "        self.salary = new_salary \n",
    "emp = Employee()\n",
    "emp.set_name('Korel Rossi')\n",
    "emp.set_salary(50000)\n",
    "# Print the salary attribute of emp\n",
    "print(emp.salary)\n",
    "# Increase salary of emp by 1500\n",
    "emp.salary = emp.salary + 1500\n",
    "# Print the salary attribute of emp again\n",
    "print(emp.salary)"
   ]
  },
  {
   "cell_type": "markdown",
   "metadata": {},
   "source": [
    "Aumentar el salario de un empleado es un patrón de comportamiento común, por lo que debería ser parte de la definición de la clase.\n",
    "\n",
    "Añade un método give_raise() a Employee que aumente el salario en la cantidad pasada a give_raise() como parámetro."
   ]
  },
  {
   "cell_type": "code",
   "execution_count": 6,
   "metadata": {},
   "outputs": [
    {
     "name": "stdout",
     "output_type": "stream",
     "text": [
      "50000\n",
      "51500\n"
     ]
    }
   ],
   "source": [
    "class Employee:\n",
    "    def set_name(self, new_name):\n",
    "        self.name = new_name\n",
    "    def set_salary(self, new_salary):\n",
    "        self.salary = new_salary \n",
    "    # Add a give_raise() method with raise amount as a parameter\n",
    "    def give_raise(self, amount):\n",
    "        self.salary = self.salary + amount\n",
    "emp = Employee()\n",
    "emp.set_name('Korel Rossi')\n",
    "emp.set_salary(50000)\n",
    "print(emp.salary)\n",
    "emp.give_raise(1500)\n",
    "print(emp.salary)"
   ]
  },
  {
   "cell_type": "markdown",
   "metadata": {},
   "source": [
    "Los métodos no tienen que limitarse a modificar los atributos, ¡también pueden devolver valores!\n",
    "Añade un método monthly_salary() que devuelva el valor del atributo .salary dividido por 12.\n",
    "Llama a .monthly_salary() en emp, asígnalo a mon_sal, e imprime."
   ]
  },
  {
   "cell_type": "code",
   "execution_count": 7,
   "metadata": {},
   "outputs": [
    {
     "name": "stdout",
     "output_type": "stream",
     "text": [
      "4166.666666666667\n"
     ]
    }
   ],
   "source": [
    "class Employee:\n",
    "    def set_name(self, new_name):\n",
    "        self.name = new_name\n",
    "    def set_salary(self, new_salary):\n",
    "        self.salary = new_salary \n",
    "    def give_raise(self, amount):\n",
    "        self.salary = self.salary + amount\n",
    "    # Add monthly_salary method that returns 1/12th of salary attribute\n",
    "    def monthly_salary(self):\n",
    "        return self.salary / 12\n",
    "emp = Employee()\n",
    "emp.set_name('Korel Rossi')\n",
    "emp.set_salary(50000)\n",
    "# Get monthly salary of emp and assign to mon_sal\n",
    "mon_sal = emp.monthly_salary()\n",
    "# Print mon_sal\n",
    "print(mon_sal)"
   ]
  },
  {
   "cell_type": "markdown",
   "metadata": {},
   "source": [
    "### Python permite agregar un método especial llamado <b> Constructor </b>. que se llama cada vez que se crea un objeto. \n",
    "\n",
    "- Se tiene que mandar a llamar asi: ejemplo  __init__()\n",
    "\n",
    "NOTA: \n",
    "\n",
    "Si es posible, intente evitar definir atributos fuera del constructor."
   ]
  },
  {
   "cell_type": "markdown",
   "metadata": {},
   "source": [
    "- Para nombrar sus clases, use CamelCase, lo que significa que si el nombre de su clase contiene varias palabras, deben escribirse sin delimitadores y cada palabra comenzar con una letra Mayuscula. \n",
    "\n",
    "- Para los metodos y los atributos es lo contrario. Deben estar separados por guiones bajos y comenzar con letras minusculas"
   ]
  },
  {
   "cell_type": "markdown",
   "metadata": {},
   "source": [
    "<b> Añadir un constructor de clase </b>\n",
    "\n",
    "- En este ejercicio, seguirás trabajando en la clase Empleado. En lugar de utilizar los métodos como set_salary() que escribiste en la lección anterior, introducirás un constructor que asigne el nombre y el salario al empleado en el momento de la creación del objeto.\n",
    "\n",
    "- También crearás un nuevo atributo -- hire_date -- que no se inicializará mediante parámetros, sino que contendrá la fecha actual.\n",
    "\n",
    "- Inicializar los atributos en el constructor es una buena idea, porque esto asegura que el objeto tiene todos los atributos necesarios en el momento en que se crea."
   ]
  },
  {
   "cell_type": "markdown",
   "metadata": {},
   "source": [
    "- Define the class Employee with a constructor __init__() that:\n",
    "   - accepts two arguments, name and salary (with default value0),\n",
    "   - creates two attributes, also called name and salary,\n",
    "   - sets their values to the corresponding arguments."
   ]
  },
  {
   "cell_type": "code",
   "execution_count": 8,
   "metadata": {},
   "outputs": [
    {
     "name": "stdout",
     "output_type": "stream",
     "text": [
      "Korel Rossi\n",
      "0\n"
     ]
    }
   ],
   "source": [
    "class Employee:\n",
    "    # Create __init__() method\n",
    "    def  __init__(self, name, salary = 0):\n",
    "        # Create the name and salary attributes\n",
    "        self.name = name\n",
    "        self.salary = salary\n",
    "    # From the previous lesson\n",
    "    def give_raise(self, amount):\n",
    "        self.salary += amount\n",
    "    def monthly_salary(self):\n",
    "        return self.salary/12\n",
    "emp = Employee(\"Korel Rossi\")\n",
    "print(emp.name)\n",
    "print(emp.salary)"
   ]
  },
  {
   "cell_type": "markdown",
   "metadata": {},
   "source": [
    "- The __init__() method is a great place to do preprocessing.\n",
    "- Modify __init__() to check whether the salary parameter is positive:\n",
    "    - if yes, assign it to the salary attribute,\n",
    "    - if not, assign 0 to the attribute and print \"Invalid salary!\".\n"
   ]
  },
  {
   "cell_type": "code",
   "execution_count": 9,
   "metadata": {},
   "outputs": [
    {
     "name": "stdout",
     "output_type": "stream",
     "text": [
      "Invalid salary!\n",
      "Korel Rossi\n",
      "0\n"
     ]
    }
   ],
   "source": [
    "class Employee:\n",
    "    def __init__(self, name, salary):\n",
    "        self.name = name\n",
    "        # Modify code below to check if salary is positive\n",
    "        if  salary > 0:\n",
    "            self.salary = salary\n",
    "        else:\n",
    "            self.salary = 0\n",
    "            print('Invalid salary!')\n",
    "   # ...Other methods omitted for brevity ...\n",
    "emp = Employee(\"Korel Rossi\", -1000)\n",
    "print(emp.name)\n",
    "print(emp.salary)"
   ]
  },
  {
   "cell_type": "markdown",
   "metadata": {},
   "source": [
    "- Import datetime from the datetime module. This contains the function that returns current date.\n",
    "- Add an attribute hire_date and set it to datetime.today()."
   ]
  },
  {
   "cell_type": "code",
   "execution_count": 11,
   "metadata": {},
   "outputs": [
    {
     "name": "stdout",
     "output_type": "stream",
     "text": [
      "Invalid salary!\n",
      "Korel Rossi\n",
      "2021-07-12 08:45:02.768812\n"
     ]
    }
   ],
   "source": [
    "# Import datetime from datetime\n",
    "from datetime import datetime\n",
    "class Employee:\n",
    "    def __init__(self, name, salary=0):\n",
    "        self.name = name\n",
    "        if salary > 0:\n",
    "            self.salary = salary\n",
    "        else:\n",
    "            self.salary = 0\n",
    "            print(\"Invalid salary!\")\n",
    "        # Add the hire_date attribute and set it to today's date\n",
    "        self.hire_date = datetime.today()\n",
    "   # ...Other methods omitted for brevity ...\n",
    "emp = Employee(\"Korel Rossi\")\n",
    "print(emp.name)\n",
    "print(emp.hire_date)"
   ]
  },
  {
   "cell_type": "markdown",
   "metadata": {},
   "source": [
    "#### Nota: \n",
    "\n",
    "- Fíjate en que has tenido que añadir la sentencia import para usar la función today(). Puedes usar funciones de otros módulos en la definición de tu clase, pero necesitas importar el módulo primero, y la sentencia import tiene que estar fuera de la definición de la clase."
   ]
  },
  {
   "cell_type": "markdown",
   "metadata": {},
   "source": [
    "<b> Escribir una clase desde cero </b>\n",
    "\n",
    "- Usted es un desarrollador de Python que escribe un paquete de visualización. Para cualquier elemento en una visualización, quieres ser capaz de decir la posición del elemento, lo lejos que está de otros elementos, y fácilmente implementar el volteo horizontal o vertical .\n",
    "\n",
    " - El elemento más básico de cualquier visualización es un único punto. En este ejercicio, escribirás una clase para un punto en un plano desde cero."
   ]
  },
  {
   "cell_type": "code",
   "execution_count": 27,
   "metadata": {},
   "outputs": [],
   "source": [
    "# For use of np.sqrt\n",
    "import numpy as np\n",
    "\n",
    "class Point:\n",
    "    \"\"\" A point on a 2D plane\n",
    "   Attributes\n",
    "    ----------\n",
    "    x : float, default 0.0. The x coordinate of the point        \n",
    "    y : float, default 0.0. The y coordinate of the point\n",
    "    \"\"\"\n",
    "    def __init__(self, x=0.0, y=0.0):\n",
    "        self.x = x\n",
    "        self.y = y\n",
    "    def distance_to_origin(self):\n",
    "#Calculate distance from the point to the origin (0,0)\"\"\"\n",
    "      return np.sqrt(self.x ** 2 + self.y ** 2)\n",
    "    def reflect(self, axis):\n",
    "# Reflect the point with respect to x or y axis.\"\"\"\n",
    "        if axis == \"x\":\n",
    "            self.y = - self.y\n",
    "        elif axis == \"y\":\n",
    "            self.x = - self.x\n",
    "        else:\n",
    "            print(\"The argument axis only accepts values 'x' and 'y'!\")"
   ]
  },
  {
   "cell_type": "code",
   "execution_count": 31,
   "metadata": {},
   "outputs": [
    {
     "name": "stdout",
     "output_type": "stream",
     "text": [
      "(-3.0, 0.0)\n",
      "5.0\n"
     ]
    }
   ],
   "source": [
    "pt = Point(x = 3.0)\n",
    "pt.reflect('y')\n",
    "print((pt.x,pt.y))\n",
    "pt.y = 4.0\n",
    "print(pt.distance_to_origin())"
   ]
  },
  {
   "cell_type": "markdown",
   "metadata": {},
   "source": [
    "#### Conclusión. \n",
    "\n",
    "- Fíjate en cómo has implementado distance_to_origin() como un método en lugar de un atributo. Implementarlo como un atributo sería menos sostenible - tendrías que recalcularlo cada vez que cambies los valores de los atributos x e y para asegurarte de que el estado del objeto se mantiene actualizado."
   ]
  },
  {
   "cell_type": "markdown",
   "metadata": {},
   "source": []
  },
  {
   "cell_type": "markdown",
   "metadata": {},
   "source": [
    "- Add a move() method with a steps parameter such that:\n",
    "   - if position plus steps is less than MAX_POSITION, then add steps to position and assign the result back to position;\n",
    "   - otherwise, set position to MAX_POSITION."
   ]
  },
  {
   "cell_type": "code",
   "execution_count": 35,
   "metadata": {},
   "outputs": [
    {
     "name": "stdout",
     "output_type": "stream",
     "text": [
      "|----------\n",
      "----|------\n",
      "---------|-\n",
      "----------|\n"
     ]
    }
   ],
   "source": [
    "class Player:\n",
    "    MAX_POSITION = 10\n",
    "    MAX_SPEED = 3\n",
    "    def __init__(self):\n",
    "        self.position = 0\n",
    "    # Add a move() method with steps parameter     \n",
    "    def move(self, steps):\n",
    "        if self.position + steps < Player.MAX_POSITION:\n",
    "            self.position = self.position + steps \n",
    "        else:\n",
    "            self.position = Player.MAX_POSITION\n",
    "    # This method provides a rudimentary visualization in the console    \n",
    "    def draw(self):\n",
    "        drawing = \"-\" * self.position + \"|\" +\"-\"*(Player.MAX_POSITION - self.position)\n",
    "        print(drawing)\n",
    "p = Player(); p.draw()\n",
    "p.move(4); p.draw()\n",
    "p.move(5); p.draw()\n",
    "p.move(3); p.draw()"
   ]
  },
  {
   "cell_type": "markdown",
   "metadata": {},
   "source": [
    "<b> Cambiando los atributos de la clase. </b>\n",
    "\n",
    "- Has aprendido a definir los atributos de la clase y a acceder a ellos desde las instancias de la clase. Entonces, ¿qué ocurrirá si intentas asignar otro valor a un atributo de clase al acceder a él desde una instancia? La respuesta no es tan sencilla como podrías pensar.\n",
    "\n",
    "- La clase Player del ejercicio anterior está predefinida. Recuerda que tiene un atributo de instancia de posición, y atributos de clase MAX_SPEED y MAX_POSITION. El valor inicial de MAX_SPEED es 3."
   ]
  },
  {
   "cell_type": "markdown",
   "metadata": {},
   "source": [
    "<b> Create two Player objects p1 and p2. </b>\n",
    "\n",
    "- Print p1.MAX_SPEED and p2.MAX_SPEED.\n",
    "- Assign 7 to p1.MAX_SPEED.\n",
    "- Print p1.MAX_SPEED and p2.MAX_SPEED again.\n",
    "- Print Player.MAX_SPEED.\n",
    "- Examine the output carefully."
   ]
  },
  {
   "cell_type": "code",
   "execution_count": 37,
   "metadata": {},
   "outputs": [
    {
     "name": "stdout",
     "output_type": "stream",
     "text": [
      "MAX_SPEED of p1 and p2 before assignment:\n",
      "3\n",
      "3\n",
      "MAX_SPEED of p1 and p2 after assignment:\n",
      "7\n",
      "3\n",
      "MAX_SPEED of Player:\n",
      "3\n"
     ]
    }
   ],
   "source": [
    "# Create Players p1 and p2\n",
    "p1 = Player()\n",
    "p2 = Player()\n",
    "print(\"MAX_SPEED of p1 and p2 before assignment:\")\n",
    "# Print p1.MAX_SPEED and p2.MAX_SPEED\n",
    "print(p1.MAX_SPEED)\n",
    "print(p2.MAX_SPEED)\n",
    "# Assign 7 to p1.MAX_SPEED\n",
    "p1.MAX_SPEED = 7\n",
    "print(\"MAX_SPEED of p1 and p2 after assignment:\")\n",
    "# Print p1.MAX_SPEED and p2.MAX_SPEED\n",
    "print(p1.MAX_SPEED)\n",
    "print(p2.MAX_SPEED)\n",
    "print(\"MAX_SPEED of Player:\")\n",
    "# Print Player.MAX_SPEED\n",
    "print(Player.MAX_SPEED)"
   ]
  },
  {
   "cell_type": "markdown",
   "metadata": {},
   "source": [
    "Even though MAX_SPEED is shared across instances, assigning 7 to p1.MAX_SPEED didn't change the value of MAX_SPEED in p2, or in the Player class.\n",
    "\n",
    "So what happened? In fact, Python created a new instance attribute in p1, also called it MAX_SPEED, and assigned 7 to it, without touching the class attribute.\n",
    "\n",
    "Now let's change the class attribute value for real.\n",
    "\n",
    "Modify the assignment to assign 7 to Player.MAX_SPEED instead."
   ]
  },
  {
   "cell_type": "code",
   "execution_count": 38,
   "metadata": {},
   "outputs": [
    {
     "name": "stdout",
     "output_type": "stream",
     "text": [
      "MAX_SPEED of p1 and p2 before assignment:\n",
      "3\n",
      "3\n",
      "MAX_SPEED of p1 and p2 after assignment:\n",
      "7\n",
      "7\n",
      "MAX_SPEED of Player:\n",
      "7\n"
     ]
    }
   ],
   "source": [
    "# Create Players p1 and p2\n",
    "p1, p2 = Player(), Player()\n",
    "print(\"MAX_SPEED of p1 and p2 before assignment:\")\n",
    "# Print p1.MAX_SPEED and p2.MAX_SPEED\n",
    "print(p1.MAX_SPEED)\n",
    "print(p2.MAX_SPEED)\n",
    "# ---MODIFY THIS LINE--- \n",
    "Player.MAX_SPEED = 7\n",
    "print(\"MAX_SPEED of p1 and p2 after assignment:\")\n",
    "# Print p1.MAX_SPEED and p2.MAX_SPEED\n",
    "print(p1.MAX_SPEED)\n",
    "print(p2.MAX_SPEED)\n",
    "print(\"MAX_SPEED of Player:\")\n",
    "# Print Player.MAX_SPEED\n",
    "print(Player.MAX_SPEED)"
   ]
  },
  {
   "cell_type": "markdown",
   "metadata": {},
   "source": [
    "<B> Conclusión:  </B>\n",
    "\n",
    "- No es obvio, ¿verdad? Pero tiene sentido, cuando lo piensas. No deberías poder cambiar los datos de todas las instancias de la clase a través de una sola instancia. Imagina que pudieras cambiar la hora de todos los ordenadores del mundo cambiando la hora de tu propio ordenador. Si quieres cambiar el valor del atributo de la clase en tiempo de ejecución, tienes que hacerlo refiriéndote al nombre de la clase, no a través de una instancia."
   ]
  },
  {
   "cell_type": "code",
   "execution_count": null,
   "metadata": {},
   "outputs": [],
   "source": []
  }
 ],
 "metadata": {
  "kernelspec": {
   "display_name": "Python 3",
   "language": "python",
   "name": "python3"
  },
  "language_info": {
   "codemirror_mode": {
    "name": "ipython",
    "version": 3
   },
   "file_extension": ".py",
   "mimetype": "text/x-python",
   "name": "python",
   "nbconvert_exporter": "python",
   "pygments_lexer": "ipython3",
   "version": "3.8.5"
  }
 },
 "nbformat": 4,
 "nbformat_minor": 4
}
