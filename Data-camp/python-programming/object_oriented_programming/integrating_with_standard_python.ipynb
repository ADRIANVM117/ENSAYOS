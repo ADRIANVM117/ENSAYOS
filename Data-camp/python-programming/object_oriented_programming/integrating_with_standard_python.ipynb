{
 "cells": [
  {
   "cell_type": "markdown",
   "metadata": {},
   "source": [
    "## Integración con Python\n",
    "### Adrián Vázquez \n",
    "#### 19/07/21"
   ]
  },
  {
   "cell_type": "markdown",
   "metadata": {},
   "source": [
    "<b> Sobrecarga de la igualdad. </b>\n",
    "\n",
    "- Cuando se comparan dos objetos de una clase personalizada utilizando ==, Python compara por defecto sólo las referencias de los objetos, no los datos contenidos en ellos. Para anular este comportamiento, la clase puede implementar el método especial __eq__(), que acepta dos argumentos -- los objetos a comparar -- y devuelve True o False. Este método será llamado implícitamente cuando se comparen dos objetos.\n",
    "\n",
    "- La clase BankAccount del capítulo anterior está disponible en el panel de scripts. Tiene un atributo, balance, y un método withdraw(). Dos cuentas bancarias con el mismo balance no son necesariamente la misma cuenta, pero una cuenta bancaria usualmente tiene un número de cuenta, y dos cuentas con el mismo número de cuenta deben ser consideradas iguales."
   ]
  },
  {
   "cell_type": "markdown",
   "metadata": {},
   "source": [
    "- Try selecting the code in lines 1-7 and pressing the \"Run code\" button. Then try to create a few BankAccount objects in the console and compare them.\n",
    "\n",
    "- Modify the __init__() method to accept a new parameter - number - and initialize a new number attribute.\n",
    "\n",
    "- Define an __eq__() method that returns True if the number attribute of two objects is equal.\n",
    "\n",
    "- Examine the print statements and the output in the console."
   ]
  },
  {
   "cell_type": "code",
   "execution_count": 2,
   "metadata": {},
   "outputs": [
    {
     "name": "stdout",
     "output_type": "stream",
     "text": [
      "True\n",
      "False\n"
     ]
    }
   ],
   "source": [
    "class BankAccount:\n",
    "     # MODIFY to initialize a number attribute\n",
    "    def __init__(self, number, balance=0):\n",
    "        self.balance = balance\n",
    "        self.number = number\n",
    "    def withdraw(self, amount):\n",
    "        self.balance -= amount \n",
    "    # Define __eq__ that returns True if the number attributes are equal \n",
    "    def __eq__(self, other):\n",
    "        return self.number == other.number    \n",
    "acct1 = BankAccount(123, 1000)\n",
    "acct2 = BankAccount(123, 1000)\n",
    "acct3 = BankAccount(456, 1000)\n",
    "print(acct1 == acct2)\n",
    "print(acct1 == acct3)"
   ]
  },
  {
   "cell_type": "markdown",
   "metadata": {},
   "source": [
    "<b> Conclusión. </b>\n",
    "\n",
    "- Observe que su método sólo compara los números de cuenta, pero no los saldos. ¿Qué pasaría si dos cuentas tienen el mismo número de cuenta pero diferentes saldos? El código que has escrito tratará estas cuentas como iguales, pero podría ser mejor lanzar un error - una excepción - en su lugar, informando al usuario de que algo está mal. Al final del capítulo, aprenderás a definir tus propias clases de excepción para crear este tipo de errores personalizados."
   ]
  },
  {
   "cell_type": "markdown",
   "metadata": {},
   "source": [
    "<b> Comprobación de la igualdad de las clases. </b>\n",
    "\n",
    "- En el ejercicio anterior, usted definió una clase BankAccount con un atributo numérico que se utilizó para la comparación. Pero si se compara un objeto BankAccount con un objeto de otra clase que también tiene un atributo numérico, se pueden obtener resultados inesperados.\n",
    "\n",
    "- Por ejemplo, considere dos clases"
   ]
  },
  {
   "cell_type": "code",
   "execution_count": 5,
   "metadata": {},
   "outputs": [],
   "source": [
    "class BankAccount:\n",
    "    def __init__(self, number):\n",
    "        self.number = number\n",
    "    def __eq__(self, other):\n",
    "        return self.number == other.number\n",
    "acct = BankAccount(873555333)"
   ]
  },
  {
   "cell_type": "code",
   "execution_count": 7,
   "metadata": {},
   "outputs": [],
   "source": [
    "class Phone:\n",
    "    def __init__(self, number):\n",
    "        self.number = number\n",
    "    def __eq__(self, other):\n",
    "        return self.number == other.number\n",
    "pn = Phone(873555333)"
   ]
  },
  {
   "cell_type": "markdown",
   "metadata": {},
   "source": [
    "Ejecutar acct == pn devolverá True, aunque estemos comparando un número de teléfono con un número de cuenta bancaria.\n",
    "Es una buena práctica comprobar la clase de los objetos pasados al método __eq__() para asegurarse de que la comparación tiene sentido."
   ]
  },
  {
   "cell_type": "markdown",
   "metadata": {},
   "source": [
    "- Both the Phone and the BankAccount classes have been defined. Try running the code as-is using the \"Run code\" button and examine the output.\n",
    "\n",
    "- Modify the definition of BankAccount to only return True if the number attribute is the same and the type() of both objects passed to it is the same.\n",
    "\n",
    "- Run the code and examine the output again."
   ]
  },
  {
   "cell_type": "code",
   "execution_count": 8,
   "metadata": {},
   "outputs": [
    {
     "name": "stdout",
     "output_type": "stream",
     "text": [
      "False\n"
     ]
    }
   ],
   "source": [
    "class BankAccount:\n",
    "    def __init__(self, number, balance=0):\n",
    "        self.number, self.balance = number, balance\n",
    "    def withdraw(self, amount):\n",
    "        self.balance -= amount \n",
    "    # MODIFY to add a check for the type()\n",
    "    def __eq__(self, other):\n",
    "        return (self.number == other.number) and (type(self) == type(other))    \n",
    "acct = BankAccount(873555333)      \n",
    "pn = Phone(873555333)\n",
    "print(acct == pn)"
   ]
  },
  {
   "cell_type": "markdown",
   "metadata": {},
   "source": [
    "<b> Conclusión </b>\n",
    "\n",
    "- Ahora sólo comparando objetos de la misma clase CuentaBanco podría devolver True. Otra forma de asegurar que un objeto tiene el mismo tipo que se espera es utilizar la función isinstance(obj, Class). Esto puede ser útil cuando se maneja la herencia, ya que Python considera que un objeto es una instancia tanto de la clase padre como de la clase hija. Prueba a ejecutar pn == acct en la consola (con el orden de igualdad invertido). ¿Qué te dice esto sobre el método __eq__()?"
   ]
  },
  {
   "cell_type": "markdown",
   "metadata": {},
   "source": [
    "#### Sobrecarga de operador: Representación de cadenas. "
   ]
  },
  {
   "cell_type": "markdown",
   "metadata": {},
   "source": [
    "<b> Representación de objetos en forma de cadena. </b>\n",
    "\n",
    "- Hay dos métodos especiales en Python que devuelven una representación de cadena de un objeto. __str__() se llama cuando se utiliza print() o str() sobre un objeto, y __repr__() se llama cuando se utiliza repr() sobre un objeto, se imprime el objeto en la consola sin llamar a print(), o en lugar de __str__() si __str__() no está definido.\n",
    "\n",
    "- Se supone que __str__() debe proporcionar una salida \"amigable\" que describa un objeto, y __repr__() debe devolver la expresión que, al ser evaluada, devolverá el mismo objeto, asegurando la reproducibilidad de su código.\n",
    "\n",
    "- En este ejercicio, continuará trabajando con la clase Empleado del Capítulo 2."
   ]
  },
  {
   "cell_type": "markdown",
   "metadata": {},
   "source": [
    "- Add the __str__() method to Employee that satisfies the following:\n",
    "  \n",
    "   - If emp is an Employee object with name \"Amar Howard\" and salary of 40000, then print(emp) outputs\n",
    "\n",
    "Employee name: Amar Howard\n",
    "Employee salary: 40000"
   ]
  },
  {
   "cell_type": "code",
   "execution_count": 13,
   "metadata": {},
   "outputs": [
    {
     "name": "stdout",
     "output_type": "stream",
     "text": [
      "\n",
      "            Employee name: Amar Howard \n",
      "            Employee salary: 30000\n",
      "\n",
      "            Employee name: Carolyn Ramirez \n",
      "            Employee salary: 35000\n"
     ]
    }
   ],
   "source": [
    "class Employee:\n",
    "    def __init__(self, name, salary=30000):\n",
    "        self.name, self.salary = name, salary\n",
    "    # Add the __str__() method\n",
    "    def __str__(self):\n",
    "        cust_str = \"\"\"\n",
    "            Employee name: {name} \n",
    "            Employee salary: {salary}\"\"\".format(name = self.name, \\\n",
    "                                           salary = self.salary )\n",
    "        return cust_str\n",
    "    \n",
    "emp1 = Employee(\"Amar Howard\", 30000)\n",
    "print(emp1)\n",
    "emp2 = Employee(\"Carolyn Ramirez\", 35000)\n",
    "print(emp2)"
   ]
  },
  {
   "cell_type": "code",
   "execution_count": 16,
   "metadata": {},
   "outputs": [
    {
     "name": "stdout",
     "output_type": "stream",
     "text": [
      "Employee('Amar Howard', 30000)\n",
      "Employee('Carolyn Ramirez', 35000)\n"
     ]
    }
   ],
   "source": [
    "class Employee:\n",
    "    def __init__(self, name, salary=30000):\n",
    "        self.name, self.salary = name, salary\n",
    "    def __str__(self):\n",
    "        s = \"Employee name: {name}\\nEmployee salary: {salary}\".format(name=self.name, salary=self.salary)      \n",
    "        return s\n",
    "    # Add the __repr__method  \n",
    "    def __repr__(self):\n",
    "        return \"Employee('{name}', {salary})\".format(name = self.name, salary = self.salary)\n",
    "\n",
    "emp1 = Employee(\"Amar Howard\", 30000)\n",
    "print(repr(emp1))\n",
    "emp2 = Employee(\"Carolyn Ramirez\", 35000)\n",
    "print(repr(emp2))"
   ]
  },
  {
   "cell_type": "markdown",
   "metadata": {},
   "source": [
    "### Excepciones "
   ]
  },
  {
   "cell_type": "code",
   "execution_count": null,
   "metadata": {},
   "outputs": [],
   "source": []
  },
  {
   "cell_type": "code",
   "execution_count": null,
   "metadata": {},
   "outputs": [],
   "source": []
  },
  {
   "cell_type": "code",
   "execution_count": null,
   "metadata": {},
   "outputs": [],
   "source": []
  },
  {
   "cell_type": "code",
   "execution_count": null,
   "metadata": {},
   "outputs": [],
   "source": []
  }
 ],
 "metadata": {
  "kernelspec": {
   "display_name": "Python 3",
   "language": "python",
   "name": "python3"
  },
  "language_info": {
   "codemirror_mode": {
    "name": "ipython",
    "version": 3
   },
   "file_extension": ".py",
   "mimetype": "text/x-python",
   "name": "python",
   "nbconvert_exporter": "python",
   "pygments_lexer": "ipython3",
   "version": "3.8.5"
  }
 },
 "nbformat": 4,
 "nbformat_minor": 4
}
