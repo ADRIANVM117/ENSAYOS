{
 "cells": [
  {
   "cell_type": "markdown",
   "metadata": {},
   "source": [
    "# Funciones\n",
    "\n",
    "> Adrián Vázquez Mora    31/03/2021"
   ]
  },
  {
   "cell_type": "markdown",
   "metadata": {},
   "source": [
    "#### ¿Que es una función?\n",
    "\n",
    "> Una función es una pieza de codigo reutilizable, destinada a resolver una tarea en particular \n"
   ]
  },
  {
   "cell_type": "markdown",
   "metadata": {},
   "source": [
    "#### Imprimir tipo de dato\n"
   ]
  },
  {
   "cell_type": "code",
   "execution_count": 2,
   "metadata": {},
   "outputs": [
    {
     "name": "stdout",
     "output_type": "stream",
     "text": [
      "<class 'list'>\n"
     ]
    }
   ],
   "source": [
    "var1 = [1,2,3,4]\n",
    "print(type(var1))     # Función type: nos manda el tipo de variable m"
   ]
  },
  {
   "cell_type": "markdown",
   "metadata": {},
   "source": [
    "#### Tamaño de lista o arreglo "
   ]
  },
  {
   "cell_type": "code",
   "execution_count": 4,
   "metadata": {},
   "outputs": [
    {
     "name": "stdout",
     "output_type": "stream",
     "text": [
      "4\n"
     ]
    }
   ],
   "source": [
    "print(len(var1))      # Funcion len: manda el tamaño de la lista o arreglo"
   ]
  },
  {
   "cell_type": "markdown",
   "metadata": {},
   "source": [
    "#### Función complex()\n",
    "> función utilizada para usar numeros complejos\n",
    ">NOTA: la función toma dos argumentos; real e imag. si no se especifica el imaginario, python \n",
    "te colocara 1 automaticamente \n"
   ]
  },
  {
   "cell_type": "code",
   "execution_count": 11,
   "metadata": {},
   "outputs": [
    {
     "data": {
      "text/plain": [
       "(5-5j)"
      ]
     },
     "execution_count": 11,
     "metadata": {},
     "output_type": "execute_result"
    }
   ],
   "source": [
    "\n",
    "complex(5, -5)"
   ]
  },
  {
   "cell_type": "markdown",
   "metadata": {},
   "source": [
    "#### Función sorted()\n",
    "\n",
    "> Se utiliza para obtener lista ordenada apartir de una desordenada, sin modificar la original.\n",
    "\n"
   ]
  },
  {
   "cell_type": "code",
   "execution_count": 14,
   "metadata": {},
   "outputs": [
    {
     "name": "stdout",
     "output_type": "stream",
     "text": [
      "[1, 3, 6, 8, 20, 21]\n",
      "[21, 20, 8, 6, 3, 1]\n"
     ]
    }
   ],
   "source": [
    "lista = [3,6,8,1,20,21]\n",
    "\n",
    "lista_orden_asendente = sorted(lista, reverse = False)   # Se declara la función en una variable,  \n",
    "print(lista_orden_asendente)                             # y los argumentos(la lista y el orden)\n",
    "\n",
    "lista_orden_descendente = sorted(lista, reverse = True)\n",
    "print(lista_orden_descendente)"
   ]
  },
  {
   "cell_type": "markdown",
   "metadata": {},
   "source": [
    "#### Metodos.\n",
    "\n",
    "> Es una función  que pertenece a un objeto\n",
    "> Todos los metodos son funciones, pero no todas las funciones son metodos"
   ]
  },
  {
   "cell_type": "markdown",
   "metadata": {},
   "source": [
    "> upper()\n",
    "\n",
    ">metodo utilizado para cambiar el formato de una cadena de strings a MAYUSCULAS."
   ]
  },
  {
   "cell_type": "code",
   "execution_count": 17,
   "metadata": {},
   "outputs": [
    {
     "name": "stdout",
     "output_type": "stream",
     "text": [
      "HOLA\n"
     ]
    }
   ],
   "source": [
    "palabra = \"hola\"\n",
    "\n",
    "mayusculas = palabra.upper() # Se declara una variable para utilizar em metodo upper() en el objeto palabra\n",
    "\n",
    "print(mayusculas)          "
   ]
  },
  {
   "cell_type": "markdown",
   "metadata": {},
   "source": [
    "> count()\n",
    "\n",
    "> metodo utilizado para contar  cuantas letras hay en un objeto\n"
   ]
  },
  {
   "cell_type": "code",
   "execution_count": 20,
   "metadata": {},
   "outputs": [
    {
     "name": "stdout",
     "output_type": "stream",
     "text": [
      "2\n"
     ]
    }
   ],
   "source": [
    "palabra = 'vamonos'         #Declaramos objeto\n",
    "print(palabra.count('o'))   #mandamos a imprimir la funcion en el objeto especificando la letra que se\n",
    "                            #desea contar"
   ]
  },
  {
   "cell_type": "code",
   "execution_count": null,
   "metadata": {},
   "outputs": [],
   "source": []
  }
 ],
 "metadata": {
  "kernelspec": {
   "display_name": "Python 3",
   "language": "python",
   "name": "python3"
  },
  "language_info": {
   "codemirror_mode": {
    "name": "ipython",
    "version": 3
   },
   "file_extension": ".py",
   "mimetype": "text/x-python",
   "name": "python",
   "nbconvert_exporter": "python",
   "pygments_lexer": "ipython3",
   "version": "3.8.5"
  }
 },
 "nbformat": 4,
 "nbformat_minor": 4
}
