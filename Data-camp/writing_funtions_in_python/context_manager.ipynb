{
 "cells": [
  {
   "cell_type": "markdown",
   "metadata": {},
   "source": [
    "## Administradores de contexto \n",
    "### Adrián Vázquez \n",
    "#### 24/06/21"
   ]
  },
  {
   "cell_type": "markdown",
   "metadata": {},
   "source": [
    " Un administrador de contexto es un tipo de función que establece un contexto para que su codigo se ejecute, ejecuta su codigo y luego elimina el contexto\n",
    " \n",
    " - La funcion open () es un administrador de texto.\n",
    "   cuando escribe ' with open' abre un archivo desde el que puede leer o escribir. \n",
    "   Luego devuelve el control a su código para que pueda realizar operaciones en el objeto de      archivo\n",
    "   \n",
    "   <B> EJEMPLO --> </B>\n",
    " - Leemos el texto del archivo. Almacenamos el contenido del archivo en la variable texto y        almacenar la longitud del conntenido en la variable 'longitud' cuando el codigo dentro del      bloque es hecho, la funcion ' open () ' se asegura de que el archivo este cerrado antes de      continuar en el script.\n",
    " \n",
    " - La declaración de impresión está fuera del contexto, por lo que en el momento en que se        ejecuta, el archivo esta cerrado"
   ]
  },
  {
   "cell_type": "code",
   "execution_count": 1,
   "metadata": {},
   "outputs": [
    {
     "ename": "FileNotFoundError",
     "evalue": "[Errno 2] No such file or directory: 'my_file.txt'",
     "output_type": "error",
     "traceback": [
      "\u001b[0;31m---------------------------------------------------------------------------\u001b[0m",
      "\u001b[0;31mFileNotFoundError\u001b[0m                         Traceback (most recent call last)",
      "\u001b[0;32m<ipython-input-1-ddea760fb2bc>\u001b[0m in \u001b[0;36m<module>\u001b[0;34m\u001b[0m\n\u001b[0;32m----> 1\u001b[0;31m \u001b[0;32mwith\u001b[0m \u001b[0mopen\u001b[0m\u001b[0;34m(\u001b[0m\u001b[0;34m'my_file.txt'\u001b[0m\u001b[0;34m)\u001b[0m \u001b[0;32mas\u001b[0m \u001b[0mmy_file\u001b[0m\u001b[0;34m:\u001b[0m\u001b[0;34m\u001b[0m\u001b[0;34m\u001b[0m\u001b[0m\n\u001b[0m\u001b[1;32m      2\u001b[0m     \u001b[0mtext\u001b[0m \u001b[0;34m=\u001b[0m \u001b[0mmy_file\u001b[0m\u001b[0;34m.\u001b[0m\u001b[0mread\u001b[0m\u001b[0;34m(\u001b[0m\u001b[0;34m)\u001b[0m\u001b[0;34m\u001b[0m\u001b[0;34m\u001b[0m\u001b[0m\n\u001b[1;32m      3\u001b[0m     \u001b[0mlength\u001b[0m \u001b[0;34m=\u001b[0m \u001b[0mlen\u001b[0m\u001b[0;34m(\u001b[0m\u001b[0mtext\u001b[0m\u001b[0;34m)\u001b[0m\u001b[0;34m\u001b[0m\u001b[0;34m\u001b[0m\u001b[0m\n\u001b[1;32m      4\u001b[0m \u001b[0;34m\u001b[0m\u001b[0m\n\u001b[1;32m      5\u001b[0m \u001b[0mprint\u001b[0m\u001b[0;34m(\u001b[0m\u001b[0;34m'The file is {} characters long'\u001b[0m\u001b[0;34m.\u001b[0m\u001b[0mformat\u001b[0m\u001b[0;34m(\u001b[0m\u001b[0mlength\u001b[0m\u001b[0;34m)\u001b[0m\u001b[0;34m)\u001b[0m\u001b[0;34m\u001b[0m\u001b[0;34m\u001b[0m\u001b[0m\n",
      "\u001b[0;31mFileNotFoundError\u001b[0m: [Errno 2] No such file or directory: 'my_file.txt'"
     ]
    }
   ],
   "source": [
    "with open('my_file.txt') as my_file:\n",
    "    text = my_file.read()\n",
    "    length = len(text)\n",
    "\n",
    "print('The file is {} characters long'.format(length))"
   ]
  },
  {
   "cell_type": "markdown",
   "metadata": {},
   "source": [
    "<b> El número de gatos. </b>\n",
    "\n",
    " - Estás trabajando en un proyecto de procesamiento del lenguaje natural para determinar qué hace que los grandes escritores sean tan grandes. Tu hipótesis actual es que los grandes escritores hablan mucho de gatos.\n",
    " \n",
    " - Para demostrarlo, quieres contar el número de veces que aparece la palabra \"gato\" en \"Las aventuras de Alicia en el país de las maravillas\" de Lewis Carroll. Ya has descargado un archivo de texto, alice.txt, con todo el contenido de este gran libro."
   ]
  },
  {
   "cell_type": "code",
   "execution_count": 4,
   "metadata": {},
   "outputs": [
    {
     "ename": "FileNotFoundError",
     "evalue": "[Errno 2] No such file or directory: 'alice.txt'",
     "output_type": "error",
     "traceback": [
      "\u001b[0;31m---------------------------------------------------------------------------\u001b[0m",
      "\u001b[0;31mFileNotFoundError\u001b[0m                         Traceback (most recent call last)",
      "\u001b[0;32m<ipython-input-4-c1dd07aa7f02>\u001b[0m in \u001b[0;36m<module>\u001b[0;34m\u001b[0m\n\u001b[0;32m----> 1\u001b[0;31m \u001b[0;32mwith\u001b[0m \u001b[0mopen\u001b[0m\u001b[0;34m(\u001b[0m\u001b[0;34m'alice.txt'\u001b[0m\u001b[0;34m)\u001b[0m \u001b[0;32mas\u001b[0m \u001b[0mfile\u001b[0m\u001b[0;34m:\u001b[0m\u001b[0;34m\u001b[0m\u001b[0;34m\u001b[0m\u001b[0m\n\u001b[0m\u001b[1;32m      2\u001b[0m     \u001b[0mtext\u001b[0m \u001b[0;34m=\u001b[0m \u001b[0mfile\u001b[0m\u001b[0;34m.\u001b[0m\u001b[0mread\u001b[0m\u001b[0;34m(\u001b[0m\u001b[0;34m)\u001b[0m\u001b[0;34m\u001b[0m\u001b[0;34m\u001b[0m\u001b[0m\n\u001b[1;32m      3\u001b[0m     \u001b[0mn\u001b[0m \u001b[0;34m=\u001b[0m \u001b[0;36m0\u001b[0m\u001b[0;34m\u001b[0m\u001b[0;34m\u001b[0m\u001b[0m\n\u001b[1;32m      4\u001b[0m \u001b[0;32mfor\u001b[0m \u001b[0mword\u001b[0m \u001b[0;32min\u001b[0m \u001b[0mtext\u001b[0m\u001b[0;34m.\u001b[0m\u001b[0msplit\u001b[0m\u001b[0;34m(\u001b[0m\u001b[0;34m)\u001b[0m\u001b[0;34m:\u001b[0m\u001b[0;34m\u001b[0m\u001b[0;34m\u001b[0m\u001b[0m\n\u001b[1;32m      5\u001b[0m     \u001b[0;32mif\u001b[0m \u001b[0mword\u001b[0m\u001b[0;34m.\u001b[0m\u001b[0mlower\u001b[0m\u001b[0;34m(\u001b[0m\u001b[0;34m)\u001b[0m \u001b[0;32min\u001b[0m \u001b[0;34m[\u001b[0m\u001b[0;34m'cat'\u001b[0m\u001b[0;34m,\u001b[0m \u001b[0;34m'cats'\u001b[0m\u001b[0;34m]\u001b[0m\u001b[0;34m:\u001b[0m\u001b[0;34m\u001b[0m\u001b[0;34m\u001b[0m\u001b[0m\n",
      "\u001b[0;31mFileNotFoundError\u001b[0m: [Errno 2] No such file or directory: 'alice.txt'"
     ]
    }
   ],
   "source": [
    "with open('alice.txt') as file:\n",
    "    text = file.read()\n",
    "    n = 0\n",
    "for word in text.split():\n",
    "    if word.lower() in ['cat', 'cats']:\n",
    "        n += 1\n",
    "print('Lewis Carroll uses the word \"cat\" {} times'.format(n))"
   ]
  },
  {
   "cell_type": "markdown",
   "metadata": {},
   "source": [
    "- Qué bien cuenta el gato! Al abrir el archivo usando la sentencia with open(), pudiste leer el texto del archivo. Y lo que es más importante, cuando has terminado de leer el texto, el gestor de contexto ha cerrado el archivo por ti."
   ]
  },
  {
   "cell_type": "markdown",
   "metadata": {},
   "source": [
    "<b> La velocidad de los gatos </b>\n",
    "\n",
    "- Estás trabajando en un nuevo servicio web que procesa los feeds de Instagram para identificar qué fotos contienen gatos (no preguntes por qué, es internet). El código que procesa los datos es más lento de lo que te gustaría, así que estás trabajando en afinarlo para que funcione más rápido. Dada una imagen, image, tienes dos funciones que pueden procesarla:"
   ]
  },
  {
   "cell_type": "markdown",
   "metadata": {},
   "source": [
    "<b> * process_with_numpy(image) </b>\n",
    "    \n",
    "<b>    * process_with_pytorch(image)  </b>"
   ]
  },
  {
   "cell_type": "markdown",
   "metadata": {},
   "source": [
    " - Su colega escribió un gestor de contexto, timer(), que imprimirá el tiempo que tarda en ejecutarse el código dentro del bloque de contexto. Te sugiere que lo uses para ver cuál de las dos opciones es más rápida. Cronometra cada función para determinar cuál usar en tu servicio web."
   ]
  },
  {
   "cell_type": "markdown",
   "metadata": {},
   "source": [
    "<b> Instrucciones </b>\n",
    "\n",
    "- Utiliza el gestor de contexto timer() para calcular el tiempo de ejecución de process_with_numpy(image).\n",
    "\n",
    "- Utilice el gestor de contexto timer() para calcular el tiempo de ejecución de process_with_pytorch(image)."
   ]
  },
  {
   "cell_type": "code",
   "execution_count": 7,
   "metadata": {},
   "outputs": [
    {
     "ename": "NameError",
     "evalue": "name 'get_image_from_instagram' is not defined",
     "output_type": "error",
     "traceback": [
      "\u001b[0;31m---------------------------------------------------------------------------\u001b[0m",
      "\u001b[0;31mNameError\u001b[0m                                 Traceback (most recent call last)",
      "\u001b[0;32m<ipython-input-7-f63a4f73b18b>\u001b[0m in \u001b[0;36m<module>\u001b[0;34m\u001b[0m\n\u001b[0;32m----> 1\u001b[0;31m \u001b[0mimage\u001b[0m \u001b[0;34m=\u001b[0m \u001b[0mget_image_from_instagram\u001b[0m\u001b[0;34m(\u001b[0m\u001b[0;34m)\u001b[0m\u001b[0;34m\u001b[0m\u001b[0;34m\u001b[0m\u001b[0m\n\u001b[0m\u001b[1;32m      2\u001b[0m \u001b[0;31m# Time how long process_with_numpy(image) takes to run\u001b[0m\u001b[0;34m\u001b[0m\u001b[0;34m\u001b[0m\u001b[0;34m\u001b[0m\u001b[0m\n\u001b[1;32m      3\u001b[0m \u001b[0;32mwith\u001b[0m \u001b[0mtimer\u001b[0m\u001b[0;34m(\u001b[0m\u001b[0;34m)\u001b[0m\u001b[0;34m:\u001b[0m\u001b[0;34m\u001b[0m\u001b[0;34m\u001b[0m\u001b[0m\n\u001b[1;32m      4\u001b[0m     \u001b[0mprint\u001b[0m\u001b[0;34m(\u001b[0m\u001b[0;34m'Numpy version'\u001b[0m\u001b[0;34m)\u001b[0m\u001b[0;34m\u001b[0m\u001b[0;34m\u001b[0m\u001b[0m\n\u001b[1;32m      5\u001b[0m     \u001b[0mprocess_with_numpy\u001b[0m\u001b[0;34m(\u001b[0m\u001b[0mimage\u001b[0m\u001b[0;34m)\u001b[0m\u001b[0;34m\u001b[0m\u001b[0;34m\u001b[0m\u001b[0m\n",
      "\u001b[0;31mNameError\u001b[0m: name 'get_image_from_instagram' is not defined"
     ]
    }
   ],
   "source": [
    "image = get_image_from_instagram()\n",
    "# Time how long process_with_numpy(image) takes to run\n",
    "with timer():\n",
    "    print('Numpy version')\n",
    "    process_with_numpy(image)\n",
    "# Time how long process_with_pytorch(image) takes to run\n",
    "with timer():\n",
    "    print('Pytorch version')\n",
    "    process_with_pytorch(image)"
   ]
  },
  {
   "cell_type": "markdown",
   "metadata": {},
   "source": [
    "<b> Conclusión </b>\n",
    "\n",
    "- ¡Un tiempo estupendo! Ahora que sabes que la versión de pytorch es más rápida, puedes usarla en tu servicio web para asegurarte de que tus usuarios obtienen el tiempo de respuesta rápido que esperan.\n",
    "\n",
    "- Habrás notado que no hay ningún as (nombre de variable) al final de la sentencia with en el  gestor de contexto timer(). Esto se debe a que timer() es un gestor de contexto que no devuelve \n",
    "   un valor, por lo que el as (nombre de la variable) al final de la sentencia with no es necesario."
   ]
  },
  {
   "cell_type": "markdown",
   "metadata": {},
   "source": [
    "## Tus propios administradores de contexto \n",
    "\n",
    "- Hay dos formas de definir un administrador de contexto en python:\n",
    "  - Usando una clase que tiene metodos especiales __enter_() y __exit__() o decorando un cierto tipo de función \n",
    "  \n",
    "<b> Para crear un administrado de contexto </b>\n",
    "\n",
    "1. Definir función\n",
    "2. (opcional) Agregar cualquier dódigo de configuración que necesite su contexto\n",
    "3. utilizar yield al final de la función para indicarle a python que se trata de un tipo especial de función\n",
    "4. (opcional) Codigo de desmontaje que necesite para limpiar el contexto\n",
    "5. añadir a la función el decorador \"contextmanager\" del modulo \"contextlib\"\n",
    "   (arriba de la función va @contextlib.contextmanager)"
   ]
  },
  {
   "cell_type": "markdown",
   "metadata": {},
   "source": [
    "<b>El gestor de contexto timer() </b>\n",
    "\n",
    "- Un colega tuyo está trabajando en un servicio web que procesa fotos de Instagram. Los clientes se quejan de que el servicio tarda demasiado en identificar si una imagen tiene o no un gato, por lo que tu colega ha acudido a ti en busca de ayuda. Decides escribir un gestor de contexto que puedan utilizar para cronometrar el tiempo de ejecución de sus funciones."
   ]
  },
  {
   "cell_type": "code",
   "execution_count": 10,
   "metadata": {},
   "outputs": [
    {
     "ename": "NameError",
     "evalue": "name 'contextlib' is not defined",
     "output_type": "error",
     "traceback": [
      "\u001b[0;31m---------------------------------------------------------------------------\u001b[0m",
      "\u001b[0;31mNameError\u001b[0m                                 Traceback (most recent call last)",
      "\u001b[0;32m<ipython-input-10-c460235d339a>\u001b[0m in \u001b[0;36m<module>\u001b[0;34m\u001b[0m\n\u001b[1;32m      1\u001b[0m \u001b[0;31m# Add a decorator that will make timer() a context manager\u001b[0m\u001b[0;34m\u001b[0m\u001b[0;34m\u001b[0m\u001b[0;34m\u001b[0m\u001b[0m\n\u001b[0;32m----> 2\u001b[0;31m \u001b[0;34m@\u001b[0m\u001b[0mcontextlib\u001b[0m\u001b[0;34m.\u001b[0m\u001b[0mcontextmanager\u001b[0m\u001b[0;34m\u001b[0m\u001b[0;34m\u001b[0m\u001b[0m\n\u001b[0m\u001b[1;32m      3\u001b[0m \u001b[0;32mdef\u001b[0m \u001b[0mtimer\u001b[0m\u001b[0;34m(\u001b[0m\u001b[0;34m)\u001b[0m\u001b[0;34m:\u001b[0m\u001b[0;34m\u001b[0m\u001b[0;34m\u001b[0m\u001b[0m\n\u001b[1;32m      4\u001b[0m   \"\"\"Time the execution of a context block.\n\u001b[1;32m      5\u001b[0m   \u001b[0mYields\u001b[0m\u001b[0;34m:\u001b[0m\u001b[0;34m\u001b[0m\u001b[0;34m\u001b[0m\u001b[0m\n",
      "\u001b[0;31mNameError\u001b[0m: name 'contextlib' is not defined"
     ]
    }
   ],
   "source": [
    "# Add a decorator that will make timer() a context manager\n",
    "@contextlib.contextmanager\n",
    "def timer():\n",
    "  \"\"\"Time the execution of a context block.\n",
    "  Yields:\n",
    "    None\n",
    "  \"\"\"\n",
    "  start = time.time()\n",
    "  # Send control back to the context block\n",
    "  yield time\n",
    "  end = time.time()\n",
    "  print('Elapsed: {:.2f}s'.format(end - start))\n",
    "with timer():\n",
    "  print('This should take approximately 0.25 seconds')\n",
    "  time.sleep(0.25)"
   ]
  },
  {
   "cell_type": "markdown",
   "metadata": {},
   "source": [
    "- ¡Estás gestionando el contexto como un jefe! Y tu colega puede ahora usar tu gestor de contexto timer() para averiguar cuál de sus funciones está funcionando demasiado lento. Observa que los tres elementos de un gestor de contexto están aquí: una definición de función, una sentencia yield y el decorador @contextlib.contextmanager. También vale la pena notar que timer() es un gestor de contexto que no devuelve un valor explícito, por lo que yield se escribe por sí mismo sin especificar nada que devolver."
   ]
  },
  {
   "cell_type": "markdown",
   "metadata": {},
   "source": [
    "\n",
    "    \n",
    "<b> Un gestor de contexto open() de sólo lectura </b>\n",
    "\n",
    "- Tienes un montón de archivos de datos para tu próximo proyecto de aprendizaje profundo que te ha llevado meses recopilar y limpiar. Sería terrible si accidentalmente sobrescribes uno de esos archivos al intentar leerlo para el entrenamiento, así que decides crear una versión de sólo lectura del gestor de contexto open() para utilizarlo en tu proyecto.\n",
    "\n",
    "- El gestor de contexto regular de open()\n",
    "\n",
    "   - toma un nombre de archivo y un modo ('r' para leer, 'w' para escribir, o 'a' para añadir)\n",
    "   - abre el archivo para leerlo, escribirlo o añadirlo\n",
    "   - devuelve el control al contexto, junto con una referencia al archivo \n",
    "   - espera a que el contexto termine\n",
    "   - y luego cierra el archivo antes de salir\n",
    "\n",
    "- Tu gestor de contexto hará lo mismo, excepto que sólo tomará el nombre del archivo como argumento y sólo abrirá el archivo para su lectura."
   ]
  },
  {
   "cell_type": "code",
   "execution_count": 11,
   "metadata": {},
   "outputs": [
    {
     "ename": "NameError",
     "evalue": "name 'contextlib' is not defined",
     "output_type": "error",
     "traceback": [
      "\u001b[0;31m---------------------------------------------------------------------------\u001b[0m",
      "\u001b[0;31mNameError\u001b[0m                                 Traceback (most recent call last)",
      "\u001b[0;32m<ipython-input-11-1045b27429e5>\u001b[0m in \u001b[0;36m<module>\u001b[0;34m\u001b[0m\n\u001b[0;32m----> 1\u001b[0;31m \u001b[0;34m@\u001b[0m\u001b[0mcontextlib\u001b[0m\u001b[0;34m.\u001b[0m\u001b[0mcontextmanager\u001b[0m\u001b[0;34m\u001b[0m\u001b[0;34m\u001b[0m\u001b[0m\n\u001b[0m\u001b[1;32m      2\u001b[0m \u001b[0;32mdef\u001b[0m \u001b[0mopen_read_only\u001b[0m\u001b[0;34m(\u001b[0m\u001b[0mfilename\u001b[0m\u001b[0;34m)\u001b[0m\u001b[0;34m:\u001b[0m\u001b[0;34m\u001b[0m\u001b[0;34m\u001b[0m\u001b[0m\n\u001b[1;32m      3\u001b[0m   \"\"\"Open a file in read-only mode.\n\u001b[1;32m      4\u001b[0m   \u001b[0mArgs\u001b[0m\u001b[0;34m:\u001b[0m\u001b[0;34m\u001b[0m\u001b[0;34m\u001b[0m\u001b[0m\n\u001b[1;32m      5\u001b[0m     \u001b[0mfilename\u001b[0m \u001b[0;34m(\u001b[0m\u001b[0mstr\u001b[0m\u001b[0;34m)\u001b[0m\u001b[0;34m:\u001b[0m \u001b[0mThe\u001b[0m \u001b[0mlocation\u001b[0m \u001b[0mof\u001b[0m \u001b[0mthe\u001b[0m \u001b[0mfile\u001b[0m \u001b[0mto\u001b[0m \u001b[0mread\u001b[0m\u001b[0;34m\u001b[0m\u001b[0;34m\u001b[0m\u001b[0m\n",
      "\u001b[0;31mNameError\u001b[0m: name 'contextlib' is not defined"
     ]
    }
   ],
   "source": [
    "@contextlib.contextmanager\n",
    "def open_read_only(filename):\n",
    "  \"\"\"Open a file in read-only mode.\n",
    "  Args:\n",
    "    filename (str): The location of the file to read\n",
    "  Yields:\n",
    "    file object\n",
    "  \"\"\"\n",
    "  read_only_file = open(filename, mode='r')\n",
    "  # Yield read_only_file so it can be assigned to my_file\n",
    "  yield read_only_file\n",
    "  # Close read_only_file\n",
    "  read_only_file.close()\n",
    "with open_read_only('my_file.txt') as my_file:\n",
    "  print(my_file.read())\n",
    "marca_de_verificación_blanca\n",
    "ojos\n",
    "manos_levantadas\n"
   ]
  },
  {
   "cell_type": "markdown",
   "metadata": {},
   "source": [
    "<b> Conclusión  </b>\n",
    "\n",
    "- ¡Esto es un gestor de contexto de sólo lectura radical! Ahora puedes relajarte, sabiendo que cada vez que uses con open_read_only() tus archivos están a salvo de ser sobrescritos accidentalmente. Esta función es un ejemplo de un gestor de contexto que sí devuelve un valor, por lo que escribimos yield read_only_file en lugar de simplemente yield. Entonces el objeto read_only_file se asigna a my_file en la sentencia with para que quien esté usando su contexto pueda llamar a su método .read() en el bloque de contexto."
   ]
  },
  {
   "cell_type": "code",
   "execution_count": null,
   "metadata": {},
   "outputs": [],
   "source": []
  }
 ],
 "metadata": {
  "kernelspec": {
   "display_name": "Python 3",
   "language": "python",
   "name": "python3"
  },
  "language_info": {
   "codemirror_mode": {
    "name": "ipython",
    "version": 3
   },
   "file_extension": ".py",
   "mimetype": "text/x-python",
   "name": "python",
   "nbconvert_exporter": "python",
   "pygments_lexer": "ipython3",
   "version": "3.8.5"
  }
 },
 "nbformat": 4,
 "nbformat_minor": 4
}
