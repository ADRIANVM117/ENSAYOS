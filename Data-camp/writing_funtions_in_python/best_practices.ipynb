{
 "cells": [
  {
   "cell_type": "markdown",
   "metadata": {},
   "source": [
    "## Mejores practicas \n",
    "### Adrián Vázquez\n",
    "#### 23/06/21"
   ]
  },
  {
   "cell_type": "markdown",
   "metadata": {},
   "source": [
    "#### <b> Cadena de documentos (docstring)  </b>\n",
    "\n",
    "- Es un formato de escritura que su función principal es dar informaciónn sobre metodos y atributos de objetos. "
   ]
  },
  {
   "cell_type": "markdown",
   "metadata": {},
   "source": [
    "<b> Ejemplo </b>"
   ]
  },
  {
   "cell_type": "markdown",
   "metadata": {},
   "source": [
    "<b> Cómo redactar un docstring </b>\n",
    "\n",
    "- Has decidido escribir el mejor paquete Python de código abierto para el procesamiento del lenguaje natural. Revolucionará el trabajo con texto de forma libre, de la misma manera que numpy lo hizo con las matrices, pandas con los datos tabulares y scikit-learn con el aprendizaje automático.\n",
    "\n",
    "- La primera función que se escribe es count_letter(). Toma una cadena y una sola letra y devuelve el número de veces que la letra aparece en la cadena. Quieres que los usuarios de tu paquete de código abierto sean capaces de entender cómo funciona esta función fácilmente, por lo que tendrás que darle un docstring. \n",
    "\n",
    "- Construye un docstring de estilo Google para esta función."
   ]
  },
  {
   "cell_type": "code",
   "execution_count": 2,
   "metadata": {},
   "outputs": [],
   "source": [
    "def count_letter(content, letter):\n",
    "  \"\"\"\"\"\n",
    "  Count the number of times `letter` appears in `content`.\n",
    "  Args:\n",
    "    content (str): The string to search.\n",
    "    letter (str): The letter to search for.\n",
    "  Returns:\n",
    "    int\n",
    "  # Add a section detailing what errors might be raised\n",
    "  Raises:\n",
    "    ValueError: If `letter` is not a one-character string.\n",
    "    \n",
    "  \"\"\"\n",
    "  if (not isinstance(letter, str)) or len(letter) != 1:\n",
    "    raise ValueError('`letter` must be a single character string.')\n",
    "    return len([char for char in content if char == letter])"
   ]
  },
  {
   "cell_type": "markdown",
   "metadata": {},
   "source": [
    "- ¡Qué docstring más bonito! Aunque requiere un poco más de escritura, la información presentada aquí hará que sea muy fácil para otros utilizar este código en el futuro. Recuerda que, aunque los ordenadores lo ejecuten, el código está escrito para que lo lean los humanos (de lo contrario, sólo estarías escribiendo los 1s y 0s con los que opera el ordenador)."
   ]
  },
  {
   "cell_type": "markdown",
   "metadata": {},
   "source": [
    "<b> Recuperación de docstrings. </b>\n",
    "\n",
    "- Tú y un grupo de amigos esta trabajando en la construcción de un nuevo e increíble IDE de Python (entorno de desarrollo integrado -- como PyCharm, Spyder, Eclipse, Visual Studio, etc.). El equipo quiere añadir una característica que muestre un tooltip con el docstring de una función cada vez que el usuario empiece a escribir el nombre de la función. De esta manera, el usuario no tiene que ir a otro sitio para buscar la documentación de la función que está intentando utilizar. Se le ha pedido que complete la función build_tooltip() que recupera un docstring de una función arbitraria.\n",
    "\n",
    "- Vas a reutilizar la función count_letter() que desarrollaste en el último ejercicio para demostrar que podemos extraer correctamente su docstring."
   ]
  },
  {
   "cell_type": "code",
   "execution_count": 3,
   "metadata": {},
   "outputs": [
    {
     "name": "stdout",
     "output_type": "stream",
     "text": [
      "############################\n",
      "\"\"\n",
      "  Count the number of times `letter` appears in `content`.\n",
      "  Args:\n",
      "    content (str): The string to search.\n",
      "    letter (str): The letter to search for.\n",
      "  Returns:\n",
      "    int\n",
      "  # Add a section detailing what errors might be raised\n",
      "  Raises:\n",
      "    ValueError: If `letter` is not a one-character string.\n",
      "    \n",
      "  \n",
      "############################\n"
     ]
    }
   ],
   "source": [
    "# Get the \"count_letter\" docstring by using an attribute of the function\n",
    "docstring = count_letter.__doc__\n",
    "border = '#' * 28\n",
    "print('{}\\n{}\\n{}'.format(border, docstring, border))"
   ]
  },
  {
   "cell_type": "code",
   "execution_count": 11,
   "metadata": {},
   "outputs": [
    {
     "name": "stdout",
     "output_type": "stream",
     "text": [
      "############################\n",
      "\"\"\n",
      "Count the number of times `letter` appears in `content`.\n",
      "Args:\n",
      "  content (str): The string to search.\n",
      "  letter (str): The letter to search for.\n",
      "Returns:\n",
      "  int\n",
      "# Add a section detailing what errors might be raised\n",
      "Raises:\n",
      "  ValueError: If `letter` is not a one-character string.\n",
      "  \n",
      "############################\n"
     ]
    }
   ],
   "source": [
    "import inspect\n",
    "# Inspect the count_letter() function to get its docstring\n",
    "docstring = inspect.getdoc(count_letter)\n",
    "border = '#' * 28\n",
    "print('{}\\n{}\\n{}'.format(border, docstring, border))"
   ]
  },
  {
   "cell_type": "code",
   "execution_count": 13,
   "metadata": {},
   "outputs": [
    {
     "name": "stdout",
     "output_type": "stream",
     "text": [
      "############################\n",
      "\"\"\n",
      "Count the number of times `letter` appears in `content`.\n",
      "Args:\n",
      "  content (str): The string to search.\n",
      "  letter (str): The letter to search for.\n",
      "Returns:\n",
      "  int\n",
      "# Add a section detailing what errors might be raised\n",
      "Raises:\n",
      "  ValueError: If `letter` is not a one-character string.\n",
      "  \n",
      "############################\n",
      "############################\n",
      "range(stop) -> range object\n",
      "range(start, stop[, step]) -> range object\n",
      "\n",
      "Return an object that produces a sequence of integers from start (inclusive)\n",
      "to stop (exclusive) by step.  range(i, j) produces i, i+1, i+2, ..., j-1.\n",
      "start defaults to 0, and stop is omitted!  range(4) produces 0, 1, 2, 3.\n",
      "These are exactly the valid indices for a list of 4 elements.\n",
      "When step is given, it specifies the increment (or decrement).\n",
      "############################\n",
      "############################\n",
      "print(value, ..., sep=' ', end='\\n', file=sys.stdout, flush=False)\n",
      "\n",
      "Prints the values to a stream, or to sys.stdout by default.\n",
      "Optional keyword arguments:\n",
      "file:  a file-like object (stream); defaults to the current sys.stdout.\n",
      "sep:   string inserted between values, default a space.\n",
      "end:   string appended after the last value, default a newline.\n",
      "flush: whether to forcibly flush the stream.\n",
      "############################\n"
     ]
    }
   ],
   "source": [
    "def build_tooltip(function):\n",
    "    \"\"\"Create a tooltip for any function that shows the\n",
    "  function's docstring.\n",
    "  Args:\n",
    "    function (callable): The function we want a tooltip for.\n",
    "  Returns:\n",
    "    str\n",
    "  \"\"\"\n",
    "  # Get the docstring for the \"function\" argument by using inspect\n",
    "    docstring = inspect.getdoc(function)\n",
    "    border = '#' * 28\n",
    "    return '{}\\n{}\\n{}'.format(border, docstring, border)\n",
    "print(build_tooltip(count_letter))\n",
    "print(build_tooltip(range))\n",
    "print(build_tooltip(print))"
   ]
  },
  {
   "cell_type": "markdown",
   "metadata": {},
   "source": [
    "<b> Conclusión: </b>\n",
    "\n",
    "- Este IDE va a ser una experiencia increíblemente encantadora para sus usuarios ahora! Fíjate en que la versión de count_letter.__doc__ del docstring tenía extraños espacios en blanco al principio de todas las líneas excepto la primera. Esto se debe a que el docstring está sangrado para alinearse visualmente cuando se lee el código. Pero cuando queramos imprimir el docstring, eliminar esos espacios iniciales con inspect.getdoc() se verá mucho mejor."
   ]
  },
  {
   "cell_type": "markdown",
   "metadata": {},
   "source": [
    "## DRY and 'Do One Thing'"
   ]
  },
  {
   "cell_type": "markdown",
   "metadata": {},
   "source": [
    "<B> Extraer una función </B>\n",
    "\n",
    "- Mientras desarrollabas un modelo para predecir la probabilidad de que un estudiante se graduara en la universidad, escribiste este trozo de código para obtener las puntuaciones z de los GPA anuales de los estudiantes. Ahora estás listo para convertirlo en un sistema de calidad de producción, así que necesitas hacer algo con la repetición. Escribir una función para calcular las puntuaciones z mejoraría este código.\n",
    "\n"
   ]
  },
  {
   "cell_type": "code",
   "execution_count": null,
   "metadata": {},
   "outputs": [],
   "source": [
    "# Standardize the GPAs for each year\n",
    "df['y1_z'] = (df.y1_gpa - df.y1_gpa.mean()) / df.y1_gpa.std()\n",
    "df['y2_z'] = (df.y2_gpa - df.y2_gpa.mean()) / df.y2_gpa.std()\n",
    "df['y3_z'] = (df.y3_gpa - df.y3_gpa.mean()) / df.y3_gpa.std()\n",
    "df['y4_z'] = (df.y4_gpa - df.y4_gpa.mean()) / df.y4_gpa.std()"
   ]
  },
  {
   "cell_type": "code",
   "execution_count": 15,
   "metadata": {},
   "outputs": [
    {
     "ename": "NameError",
     "evalue": "name 'df' is not defined",
     "output_type": "error",
     "traceback": [
      "\u001b[0;31m---------------------------------------------------------------------------\u001b[0m",
      "\u001b[0;31mNameError\u001b[0m                                 Traceback (most recent call last)",
      "\u001b[0;32m<ipython-input-15-56d4d20aadd8>\u001b[0m in \u001b[0;36m<module>\u001b[0;34m\u001b[0m\n\u001b[1;32m     10\u001b[0m   \u001b[0;32mreturn\u001b[0m \u001b[0mz_score\u001b[0m\u001b[0;34m\u001b[0m\u001b[0;34m\u001b[0m\u001b[0m\n\u001b[1;32m     11\u001b[0m \u001b[0;31m# Use the standardize() function to calculate the z-scores\u001b[0m\u001b[0;34m\u001b[0m\u001b[0;34m\u001b[0m\u001b[0;34m\u001b[0m\u001b[0m\n\u001b[0;32m---> 12\u001b[0;31m \u001b[0mdf\u001b[0m\u001b[0;34m[\u001b[0m\u001b[0;34m'y1_z'\u001b[0m\u001b[0;34m]\u001b[0m \u001b[0;34m=\u001b[0m \u001b[0mstandardize\u001b[0m\u001b[0;34m(\u001b[0m\u001b[0mdf\u001b[0m\u001b[0;34m.\u001b[0m\u001b[0my1_gpa\u001b[0m\u001b[0;34m)\u001b[0m\u001b[0;34m\u001b[0m\u001b[0;34m\u001b[0m\u001b[0m\n\u001b[0m\u001b[1;32m     13\u001b[0m \u001b[0mdf\u001b[0m\u001b[0;34m[\u001b[0m\u001b[0;34m'y2_z'\u001b[0m\u001b[0;34m]\u001b[0m \u001b[0;34m=\u001b[0m \u001b[0mstandardize\u001b[0m\u001b[0;34m(\u001b[0m\u001b[0mdf\u001b[0m\u001b[0;34m.\u001b[0m\u001b[0my2_gpa\u001b[0m\u001b[0;34m)\u001b[0m\u001b[0;34m\u001b[0m\u001b[0;34m\u001b[0m\u001b[0m\n\u001b[1;32m     14\u001b[0m \u001b[0mdf\u001b[0m\u001b[0;34m[\u001b[0m\u001b[0;34m'y3_z'\u001b[0m\u001b[0;34m]\u001b[0m \u001b[0;34m=\u001b[0m \u001b[0mstandardize\u001b[0m\u001b[0;34m(\u001b[0m\u001b[0mdf\u001b[0m\u001b[0;34m.\u001b[0m\u001b[0my3_gpa\u001b[0m\u001b[0;34m)\u001b[0m\u001b[0;34m\u001b[0m\u001b[0;34m\u001b[0m\u001b[0m\n",
      "\u001b[0;31mNameError\u001b[0m: name 'df' is not defined"
     ]
    }
   ],
   "source": [
    "def standardize(column):\n",
    "  \"\"\"Standardize the values in a column.\n",
    "  Args:\n",
    "    column (pandas Series): The data to standardize.\n",
    "  Returns:\n",
    "    pandas Series: the values as z-scores\n",
    "  \"\"\"\n",
    "  # Finish the function so that it returns the z-scores\n",
    "  z_score = (column - column.mean()) / column.std()\n",
    "  return z_score\n",
    "# Use the standardize() function to calculate the z-scores\n",
    "df['y1_z'] = standardize(df.y1_gpa)\n",
    "df['y2_z'] = standardize(df.y2_gpa)\n",
    "df['y3_z'] = standardize(df.y3_gpa)\n",
    "df['y4_z'] = standardize(df.y4_gpa)"
   ]
  },
  {
   "cell_type": "markdown",
   "metadata": {},
   "source": [
    "- standardize() probablemente será útil en otros lugares de tu código, y ahora es fácil de usar, probar y actualizar si lo necesitas. También es más fácil saber qué hace el código gracias al docstring y al nombre de la función."
   ]
  },
  {
   "cell_type": "markdown",
   "metadata": {},
   "source": [
    "<B> Dividir una función </B>\n",
    "\n",
    "- Otro ingeniero de tu equipo ha escrito esta función para calcular la media y la mediana de una lista ordenada. Quieres mostrarles cómo dividirla en dos funciones más simples: media() y mediana()"
   ]
  },
  {
   "cell_type": "code",
   "execution_count": 17,
   "metadata": {},
   "outputs": [],
   "source": [
    "def mean_and_median(values):\n",
    "  \"\"\"Get the mean and median of a sorted list of `values`\n",
    "  Args:\n",
    "    values (iterable of float): A list of numbers\n",
    "  Returns:\n",
    "    tuple (float, float): The mean and median\n",
    "  \"\"\"\n",
    "  mean = sum(values) / len(values)\n",
    "  midpoint = int(len(values) / 2)\n",
    "  if len(values) % 2 == 0:\n",
    "    median = (values[midpoint - 1] + values[midpoint]) / 2\n",
    "  else:\n",
    "    median = values[midpoint]\n",
    "  return mean, median"
   ]
  },
  {
   "cell_type": "markdown",
   "metadata": {},
   "source": [
    "<B> FUNCION 1 </B>"
   ]
  },
  {
   "cell_type": "code",
   "execution_count": 23,
   "metadata": {},
   "outputs": [],
   "source": [
    "def mean(values):\n",
    "      \"\"\"Get the mean of a sorted list of values\n",
    "  Args:\n",
    "    values (iterable of float): A list of numbers\n",
    "  Returns:\n",
    "    float\n",
    "  \"\"\"\n",
    "  # Write the mean() function\n",
    "    mean = sum(values) / len(values)\n",
    "    return mean"
   ]
  },
  {
   "cell_type": "markdown",
   "metadata": {},
   "source": [
    "<B> FUNCION 2 </B>"
   ]
  },
  {
   "cell_type": "code",
   "execution_count": 59,
   "metadata": {},
   "outputs": [],
   "source": [
    "def median(values):\n",
    "    \"\"\"Get the median of a sorted list of values\n",
    "  Args:\n",
    "    values (iterable of float): A list of numbers\n",
    "  Returns:\n",
    "    float\n",
    "  \"\"\"\n",
    "# Write the median() function\n",
    "    midpoint = int(len(values) / 2)\n",
    "    if len(values) % 2 == 0:\n",
    "        median = (values[midpoint - 1] + values[midpoint]) / 2\n",
    "    else:\n",
    "        median = values[midpoint]\n",
    "    return median\n",
    "    \n"
   ]
  },
  {
   "cell_type": "markdown",
   "metadata": {},
   "source": [
    "<B> Conclusión </B>\n",
    "\n",
    "- Una división perfecta. Cada función hace una cosa y la hace bien. Usarlas, probarlas y mantenerlas será muy fácil (aunque probablemente sólo usarás numpy.mean() y numpy.median() para esto en la vida real). "
   ]
  },
  {
   "cell_type": "markdown",
   "metadata": {},
   "source": [
    "<b> Mutable o Inmutable  </b>\n",
    "\n",
    "- Mejor práctica para los argumentos por defecto\n",
    "\n",
    "- Uno de sus compañeros de trabajo (que obviamente no tomó este curso) ha escrito esta función para añadir una columna a un DataFrame de pandas. Desgraciadamente, han utilizado una variable mutable como valor de argumento por defecto. Por favor, enséñeles una forma mejor de hacerlo para que no obtengan un comportamiento inesperado."
   ]
  },
  {
   "cell_type": "markdown",
   "metadata": {},
   "source": [
    "- Mutable \n",
    "  - List \n",
    "  - Dict \n",
    "  - Set \n",
    "  - Bytearray\n",
    "  - Objects \n",
    "  - Functions \n",
    "\n",
    "- Immutable \n",
    "  - Int\n",
    "  - Float\n",
    "  - Bool\n",
    "  - String\n",
    "  - Bytes\n",
    "  - Tuple\n",
    "  - Frozenset\n",
    "  - None\n",
    "  "
   ]
  },
  {
   "cell_type": "code",
   "execution_count": 66,
   "metadata": {},
   "outputs": [],
   "source": [
    "import pandas as pandas\n",
    "\n",
    "def add_column(values, df=pandas.DataFrame()):\n",
    "    \"\"\"Add a column of `values` to a DataFrame `df`.\n",
    "  The column will be named \"col_<n>\" where \"n\" is\n",
    "  the numerical index of the column.\n",
    "  Args:\n",
    "    values (iterable): The values of the new column\n",
    "    df (DataFrame, optional): The DataFrame to update.\n",
    "      If no DataFrame is passed, one is created by default.\n",
    "  Returns:\n",
    "    DataFrame\n",
    "  \"\"\"\n",
    "    df['col_{}'.format(len(df.columns))] = values\n",
    "    return df"
   ]
  },
  {
   "cell_type": "markdown",
   "metadata": {},
   "source": [
    "<b> Instrucciones. </b>\n",
    "\n",
    "- Cambiar el valor por defecto de df a un valor inmutable para seguir las mejores prácticas.\n",
    "\n",
    "- Actualizar el código de la función para que se cree un nuevo DataFrame si el llamante no pasó uno. "
   ]
  },
  {
   "cell_type": "code",
   "execution_count": 71,
   "metadata": {},
   "outputs": [],
   "source": [
    "# Use an immutable variable for the default argument\n",
    "def better_add_column(values, df=None):\n",
    "    \"\"\"Add a column of `values` to a DataFrame `df`.\n",
    "  The column will be named \"col_<n>\" where \"n\" is\n",
    "  the numerical index of the column.\n",
    "  Args:\n",
    "    values (iterable): The values of the new column\n",
    "    df (DataFrame, optional): The DataFrame to update.\n",
    "      If no DataFrame is passed, one is created by default.\n",
    "  Returns:\n",
    "    DataFrame\n",
    "  \"\"\"\n",
    "  # Update the function to create a default DataFrame\n",
    "    if df is None:\n",
    "        df = pandas.DataFrame()\n",
    "        df['col_{}'.format(len(df.columns))] = values\n",
    "    return df"
   ]
  },
  {
   "cell_type": "markdown",
   "metadata": {},
   "source": [
    "<b> Conclusión  </b>\n",
    "\n",
    "- Cuando necesite establecer una variable mutable como argumento por defecto, utilice siempre None y luego establezca el valor en el cuerpo de la función. Esto evita comportamientos inesperados como la adición de múltiples columnas si se llama a la función más de una vez."
   ]
  },
  {
   "cell_type": "code",
   "execution_count": null,
   "metadata": {},
   "outputs": [],
   "source": []
  }
 ],
 "metadata": {
  "kernelspec": {
   "display_name": "Python 3",
   "language": "python",
   "name": "python3"
  },
  "language_info": {
   "codemirror_mode": {
    "name": "ipython",
    "version": 3
   },
   "file_extension": ".py",
   "mimetype": "text/x-python",
   "name": "python",
   "nbconvert_exporter": "python",
   "pygments_lexer": "ipython3",
   "version": "3.8.5"
  }
 },
 "nbformat": 4,
 "nbformat_minor": 4
}
