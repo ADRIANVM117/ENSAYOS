{
 "cells": [
  {
   "cell_type": "markdown",
   "metadata": {},
   "source": [
    "# Diccionarios\n",
    "## Adrián Vázquez \n",
    "### 4/10/21\n",
    "---"
   ]
  },
  {
   "cell_type": "markdown",
   "metadata": {},
   "source": [
    "> las listas son buenas, pero pueden llegar a ser anti intuitivas a la hora de querer indexar 2 listas juntas. \n",
    "\n",
    "> por ejemplo:"
   ]
  },
  {
   "cell_type": "code",
   "execution_count": 2,
   "metadata": {},
   "outputs": [],
   "source": [
    "nombre = ['adrian', 'marcos', 'jose']\n",
    "apellido = ['vazquez', 'perez', 'mora']"
   ]
  },
  {
   "cell_type": "markdown",
   "metadata": {},
   "source": [
    "> Al momento de querer indexarlas y poder buscar atraves de una lista el valor de la otra lista, puede tornarse confunso y poco intuitivo \n"
   ]
  },
  {
   "cell_type": "code",
   "execution_count": 9,
   "metadata": {},
   "outputs": [
    {
     "data": {
      "text/plain": [
       "'vazquez'"
      ]
     },
     "execution_count": 9,
     "metadata": {},
     "output_type": "execute_result"
    }
   ],
   "source": [
    "apellido_nombre = nombre.index('adrian')  # declaramos una variable para Indexar el valor 'adrian'\n",
    "apellido_nombre                           # al mandar a llamar la variable nos arroja la posicion donde \n",
    "                                          # se encuentra el valor 'adrian, que es 0'\n",
    "apellido[apellido_nombre]                 # ahora indexada la posicion 0 la buscamos en la lista apellido \n",
    "                                          # asi nos arroja el valor de la segunda lista en esa posición"
   ]
  },
  {
   "cell_type": "markdown",
   "metadata": {},
   "source": [
    "> Como podemos ver, llega a ser tardado y poco eficiente, pero para eso utilizamos diccionarios, dentro de estos se declaran llaves y valores  \n",
    "---\n",
    "> diccionario = {'adrian': 'vazquez'}\n",
    "\n",
    " llave:  | valor\n",
    ":--------: | -------\n",
    "adrian     | vazquez"
   ]
  },
  {
   "cell_type": "code",
   "execution_count": 15,
   "metadata": {},
   "outputs": [
    {
     "name": "stdout",
     "output_type": "stream",
     "text": [
      "{'adrian': 'vazquez', 'pedro': 'mayoral', 'carlos': 'bernardo'}\n",
      "vazquez\n"
     ]
    }
   ],
   "source": [
    "diccionario = {'adrian': 'vazquez', 'pedro': 'mayoral', 'carlos':'bernardo'}\n",
    "print(diccionario)\n",
    "# Para pedir el apellido de adrián tan solo usamos \n",
    "print(diccionario['adrian'])"
   ]
  },
  {
   "cell_type": "markdown",
   "metadata": {},
   "source": [
    "> Para agregar una llave con su valor tan solo \n",
    "---"
   ]
  },
  {
   "cell_type": "code",
   "execution_count": 21,
   "metadata": {},
   "outputs": [
    {
     "data": {
      "text/plain": [
       "True"
      ]
     },
     "execution_count": 21,
     "metadata": {},
     "output_type": "execute_result"
    }
   ],
   "source": [
    "diccionario['mariana'] = 'fernandez' # Agregamos la llave 'mariana' y su valor 'fernadez'\n",
    "\n",
    "'mariana'  in diccionario           # Verificamos que la llave este en el diccionario "
   ]
  },
  {
   "cell_type": "markdown",
   "metadata": {},
   "source": []
  }
 ],
 "metadata": {
  "kernelspec": {
   "display_name": "Python 3",
   "language": "python",
   "name": "python3"
  },
  "language_info": {
   "codemirror_mode": {
    "name": "ipython",
    "version": 3
   },
   "file_extension": ".py",
   "mimetype": "text/x-python",
   "name": "python",
   "nbconvert_exporter": "python",
   "pygments_lexer": "ipython3",
   "version": "3.8.5"
  }
 },
 "nbformat": 4,
 "nbformat_minor": 4
}
