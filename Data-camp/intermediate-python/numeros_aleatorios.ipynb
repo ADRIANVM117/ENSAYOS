{
 "cells": [
  {
   "cell_type": "markdown",
   "metadata": {},
   "source": [
    "# Numeros aleatorios\n",
    "## Adrián Vázquez \n",
    "### 4/12/21\n",
    "---"
   ]
  },
  {
   "cell_type": "markdown",
   "metadata": {},
   "source": [
    "> Se pueden generar numeros aleatorios utilizando numpy y una subpaqueteria de este. \n"
   ]
  },
  {
   "cell_type": "markdown",
   "metadata": {},
   "source": [
    "> .seed() y .rand()"
   ]
  },
  {
   "cell_type": "code",
   "execution_count": 9,
   "metadata": {},
   "outputs": [
    {
     "data": {
      "text/plain": [
       "0.8844588288428313"
      ]
     },
     "execution_count": 9,
     "metadata": {},
     "output_type": "execute_result"
    }
   ],
   "source": [
    "import numpy as np \n",
    "\n",
    "np.random.seed()       # Se establece una semilla aleatoria. para que sus argumentos sean reproducibles \n",
    "                       # entre simulaciones\n",
    "                       # si no se agrega una semilla, se mandara uno aleatorio \n",
    "        \n",
    "np.random.rand()       #si no se especifica un argumento python genera un numero random float entre 0 y 1  \n"
   ]
  },
  {
   "cell_type": "markdown",
   "metadata": {},
   "source": [
    "> Generar numeros aleatorio tipo int "
   ]
  },
  {
   "cell_type": "code",
   "execution_count": 20,
   "metadata": {},
   "outputs": [
    {
     "name": "stdout",
     "output_type": "stream",
     "text": [
      "6\n",
      "3\n",
      "5\n"
     ]
    }
   ],
   "source": [
    "np.random.seed(123)   # Colocamos semilla \n",
    "\n",
    "print(np.random.randint(1,7))# colocamos numeros aleatorios entre el 1 al 6 NOTA: el numero final no se incluye \n",
    "\n",
    "print(np.random.randint(1,7)) #Se generan numeros enteros aleatoriamente \n",
    "\n",
    "print(np.random.randint(1,7))"
   ]
  },
  {
   "cell_type": "markdown",
   "metadata": {},
   "source": [
    "### Creando un juego \n",
    "## edificio \n",
    "\n",
    "> El juego conciste en ver quien baja primero un edificio de 50 pisos, para esto usaremos un dado. llamando a las \n",
    "  funciones .seend() y randint() y condiciones.\n",
    "  <ul>\n",
    "    <li>si un jugador saca un dado entre 1 y 2. baja un piso</li>\n",
    "    <li>si un jugador saca un dado entre 3 y 5. sube un piso</li>\n",
    "    <li>si un jugador saca un dado igual a 6  . se lanza el dado de nuevo y el numero que salga son los pisos que subira </li>\n",
    "  </ul>"
   ]
  },
  {
   "cell_type": "code",
   "execution_count": 44,
   "metadata": {},
   "outputs": [
    {
     "name": "stdout",
     "output_type": "stream",
     "text": [
      "4\n",
      "55\n"
     ]
    }
   ],
   "source": [
    "step = 50 \n",
    "\n",
    "dado = np.random.randint(1,7)\n",
    "if dado <= 2:\n",
    "    step = step -1 \n",
    "elif dado >= 5:\n",
    "    step = step +1 \n",
    "else:\n",
    "    step = step +   np.random.randint(1,7)\n",
    "print(dado)\n",
    "print(step)"
   ]
  },
  {
   "cell_type": "markdown",
   "metadata": {},
   "source": [
    "#### Caminata aleatoria."
   ]
  },
  {
   "cell_type": "markdown",
   "metadata": {},
   "source": [
    ">La idea básica de una caminata aleatoria es que el valor de mañana de una serie es el valor de hoy más un cambio impredecible (la trayectoria de yt sigue “pasos” aleatorios).\n",
    "\n"
   ]
  },
  {
   "cell_type": "code",
   "execution_count": 50,
   "metadata": {},
   "outputs": [
    {
     "data": {
      "text/plain": [
       "5"
      ]
     },
     "execution_count": 50,
     "metadata": {},
     "output_type": "execute_result"
    }
   ],
   "source": [
    "True  % 20 * 5"
   ]
  }
 ],
 "metadata": {
  "kernelspec": {
   "display_name": "Python 3",
   "language": "python",
   "name": "python3"
  },
  "language_info": {
   "codemirror_mode": {
    "name": "ipython",
    "version": 3
   },
   "file_extension": ".py",
   "mimetype": "text/x-python",
   "name": "python",
   "nbconvert_exporter": "python",
   "pygments_lexer": "ipython3",
   "version": "3.8.5"
  }
 },
 "nbformat": 4,
 "nbformat_minor": 4
}
