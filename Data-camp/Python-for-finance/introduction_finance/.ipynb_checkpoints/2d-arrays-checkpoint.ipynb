{
 "cells": [
  {
   "cell_type": "markdown",
   "metadata": {},
   "source": [
    " # Arreglos. \n",
    " ## Adrián Vázquez  28/03/21"
   ]
  },
  {
   "cell_type": "markdown",
   "metadata": {},
   "source": [
    " import numpy as np # importar biblioteca  numpy para manejar arreglos y utilizar funciones sobre estos. \n",
    "    "
   ]
  },
  {
   "cell_type": "markdown",
   "metadata": {},
   "source": [
    "## Comandos e información sobre arreglos. "
   ]
  },
  {
   "cell_type": "code",
   "execution_count": 82,
   "metadata": {},
   "outputs": [
    {
     "name": "stdout",
     "output_type": "stream",
     "text": [
      "[1, 2, 3, 4, 5]\n"
     ]
    }
   ],
   "source": [
    " lista = [1, 2, 3, 4, 5] # Aqui declaramos una lista con el nombre lista. \n",
    "print(lista)             #imprimimos la lista\n",
    "\n",
    "    \n",
    "import numpy as np"
   ]
  },
  {
   "cell_type": "code",
   "execution_count": 10,
   "metadata": {},
   "outputs": [
    {
     "name": "stdout",
     "output_type": "stream",
     "text": [
      "[1 2 3 4 5]\n"
     ]
    }
   ],
   "source": [
    "arreglo_lista = np.array(lista) #cambiamos el formato lista a arreglo \n",
    "\n",
    "print(arreglo_lista)          #imprimos el arreglo, notamos ligeros cambios como la inexistencia de la coma"
   ]
  },
  {
   "cell_type": "code",
   "execution_count": 6,
   "metadata": {},
   "outputs": [
    {
     "name": "stdout",
     "output_type": "stream",
     "text": [
      "[5 7 9]\n",
      "[1, 2, 3, 4, 5, 6]\n"
     ]
    }
   ],
   "source": [
    "# los arreglos, basicamente son matrices y cpn ellos se pueden realizar operaciones \n",
    "#Ejemplo: veamos la diferencia entre una suma entre arreglos y una entre listas \n",
    "\n",
    "arreglo1 = np.array([1,2,3])\n",
    "arreglo2 = np.array([4,5,6])\n",
    "print(arreglo1  + arreglo2) \n",
    "\n",
    "lista1 = [1,2,3]\n",
    "lista2 = [4,5,6]\n",
    "print(lista1  + lista2)       \n",
    "#Como se puede ver los arreglos realizan una operacion aritmetica  cada entrada de cada arreglo se suma\n",
    "#mientras las listas, solo se unen."
   ]
  },
  {
   "cell_type": "code",
   "execution_count": 10,
   "metadata": {},
   "outputs": [
    {
     "name": "stdout",
     "output_type": "stream",
     "text": [
      "ene\n"
     ]
    }
   ],
   "source": [
    "#Los arreglos tambien estan indexados como una lista y puedes mandar a llamar una posicion o \n",
    "# querer saber la posicion de cierta entrada\n",
    "meses_arreglos = np.array(['ene', 'feb','mar', 'abr', 'mayo', 'jun'])\n",
    "print(meses_arreglos[0]) #los arreglos al igual que las listas; inician en posición cero"
   ]
  },
  {
   "cell_type": "code",
   "execution_count": 12,
   "metadata": {},
   "outputs": [
    {
     "name": "stdout",
     "output_type": "stream",
     "text": [
      "['ene' 'feb' 'mar' 'abr']\n"
     ]
    }
   ],
   "source": [
    "print(meses_arreglos[0:4]) #como en una lista podemos extraer un intervalo de entradas dentro del arreglo"
   ]
  },
  {
   "cell_type": "code",
   "execution_count": 14,
   "metadata": {},
   "outputs": [
    {
     "name": "stdout",
     "output_type": "stream",
     "text": [
      "['ene' 'mar' 'mayo']\n"
     ]
    }
   ],
   "source": [
    "print(meses_arreglos[0:5:2]) #Tambien extraer un intervalo de entradas en un cierto patron"
   ]
  },
  {
   "cell_type": "markdown",
   "metadata": {},
   "source": [
    "## Arreglos de 2 dimensiones.\n"
   ]
  },
  {
   "cell_type": "code",
   "execution_count": 15,
   "metadata": {},
   "outputs": [],
   "source": [
    "#Para hacer un arreglo de dos dimensiones podemos utilizar dos listas, transformarlas en arreglos e indexarlas"
   ]
  },
  {
   "cell_type": "code",
   "execution_count": 22,
   "metadata": {},
   "outputs": [
    {
     "name": "stdout",
     "output_type": "stream",
     "text": [
      "[['freddy' 'jim' 'kurt' 'mick' 'elvis']\n",
      " ['mercury' 'morrison' 'kuven' 'jagger' 'presley']]\n"
     ]
    }
   ],
   "source": [
    "nombres_rock = ['freddy', 'jim', 'kurt', 'mick', 'elvis']\n",
    "apellidos_rock = ['mercury', 'morrison', 'kuven', 'jagger', 'presley']\n",
    "\n",
    "rock_arreglos = np.array([nombres_rock , apellidos_rock])\n",
    "print(rock_arreglos)"
   ]
  },
  {
   "cell_type": "code",
   "execution_count": 24,
   "metadata": {},
   "outputs": [
    {
     "name": "stdout",
     "output_type": "stream",
     "text": [
      "(2, 5)\n",
      "10\n"
     ]
    }
   ],
   "source": [
    "#Para conocer caracteristicas de nuestro arreglo, tenemos metodos como: \n",
    "#.shape: dimensón de arreglo\n",
    "#size : total de elementos dentro del arreglo\n",
    "print(rock_arreglos.shape)\n",
    "print(rock_arreglos.size)"
   ]
  },
  {
   "cell_type": "markdown",
   "metadata": {},
   "source": [
    "#### Funciones dentro de los arreglos "
   ]
  },
  {
   "cell_type": "code",
   "execution_count": 27,
   "metadata": {},
   "outputs": [
    {
     "name": "stdout",
     "output_type": "stream",
     "text": [
      "[[221.34 118.87 332.56 232.65]]\n"
     ]
    }
   ],
   "source": [
    "precios = [221.34, 118.87, 332.56, 232.65]\n",
    "precios_arreglo = np.array([precios])\n",
    "print(precios_arreglo)"
   ]
  },
  {
   "cell_type": "code",
   "execution_count": 44,
   "metadata": {},
   "outputs": [
    {
     "name": "stdout",
     "output_type": "stream",
     "text": [
      "226.355\n",
      " la desivacion est. es :  75.65927652971578\n"
     ]
    }
   ],
   "source": [
    "# Para obtener la media de los valores dentro de un arreglo \n",
    "print(np.mean(precios_arreglo))\n",
    "\n",
    "#para obtener la desviacion estandar de los valores dentro de un arreglo\n",
    "desvi = np.std(precios_arreglo)\n",
    "print(' la desivacion est. es :  ' + str(desvi)) #Para darle un formato presentable concatenamos y la \n",
    "                                                 #variable desvi la transformamos a tipo str para poderla \n",
    "                                                 # imprimir en una serie de datos string "
   ]
  },
  {
   "cell_type": "code",
   "execution_count": 53,
   "metadata": {},
   "outputs": [
    {
     "name": "stdout",
     "output_type": "stream",
     "text": [
      "[ 1  2  3  4  5  6  7  8  9 10 11 12]\n",
      "[ 1  3  5  7  9 11]\n"
     ]
    }
   ],
   "source": [
    "#Para crear un arreglo solo con el numero de inicio y final (datos numericos)\n",
    "meses = np.arange(1,13) #creamos un arreglo con inicio en  1 y final  12\n",
    "print(meses)\n",
    "\n",
    "# tambien podemos crear arreglos con patron de cambio\n",
    "meses_patron = np.arange(1,13,2) #saltos de dos posiciones dentro del arreglo\n",
    "print(meses_patron)"
   ]
  },
  {
   "cell_type": "code",
   "execution_count": 60,
   "metadata": {},
   "outputs": [
    {
     "name": "stdout",
     "output_type": "stream",
     "text": [
      "[['lun' 'mar' 'mier' 'juev' 'vier' 'sab']\n",
      " ['21' '23' '34' '43' '55' '78']]\n",
      "[['lun' '21']\n",
      " ['mar' '23']\n",
      " ['mier' '34']\n",
      " ['juev' '43']\n",
      " ['vier' '55']\n",
      " ['sab' '78']]\n"
     ]
    }
   ],
   "source": [
    "# Para darle un formato de presentacion a un arreglo de 2n \n",
    "dia = ['lun', 'mar', 'mier', 'juev', 'vier', 'sab']   #Declaramos nuestras dos listas \n",
    "visitantes = [21, 23, 34, 43, 55, 78]\n",
    "arreglo_visitas = np.array([dia, visitantes])         #Convertimos a un arreglo\n",
    "print(arreglo_visitas)                  # Se imprime sin formato\n",
    "\n",
    "formato_visitas = np.transpose(arreglo_visitas) # la funcion transpose() cambia los renglones y columnas \n",
    "                                                #de un arreglo haciendolo mas entendible\n",
    "print(formato_visitas)\n"
   ]
  },
  {
   "cell_type": "code",
   "execution_count": 68,
   "metadata": {},
   "outputs": [
    {
     "name": "stdout",
     "output_type": "stream",
     "text": [
      "juev\n",
      "55\n",
      "['mar' '23']\n",
      "['21' '23' '34' '43' '55' '78']\n"
     ]
    }
   ],
   "source": [
    " # Tambien podemos buscar un elemento dentro de un arreglo\n",
    "print(arreglo_visitas[0,3])    #renglon 1 fila 3\n",
    "print(formato_visitas[4, 1])   #renglon 5 fila 2\n",
    "print(formato_visitas[1, :])   # tomamos los items del renglon 2 \n",
    "print(formato_visitas[:, 1])   # tomamos los items dela fila 2 "
   ]
  },
  {
   "cell_type": "code",
   "execution_count": 73,
   "metadata": {},
   "outputs": [
    {
     "name": "stdout",
     "output_type": "stream",
     "text": [
      "['ene' 'feb' 'mar' 'abr' 'may']\n",
      "['feb' 'abr' 'may']\n"
     ]
    }
   ],
   "source": [
    "# Indexar arreglos \n",
    "\n",
    "arreglo_meses = np.array(['ene', 'feb', 'mar', 'abr', 'may'])\n",
    "arreglo_indice = np.array([1,3,4])            # seleccionamos los items que queremos\n",
    "print(arreglo_meses)\n",
    "nuevo_arreglo = arreglo_meses[arreglo_indice]      # creamos un nuevo arreglo con los items del primero \n",
    "print(nuevo_arreglo)                          \n",
    "\n"
   ]
  },
  {
   "cell_type": "code",
   "execution_count": 76,
   "metadata": {},
   "outputs": [
    {
     "name": "stdout",
     "output_type": "stream",
     "text": [
      "['ene' 'mar' 'abr']\n"
     ]
    }
   ],
   "source": [
    "# Booleanos en arreglos\n",
    "arreglo2_meses = np.array(['ene', 'feb', 'mar', 'abr', 'may'])\n",
    "arreglo_boolean = np.array([True, False, True, True, False]) # Seleccionamos los items que queremos \n",
    "                                                             # que aparezcan en el nuevo arreglo\n",
    "\n",
    "print(arreglo2_meses[arreglo_boolean])\n",
    "\n"
   ]
  },
  {
   "cell_type": "code",
   "execution_count": 81,
   "metadata": {},
   "outputs": [
    {
     "name": "stdout",
     "output_type": "stream",
     "text": [
      "[241.43 343.23 453.21 231.32]\n",
      "[False  True  True False]\n"
     ]
    }
   ],
   "source": [
    "# Booleanos: Condicionales dentro de arreglos\n",
    "\n",
    "ingresos = np.array([241.43, 343.23, 453.21, 231.32 ])\n",
    "print(ingresos)\n",
    "\n",
    "condicion_boolean = (ingresos > 242)  #Busca que items dentro del arreglo cumplan la condicion \n",
    "                                      # y los traduce a booleanos (True o False)\n",
    "print(condicion_boolean)"
   ]
  },
  {
   "cell_type": "code",
   "execution_count": null,
   "metadata": {},
   "outputs": [],
   "source": []
  }
 ],
 "metadata": {
  "kernelspec": {
   "display_name": "Python 3",
   "language": "python",
   "name": "python3"
  },
  "language_info": {
   "codemirror_mode": {
    "name": "ipython",
    "version": 3
   },
   "file_extension": ".py",
   "mimetype": "text/x-python",
   "name": "python",
   "nbconvert_exporter": "python",
   "pygments_lexer": "ipython3",
   "version": "3.8.5"
  }
 },
 "nbformat": 4,
 "nbformat_minor": 4
}
