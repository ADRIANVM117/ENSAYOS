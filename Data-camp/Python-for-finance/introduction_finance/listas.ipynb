{
 "cells": [
  {
   "cell_type": "markdown",
   "metadata": {},
   "source": [
    "# Listas \n",
    "## Adrián Vázquez     28/03/21"
   ]
  },
  {
   "cell_type": "code",
   "execution_count": 3,
   "metadata": {},
   "outputs": [
    {
     "name": "stdout",
     "output_type": "stream",
     "text": [
      "['adrian', 'jose']\n"
     ]
    }
   ],
   "source": [
    "#Para crear listas utilizamos [] dentro de una lista puedes escribir valores  string, int, float, boolenan\n",
    "nombre = ['adrian', 'jose']\n",
    "print(nombre)"
   ]
  },
  {
   "cell_type": "code",
   "execution_count": 6,
   "metadata": {},
   "outputs": [
    {
     "name": "stdout",
     "output_type": "stream",
     "text": [
      "adrian\n",
      "jose\n"
     ]
    }
   ],
   "source": [
    "# cada item dentro de una lista esta indexado, quiere decir que tiene una posición dentro de la lista \n",
    "#en python el indice empieza en 0 \n",
    "#para seleccionar un item especifico de una lista, utilizamos \n",
    "print(nombre[0])\n",
    "#tambien podemos mandar a llamar la ultima posicion con un  indice negativo \n",
    "print(nombre[-1])"
   ]
  },
  {
   "cell_type": "markdown",
   "metadata": {},
   "source": [
    "### Extraer varios elementos de una lista\n"
   ]
  },
  {
   "cell_type": "code",
   "execution_count": 34,
   "metadata": {},
   "outputs": [
    {
     "name": "stdout",
     "output_type": "stream",
     "text": [
      "['azul', 'verde', 'amarillo']\n",
      "['verde', 'amarillo', 'rojo', 'cafe', 'dorado']\n",
      "['amarillo', 'rojo', 'cafe', 'dorado', 'gris']\n",
      "['azul', 'verde', 'amarillo']\n",
      "gris\n"
     ]
    }
   ],
   "source": [
    "lista = [ 'azul', 'verde', 'amarillo', 'rojo', 'cafe', 'dorado', 'gris']\n",
    "print(lista[0:3]) #Extrae los items del o al 2 \n",
    "print(lista[1:6]) #Extraer los items 1 al 5\n",
    "print(lista[-5:]) #Extraer todos los items apartir de la posición -5\n",
    "print(lista[:3])  #Extrae los primeros 3 items \n"
   ]
  },
  {
   "cell_type": "markdown",
   "metadata": {},
   "source": [
    "### Para cortar una lista \n"
   ]
  },
  {
   "cell_type": "code",
   "execution_count": 50,
   "metadata": {},
   "outputs": [
    {
     "data": {
      "text/plain": [
       "['martes', 'jueves', 'sabado']"
      ]
     },
     "execution_count": 50,
     "metadata": {},
     "output_type": "execute_result"
    }
   ],
   "source": [
    "dias = ['lunes', 'martes', 'miecoles', 'jueves', 'viernes', 'sabado', 'domingo']\n",
    "# Si quiero que los items extraidos mantengan un patron \n",
    "# [inicio de la lista, final de la lista, patron de salto]\n",
    "dias[1:7:2] # Quiero extraer items desde el intervalo 1-7 en un patron de dos en dos \n",
    "dias[1:6:2] # Extraer item del 1 al 4 en intervalo de 1-4 con patron de tres "
   ]
  },
  {
   "cell_type": "markdown",
   "metadata": {},
   "source": [
    "### Listas en listas"
   ]
  },
  {
   "cell_type": "code",
   "execution_count": 52,
   "metadata": {},
   "outputs": [],
   "source": [
    "#Una lista que contenga una lista con nombres y una lista con edades \n",
    "lista2 = [['adrian', 'pedro', 'juan', 'monica'],[21, 21, 23, 20]] "
   ]
  },
  {
   "cell_type": "code",
   "execution_count": 56,
   "metadata": {},
   "outputs": [
    {
     "name": "stdout",
     "output_type": "stream",
     "text": [
      "['adrian', 'pedro', 'juan', 'monica']\n",
      "[21, 21, 23, 20]\n"
     ]
    }
   ],
   "source": [
    "#Sacar un subconjunto anidado de la lista\n",
    "print(lista2[0]) #imprimo la primera posición de mi indice dentro de lista2\n",
    "print(lista2[1]) #imprimo la segunda posición de mi indice dentro de lista2"
   ]
  },
  {
   "cell_type": "code",
   "execution_count": 58,
   "metadata": {},
   "outputs": [
    {
     "name": "stdout",
     "output_type": "stream",
     "text": [
      "20\n"
     ]
    }
   ],
   "source": [
    "# Para extraer un subconjunto especifico dentro de una lista especifica\n",
    "print(lista2[1][3]) #busco 2da  lista 4rta posicion dentro de lista2\n",
    "\n",
    "                    "
   ]
  },
  {
   "cell_type": "markdown",
   "metadata": {},
   "source": [
    "### Methods vs Function "
   ]
  },
  {
   "cell_type": "markdown",
   "metadata": {},
   "source": [
    "#### * Todos los  metodos son funciones: se usan en un objeto\n",
    "#### * No todas las funciones  son metodos:  Requiere una entrada de un objeto\n"
   ]
  },
  {
   "cell_type": "markdown",
   "metadata": {},
   "source": [
    "#### Las listas tienen incorporados  metodos para manipular datos"
   ]
  },
  {
   "cell_type": "code",
   "execution_count": 71,
   "metadata": {},
   "outputs": [
    {
     "name": "stdout",
     "output_type": "stream",
     "text": [
      "[0, 1, 2, 3, 4, 5, 6, 7, 8, 9, 10]\n"
     ]
    }
   ],
   "source": [
    "# para usar methods entramos con list.method()\n",
    "\n",
    "numeros = [ 0,1,3,4,2,7,6,5,10,9,8]\n",
    "#para  mandar a llamar al metodo: lista de forma ascendente \n",
    "numeros.sort()\n",
    "#mandamos a llamar a la funcion para que imprima el metodo\n",
    "print(numeros)\n"
   ]
  },
  {
   "cell_type": "code",
   "execution_count": 78,
   "metadata": {},
   "outputs": [
    {
     "name": "stdout",
     "output_type": "stream",
     "text": [
      "['carlos', 'maria', 'juan', 'pedro', 'roberto']\n",
      "['carlos', 'maria', 'juan', 'pedro', 'roberto', 'jose', 'ramon', 'marcos']\n"
     ]
    }
   ],
   "source": [
    "# Para añadir elementos a la lista \n",
    "escuela = [ 'carlos', 'maria', 'juan', 'pedro']\n",
    "# añadir un elemento\n",
    "escuela.append(\"roberto\")\n",
    "print(escuela)\n",
    "escuela[]\n",
    "\n",
    "# añadir varios elementos \n",
    "escuela.extend(['jose', 'ramon', 'marcos']) # NOTA: Se agregan en forma de lista \"[]\"\n",
    "print(escuela)"
   ]
  },
  {
   "cell_type": "code",
   "execution_count": 80,
   "metadata": {},
   "outputs": [
    {
     "data": {
      "text/plain": [
       "7"
      ]
     },
     "execution_count": 80,
     "metadata": {},
     "output_type": "execute_result"
    }
   ],
   "source": [
    "# Para conocer la posicion de indice de un elemento:  lista.index('elemento')\n",
    "escuela.index('marcos')\n"
   ]
  },
  {
   "cell_type": "code",
   "execution_count": null,
   "metadata": {},
   "outputs": [],
   "source": [
    "# Otras funciones \n",
    "# max(lista) : regresa el elemento mayor\n",
    "# min(lista) : regresa el elemento menor"
   ]
  }
 ],
 "metadata": {
  "kernelspec": {
   "display_name": "Python 3",
   "language": "python",
   "name": "python3"
  },
  "language_info": {
   "codemirror_mode": {
    "name": "ipython",
    "version": 3
   },
   "file_extension": ".py",
   "mimetype": "text/x-python",
   "name": "python",
   "nbconvert_exporter": "python",
   "pygments_lexer": "ipython3",
   "version": "3.8.5"
  }
 },
 "nbformat": 4,
 "nbformat_minor": 4
}
