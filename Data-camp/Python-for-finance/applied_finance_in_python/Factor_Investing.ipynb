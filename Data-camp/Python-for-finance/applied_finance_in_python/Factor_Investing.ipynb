{
 "cells": [
  {
   "cell_type": "markdown",
   "metadata": {},
   "source": [
    "## Inversión por factores\n",
    "### Adrián Vázquez\n",
    "#### 22/7/21"
   ]
  },
  {
   "cell_type": "markdown",
   "metadata": {},
   "source": [
    "## CAPM\n",
    "\n",
    "###  Modelo de fijación de precios de activos de capital \n"
   ]
  },
  {
   "cell_type": "markdown",
   "metadata": {},
   "source": [
    "<b> CAPM se basa en $ \\beta $ </b>"
   ]
  },
  {
   "cell_type": "markdown",
   "metadata": {},
   "source": [
    " $ \\beta $ Es su exposición a una amplia cartera de referencia de mercado regional\n",
    "\n",
    "La tasa libre de riesgo utilizada tambien es regional y se resta tanto de su cartera y rentabilidad de la cartera de referencia para permitir un mejor análisis de su verdadera exposición. \n",
    "\n",
    "\n",
    "una alta $ \\beta $ significa una alta exposición al mercado y un baja $ \\beta $  o incluso negativa significa exposición baja o negativa a los movimientos del mercado\n",
    "\n",
    "$ \\beta$ se obtiene: \n",
    "\n",
    "## $ \\beta_{p} =  \\frac{cov(R_{P}, R_{B})}{Var(R_{B})}$\n",
    "\n",
    " $ \\beta_{p}$ Portafolio beta\n",
    " \n",
    " $ cov(R_{P}, R_{B})$ La covarianza entre el portafolio (P) y  el indice de mercado de referencia (B)\n",
    "  \n",
    " $ Var(R_{B})$  La varianza del indice del mercado de referencia \n",
    "  "
   ]
  },
  {
   "cell_type": "markdown",
   "metadata": {},
   "source": [
    "### Ejercicio\n"
   ]
  },
  {
   "cell_type": "code",
   "execution_count": 2,
   "metadata": {},
   "outputs": [],
   "source": [
    "import numpy as np \n",
    "import pandas as pd \n",
    "import matplotlib.pyplot as plt"
   ]
  },
  {
   "cell_type": "code",
   "execution_count": 3,
   "metadata": {},
   "outputs": [],
   "source": [
    "FamaFrenchData= pd.read_csv('https://assets.datacamp.com/production/repositories/1546/datasets/3d9b734fea954b629d2477ef48c36525dfecf6e0/FamaFrenchFactors.csv')"
   ]
  },
  {
   "cell_type": "code",
   "execution_count": 4,
   "metadata": {},
   "outputs": [
    {
     "data": {
      "text/html": [
       "<div>\n",
       "<style scoped>\n",
       "    .dataframe tbody tr th:only-of-type {\n",
       "        vertical-align: middle;\n",
       "    }\n",
       "\n",
       "    .dataframe tbody tr th {\n",
       "        vertical-align: top;\n",
       "    }\n",
       "\n",
       "    .dataframe thead th {\n",
       "        text-align: right;\n",
       "    }\n",
       "</style>\n",
       "<table border=\"1\" class=\"dataframe\">\n",
       "  <thead>\n",
       "    <tr style=\"text-align: right;\">\n",
       "      <th></th>\n",
       "      <th>Date</th>\n",
       "      <th>Portfolio</th>\n",
       "      <th>Market_Excess</th>\n",
       "      <th>SMB</th>\n",
       "      <th>HML</th>\n",
       "      <th>RMW</th>\n",
       "      <th>CMA</th>\n",
       "      <th>RF</th>\n",
       "    </tr>\n",
       "  </thead>\n",
       "  <tbody>\n",
       "    <tr>\n",
       "      <th>0</th>\n",
       "      <td>2013-01-03</td>\n",
       "      <td>-0.005066</td>\n",
       "      <td>-0.0014</td>\n",
       "      <td>0.0014</td>\n",
       "      <td>0.0004</td>\n",
       "      <td>0.0020</td>\n",
       "      <td>0.0023</td>\n",
       "      <td>0.0</td>\n",
       "    </tr>\n",
       "    <tr>\n",
       "      <th>1</th>\n",
       "      <td>2013-01-04</td>\n",
       "      <td>0.004024</td>\n",
       "      <td>0.0055</td>\n",
       "      <td>0.0019</td>\n",
       "      <td>0.0043</td>\n",
       "      <td>-0.0037</td>\n",
       "      <td>0.0027</td>\n",
       "      <td>0.0</td>\n",
       "    </tr>\n",
       "  </tbody>\n",
       "</table>\n",
       "</div>"
      ],
      "text/plain": [
       "         Date  Portfolio  Market_Excess     SMB     HML     RMW     CMA   RF\n",
       "0  2013-01-03  -0.005066        -0.0014  0.0014  0.0004  0.0020  0.0023  0.0\n",
       "1  2013-01-04   0.004024         0.0055  0.0019  0.0043 -0.0037  0.0027  0.0"
      ]
     },
     "execution_count": 4,
     "metadata": {},
     "output_type": "execute_result"
    }
   ],
   "source": [
    "FamaFrenchData.head(2)"
   ]
  },
  {
   "cell_type": "markdown",
   "metadata": {},
   "source": [
    "### Calcular el exceso de rendimientos  "
   ]
  },
  {
   "cell_type": "code",
   "execution_count": 5,
   "metadata": {},
   "outputs": [
    {
     "data": {
      "image/png": "[encoded data removed]",
      "text/plain": [
       "<Figure size 432x288 with 1 Axes>"
      ]
     },
     "metadata": {
      "needs_background": "light"
     },
     "output_type": "display_data"
    },
    {
     "data": {
      "text/plain": [
       "<Figure size 720x360 with 0 Axes>"
      ]
     },
     "metadata": {},
     "output_type": "display_data"
    }
   ],
   "source": [
    "# Calculate excess portfolio returns\n",
    "FamaFrenchData['Portfolio_Excess'] = FamaFrenchData['Portfolio'] - FamaFrenchData['RF']\n",
    "# Plot returns vs excess returns\n",
    "CumulativeReturns = ((1+FamaFrenchData[['Portfolio','Portfolio_Excess']]).cumprod()-1)\n",
    "CumulativeReturns.plot()\n",
    "plt.figure(figsize = (10,5))\n",
    "plt.show()"
   ]
  },
  {
   "cell_type": "markdown",
   "metadata": {},
   "source": [
    "##   Calcular Beta"
   ]
  },
  {
   "cell_type": "code",
   "execution_count": 6,
   "metadata": {},
   "outputs": [
    {
     "name": "stdout",
     "output_type": "stream",
     "text": [
      "Coeficiente de covarianza:  5.726126338154974e-05\n",
      "Covarianza del marcador de indice : 5.8803350882118946e-05\n",
      "Portafolio beta:   0.9737755165745473\n"
     ]
    }
   ],
   "source": [
    "# Calculate the co-variance matrix between Portfolio_Excess and Market_Excess\n",
    "covariance_matrix = FamaFrenchData[['Portfolio_Excess', 'Market_Excess']].cov()\n",
    "# Extract the co-variance co-efficient\n",
    "covariance_coefficient = covariance_matrix.iloc[0, 1]\n",
    "print('Coeficiente de covarianza: ', covariance_coefficient)\n",
    "# Calculate the benchmark variance\n",
    "benchmark_variance = FamaFrenchData['Market_Excess'].var()\n",
    "print('Covarianza del marcador de indice :',  benchmark_variance)\n",
    "# Calculating the portfolio market beta\n",
    "portfolio_beta = covariance_coefficient / benchmark_variance\n",
    "print('Portafolio beta:  ', portfolio_beta)"
   ]
  },
  {
   "cell_type": "markdown",
   "metadata": {},
   "source": [
    "### CAPM\n",
    "- Modelar rendimientos de acciones \n",
    "\n",
    "### $ E(R_{P}) - RF = \\beta_{P}(E(R_{M}) - RF)  $\n",
    "\n",
    "$ E(R_{P}) - RF$. Exceso de rendimiento esperado de una acción o portafolio P\n",
    "\n",
    "$ E(R_{M}) - RF)$. Exceso de rendimiento esperado de la cartera de mercado amplio B\n",
    "\n",
    "$ RF $. La tasa regional libre de riesgo \n",
    "\n",
    "$ \\beta_{P}$. Portafolio Beta"
   ]
  },
  {
   "cell_type": "markdown",
   "metadata": {},
   "source": [
    "-  Con una regresión lineal tambien es posible obtener $ \\beta$"
   ]
  },
  {
   "cell_type": "code",
   "execution_count": 7,
   "metadata": {},
   "outputs": [
    {
     "name": "stdout",
     "output_type": "stream",
     "text": [
      "r cuadrada  adjunto 0.7942627160017837\n",
      "Beta 0.9737755165745478\n"
     ]
    }
   ],
   "source": [
    "# Import statsmodels.formula.api\n",
    "import statsmodels.formula.api as smf \n",
    "# Define the regression formula\n",
    "# 'Portfolio_Excess ~ Market_Excess ' <-- significa que el portafolio_excess es funci-\n",
    "# ón de market_Excess\n",
    "\n",
    "CAPM_model = smf.ols(formula= 'Portfolio_Excess ~ Market_Excess', data=FamaFrenchData)\n",
    "# Print adjusted r-squared of the fitted regression\n",
    "CAPM_fit = CAPM_model.fit()\n",
    "print('r cuadrada  adjunto', CAPM_fit.rsquared_adj)\n",
    "# Extract the beta\n",
    "regression_beta = CAPM_fit.params['Market_Excess']\n",
    "print('Beta', regression_beta)"
   ]
  },
  {
   "cell_type": "markdown",
   "metadata": {},
   "source": [
    "## Conclusión. \n",
    "\n",
    "- Your portfolio beta is once again 0.9738. The adjusted r-squared is 0.7943. A high adjusted r-squared (close to 1) means that the majority of your portfolio's movements can be explained by the factors in your model."
   ]
  },
  {
   "cell_type": "markdown",
   "metadata": {},
   "source": [
    "## El modelo de 3 factores de Fama-French para gestión de carteras en finanzas \n",
    "\n",
    "- Este modelo extiende el modelo CAPM agregando el SBM('Pequeño mas grande'). o factor de tamaño, asi como el HML('alto mas bajo'), o factor de valor\n",
    "\n",
    "- Esto se debe a que las acciones pequeñas tienden a superar a las acciones grandes, tan pequeñas. La rentabiliad de las acciones menos la rentabilidad de las grandes acciones es esencialmente la prima de tamaño pequeño.  valor versus crecimiento, alto menos bajo "
   ]
  },
  {
   "cell_type": "markdown",
   "metadata": {},
   "source": [
    "- <b> Cualquer cosa que no pueda explicarse por la versión beta, el tamaño o el valor de factores en el modelo se llama alfa, que es esencialmente un término de error. </b> \n",
    "\n",
    "- El alfa positivo ahora se interpreta popularmente como un rendimiento superior debido a la habilidad, la suerte o el tiempo. \n",
    "   - Para cada fondo con alfa positivo hay otro fondo con alfa negativo ya que la suma ponderada de todo el alfa en un mercado debe ser 0. Esto se debe a que la suma ponderada de los rendimientos de todos los inversores simplemente es igual a la cartera de mercado \n"
   ]
  },
  {
   "cell_type": "markdown",
   "metadata": {},
   "source": [
    "\n",
    "\n",
    "$ R_{p} = RF + \\beta_{M}(R_{M} - RF) + b_{SMB}* SBM + b_{HML}* HML  + \\alpha  $\n",
    "\n",
    "- $ SBM $ :El factor pequeño menos grande \n",
    "- $  b_{SMB}$ : Exposición al facotr SMB\n",
    "- $  HML $ : El factor alto mas bajo \n",
    "- $ b_{HML}$ : Exposición al factor HML \n",
    "- $ \\alpha $ : Rendimiento que no se explica por ningun otro factor \n",
    "- $ \\beta_{M}$ : Beta de la cartera de mercado amplia B \n"
   ]
  },
  {
   "cell_type": "markdown",
   "metadata": {},
   "source": [
    "## Ejercicio \n",
    "\n",
    "- Defina un modelo de regresión que explique el Exceso_de_cartera en función del Exceso_de_mercado, el SMB y el HML.\n",
    "\n",
    "- Extraiga el valor r-cuadrado ajustado de FamaFrench_fit."
   ]
  },
  {
   "cell_type": "code",
   "execution_count": 10,
   "metadata": {},
   "outputs": [
    {
     "name": "stdout",
     "output_type": "stream",
     "text": [
      "0.8193910088585149\n"
     ]
    }
   ],
   "source": [
    "# Import statsmodels.formula.api\n",
    "import statsmodels.formula.api as smf \n",
    "# Define the regression formula\n",
    "FamaFrench_model = smf.ols(formula= 'Portfolio_Excess ~ Market_Excess + SMB + HML', data=FamaFrenchData)\n",
    "# Fit the regression\n",
    "FamaFrench_fit = FamaFrench_model.fit()\n",
    "# Extract the adjusted r-squared\n",
    "regression_adj_rsq = FamaFrench_fit.rsquared_adj\n",
    "print(regression_adj_rsq)"
   ]
  },
  {
   "cell_type": "markdown",
   "metadata": {},
   "source": [
    "### <b> Conclusión </b>\n",
    "\n",
    "- Excelente. El modelo Fama-French de 3 factores se ajustó bien, aumentando el r-cuadrado ajustado de 0,7943 a 0,8194, lo que significa que el modelo explica más de la varianza de su cartera. Pero todavía hay margen de mejora..."
   ]
  },
  {
   "cell_type": "markdown",
   "metadata": {},
   "source": [
    "### <b> p-values and coefficients. </b>\n",
    "\n",
    "- You can use the .pvalues attribute on a fitted smf.ols regression model to retrieve the p-values for each coefficient.\n",
    "\n",
    "- Normally, p-values less than 0.05 are considered statistically significant. Coefficients can be extracted from the fitted regression object using the .params attribute. In this example, a statistically significant negative SMB ('Small Minus Big') coefficient would signify a factor exposure to large cap stocks, while a positive coefficient would signify an exposure to small cap stocks."
   ]
  },
  {
   "cell_type": "markdown",
   "metadata": {},
   "source": [
    "### <b>Exercise </b>\n"
   ]
  },
  {
   "cell_type": "code",
   "execution_count": 11,
   "metadata": {},
   "outputs": [
    {
     "name": "stdout",
     "output_type": "stream",
     "text": [
      "The SMB coefficient is  -0.2621515274319265  and is  significant\n"
     ]
    }
   ],
   "source": [
    "# Extract the p-value of the SMB factor\n",
    "smb_pval = FamaFrench_fit.pvalues['SMB']\n",
    "# If the p-value is significant, print significant\n",
    "if smb_pval < 0.05:\n",
    "    significant_msg = 'significant'\n",
    "else:\n",
    "    significant_msg = 'not significant'\n",
    "# Print the SMB coefficient\n",
    "smb_coeff = FamaFrench_fit.params['SMB']\n",
    "print(\"The SMB coefficient is \", smb_coeff, \" and is \", significant_msg)"
   ]
  },
  {
   "cell_type": "markdown",
   "metadata": {},
   "source": [
    "<b> Conclusion </b>\n",
    "\n",
    "- Great! Your portfolio has a statistically significant negative exposure (-0.2621) to small-cap stocks - in other words - positive exposure to large caps!"
   ]
  },
  {
   "cell_type": "markdown",
   "metadata": {},
   "source": [
    "### In the Fama-French factor model:\n",
    "\n",
    "- The HML factor is constructed by calculating the return of growth stocks, or stocks with high valuations, versus the return of value stocks.\n",
    "\n",
    "- The SMB factor is constructed by calculating the return of small-cap stocks, or stocks with small market capitalizations, versus the return of large-cap stocks.\n",
    "\n",
    "<b> size factor </b>\n",
    "\n",
    "- Small-cap + Value stocks should have the highest returns and risk."
   ]
  },
  {
   "cell_type": "markdown",
   "metadata": {},
   "source": [
    "### The alpha $ \\alpha $ \n",
    "\n",
    "- left over by the regression is unexplained performance due to unknown factors. In a regression model, this is simply the coefficient of the intercept.\n",
    "\n",
    "- There are two general schools of thought as to why:\n",
    "    - The model simply needs to be expanded. When you have found all of the missing economic factors, you can explain all stock and portfolio returns. This is known as the Efficient Market Hypothesis.\n",
    "    - There is a degree of unexplainable performance that no model will ever capture reliably. Perhaps it is due to skill, timing, intuition or luck, but investors should seek to maximize their alpha."
   ]
  },
  {
   "cell_type": "code",
   "execution_count": 13,
   "metadata": {},
   "outputs": [
    {
     "name": "stdout",
     "output_type": "stream",
     "text": [
      "0.00018326665203183447\n",
      "0.04726181730280854\n"
     ]
    }
   ],
   "source": [
    "# Calculate your portfolio alpha\n",
    "portfolio_alpha = FamaFrench_fit.params['Intercept']\n",
    "print(portfolio_alpha)\n",
    "# Annualize your portfolio alpha\n",
    "portfolio_alpha_annualized = ((1+portfolio_alpha)**252)-1\n",
    "print(portfolio_alpha_annualized)\n"
   ]
  },
  {
   "cell_type": "markdown",
   "metadata": {},
   "source": [
    "<b> Conclusion </b>\n",
    "\n",
    "- Your annualized portfolio alpha is 4.73% -- Efficient markets beware!"
   ]
  },
  {
   "cell_type": "markdown",
   "metadata": {},
   "source": [
    "### <b> The 5-factor model </b>\n",
    "\n",
    "- In 2015, Fama and French extended their previous 3-factor model, adding two additional factors:\n",
    "   - RMW: Profitability\n",
    "   - CMA: Investment\n",
    "\n",
    "- The RMW factor represents the returns of companies with high operating profitability versus those with low operating profitability, and the CMA factor represents the returns of companies with aggressive investments versus those who are more conservative.\n"
   ]
  },
  {
   "cell_type": "code",
   "execution_count": 14,
   "metadata": {},
   "outputs": [
    {
     "name": "stdout",
     "output_type": "stream",
     "text": [
      "0.8367245019225789\n"
     ]
    }
   ],
   "source": [
    "# Import statsmodels.formula.api\n",
    "import statsmodels.formula.api as smf \n",
    "# Define the regression formula\n",
    "FamaFrench5_model = smf.ols(formula='Portfolio_Excess ~ Market_Excess + SMB + HML + RMW + CMA ', data=FamaFrenchData)\n",
    "# Fit the regression\n",
    "FamaFrench5_fit = FamaFrench5_model.fit()\n",
    "# Extract the adjusted r-squared\n",
    "regression_adj_rsq = FamaFrench5_fit.rsquared_adj\n",
    "print(regression_adj_rsq)"
   ]
  },
  {
   "cell_type": "markdown",
   "metadata": {},
   "source": [
    "<b> Conclusion </b>\n",
    "\n",
    "- Nice! The adjusted r-squared is even higher at 0.8367! Could you build a better model?"
   ]
  },
  {
   "cell_type": "code",
   "execution_count": null,
   "metadata": {},
   "outputs": [],
   "source": []
  },
  {
   "cell_type": "code",
   "execution_count": null,
   "metadata": {},
   "outputs": [],
   "source": []
  },
  {
   "cell_type": "code",
   "execution_count": 9,
   "metadata": {},
   "outputs": [
    {
     "data": {
      "text/plain": [
       "Index(['Date', 'Portfolio', 'Market_Excess', 'SMB', 'HML', 'RMW', 'CMA', 'RF',\n",
       "       'Portfolio_Excess'],\n",
       "      dtype='object')"
      ]
     },
     "execution_count": 9,
     "metadata": {},
     "output_type": "execute_result"
    }
   ],
   "source": [
    "FamaFrenchData.columns"
   ]
  }
 ],
 "metadata": {
  "kernelspec": {
   "display_name": "Python 3",
   "language": "python",
   "name": "python3"
  },
  "language_info": {
   "codemirror_mode": {
    "name": "ipython",
    "version": 3
   },
   "file_extension": ".py",
   "mimetype": "text/x-python",
   "name": "python",
   "nbconvert_exporter": "python",
   "pygments_lexer": "ipython3",
   "version": "3.8.5"
  }
 },
 "nbformat": 4,
 "nbformat_minor": 4
}
