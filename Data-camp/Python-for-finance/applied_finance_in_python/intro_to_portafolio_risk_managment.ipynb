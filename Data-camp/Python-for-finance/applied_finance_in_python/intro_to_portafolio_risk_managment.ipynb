{
 "cells": [
  {
   "cell_type": "markdown",
   "metadata": {},
   "source": [
    "## Introducción a la gestión de un portafolio de riesgo \n",
    "### Adrián Vázquez\n",
    "#### 20/07/21"
   ]
  },
  {
   "cell_type": "markdown",
   "metadata": {},
   "source": [
    "<b> Riesgo financiero :  </b>\n",
    "\n",
    "- Es una medida de la incertidumbre de los rendimientos futuros\n",
    "\n",
    "<b> Rendimientos Financieros : </b>\n",
    "\n",
    "- Generalmente se derivan de los precios de las acciones y se expresan como porcentajes en forma decimal \n",
    "   - Tipos de retornos. \n",
    "       -  Retorno discreto (Retorno simple) : Se agregan entre activos\n",
    "       - Retorno de registro (Retorno continuo) : Se agregan a lo largo del tiempo "
   ]
  },
  {
   "cell_type": "code",
   "execution_count": 24,
   "metadata": {},
   "outputs": [],
   "source": [
    "import pandas as pd \n",
    "import numpy as np \n",
    "import matplotlib.pyplot as plt "
   ]
  },
  {
   "cell_type": "code",
   "execution_count": 16,
   "metadata": {},
   "outputs": [],
   "source": [
    "stoncks = pd.read_csv('https://assets.datacamp.com/production/repositories/1546/datasets/0f1a004a8aa693163fa55f277513309f710b700d/MSFTPrices.csv', parse_dates=['Date'])"
   ]
  },
  {
   "cell_type": "code",
   "execution_count": 17,
   "metadata": {},
   "outputs": [
    {
     "data": {
      "text/html": [
       "<div>\n",
       "<style scoped>\n",
       "    .dataframe tbody tr th:only-of-type {\n",
       "        vertical-align: middle;\n",
       "    }\n",
       "\n",
       "    .dataframe tbody tr th {\n",
       "        vertical-align: top;\n",
       "    }\n",
       "\n",
       "    .dataframe thead th {\n",
       "        text-align: right;\n",
       "    }\n",
       "</style>\n",
       "<table border=\"1\" class=\"dataframe\">\n",
       "  <thead>\n",
       "    <tr style=\"text-align: right;\">\n",
       "      <th></th>\n",
       "      <th>Date</th>\n",
       "      <th>Open</th>\n",
       "      <th>High</th>\n",
       "      <th>Low</th>\n",
       "      <th>Close</th>\n",
       "      <th>Volume</th>\n",
       "      <th>Adjusted</th>\n",
       "    </tr>\n",
       "  </thead>\n",
       "  <tbody>\n",
       "    <tr>\n",
       "      <th>0</th>\n",
       "      <td>2000-01-03</td>\n",
       "      <td>88.777</td>\n",
       "      <td>89.722</td>\n",
       "      <td>84.712</td>\n",
       "      <td>58.28125</td>\n",
       "      <td>53228400</td>\n",
       "      <td>38.527809</td>\n",
       "    </tr>\n",
       "    <tr>\n",
       "      <th>1</th>\n",
       "      <td>2000-01-04</td>\n",
       "      <td>85.893</td>\n",
       "      <td>88.588</td>\n",
       "      <td>84.901</td>\n",
       "      <td>56.31250</td>\n",
       "      <td>54119000</td>\n",
       "      <td>37.226345</td>\n",
       "    </tr>\n",
       "    <tr>\n",
       "      <th>2</th>\n",
       "      <td>2000-01-05</td>\n",
       "      <td>84.050</td>\n",
       "      <td>88.021</td>\n",
       "      <td>82.726</td>\n",
       "      <td>56.90625</td>\n",
       "      <td>64059600</td>\n",
       "      <td>37.618851</td>\n",
       "    </tr>\n",
       "    <tr>\n",
       "      <th>3</th>\n",
       "      <td>2000-01-06</td>\n",
       "      <td>84.853</td>\n",
       "      <td>86.130</td>\n",
       "      <td>81.970</td>\n",
       "      <td>55.00000</td>\n",
       "      <td>54976600</td>\n",
       "      <td>36.358688</td>\n",
       "    </tr>\n",
       "    <tr>\n",
       "      <th>4</th>\n",
       "      <td>2000-01-07</td>\n",
       "      <td>82.159</td>\n",
       "      <td>84.901</td>\n",
       "      <td>81.166</td>\n",
       "      <td>55.71875</td>\n",
       "      <td>62013600</td>\n",
       "      <td>36.833828</td>\n",
       "    </tr>\n",
       "  </tbody>\n",
       "</table>\n",
       "</div>"
      ],
      "text/plain": [
       "        Date    Open    High     Low     Close    Volume   Adjusted\n",
       "0 2000-01-03  88.777  89.722  84.712  58.28125  53228400  38.527809\n",
       "1 2000-01-04  85.893  88.588  84.901  56.31250  54119000  37.226345\n",
       "2 2000-01-05  84.050  88.021  82.726  56.90625  64059600  37.618851\n",
       "3 2000-01-06  84.853  86.130  81.970  55.00000  54976600  36.358688\n",
       "4 2000-01-07  82.159  84.901  81.166  55.71875  62013600  36.833828"
      ]
     },
     "execution_count": 17,
     "metadata": {},
     "output_type": "execute_result"
    }
   ],
   "source": [
    "stoncks.head()"
   ]
  },
  {
   "cell_type": "code",
   "execution_count": 19,
   "metadata": {},
   "outputs": [
    {
     "data": {
      "text/html": [
       "<div>\n",
       "<style scoped>\n",
       "    .dataframe tbody tr th:only-of-type {\n",
       "        vertical-align: middle;\n",
       "    }\n",
       "\n",
       "    .dataframe tbody tr th {\n",
       "        vertical-align: top;\n",
       "    }\n",
       "\n",
       "    .dataframe thead th {\n",
       "        text-align: right;\n",
       "    }\n",
       "</style>\n",
       "<table border=\"1\" class=\"dataframe\">\n",
       "  <thead>\n",
       "    <tr style=\"text-align: right;\">\n",
       "      <th></th>\n",
       "      <th>Date</th>\n",
       "      <th>Open</th>\n",
       "      <th>High</th>\n",
       "      <th>Low</th>\n",
       "      <th>Close</th>\n",
       "      <th>Volume</th>\n",
       "      <th>Adjusted</th>\n",
       "    </tr>\n",
       "  </thead>\n",
       "  <tbody>\n",
       "    <tr>\n",
       "      <th>0</th>\n",
       "      <td>2000-01-03</td>\n",
       "      <td>88.777</td>\n",
       "      <td>89.722</td>\n",
       "      <td>84.712</td>\n",
       "      <td>58.28125</td>\n",
       "      <td>53228400</td>\n",
       "      <td>38.527809</td>\n",
       "    </tr>\n",
       "    <tr>\n",
       "      <th>1</th>\n",
       "      <td>2000-01-04</td>\n",
       "      <td>85.893</td>\n",
       "      <td>88.588</td>\n",
       "      <td>84.901</td>\n",
       "      <td>56.31250</td>\n",
       "      <td>54119000</td>\n",
       "      <td>37.226345</td>\n",
       "    </tr>\n",
       "    <tr>\n",
       "      <th>2</th>\n",
       "      <td>2000-01-05</td>\n",
       "      <td>84.050</td>\n",
       "      <td>88.021</td>\n",
       "      <td>82.726</td>\n",
       "      <td>56.90625</td>\n",
       "      <td>64059600</td>\n",
       "      <td>37.618851</td>\n",
       "    </tr>\n",
       "    <tr>\n",
       "      <th>3</th>\n",
       "      <td>2000-01-06</td>\n",
       "      <td>84.853</td>\n",
       "      <td>86.130</td>\n",
       "      <td>81.970</td>\n",
       "      <td>55.00000</td>\n",
       "      <td>54976600</td>\n",
       "      <td>36.358688</td>\n",
       "    </tr>\n",
       "    <tr>\n",
       "      <th>4</th>\n",
       "      <td>2000-01-07</td>\n",
       "      <td>82.159</td>\n",
       "      <td>84.901</td>\n",
       "      <td>81.166</td>\n",
       "      <td>55.71875</td>\n",
       "      <td>62013600</td>\n",
       "      <td>36.833828</td>\n",
       "    </tr>\n",
       "  </tbody>\n",
       "</table>\n",
       "</div>"
      ],
      "text/plain": [
       "        Date    Open    High     Low     Close    Volume   Adjusted\n",
       "0 2000-01-03  88.777  89.722  84.712  58.28125  53228400  38.527809\n",
       "1 2000-01-04  85.893  88.588  84.901  56.31250  54119000  37.226345\n",
       "2 2000-01-05  84.050  88.021  82.726  56.90625  64059600  37.618851\n",
       "3 2000-01-06  84.853  86.130  81.970  55.00000  54976600  36.358688\n",
       "4 2000-01-07  82.159  84.901  81.166  55.71875  62013600  36.833828"
      ]
     },
     "execution_count": 19,
     "metadata": {},
     "output_type": "execute_result"
    }
   ],
   "source": [
    "stoncks = stoncks.sort_values(by = 'Date')\n",
    "\n",
    "stoncks.head()"
   ]
  },
  {
   "cell_type": "markdown",
   "metadata": {},
   "source": [
    "<b> Nota:  </b>\n",
    "\n",
    "La columna de cierre ajustado es la más importante. Está normalizada para las divisiones de acciones, los dividendos y otras acciones corporativas, y es un verdadero reflejo del rendimiento de las acciones a lo largo del tiempo. Usted utilizará el precio de cierre ajustado para calcular los rendimientos de las acciones en este ejercicio."
   ]
  },
  {
   "cell_type": "markdown",
   "metadata": {},
   "source": [
    "### Ejercicio.\n",
    "\n",
    "- Calcular la rentabilidad simple de la acción en la columna 'Adjusted' y guardarla en la columna 'Returns'"
   ]
  },
  {
   "cell_type": "markdown",
   "metadata": {},
   "source": [
    "### `.pct_change()` \n",
    "\n",
    "- Metodo para calcular la rentabilidad simple "
   ]
  },
  {
   "cell_type": "code",
   "execution_count": 22,
   "metadata": {},
   "outputs": [
    {
     "data": {
      "text/html": [
       "<div>\n",
       "<style scoped>\n",
       "    .dataframe tbody tr th:only-of-type {\n",
       "        vertical-align: middle;\n",
       "    }\n",
       "\n",
       "    .dataframe tbody tr th {\n",
       "        vertical-align: top;\n",
       "    }\n",
       "\n",
       "    .dataframe thead th {\n",
       "        text-align: right;\n",
       "    }\n",
       "</style>\n",
       "<table border=\"1\" class=\"dataframe\">\n",
       "  <thead>\n",
       "    <tr style=\"text-align: right;\">\n",
       "      <th></th>\n",
       "      <th>Date</th>\n",
       "      <th>Open</th>\n",
       "      <th>High</th>\n",
       "      <th>Low</th>\n",
       "      <th>Close</th>\n",
       "      <th>Volume</th>\n",
       "      <th>Adjusted</th>\n",
       "      <th>Returns</th>\n",
       "    </tr>\n",
       "  </thead>\n",
       "  <tbody>\n",
       "    <tr>\n",
       "      <th>0</th>\n",
       "      <td>2000-01-03</td>\n",
       "      <td>88.777</td>\n",
       "      <td>89.722</td>\n",
       "      <td>84.712</td>\n",
       "      <td>58.28125</td>\n",
       "      <td>53228400</td>\n",
       "      <td>38.527809</td>\n",
       "      <td>NaN</td>\n",
       "    </tr>\n",
       "    <tr>\n",
       "      <th>1</th>\n",
       "      <td>2000-01-04</td>\n",
       "      <td>85.893</td>\n",
       "      <td>88.588</td>\n",
       "      <td>84.901</td>\n",
       "      <td>56.31250</td>\n",
       "      <td>54119000</td>\n",
       "      <td>37.226345</td>\n",
       "      <td>-0.033780</td>\n",
       "    </tr>\n",
       "    <tr>\n",
       "      <th>2</th>\n",
       "      <td>2000-01-05</td>\n",
       "      <td>84.050</td>\n",
       "      <td>88.021</td>\n",
       "      <td>82.726</td>\n",
       "      <td>56.90625</td>\n",
       "      <td>64059600</td>\n",
       "      <td>37.618851</td>\n",
       "      <td>0.010544</td>\n",
       "    </tr>\n",
       "    <tr>\n",
       "      <th>3</th>\n",
       "      <td>2000-01-06</td>\n",
       "      <td>84.853</td>\n",
       "      <td>86.130</td>\n",
       "      <td>81.970</td>\n",
       "      <td>55.00000</td>\n",
       "      <td>54976600</td>\n",
       "      <td>36.358688</td>\n",
       "      <td>-0.033498</td>\n",
       "    </tr>\n",
       "    <tr>\n",
       "      <th>4</th>\n",
       "      <td>2000-01-07</td>\n",
       "      <td>82.159</td>\n",
       "      <td>84.901</td>\n",
       "      <td>81.166</td>\n",
       "      <td>55.71875</td>\n",
       "      <td>62013600</td>\n",
       "      <td>36.833828</td>\n",
       "      <td>0.013068</td>\n",
       "    </tr>\n",
       "  </tbody>\n",
       "</table>\n",
       "</div>"
      ],
      "text/plain": [
       "        Date    Open    High     Low     Close    Volume   Adjusted   Returns\n",
       "0 2000-01-03  88.777  89.722  84.712  58.28125  53228400  38.527809       NaN\n",
       "1 2000-01-04  85.893  88.588  84.901  56.31250  54119000  37.226345 -0.033780\n",
       "2 2000-01-05  84.050  88.021  82.726  56.90625  64059600  37.618851  0.010544\n",
       "3 2000-01-06  84.853  86.130  81.970  55.00000  54976600  36.358688 -0.033498\n",
       "4 2000-01-07  82.159  84.901  81.166  55.71875  62013600  36.833828  0.013068"
      ]
     },
     "execution_count": 22,
     "metadata": {},
     "output_type": "execute_result"
    }
   ],
   "source": [
    "stoncks['Returns'] = stoncks['Adjusted'].pct_change() # Calculando la rentabilidad simple\n",
    "\n",
    "stoncks.head()"
   ]
  },
  {
   "cell_type": "markdown",
   "metadata": {},
   "source": [
    "#### Graficando la rentabilidad atraves del tiempo. \n"
   ]
  },
  {
   "cell_type": "code",
   "execution_count": 26,
   "metadata": {},
   "outputs": [
    {
     "data": {
      "image/png": "[encoded data removed]",
      "text/plain": [
       "<Figure size 720x360 with 1 Axes>"
      ]
     },
     "metadata": {
      "needs_background": "light"
     },
     "output_type": "display_data"
    }
   ],
   "source": [
    "plt.figure(figsize = (10,5))\n",
    "stoncks['Returns'].plot()\n",
    "plt.show()"
   ]
  },
  {
   "cell_type": "markdown",
   "metadata": {},
   "source": [
    "#### <b> Distribuciones de la rentabilidad. </b>\n",
    "\n",
    "- Para analizar la probabilidad de que se produzcan valores atípicos en las rentabilidades, resulta útil visualizar las rentabilidades históricas de una acción mediante un histograma.\n",
    "\n",
    "- Puede utilizar el histograma para mostrar la densidad histórica o la frecuencia de un rango determinado de rendimientos. Observe que los valores atípicos de la cola izquierda de la distribución de los rendimientos son los que a menudo quiere evitar, ya que representan grandes rendimientos diarios negativos. Los valores atípicos en la parte derecha de la distribución son normalmente eventos particularmente buenos para la acción, como una sorpresa positiva de ganancias."
   ]
  },
  {
   "cell_type": "code",
   "execution_count": 28,
   "metadata": {},
   "outputs": [
    {
     "data": {
      "image/png": "[encoded data removed]",
      "text/plain": [
       "<Figure size 720x360 with 1 Axes>"
      ]
     },
     "metadata": {
      "needs_background": "light"
     },
     "output_type": "display_data"
    }
   ],
   "source": [
    "# Pasar de decimal a porcentaje la columna 'Returns'\n",
    "percent_return = stoncks['Returns']*100\n",
    "# Eliminar valores NaN \n",
    "returns_plot = percent_return.dropna()\n",
    "# Graficar el histograma\n",
    "plt.figure(figsize = (10,5))\n",
    "plt.hist(returns_plot, bins = 75)\n",
    "plt.show()"
   ]
  },
  {
   "cell_type": "markdown",
   "metadata": {},
   "source": [
    "#### Momentos en una distribución (media, varianza, etc...)\n",
    "\n"
   ]
  },
  {
   "cell_type": "markdown",
   "metadata": {},
   "source": [
    "<b> Importante:  </b>\n",
    "\n",
    "Los rendimientos financieros tienden a tener un sesgo positivo y una cutosis superior a 3. Quiere decir que los rendimientos financieros la mayor parte del tiempo tendran una mayor probbilidad de valores atipicos y de rendimientos positivos que una distribución normal.  "
   ]
  },
  {
   "cell_type": "markdown",
   "metadata": {},
   "source": [
    "### <b> Primer momento: Mu </b>\n",
    "\n",
    "- Puedes calcular la media de la rentabilidad histórica de una acción utilizando la función mean() de numpy.\n",
    "\n",
    "- Cuando se calcula la rentabilidad media diaria de una acción, se está estimando esencialmente el primer momento ( ) de la distribución de la rentabilidad histórica.\n",
    "\n",
    "- Pero, ¿de qué sirven las estimaciones de la rentabilidad diaria para un inversor a largo plazo? Puede utilizar la siguiente fórmula para estimar la rentabilidad media anual de una acción dada la rentabilidad media diaria y el número de días de negociación en un año (normalmente hay aproximadamente 252 días de negociación en un año):\n"
   ]
  },
  {
   "cell_type": "markdown",
   "metadata": {},
   "source": [
    "### <b> Formula. </b>\n",
    "\n",
    "#### Rentabilidad media anual  $ = ((1 + \\mu)^{252} ) - 1$"
   ]
  },
  {
   "cell_type": "markdown",
   "metadata": {},
   "source": [
    "### Ejercicio. \n",
    "\n",
    "- Calcule la media de la columna \"Rentabilidad\" para estimar el primer momento ( ) y hágala igual a rentabilidad_media_diaria.\n",
    "\n",
    "- Utilice la fórmula para obtener la rentabilidad media anualizada suponiendo 252 días de negociación al año. Recuerde que los exponentes en Python se calculan con el operador **."
   ]
  },
  {
   "cell_type": "code",
   "execution_count": 35,
   "metadata": {},
   "outputs": [
    {
     "name": "stdout",
     "output_type": "stream",
     "text": [
      "media diaria: 0.00037777546435757725\n",
      "\n",
      "\n",
      "Rentabilidad media anual:   0.09985839482858783\n"
     ]
    }
   ],
   "source": [
    "# Calcular la media diaria de 'Returns'\n",
    "mean_return_daily = np.mean(stoncks['Returns'])\n",
    "print('media diaria:',  mean_return_daily)\n",
    "# Calcular la rentabilidad media anual\n",
    "mean_return_annualized = ((1 + np.mean(stoncks['Returns']))**252)-1\n",
    "print('\\n')\n",
    "print('Rentabilidad media anual:  ', mean_return_annualized)"
   ]
  },
  {
   "cell_type": "markdown",
   "metadata": {},
   "source": [
    "<b> Conclusión. </b>\n",
    "\n",
    "- La rentabilidad media diaria de la acción (mu) es del 0,04% al día. Esto supone una rentabilidad anualizada del 9,99% al año."
   ]
  },
  {
   "cell_type": "markdown",
   "metadata": {},
   "source": [
    "###  <b> Segundo momento: Varianza </b>\n",
    "\n",
    "- Al igual que estimaste el primer momento de la distribución de los retornos en el último ejercicio, también puedes estimar el segundo momento, o la varianza de una distribución de retornos usando numpy.\n",
    "\n",
    "- En este caso, primero tendrás que calcular la desviación estándar diaria ($ \\mu $ ), o la volatilidad de los rendimientos utilizando np.std(). La varianza es simplemente $ \\mu²  $."
   ]
  },
  {
   "cell_type": "code",
   "execution_count": 41,
   "metadata": {},
   "outputs": [
    {
     "name": "stdout",
     "output_type": "stream",
     "text": [
      "0.019341100408708328\n",
      "\n",
      "\n",
      "0.0003740781650197374\n"
     ]
    }
   ],
   "source": [
    "# Calcular la desviación estandar diaria\n",
    "sigma_daily = np.std(stoncks['Returns'])\n",
    "print(sigma_daily)\n",
    "# Calcular la varianza media diaria \n",
    "variance_daily = (np.std(stoncks['Returns'])**2)\n",
    "print('\\n')\n",
    "print(variance_daily)\n"
   ]
  },
  {
   "cell_type": "markdown",
   "metadata": {},
   "source": [
    "<b>Conclusión.  </b>\n",
    "\n",
    "- La volatilidad media diaria de la acción (sigma) es del 1,93% al día. La varianza media diaria de la acción (el segundo momento) es del 0,04%."
   ]
  },
  {
   "cell_type": "markdown",
   "metadata": {},
   "source": [
    "### <b> Anualización de la varianza. </b>\n",
    "\n",
    "- No se puede anualizar la varianza del mismo modo que se anualiza la media.\n",
    "\n",
    "- En este caso, tendrá que multiplicar $ \\mu $ por la raíz cuadrada del número de días de negociación en un año. Normalmente hay 252 días de negociación en un año natural. Supongamos que este es el caso para este ejercicio.\n",
    "\n",
    "\n",
    "- Esto le dará la volatilidad anualizada, pero para obtener la varianza anualizada, tendrá que elevar al cuadrado la volatilidad anualizada al igual que lo hizo para el cálculo diario.\n"
   ]
  },
  {
   "cell_type": "markdown",
   "metadata": {},
   "source": [
    "### Ejercicio. \n",
    "\n",
    "- Anualice sigma_diario multiplicando por la raíz cuadrada de 252 (el número de días de negociación en un año).\n",
    "\n",
    "- Una vez más, eleve al cuadrado sigma_anualizado para obtener la varianza anualizada."
   ]
  },
  {
   "cell_type": "code",
   "execution_count": 44,
   "metadata": {},
   "outputs": [
    {
     "name": "stdout",
     "output_type": "stream",
     "text": [
      "0.3070304505826317\n",
      "\n",
      "\n",
      "0.09426769758497383\n"
     ]
    }
   ],
   "source": [
    "# Annualizar la volatilidad (desv. estandar)\n",
    "sigma_annualized = sigma_daily* (np.sqrt(252))\n",
    "print(sigma_annualized)\n",
    "# anualizar la desviación\n",
    "print('\\n')\n",
    "variance_annualized =  sigma_annualized **2\n",
    "print(variance_annualized)"
   ]
  },
  {
   "cell_type": "markdown",
   "metadata": {},
   "source": [
    "<b> Conclusión </b>\n",
    "\n",
    "- Esto supone una volatilidad anualizada (sigma) del 30,7% al año. Y una varianza anualizada del 9,43% al año"
   ]
  },
  {
   "cell_type": "markdown",
   "metadata": {},
   "source": [
    "##  Asimetría y Curtosis"
   ]
  },
  {
   "cell_type": "markdown",
   "metadata": {},
   "source": [
    "### <B> El tercer momento. </B>\n",
    "\n",
    "- La asimetria se puede considerar como una medida de cuánto se inclina una distribución hacia la izquierda o hacia la derecha. \n",
    "\n",
    "- Sesgos\n",
    "    -  Sesgo negativo es una curva inclinada hacia la derecha, mientras el sesgo positivo es una curva inclinada hacia la izquierda  \n",
    "    \n",
    "- En finanzas, se busca un sesgo positivo, con una  mayor probabilidad de obtener rendimientos significativamente buenos en el lado derecho de la distribución y una distribución comprimida y predecible del lado izquierdo de rendimientos negativos\n",
    "\n",
    "### <b> La curtosis  </b>\n",
    "\n",
    "- Es una medida de grosor de las colas de una distribución, que se puede utilizar como proxy de la probabilidad de valores atípicos \n",
    "\n",
    "- #### <b> Importante. </b>\n",
    "\n",
    "  - En finanzas un alto exceso de curtosis es una indicación de alto riesgo \n",
    "  \n",
    "- <b> NOTA FINAL. </b>\n",
    "\n",
    "    - Si la curtosis de una distribución es mayor que 3 y la asimetria es distinta de cero, lo mas probable es que los datos no sean normales\n"
   ]
  },
  {
   "cell_type": "markdown",
   "metadata": {},
   "source": [
    "### <b> Tercer momento: Skewness </b>\n",
    "\n",
    "- Para calcular el tercer momento, o la asimetría de una distribución de rendimientos en Python, puede utilizar la función skew() de scipy.stats.\n",
    "\n",
    "- Recuerde que un sesgo negativo es una curva inclinada hacia la derecha, mientras que un sesgo positivo es una curva inclinada hacia la izquierda. En finanzas, se tiende a querer una asimetría positiva, ya que esto significaría que la probabilidad de grandes rendimientos positivos es inusualmente alta, y los rendimientos negativos están más agrupados y son más predecibles."
   ]
  },
  {
   "cell_type": "markdown",
   "metadata": {},
   "source": [
    "<b> Ejercicio </b>\n",
    "\n",
    "- Importar skew de scipy.stats.\n",
    "\n",
    "- Elimine los valores que faltan en la columna 'Devoluciones' para evitar errores.\n",
    "\n",
    "- Calcular la asimetría de clean_returns."
   ]
  },
  {
   "cell_type": "code",
   "execution_count": 47,
   "metadata": {},
   "outputs": [
    {
     "name": "stdout",
     "output_type": "stream",
     "text": [
      "0.21935459193067852\n"
     ]
    }
   ],
   "source": [
    "# Importar skew de scipy.stats\n",
    "from scipy.stats import skew\n",
    "# Eliminar valores NaN\n",
    "clean_returns = stoncks['Returns'].dropna()\n",
    "# Calcular el tercer momento  (skewness) \n",
    "returns_skewness = skew(clean_returns)\n",
    "print(returns_skewness)"
   ]
  },
  {
   "cell_type": "markdown",
   "metadata": {},
   "source": [
    "<b> Conclusión. </b>\n",
    "\n",
    "- El tercer momento (asimetría) de los rendimientos de las acciones es 0,22. Una distribución normal tendría una asimetría mucho más cercana a 0."
   ]
  },
  {
   "cell_type": "markdown",
   "metadata": {},
   "source": [
    "#### <b> Cuarto momento: Kurtosis </b>\n",
    "\n",
    "- Por último, para calcular el cuarto momento de una distribución, puede utilizar la función kurtosis() de scipy.stats.\n",
    "\n",
    "- Tenga en cuenta que esta función realmente devuelve el exceso de curtosis, no el cuarto momento en sí. Para calcular la curtosis, simplemente sume 3 al exceso de curtosis devuelto por kurtosis().\n"
   ]
  },
  {
   "cell_type": "markdown",
   "metadata": {},
   "source": [
    "<b> Ejercicio. </b>\n",
    "\n",
    "- Importar kurtosis de scipy.stats.\n",
    "\n",
    "- Utilice clean_returns para calcular el exceso de curtosis.\n",
    "\n",
    "- Derivar el cuarto_momento a partir de excess_kurtosis."
   ]
  },
  {
   "cell_type": "code",
   "execution_count": 52,
   "metadata": {},
   "outputs": [
    {
     "name": "stdout",
     "output_type": "stream",
     "text": [
      "Exceso de curtosis : 10.31457261802553\n",
      "\n",
      "\n",
      "4TO. Momento:  13.31457261802553\n"
     ]
    }
   ],
   "source": [
    "# Importar kurtosis de scipy.stats\n",
    "from scipy.stats import kurtosis\n",
    "# Calcular  el  exceso de kurtosis de la distribución de rendimientos\n",
    "excess_kurtosis = kurtosis(clean_returns)\n",
    "print('Exceso de curtosis :', excess_kurtosis)\n",
    "print('\\n')\n",
    "#  Cuarto momento de la distribución de rendimientos\n",
    "fourth_moment = excess_kurtosis + 3\n",
    "print('4TO. Momento: ', fourth_moment)"
   ]
  },
  {
   "cell_type": "markdown",
   "metadata": {},
   "source": [
    "<b> Conclusión. </b>\n",
    "\n",
    "- El cuarto momento (curtosis) de los rendimientos de las acciones es 13,31 con un exceso de curtosis de 10,31. Una distribución normal tendería a tener una curtosis de 3 y un exceso de curtosis de 0."
   ]
  },
  {
   "cell_type": "markdown",
   "metadata": {},
   "source": [
    "### <b> Pruebas estadísticas de normalidad. </b>\n",
    "\n",
    "- Para estar realmente seguro de su juicio sobre la normalidad de la distribución de los rendimientos de las acciones, querrá utilizar una verdadera prueba estadística en lugar de examinar simplemente la curtosis o la asimetría.\n",
    "\n",
    "- Puede utilizar la función shapiro() de scipy.stats para ejecutar una prueba de normalidad de Shapiro-Wilk en los rendimientos de las acciones. La función devolverá dos valores en una lista. El primer valor es la estadística t de la prueba, y el segundo valor es el valor p. Puede utilizar el valor p para juzgar la normalidad de los datos. Si el valor p es menor o igual a 0,05, puede rechazar con seguridad la hipótesis nula de normalidad y asumir que los datos no están distribuidos normalmente.\n",
    "\n"
   ]
  },
  {
   "cell_type": "markdown",
   "metadata": {},
   "source": [
    "<b> Ejercicio. </b>\n",
    "\n",
    "- Importar shapiro de scipy.stats.\n",
    "\n",
    "- Ejecute la prueba de Shapiro-Wilk en clean_returns.\n",
    "\n",
    "- Extraiga el valor p de la tupla shapiro_results."
   ]
  },
  {
   "cell_type": "code",
   "execution_count": 55,
   "metadata": {},
   "outputs": [
    {
     "name": "stdout",
     "output_type": "stream",
     "text": [
      "Shapiro results: 0.9003633260726929\n",
      "P-value:  0.0\n"
     ]
    }
   ],
   "source": [
    "# Import shapiro from scipy.stats\n",
    "from scipy.stats import shapiro\n",
    "# Run the Shapiro-Wilk test on the stock returns\n",
    "shapiro_results = shapiro(clean_returns)\n",
    "print(\"Shapiro results:\", shapiro_results[0])\n",
    "# Extract the p-value from the shapiro_results\n",
    "p_value = shapiro_results[1]\n",
    "print(\"P-value: \", p_value)\n",
    "\n",
    "\n",
    "\n"
   ]
  },
  {
   "cell_type": "markdown",
   "metadata": {},
   "source": [
    "<b> Conclusión </b>\n",
    "\n",
    "- El valor p es 0, por lo que se rechaza la hipótesis nula de normalidad. Los datos son no normales."
   ]
  }
 ],
 "metadata": {
  "kernelspec": {
   "display_name": "Python 3",
   "language": "python",
   "name": "python3"
  },
  "language_info": {
   "codemirror_mode": {
    "name": "ipython",
    "version": 3
   },
   "file_extension": ".py",
   "mimetype": "text/x-python",
   "name": "python",
   "nbconvert_exporter": "python",
   "pygments_lexer": "ipython3",
   "version": "3.8.5"
  }
 },
 "nbformat": 4,
 "nbformat_minor": 4
}
