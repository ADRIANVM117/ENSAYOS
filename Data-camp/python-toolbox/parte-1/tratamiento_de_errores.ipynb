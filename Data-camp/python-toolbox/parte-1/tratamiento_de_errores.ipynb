{
 "cells": [
  {
   "cell_type": "markdown",
   "metadata": {},
   "source": [
    "### Tratamiento de errores \n",
    "#### Adriánc Vázquez\n",
    "##### 15/5/21"
   ]
  },
  {
   "cell_type": "markdown",
   "metadata": {},
   "source": [
    "- Algo a tomar en cuenta a la hora de escribir tus propias funciones es tambien anticipar las formas en que otras personas o tu mismo  ejecuten erroneamente esta función y dar una solución. "
   ]
  },
  {
   "cell_type": "markdown",
   "metadata": {},
   "source": [
    "- Una forma de afrotar esto es por medio del manejo de excepciones con el bloque try-except.\n",
    "\n",
    "- cuando los argumentos de entrada no sean validos, con este bloque podra orientar al usuario "
   ]
  },
  {
   "cell_type": "code",
   "execution_count": 11,
   "metadata": {},
   "outputs": [
    {
     "name": "stdout",
     "output_type": "stream",
     "text": [
      "primer argumento como string, segundo argumento cono int.\n"
     ]
    },
    {
     "data": {
      "text/plain": [
       "''"
      ]
     },
     "execution_count": 11,
     "metadata": {},
     "output_type": "execute_result"
    }
   ],
   "source": [
    "# EJEMPLO 1 \n",
    "\n",
    "def repeticion(palabra, echo = 1): #<---- definimos una función con sus argumentos\n",
    "                                  \n",
    "    palabra_echo = ''  #<----  declaracion de objetos vacios tipo string\n",
    "    palabra_final = ''\n",
    "    \n",
    "    try:  #<------- uso de try \n",
    "        palabra_echo = palabra * echo  \n",
    "        palabra_final = palabra_echo + '!!!'\n",
    "    except: #<------ si la función es usada de forma incorrecta except sera \n",
    "                    # regresado con un mensaje \n",
    "        print('primer argumento como string, segundo argumento cono int.')\n",
    "    return palabra_final #<------ retorna la función \n",
    "\n",
    "repeticion('hola', 'azul')"
   ]
  },
  {
   "cell_type": "markdown",
   "metadata": {},
   "source": [
    "- Otra foma de plantear un error es unsando raise"
   ]
  },
  {
   "cell_type": "code",
   "execution_count": 1,
   "metadata": {},
   "outputs": [
    {
     "ename": "ValueError",
     "evalue": "echo tiene que ser mayor a cero",
     "output_type": "error",
     "traceback": [
      "\u001b[0;31m---------------------------------------------------------------------------\u001b[0m",
      "\u001b[0;31mValueError\u001b[0m                                Traceback (most recent call last)",
      "\u001b[0;32m<ipython-input-1-64b73230e26b>\u001b[0m in \u001b[0;36m<module>\u001b[0;34m\u001b[0m\n\u001b[1;32m     14\u001b[0m     \u001b[0;32mreturn\u001b[0m \u001b[0mpalabra1_final\u001b[0m\u001b[0;34m\u001b[0m\u001b[0;34m\u001b[0m\u001b[0m\n\u001b[1;32m     15\u001b[0m \u001b[0;34m\u001b[0m\u001b[0m\n\u001b[0;32m---> 16\u001b[0;31m \u001b[0mrepeticion1\u001b[0m\u001b[0;34m(\u001b[0m\u001b[0;34m'hola'\u001b[0m\u001b[0;34m,\u001b[0m \u001b[0mecho\u001b[0m \u001b[0;34m=\u001b[0m \u001b[0;36m0\u001b[0m\u001b[0;34m)\u001b[0m\u001b[0;34m\u001b[0m\u001b[0;34m\u001b[0m\u001b[0m\n\u001b[0m",
      "\u001b[0;32m<ipython-input-1-64b73230e26b>\u001b[0m in \u001b[0;36mrepeticion1\u001b[0;34m(word2, echo)\u001b[0m\n\u001b[1;32m      7\u001b[0m \u001b[0;34m\u001b[0m\u001b[0m\n\u001b[1;32m      8\u001b[0m     \u001b[0;32mif\u001b[0m \u001b[0mecho\u001b[0m \u001b[0;34m<=\u001b[0m \u001b[0;36m0\u001b[0m\u001b[0;34m:\u001b[0m\u001b[0;34m\u001b[0m\u001b[0;34m\u001b[0m\u001b[0m\n\u001b[0;32m----> 9\u001b[0;31m         \u001b[0;32mraise\u001b[0m \u001b[0mValueError\u001b[0m\u001b[0;34m(\u001b[0m\u001b[0;34m'echo tiene que ser mayor a cero'\u001b[0m\u001b[0;34m)\u001b[0m\u001b[0;34m\u001b[0m\u001b[0;34m\u001b[0m\u001b[0m\n\u001b[0m\u001b[1;32m     10\u001b[0m \u001b[0;34m\u001b[0m\u001b[0m\n\u001b[1;32m     11\u001b[0m     \u001b[0mpalabra1_echo\u001b[0m \u001b[0;34m=\u001b[0m \u001b[0mword2\u001b[0m \u001b[0;34m*\u001b[0m \u001b[0mecho\u001b[0m\u001b[0;34m\u001b[0m\u001b[0;34m\u001b[0m\u001b[0m\n",
      "\u001b[0;31mValueError\u001b[0m: echo tiene que ser mayor a cero"
     ]
    }
   ],
   "source": [
    "# EJEMPLO 2 \n",
    "\n",
    "def repeticion1(word2, echo = 1): \n",
    "    \n",
    "    palabra1_echo = ''\n",
    "    palabra1_final = ''\n",
    "    \n",
    "    if echo <= 0: \n",
    "        raise ValueError('echo tiene que ser mayor a cero')\n",
    "        \n",
    "    palabra1_echo = word2 * echo\n",
    "    palabra1_final = palabra1_echo + '!!!'\n",
    "    \n",
    "    return palabra1_final\n",
    "\n",
    "repeticion1('hola', echo = 0)"
   ]
  },
  {
   "cell_type": "code",
   "execution_count": null,
   "metadata": {},
   "outputs": [],
   "source": []
  }
 ],
 "metadata": {
  "kernelspec": {
   "display_name": "Python 3",
   "language": "python",
   "name": "python3"
  },
  "language_info": {
   "codemirror_mode": {
    "name": "ipython",
    "version": 3
   },
   "file_extension": ".py",
   "mimetype": "text/x-python",
   "name": "python",
   "nbconvert_exporter": "python",
   "pygments_lexer": "ipython3",
   "version": "3.8.5"
  }
 },
 "nbformat": 4,
 "nbformat_minor": 4
}
