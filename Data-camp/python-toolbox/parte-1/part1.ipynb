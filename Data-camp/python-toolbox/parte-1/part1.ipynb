{
 "cells": [
  {
   "cell_type": "markdown",
   "metadata": {},
   "source": [
    "## Funciones anidadas \n",
    "### Adrián Vázquez \n",
    "#### 09/05/21"
   ]
  },
  {
   "cell_type": "code",
   "execution_count": 3,
   "metadata": {},
   "outputs": [
    {
     "data": {
      "text/html": [
       "<div>\n",
       "<style scoped>\n",
       "    .dataframe tbody tr th:only-of-type {\n",
       "        vertical-align: middle;\n",
       "    }\n",
       "\n",
       "    .dataframe tbody tr th {\n",
       "        vertical-align: top;\n",
       "    }\n",
       "\n",
       "    .dataframe thead th {\n",
       "        text-align: right;\n",
       "    }\n",
       "</style>\n",
       "<table border=\"1\" class=\"dataframe\">\n",
       "  <thead>\n",
       "    <tr style=\"text-align: right;\">\n",
       "      <th></th>\n",
       "      <th>price</th>\n",
       "      <th>lotSize</th>\n",
       "      <th>age</th>\n",
       "      <th>landValue</th>\n",
       "      <th>livingArea</th>\n",
       "      <th>pctCollege</th>\n",
       "      <th>bedrooms</th>\n",
       "      <th>fireplaces</th>\n",
       "      <th>bathrooms</th>\n",
       "      <th>rooms</th>\n",
       "      <th>heating</th>\n",
       "      <th>fuel</th>\n",
       "      <th>sewer</th>\n",
       "      <th>waterfront</th>\n",
       "      <th>newConstruction</th>\n",
       "      <th>centralAir</th>\n",
       "    </tr>\n",
       "  </thead>\n",
       "  <tbody>\n",
       "    <tr>\n",
       "      <th>0</th>\n",
       "      <td>132500</td>\n",
       "      <td>0.09</td>\n",
       "      <td>42</td>\n",
       "      <td>50000</td>\n",
       "      <td>906</td>\n",
       "      <td>35</td>\n",
       "      <td>2</td>\n",
       "      <td>1</td>\n",
       "      <td>1.0</td>\n",
       "      <td>5</td>\n",
       "      <td>electric</td>\n",
       "      <td>electric</td>\n",
       "      <td>septic</td>\n",
       "      <td>No</td>\n",
       "      <td>No</td>\n",
       "      <td>No</td>\n",
       "    </tr>\n",
       "    <tr>\n",
       "      <th>1</th>\n",
       "      <td>181115</td>\n",
       "      <td>0.92</td>\n",
       "      <td>0</td>\n",
       "      <td>22300</td>\n",
       "      <td>1953</td>\n",
       "      <td>51</td>\n",
       "      <td>3</td>\n",
       "      <td>0</td>\n",
       "      <td>2.5</td>\n",
       "      <td>6</td>\n",
       "      <td>hot water/steam</td>\n",
       "      <td>gas</td>\n",
       "      <td>septic</td>\n",
       "      <td>No</td>\n",
       "      <td>No</td>\n",
       "      <td>No</td>\n",
       "    </tr>\n",
       "    <tr>\n",
       "      <th>2</th>\n",
       "      <td>109000</td>\n",
       "      <td>0.19</td>\n",
       "      <td>133</td>\n",
       "      <td>7300</td>\n",
       "      <td>1944</td>\n",
       "      <td>51</td>\n",
       "      <td>4</td>\n",
       "      <td>1</td>\n",
       "      <td>1.0</td>\n",
       "      <td>8</td>\n",
       "      <td>hot water/steam</td>\n",
       "      <td>gas</td>\n",
       "      <td>public/commercial</td>\n",
       "      <td>No</td>\n",
       "      <td>No</td>\n",
       "      <td>No</td>\n",
       "    </tr>\n",
       "    <tr>\n",
       "      <th>3</th>\n",
       "      <td>155000</td>\n",
       "      <td>0.41</td>\n",
       "      <td>13</td>\n",
       "      <td>18700</td>\n",
       "      <td>1944</td>\n",
       "      <td>51</td>\n",
       "      <td>3</td>\n",
       "      <td>1</td>\n",
       "      <td>1.5</td>\n",
       "      <td>5</td>\n",
       "      <td>hot air</td>\n",
       "      <td>gas</td>\n",
       "      <td>septic</td>\n",
       "      <td>No</td>\n",
       "      <td>No</td>\n",
       "      <td>No</td>\n",
       "    </tr>\n",
       "    <tr>\n",
       "      <th>4</th>\n",
       "      <td>86060</td>\n",
       "      <td>0.11</td>\n",
       "      <td>0</td>\n",
       "      <td>15000</td>\n",
       "      <td>840</td>\n",
       "      <td>51</td>\n",
       "      <td>2</td>\n",
       "      <td>0</td>\n",
       "      <td>1.0</td>\n",
       "      <td>3</td>\n",
       "      <td>hot air</td>\n",
       "      <td>gas</td>\n",
       "      <td>public/commercial</td>\n",
       "      <td>No</td>\n",
       "      <td>Yes</td>\n",
       "      <td>Yes</td>\n",
       "    </tr>\n",
       "  </tbody>\n",
       "</table>\n",
       "</div>"
      ],
      "text/plain": [
       "    price  lotSize  age  landValue  livingArea  pctCollege  bedrooms  \\\n",
       "0  132500     0.09   42      50000         906          35         2   \n",
       "1  181115     0.92    0      22300        1953          51         3   \n",
       "2  109000     0.19  133       7300        1944          51         4   \n",
       "3  155000     0.41   13      18700        1944          51         3   \n",
       "4   86060     0.11    0      15000         840          51         2   \n",
       "\n",
       "   fireplaces  bathrooms  rooms          heating      fuel              sewer  \\\n",
       "0           1        1.0      5         electric  electric             septic   \n",
       "1           0        2.5      6  hot water/steam       gas             septic   \n",
       "2           1        1.0      8  hot water/steam       gas  public/commercial   \n",
       "3           1        1.5      5          hot air       gas             septic   \n",
       "4           0        1.0      3          hot air       gas  public/commercial   \n",
       "\n",
       "  waterfront newConstruction centralAir  \n",
       "0         No              No         No  \n",
       "1         No              No         No  \n",
       "2         No              No         No  \n",
       "3         No              No         No  \n",
       "4         No             Yes        Yes  "
      ]
     },
     "metadata": {},
     "output_type": "display_data"
    },
    {
     "name": "stdout",
     "output_type": "stream",
     "text": [
      "None\n"
     ]
    }
   ],
   "source": [
    "import pandas as pd \n",
    "\n",
    "df = pd.read_csv('SaratogaHouses.csv')\n",
    "print(display(df.head()))"
   ]
  },
  {
   "cell_type": "code",
   "execution_count": 10,
   "metadata": {},
   "outputs": [
    {
     "data": {
      "text/html": [
       "<div>\n",
       "<style scoped>\n",
       "    .dataframe tbody tr th:only-of-type {\n",
       "        vertical-align: middle;\n",
       "    }\n",
       "\n",
       "    .dataframe tbody tr th {\n",
       "        vertical-align: top;\n",
       "    }\n",
       "\n",
       "    .dataframe thead th {\n",
       "        text-align: right;\n",
       "    }\n",
       "</style>\n",
       "<table border=\"1\" class=\"dataframe\">\n",
       "  <thead>\n",
       "    <tr style=\"text-align: right;\">\n",
       "      <th></th>\n",
       "      <th>precio</th>\n",
       "      <th>metros_totales</th>\n",
       "      <th>antiguedad</th>\n",
       "      <th>precio_terreno</th>\n",
       "      <th>metros_habitables</th>\n",
       "      <th>universitarios</th>\n",
       "      <th>dormitorios</th>\n",
       "      <th>chimenea</th>\n",
       "      <th>banyos</th>\n",
       "      <th>habitaciones</th>\n",
       "      <th>calefaccion</th>\n",
       "      <th>consumo_calefacion</th>\n",
       "      <th>desague</th>\n",
       "      <th>vistas_lago</th>\n",
       "      <th>nueva_construccion</th>\n",
       "      <th>aire_acondicionado</th>\n",
       "    </tr>\n",
       "  </thead>\n",
       "  <tbody>\n",
       "    <tr>\n",
       "      <th>0</th>\n",
       "      <td>132500</td>\n",
       "      <td>0.09</td>\n",
       "      <td>42</td>\n",
       "      <td>50000</td>\n",
       "      <td>906</td>\n",
       "      <td>35</td>\n",
       "      <td>2</td>\n",
       "      <td>1</td>\n",
       "      <td>1.0</td>\n",
       "      <td>5</td>\n",
       "      <td>electric</td>\n",
       "      <td>electric</td>\n",
       "      <td>septic</td>\n",
       "      <td>No</td>\n",
       "      <td>No</td>\n",
       "      <td>No</td>\n",
       "    </tr>\n",
       "    <tr>\n",
       "      <th>1</th>\n",
       "      <td>181115</td>\n",
       "      <td>0.92</td>\n",
       "      <td>0</td>\n",
       "      <td>22300</td>\n",
       "      <td>1953</td>\n",
       "      <td>51</td>\n",
       "      <td>3</td>\n",
       "      <td>0</td>\n",
       "      <td>2.5</td>\n",
       "      <td>6</td>\n",
       "      <td>hot water/steam</td>\n",
       "      <td>gas</td>\n",
       "      <td>septic</td>\n",
       "      <td>No</td>\n",
       "      <td>No</td>\n",
       "      <td>No</td>\n",
       "    </tr>\n",
       "    <tr>\n",
       "      <th>2</th>\n",
       "      <td>109000</td>\n",
       "      <td>0.19</td>\n",
       "      <td>133</td>\n",
       "      <td>7300</td>\n",
       "      <td>1944</td>\n",
       "      <td>51</td>\n",
       "      <td>4</td>\n",
       "      <td>1</td>\n",
       "      <td>1.0</td>\n",
       "      <td>8</td>\n",
       "      <td>hot water/steam</td>\n",
       "      <td>gas</td>\n",
       "      <td>public/commercial</td>\n",
       "      <td>No</td>\n",
       "      <td>No</td>\n",
       "      <td>No</td>\n",
       "    </tr>\n",
       "    <tr>\n",
       "      <th>3</th>\n",
       "      <td>155000</td>\n",
       "      <td>0.41</td>\n",
       "      <td>13</td>\n",
       "      <td>18700</td>\n",
       "      <td>1944</td>\n",
       "      <td>51</td>\n",
       "      <td>3</td>\n",
       "      <td>1</td>\n",
       "      <td>1.5</td>\n",
       "      <td>5</td>\n",
       "      <td>hot air</td>\n",
       "      <td>gas</td>\n",
       "      <td>septic</td>\n",
       "      <td>No</td>\n",
       "      <td>No</td>\n",
       "      <td>No</td>\n",
       "    </tr>\n",
       "    <tr>\n",
       "      <th>4</th>\n",
       "      <td>86060</td>\n",
       "      <td>0.11</td>\n",
       "      <td>0</td>\n",
       "      <td>15000</td>\n",
       "      <td>840</td>\n",
       "      <td>51</td>\n",
       "      <td>2</td>\n",
       "      <td>0</td>\n",
       "      <td>1.0</td>\n",
       "      <td>3</td>\n",
       "      <td>hot air</td>\n",
       "      <td>gas</td>\n",
       "      <td>public/commercial</td>\n",
       "      <td>No</td>\n",
       "      <td>Yes</td>\n",
       "      <td>Yes</td>\n",
       "    </tr>\n",
       "  </tbody>\n",
       "</table>\n",
       "</div>"
      ],
      "text/plain": [
       "   precio  metros_totales  antiguedad  precio_terreno  metros_habitables  \\\n",
       "0  132500            0.09          42           50000                906   \n",
       "1  181115            0.92           0           22300               1953   \n",
       "2  109000            0.19         133            7300               1944   \n",
       "3  155000            0.41          13           18700               1944   \n",
       "4   86060            0.11           0           15000                840   \n",
       "\n",
       "   universitarios  dormitorios  chimenea  banyos  habitaciones  \\\n",
       "0              35            2         1     1.0             5   \n",
       "1              51            3         0     2.5             6   \n",
       "2              51            4         1     1.0             8   \n",
       "3              51            3         1     1.5             5   \n",
       "4              51            2         0     1.0             3   \n",
       "\n",
       "       calefaccion consumo_calefacion            desague vistas_lago  \\\n",
       "0         electric           electric             septic          No   \n",
       "1  hot water/steam                gas             septic          No   \n",
       "2  hot water/steam                gas  public/commercial          No   \n",
       "3          hot air                gas             septic          No   \n",
       "4          hot air                gas  public/commercial          No   \n",
       "\n",
       "  nueva_construccion aire_acondicionado  \n",
       "0                 No                 No  \n",
       "1                 No                 No  \n",
       "2                 No                 No  \n",
       "3                 No                 No  \n",
       "4                Yes                Yes  "
      ]
     },
     "metadata": {},
     "output_type": "display_data"
    },
    {
     "name": "stdout",
     "output_type": "stream",
     "text": [
      "None\n"
     ]
    }
   ],
   "source": [
    "# Se renombran las columnas para que sean entendibles \n",
    "df.columns = [\"precio\", \"metros_totales\", \"antiguedad\", \"precio_terreno\",\n",
    "                 \"metros_habitables\", \"universitarios\", \"dormitorios\", \n",
    "                 \"chimenea\", \"banyos\", \"habitaciones\", \"calefaccion\",\n",
    "                 \"consumo_calefacion\", \"desague\", \"vistas_lago\",\n",
    "                 \"nueva_construccion\", \"aire_acondicionado\"]\n",
    "print(display(df.head()))"
   ]
  },
  {
   "cell_type": "code",
   "execution_count": 28,
   "metadata": {},
   "outputs": [
    {
     "name": "stdout",
     "output_type": "stream",
     "text": [
      "{'No': 1713, 'Yes': 15}\n"
     ]
    }
   ],
   "source": [
    "# Inicializar un diccionario vacio \n",
    "dic_nuevo = {}\n",
    "#extraer una columna del DataFrame \n",
    "vista_lago = df['vistas_lago']\n",
    "\n",
    "# Iniciar un ciclo for con la variable entry que recorrera la columna extraida vista_lago\n",
    "for entry in vista_lago: \n",
    "\n",
    "# condicional \n",
    "    if entry in dic_nuevo.keys(): \n",
    "        dic_nuevo[entry] += 1 \n",
    "    \n",
    "    else:\n",
    "        dic_nuevo[entry] =1 \n",
    "\n",
    "# Contar el numero de valores dentro de la columna vista lago\n",
    "print(dic_nuevo)"
   ]
  },
  {
   "cell_type": "markdown",
   "metadata": {},
   "source": [
    "### Scope and user defined functions"
   ]
  },
  {
   "cell_type": "markdown",
   "metadata": {},
   "source": [
    "- Tipos de alcance:\n",
    "  - alcanze global (Global sccop):\n",
    "  \n",
    "    definido en el cuerpo principal del script\n",
    "  - alcance local:\n",
    "  \n",
    "    Definido dentro de una función. una vez que se realiza la ejecución de una función. cualquier nombre dentro del ambito local deja de existir. lo que significa que ya no puede acceder a esos nombre fuera de la definición"
   ]
  },
  {
   "cell_type": "markdown",
   "metadata": {},
   "source": [
    "- Cuatro tipos de variables y la regla LEGB\n",
    "\n",
    "- La regla LEGB define un orden en el que el intérprete de Python recupera el nombre de una variable. Las cuatro letras representan cuatro tipos de variables en Python:\n",
    "\n",
    "- Variables locales (L): variables en una función\n",
    "- Variables incluidas (E): en el contexto de funciones anidadas (explicar más adelante)\n",
    "- Variables globales (G): las variables de nivel superior\n",
    "- Variables integradas (B): Variables en módulos integrados de Python"
   ]
  },
  {
   "cell_type": "code",
   "execution_count": 46,
   "metadata": {},
   "outputs": [
    {
     "name": "stdout",
     "output_type": "stream",
     "text": [
      "yo\n",
      "el\n"
     ]
    }
   ],
   "source": [
    "# EJEMPLO \n",
    "# Global scoop\n",
    "\n",
    "#Declaramos un objeto de caracter string \n",
    "nombre = 'yo'\n",
    "\n",
    "#definimos una función \n",
    "def cambio_nomb():\n",
    "    \n",
    "    #USAMOS global para alterar el objeto a un alcance global \n",
    "    global nombre \n",
    "    # cambiamos el valor de objeto \n",
    "    nombre = 'el'\n",
    "\n",
    "\n",
    "# cregresa el valor default del objeto  \n",
    "print(nombre)\n",
    "# llamamos a la funcion  \n",
    "cambio_nomb()\n",
    "\n",
    "# cambia el valor del objeto\n",
    "print(nombre)\n"
   ]
  },
  {
   "cell_type": "markdown",
   "metadata": {},
   "source": [
    "### Funciones anidadas \n",
    "\n",
    "- Funciones dentro de otras funciones "
   ]
  },
  {
   "cell_type": "code",
   "execution_count": 50,
   "metadata": {},
   "outputs": [
    {
     "name": "stdout",
     "output_type": "stream",
     "text": [
      "('1!!!', 'b!!!', 'c!!!')\n"
     ]
    }
   ],
   "source": [
    "# EJEMPLO 1\n",
    "def exterior(palabra1, palabra2, palabra3):\n",
    "    #Regresa una tupla de strings concatenados con '!!!'\n",
    "    \n",
    "    #dPrimero pasa por la funcion exterior, luego llega a la funcion interior donde \n",
    "    def interior(palabra):\n",
    "        \n",
    "        # regresa la  palabra concatenada con '!!!' de la funcion interior\n",
    "        return str(palabra) + '!!!'\n",
    "    # Regresa los 3 objetos como una tupla de  la funcion exterior\n",
    "    return (interior(palabra1), interior(palabra2), interior(palabra3))\n",
    "\n",
    "print(exterior(1, 'b', 'c'))"
   ]
  },
  {
   "cell_type": "code",
   "execution_count": 54,
   "metadata": {},
   "outputs": [
    {
     "data": {
      "text/plain": [
       "'holaholahola'"
      ]
     },
     "execution_count": 54,
     "metadata": {},
     "output_type": "execute_result"
    }
   ],
   "source": [
    "# EJEMPLO 2 \n",
    "\n",
    "def repeticion(n): \n",
    "    #\"\"\" Regresa función  multiplicación\"\"\"\"\n",
    "    \n",
    "    # definimos la segunda función \n",
    "    def mul_rep(palabra):\n",
    "        \n",
    "        # concatenar palabras \n",
    "        palabraconc = palabra * n \n",
    "        return palabraconc\n",
    "    return mul_rep\n",
    "\n",
    "# Asignamos dos variables distintas que ingresen a la función \n",
    "palabra1 = repeticion(2)\n",
    "palabra2 = repeticion(3)\n",
    "\n",
    "\n",
    "palabra2('hola')\n",
    "              "
   ]
  },
  {
   "cell_type": "markdown",
   "metadata": {},
   "source": [
    "#### nonlocal \n",
    "\n",
    "##### altera el valor de una variable "
   ]
  },
  {
   "cell_type": "code",
   "execution_count": 4,
   "metadata": {},
   "outputs": [
    {
     "name": "stdout",
     "output_type": "stream",
     "text": [
      "yoyo\n",
      "yoyo!!!\n"
     ]
    }
   ],
   "source": [
    "# Definimos la función palabra\n",
    "def palabra(world): \n",
    "    \n",
    "    # declaramos una variable y su valor \n",
    "    mult_palabra = world * 2\n",
    "    \n",
    "    #se imprime \n",
    "    print(mult_palabra)\n",
    "    \n",
    "    # funcion anidada shout\n",
    "    def shout(): \n",
    "        # utilizamos nonlocal para alterar el valor de la variable mult_palabra\n",
    "        nonlocal mult_palabra\n",
    "        \n",
    "        # alteramos el valor \n",
    "        mult_palabra = mult_palabra + '!!!'\n",
    "    #mandamos a llamar a la funcion para que regrese la variable alterada \n",
    "    shout()\n",
    "   \n",
    " \n",
    "    \n",
    "    print(mult_palabra)\n",
    "\n",
    "\n",
    "\n",
    "palabra('yo')\n",
    "    "
   ]
  },
  {
   "cell_type": "markdown",
   "metadata": {},
   "source": [
    "#### NOTA: \n",
    "- Recuerde que asignar nombres solo creara o cambiara nombres locales, a menos que sean declarados globales o no locales."
   ]
  },
  {
   "cell_type": "markdown",
   "metadata": {},
   "source": [
    "## Default and flexible arguments "
   ]
  },
  {
   "cell_type": "markdown",
   "metadata": {},
   "source": [
    "- Definir argumentos por default"
   ]
  },
  {
   "cell_type": "markdown",
   "metadata": {},
   "source": [
    "- echo "
   ]
  },
  {
   "cell_type": "code",
   "execution_count": 29,
   "metadata": {},
   "outputs": [
    {
     "name": "stdout",
     "output_type": "stream",
     "text": [
      "holahola:D\n",
      "holaholaholahola:D\n"
     ]
    }
   ],
   "source": [
    "# Definir un parametro por defecto dentro de una función.n\n",
    "def palabra( word, echo = 2): #<---- echo sirve como un argumento para repetir un valor.\n",
    "    \n",
    "    p1 = word *echo  #<-- la variable p1 recoge el valor de entrada y utiliza parametro default\n",
    "    \n",
    "    p2 = p1 + ':D'  # <-----  el valor de entrada tambien es guardado en otra variable  \n",
    "    \n",
    "    return p2  #<------  regresa la segunda variable \n",
    "                     \n",
    "                           \n",
    "palabrafinal = palabra('hola')  # declaramos la funcion con su argumento y la guardamos \n",
    "palabraafinal_n = palabra('hola', echo = 4) # declaramos con un valor echo diferente al default\n",
    "\n",
    "print(palabrafinal)\n",
    "print(palabraafinal_n)"
   ]
  },
  {
   "cell_type": "markdown",
   "metadata": {},
   "source": [
    "#### intense = True o False \n",
    "\n",
    "- podemos agregar mas argumentos por defecto que usted  puede elegir si  o no aplicarse en el momento de mandar a llamar a la función  "
   ]
  },
  {
   "cell_type": "code",
   "execution_count": 52,
   "metadata": {},
   "outputs": [
    {
     "name": "stdout",
     "output_type": "stream",
     "text": [
      "zorrozorro!!!\n",
      "ZORROZORROZORRO\n",
      "zorrozorrozorrozorro!!!\n"
     ]
    }
   ],
   "source": [
    "def fun(palabra, echo = 2, intense = False): #<--Definimos la función fun con argumentos default\n",
    "    \n",
    "    fun_1 = palabra  # <--- declaramos  el elemento entrada en una variable  \n",
    "    \n",
    "    if intense is True: #<--- si declaramos intense como True  nos cambia las propiedades de \n",
    "                              #la salida\n",
    "        \n",
    "        fun_2 = fun_1.upper() * echo    \n",
    "    else:                      # <------- si no se declara intense como True O NO SE LLAMA se \n",
    "        fun_2 = fun_1 * echo  + '!!!'     # hara esto por default. \n",
    "        \n",
    "    return fun_2              \n",
    "\n",
    "# NOTA: los argumentos pueden cambiar libremente llamandolos, si no se te regresara los que\n",
    "        # son por defaul\n",
    "#EJEMPLO 1 \n",
    "llamado_default = fun('zorro') #<--- sin cambiar argumentos default solo llamando a la función\n",
    "# EJEMPLO 2 \n",
    "llamado_verdad =  fun('zorro', echo = 3 , intense = True) #<-- declarando intense y cambiando \n",
    "                                                               # argumentos\n",
    "# EJEMPLO 3     \n",
    "llamado_falso = fun('zorro',  echo = 4) # < cambiando solo un argumento, intense sigue default \n",
    "\n",
    "print(llamado_default)\n",
    "\n",
    "print(llamado_verdad)\n",
    "\n",
    "print(llamado_falso)"
   ]
  },
  {
   "cell_type": "markdown",
   "metadata": {},
   "source": [
    "#### *args\n",
    "- variable que permite una cantidad variable de argumentos de cadena\n"
   ]
  },
  {
   "cell_type": "markdown",
   "metadata": {},
   "source": [
    "- Su valor de retorno es una sola cadena compuesta por todos los argumentos de cadena concatenados en el orden que fueron pasados a la llamada de la función"
   ]
  },
  {
   "cell_type": "code",
   "execution_count": 54,
   "metadata": {},
   "outputs": [
    {
     "name": "stdout",
     "output_type": "stream",
     "text": [
      "hola\n",
      "holaadios\n",
      "holamañanasinodespues \n"
     ]
    }
   ],
   "source": [
    "def concat( *args): # <--- declaramos la funcion concat con la variable *args\n",
    "    \n",
    "    fun = ''        # declaramos una varable string vacia \n",
    "    for word in args: # generamos un ciclo donde word recorrera todo arg\n",
    "        fun += word\n",
    "    return fun \n",
    "\n",
    "valor_1 = concat('hola')\n",
    "valor_2 = concat('hola', 'adios')\n",
    "valor_n = concat('hola', 'mañana', 'si', 'no', 'despues ')\n",
    "\n",
    "print(valor_1)\n",
    "print(valor_2)\n",
    "print(valor_n)"
   ]
  },
  {
   "cell_type": "markdown",
   "metadata": {},
   "source": [
    "#### **kwargs \n",
    "- Te permite pasar un número variable de argumentos de palabras clave a las funciones\n",
    "- kwargs es un diccionario "
   ]
  },
  {
   "cell_type": "code",
   "execution_count": 60,
   "metadata": {},
   "outputs": [
    {
     "name": "stdout",
     "output_type": "stream",
     "text": [
      "\n",
      "inicio de reporte\n",
      "nombre : adrian\n",
      "ocupación : estudiante\n",
      "edad : 21 años\n",
      "\n",
      "fin reporte\n",
      "\n",
      "inicio de reporte\n",
      "nombre : axel\n",
      "ocupación : trabajador\n",
      "edad : 25 años\n",
      "\n",
      "fin reporte\n"
     ]
    }
   ],
   "source": [
    "def reporte(**kwargs): #<--- Definimos a la funcion con la variable **kwargs\n",
    "    print('\\ninicio de reporte') \n",
    "    \n",
    "    for key, value in kwargs.items(): #<--- creamos un ciclo for para los items en kwargs \n",
    "                                        \n",
    "        print(key + ' : ' + value)    #<-- imprimimos la llave y el valor \n",
    "    \n",
    "    print('\\nfin reporte')\n",
    "\n",
    "reporte(nombre = 'adrian', ocupación = 'estudiante', edad = '21 años') \n",
    "\n",
    "reporte(nombre = 'axel', ocupación = 'trabajador', edad =  '25 años')"
   ]
  },
  {
   "cell_type": "code",
   "execution_count": null,
   "metadata": {},
   "outputs": [],
   "source": []
  }
 ],
 "metadata": {
  "kernelspec": {
   "display_name": "Python 3",
   "language": "python",
   "name": "python3"
  },
  "language_info": {
   "codemirror_mode": {
    "name": "ipython",
    "version": 3
   },
   "file_extension": ".py",
   "mimetype": "text/x-python",
   "name": "python",
   "nbconvert_exporter": "python",
   "pygments_lexer": "ipython3",
   "version": "3.8.5"
  }
 },
 "nbformat": 4,
 "nbformat_minor": 4
}
