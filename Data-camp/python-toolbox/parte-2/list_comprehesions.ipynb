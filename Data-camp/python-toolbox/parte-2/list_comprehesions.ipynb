{
 "cells": [
  {
   "cell_type": "markdown",
   "metadata": {},
   "source": [
    "## Lista de comprensiones\n",
    "### Adrián Vázquez \n",
    "#### 01/06/21"
   ]
  },
  {
   "cell_type": "code",
   "execution_count": null,
   "metadata": {},
   "outputs": [],
   "source": []
  },
  {
   "cell_type": "code",
   "execution_count": 3,
   "metadata": {},
   "outputs": [
    {
     "name": "stdout",
     "output_type": "stream",
     "text": [
      "[0, 1, 4, 9, 16, 25, 36, 49, 64, 81]\n"
     ]
    }
   ],
   "source": [
    "# EJERCICIO 1\n",
    "# Una lista de comprensiones que devuelva el cuadrado de cada elemento dentro de un rango \n",
    "\n",
    "cuadrado = [i*i for i in range(0,10)]\n",
    "print(cuadrado)"
   ]
  },
  {
   "cell_type": "markdown",
   "metadata": {},
   "source": [
    "- Lista de comprensiones anidada \n",
    "  - Dejemos de lado por un momento las cadenas. Una de las formas en que se pueden utilizar las listas es en la representación de objetos multidimensionales como las matrices. Las matrices se pueden representar como una lista de listas en Python."
   ]
  },
  {
   "cell_type": "code",
   "execution_count": 6,
   "metadata": {},
   "outputs": [
    {
     "name": "stdout",
     "output_type": "stream",
     "text": [
      "[1, 2, 3, 4]\n",
      "[1, 2, 3, 4]\n",
      "[1, 2, 3, 4]\n",
      "[1, 2, 3, 4]\n",
      "[1, 2, 3, 4]\n"
     ]
    }
   ],
   "source": [
    "# EJERCICIO 2 \n",
    "# MATRIZ  5x5\n",
    "# creramos la matriz usando listas anidadas\n",
    "matriz = [[col for col in range(1,5)] for row in range(1,6)]\n",
    "\n",
    "# para imprimir la matriz\n",
    "for row in matriz: \n",
    "    print(row)\n",
    "\n"
   ]
  },
  {
   "cell_type": "markdown",
   "metadata": {},
   "source": [
    "- Un mecanismo interesante en las comprensiones de listas es que también puedes crear listas con valores que cumplan sólo una determinada condición. Una forma de hacerlo es utilizando condicionales en las variables del iterador. "
   ]
  },
  {
   "cell_type": "code",
   "execution_count": 25,
   "metadata": {},
   "outputs": [
    {
     "name": "stdout",
     "output_type": "stream",
     "text": [
      "['samwise', 'aragorn', 'legolas', 'boromir']\n"
     ]
    }
   ],
   "source": [
    "# EJERCICIO 3 \n",
    "# lista de  strings: fellowship\n",
    "fellowship = ['frodo', 'samwise', 'merry', 'aragorn', 'legolas', 'boromir', 'gimli']\n",
    "# lista de comprensiones con condición: para que solo tome las cadenas de caracteres mayores o \n",
    "# igual a 7: new_fellowship\n",
    "new_fellowship = [member   for member in fellowship if len(member) >= 7]\n",
    "# Imprime la nueva lista con la condición cumplida\n",
    "print(new_fellowship)"
   ]
  },
  {
   "cell_type": "code",
   "execution_count": 15,
   "metadata": {},
   "outputs": [
    {
     "name": "stdout",
     "output_type": "stream",
     "text": [
      "['', 'samwise', '', 'aragorn', 'legolas', 'boromir', '']\n"
     ]
    }
   ],
   "source": [
    "# EJERCICIO 4\n",
    "# IF- ELSE\n",
    "fellowship_2 = [member if len(member) >= 7 else '' for member in fellowship]\n",
    "\n",
    "print(fellowship_2)"
   ]
  },
  {
   "cell_type": "markdown",
   "metadata": {},
   "source": [
    "- Las comprensiones no están relegadas únicamente al mundo de las listas. Hay muchos otros objetos que puedes construir utilizando comprensiones, como los diccionarios, objetos omnipresentes en la Ciencia de Datos. Para este ejercicio crearás un diccionario utilizando la sintaxis de la comprensión. En este caso, la comprensión se llama comprensión dict.\n",
    "- Recuerde que la principal diferencia entre una comprensión de lista y una comprensión de dict es el uso de llaves {} en lugar de []. Además, los miembros del diccionario se crean utilizando dos puntos :, como en <clave> : <valor>.\n"
   ]
  },
  {
   "cell_type": "code",
   "execution_count": 17,
   "metadata": {},
   "outputs": [
    {
     "name": "stdout",
     "output_type": "stream",
     "text": [
      "{'frodo': 5, 'samwise': 7, 'merry': 5, 'aragorn': 7, 'legolas': 7, 'boromir': 7, 'gimli': 5}\n"
     ]
    }
   ],
   "source": [
    "# EJERCICIO 5 \n",
    "# Crear un diccionario donde cada llave sea un elemento de la lista fellofellowship y cada \n",
    "#valor la longitd del mismo elemento. \n",
    "\n",
    "fellowship_3 = {member : len(member) for member in fellowship }\n",
    "print(fellowship_3)"
   ]
  },
  {
   "cell_type": "markdown",
   "metadata": {},
   "source": [
    "#### Generador de expresiones \n",
    "- Funciona igual que una lista de comprensión, excepto que no almacena la lista en la memoria, no construye la lista, pero es un objeto sobre el que podemos iterar para producir elementos de la lista según sea necesario. \n",
    "\n",
    "- Esto puede ser de gran ayuda cuando se trabaja con secuencias extremadamente grandes, ya que no desea almacenar la totalidad de la lista en la memoria "
   ]
  },
  {
   "cell_type": "markdown",
   "metadata": {},
   "source": [
    "- Ya conoces lo que son los generadores y las expresiones generadoras, así como su diferencia con las comprensiones de listas.\n",
    "\n",
    "- Recuerda que las expresiones generadoras tienen básicamente la misma sintaxis que las comprensiones de listas, excepto que se utilizan paréntesis () en lugar de corchetes []; ¡esto debería hacer que las cosas te resulten familiares! Además, si alguna vez has iterado sobre un diccionario con .items(), o has utilizado la función range(), por ejemplo, ya has encontrado y utilizado generadores antes, ¡sin saberlo! Cuando utilizas estas funciones, Python crea generadores por ti."
   ]
  },
  {
   "cell_type": "code",
   "execution_count": 22,
   "metadata": {},
   "outputs": [
    {
     "name": "stdout",
     "output_type": "stream",
     "text": [
      "0\n",
      "1\n",
      "2\n",
      "3\n",
      "4\n",
      "\n",
      "\n",
      "5\n",
      "6\n",
      "7\n",
      "8\n",
      "9\n",
      "10\n"
     ]
    }
   ],
   "source": [
    "# EJERCICIO 6\n",
    "# Creaar un objeto generador: result\n",
    "result = (num for num in range(0,11))\n",
    "# imprimir los 5 primeros valores\n",
    "print(next(result))\n",
    "print(next(result))\n",
    "print(next(result))\n",
    "print(next(result))\n",
    "print(next(result))\n",
    "print('\\n')\n",
    "# imprimir los demas valores con un ciclo for\n",
    "for value in result:\n",
    "    print(value)"
   ]
  },
  {
   "cell_type": "code",
   "execution_count": 27,
   "metadata": {},
   "outputs": [
    {
     "name": "stdout",
     "output_type": "stream",
     "text": [
      "6\n",
      "5\n",
      "5\n",
      "6\n",
      "7\n"
     ]
    }
   ],
   "source": [
    "# EJERCICIO 7 \n",
    "\n",
    "# lista de strings: lannister\n",
    "lannister = ['cersei', 'jaime', 'tywin', 'tyrion', 'joffrey']\n",
    "# Crear un objeto  generador: lengths\n",
    "lengths = (len(person) for person in lannister)\n",
    "# Iterar sobre el generador e imprimir  la longitud de los valores\n",
    "for value in lengths:\n",
    "    print(value)"
   ]
  },
  {
   "cell_type": "markdown",
   "metadata": {},
   "source": [
    "- En los ejercicios anteriores, has tratado principalmente de escribir expresiones generadoras, que utilizan la sintaxis de comprensión. El hecho de poder utilizar la sintaxis de comprensión para las expresiones del generador te ha facilitado mucho el trabajo.\n",
    "\n",
    "- Ahora, recuerda del vídeo que no sólo hay expresiones generadoras, también hay funciones generadoras. \n",
    "- Las funciones generadoras son funciones que, al igual que las expresiones generadoras, producen una serie de valores, en lugar de devolver un único valor. Una función generadora se define como una función regular, pero siempre que genera un valor, utiliza la palabra clave yield en lugar de return."
   ]
  },
  {
   "cell_type": "markdown",
   "metadata": {},
   "source": [
    "### USANDO TODO"
   ]
  },
  {
   "cell_type": "code",
   "execution_count": null,
   "metadata": {},
   "outputs": [],
   "source": [
    "# EJERCICIO 8 \n",
    "\n"
   ]
  }
 ],
 "metadata": {
  "kernelspec": {
   "display_name": "Python 3",
   "language": "python",
   "name": "python3"
  },
  "language_info": {
   "codemirror_mode": {
    "name": "ipython",
    "version": 3
   },
   "file_extension": ".py",
   "mimetype": "text/x-python",
   "name": "python",
   "nbconvert_exporter": "python",
   "pygments_lexer": "ipython3",
   "version": "3.8.5"
  }
 },
 "nbformat": 4,
 "nbformat_minor": 4
}
