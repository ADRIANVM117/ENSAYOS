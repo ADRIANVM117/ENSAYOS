{
 "cells": [
  {
   "cell_type": "markdown",
   "metadata": {},
   "source": [
    "## Iteradores \n",
    "### Adrián Vázquez\n",
    "#### 01/06/21"
   ]
  },
  {
   "cell_type": "markdown",
   "metadata": {},
   "source": [
    "### <b> Iteradores <b>"
   ]
  },
  {
   "cell_type": "code",
   "execution_count": null,
   "metadata": {},
   "outputs": [],
   "source": []
  },
  {
   "cell_type": "markdown",
   "metadata": {},
   "source": [
    "<b> iter() <b>"
   ]
  },
  {
   "cell_type": "code",
   "execution_count": 4,
   "metadata": {},
   "outputs": [
    {
     "name": "stdout",
     "output_type": "stream",
     "text": [
      "adrian\n",
      "alex\n",
      "paco\n",
      "yavhe\n",
      "adrian\n",
      "alex\n",
      "paco\n",
      "yavhe\n"
     ]
    }
   ],
   "source": [
    "# EJERCICIO 1 \n",
    "# ciclo for vs función iter()\n",
    "\n",
    "lista = ['adrian', 'alex', 'paco', 'yavhe']\n",
    "\n",
    "for i in lista: # <---- Un ciclo for que se mueva en toda  la lista \n",
    "    print(i)    # <----- imprimir cada valor \n",
    "    \n",
    "nombres = iter(lista) # <---- utilizamos función iter para volver iterable el objeto lista \n",
    "\n",
    "print(next(nombres))\n",
    "print(next(nombres))\n",
    "print(next(nombres))\n",
    "print(next(nombres))\n",
    "\n",
    "    \n"
   ]
  },
  {
   "cell_type": "markdown",
   "metadata": {},
   "source": [
    "- No todos los iterables son listas \n",
    "\n",
    " - range() como iterable\n",
    "   - Recuerde que range() no crea realmente la lista; en su lugar, crea un objeto range con un iterador que produce los valores hasta que alcanza el límite (en el ejemplo, hasta el valor 4). Si range() creara la lista real, llamarla con un valor podría no funcionar, sobre todo porque un número tan grande puede sobrepasar la memoria de un ordenador normal. El valor es en realidad lo que se llama un Googol que es un 1 seguido de cien 0s. Es un núm"
   ]
  },
  {
   "cell_type": "code",
   "execution_count": 5,
   "metadata": {},
   "outputs": [
    {
     "name": "stdout",
     "output_type": "stream",
     "text": [
      "0\n",
      "1\n",
      "2\n",
      "0\n",
      "1\n",
      "2\n",
      "0\n",
      "1\n",
      "2\n",
      "3\n",
      "4\n"
     ]
    }
   ],
   "source": [
    "# EJERCICIO 2\n",
    "\n",
    "# Crear un iterador fpara un  rango(3): small_value\n",
    "small_value = iter(range(3))\n",
    "# imprimir cada poscición de  small_value\n",
    "print(next(small_value))\n",
    "print(next(small_value))\n",
    "print(next(small_value))\n",
    "# ciclo for para un range de (3)\n",
    "for i in range(3):\n",
    "    print(i)\n",
    "# Creaar  un  iterador para un rango:  range(10 ** 100): googol\n",
    "googol = iter(range(10 ** 100))\n",
    "# imprimir los primeros 5 valores de googol\n",
    "print(next(googol))\n",
    "print(next(googol))\n",
    "print(next(googol))\n",
    "print(next(googol))\n",
    "print(next(googol))"
   ]
  },
  {
   "cell_type": "markdown",
   "metadata": {},
   "source": [
    "- Hemos utilizando la función iter() para obtener un objeto iterador, así como la función next() para recuperar los valores uno a uno del objeto iterador.\n",
    "- También hay funciones que toman iteradores e iterables como argumentos. Por ejemplo, las funciones list() y sum() devuelven una lista y la suma de elementos, respectivamente.\n",
    "\n",
    "\n"
   ]
  },
  {
   "cell_type": "code",
   "execution_count": 13,
   "metadata": {},
   "outputs": [
    {
     "name": "stdout",
     "output_type": "stream",
     "text": [
      "Se imprime como objeto:  range(10, 21)\n",
      "Se imprime ya como una lista de valores:  [10, 11, 12, 13, 14, 15, 16, 17, 18, 19, 20]\n",
      "Se imprime como una suma de todos los valores dentro de la lista:  165\n"
     ]
    }
   ],
   "source": [
    "# EJERCICIO 3 \n",
    "# Crear  un objeto rango  y declararlo como valores \n",
    "values = range(10,21)\n",
    "#  imprimir \n",
    "print('Se imprime como objeto: ' , values)\n",
    "# Creamos una lista de ese objeto rango \n",
    "values_list = list(values)\n",
    "# imprimimos el objeto, ya como una lista\n",
    "print('Se imprime ya como una lista de valores: ' ,values_list)\n",
    "# Obtenemos la suma del objeto\n",
    "values_sum = sum(values)\n",
    "# imprimimos la suma\n",
    "print('Se imprime como una suma de todos los valores dentro de la lista: ' ,values_sum)"
   ]
  },
  {
   "cell_type": "markdown",
   "metadata": {},
   "source": [
    "####  <b> enumerate() <b>"
   ]
  },
  {
   "cell_type": "code",
   "execution_count": 12,
   "metadata": {},
   "outputs": [
    {
     "name": "stdout",
     "output_type": "stream",
     "text": [
      "lista de tuplas :  [(0, 'charles xavier'), (1, 'bobby drake'), (2, 'kurt wagner'), (3, 'max eisenhardt'), (4, 'kitty pryde')]\n",
      "0 charles xavier\n",
      "1 bobby drake\n",
      "2 kurt wagner\n",
      "3 max eisenhardt\n",
      "4 kitty pryde\n",
      "1 charles xavier\n",
      "2 bobby drake\n",
      "3 kurt wagner\n",
      "4 max eisenhardt\n",
      "5 kitty pryde\n"
     ]
    }
   ],
   "source": [
    "#EJERCICIO 4\n",
    "# Crear una list de strings: mutants\n",
    "mutants = ['charles xavier', 'bobby drake', 'kurt wagner', 'max eisenhardt', 'kitty pryde']\n",
    "# Crear  una lista  de  tuplas con la función enumerate: mutant_list\n",
    "mutant_list = list(enumerate(mutants))\n",
    "# imprimir la lista de tumplas\n",
    "print('lista de tuplas : ', mutant_list)\n",
    "# Descomprimir e imprimir los pares de tuplas\n",
    "for index1, value1  in enumerate(mutants):\n",
    "    print(index1, value1)\n",
    "\"-------------------------------------------------------\"\n",
    "# Lo mismo que en el anterior ciclo, pero iniciando el indice en 1 \n",
    "for index2, value2 in  enumerate(mutants, start = 1 ):\n",
    "    print(index2, value2)"
   ]
  },
  {
   "cell_type": "markdown",
   "metadata": {},
   "source": [
    "#### <b> zip() </b>\n",
    "\n",
    "- zip(): Toma cualquier número de iterables y devuelve un objeto zip que es un iterador de tuplas.\n",
    " - NOTA : Si quieres imprimir los valores de un objeto zip, puedes convertirlo en una lista y luego imprimirlo. Imprimir sólo un objeto zip no devolverá los valores a menos que lo desempaquetes primero."
   ]
  },
  {
   "cell_type": "code",
   "execution_count": 21,
   "metadata": {},
   "outputs": [
    {
     "name": "stdout",
     "output_type": "stream",
     "text": [
      "[('charles xavier', 'prof x', 'telepathy'), ('bobby drake', 'iceman', 'thermokinesis'), ('kurt wagner', 'nightcrawler', 'teleportation'), ('max eisenhardt', 'magneto', 'magnetokinesis'), ('kitty pryde', 'shadowcat', 'intangibility')]\n",
      "\n",
      "\n",
      "la tupla esta comprimida en un zip <zip object at 0x7f8f9d811ac0>\n",
      "\n",
      "\n",
      "Las tres listas unidas en un formato de tupla:\n",
      "charles xavier prof x telepathy\n",
      "bobby drake iceman thermokinesis\n",
      "kurt wagner nightcrawler teleportation\n",
      "max eisenhardt magneto magnetokinesis\n",
      "kitty pryde shadowcat intangibility\n"
     ]
    }
   ],
   "source": [
    "# EJERCICIO 5\n",
    "mutants = ['charles xavier', 'bobby drake', 'kurt wagner', 'max eisenhardt', 'kitty pryde']\n",
    "aliases = ['prof x', 'iceman', 'nightcrawler', 'magneto', 'shadowcat']\n",
    "powers = ['telepathy', 'thermokinesis', 'teleportation', 'magnetokinesis', 'intangibility']\n",
    "\n",
    "# Crear una lista de tuplas: \n",
    "mutant_data =  list(zip(mutants, aliases, powers))\n",
    "# imprimir la lista de tuplas\n",
    "print(mutant_data)\n",
    "print('\\n')\n",
    "# Crear  un objeto  zip  usando las  3 listas: mutant_zip\n",
    "mutant_zip = zip(mutants, aliases, powers)\n",
    "# imprimir el objeto zip\n",
    "print('la tupla esta comprimida en un zip' , mutant_zip)\n",
    "print('\\n')\n",
    "# desempaquetar el objeto zip  e imprimirlo en formato de una tupla\n",
    "print('Las tres listas unidas en un formato de tupla:')\n",
    "for value1, value2, value3 in mutant_zip:\n",
    "    print(value1, value2, value3)"
   ]
  },
  {
   "cell_type": "markdown",
   "metadata": {},
   "source": [
    "- No existe una función de descompresión para hacer lo contrario de lo que hace zip(). ¡Sin embargo, podemos invertir lo que ha sido comprimido usando zip() con un poco de ayuda de *! * desempaqueta un iterable como una lista o una tupla en argumentos posicionales en una llamada a una función."
   ]
  },
  {
   "cell_type": "code",
   "execution_count": 23,
   "metadata": {},
   "outputs": [
    {
     "name": "stdout",
     "output_type": "stream",
     "text": [
      "('charles xavier', 'telepathy') ('bobby drake', 'thermokinesis') ('kurt wagner', 'teleportation') ('max eisenhardt', 'magnetokinesis') ('kitty pryde', 'intangibility')\n",
      "\n",
      "\n",
      "False\n",
      "False\n"
     ]
    }
   ],
   "source": [
    "# EJERCICIO 6 \n",
    "\n",
    "# Creamos un objeto zip de las listas mutants ay powers: z1\n",
    "z1 = zip(mutants, powers)\n",
    "# imprimimos las tuplas desempaquetandola con  *\n",
    "print(*z1)\n",
    "print('\\n')\n",
    "# volvemos a crear  un objeto zip: z1\n",
    "z1 = zip(mutants, powers)\n",
    "# 'Unzip' las tuplas en  z1 descomprimiendo con * y  zip(): result1, result2\n",
    "result1, result2 = zip(*z1)\n",
    "# Check if unpacked tuples are equivalent to original tuples\n",
    "print(result1 == mutants)\n",
    "print(result2 == powers)"
   ]
  },
  {
   "cell_type": "markdown",
   "metadata": {},
   "source": [
    "- A veces, los datos que tenemos que procesar alcanzan un tamaño que es demasiado para la memoria de un ordenador. Este es un problema común al que se enfrentan los científicos de datos. Una solución a esto es procesar toda una fuente de datos trozo a trozo, en lugar de hacerlo de una sola vez."
   ]
  },
  {
   "cell_type": "code",
   "execution_count": null,
   "metadata": {},
   "outputs": [],
   "source": [
    "# EJERCICIO 7"
   ]
  },
  {
   "cell_type": "markdown",
   "metadata": {},
   "source": [
    "- Es bueno saber cómo procesar un archivo en trozos más pequeños y manejables, pero puede ser muy tedioso tener que escribir y reescribir el mismo código para la misma tarea cada vez. En este ejercicio, harás tu código más reutilizable poniendo tu trabajo del último ejercicio en una definición de función."
   ]
  },
  {
   "cell_type": "code",
   "execution_count": 24,
   "metadata": {},
   "outputs": [],
   "source": [
    "# EJERCICIO 8 \n"
   ]
  }
 ],
 "metadata": {
  "kernelspec": {
   "display_name": "Python 3",
   "language": "python",
   "name": "python3"
  },
  "language_info": {
   "codemirror_mode": {
    "name": "ipython",
    "version": 3
   },
   "file_extension": ".py",
   "mimetype": "text/x-python",
   "name": "python",
   "nbconvert_exporter": "python",
   "pygments_lexer": "ipython3",
   "version": "3.8.5"
  }
 },
 "nbformat": 4,
 "nbformat_minor": 4
}
