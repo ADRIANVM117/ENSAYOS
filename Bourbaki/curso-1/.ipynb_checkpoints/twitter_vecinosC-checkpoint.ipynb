{
 "cells": [
  {
   "cell_type": "code",
   "execution_count": 15,
   "metadata": {},
   "outputs": [
    {
     "name": "stdout",
     "output_type": "stream",
     "text": [
      "Requirement already satisfied: wordcloud in /home/radianvm/anaconda3/lib/python3.8/site-packages (1.8.1)\n",
      "Requirement already satisfied: pillow in /home/radianvm/anaconda3/lib/python3.8/site-packages (from wordcloud) (8.0.1)\n",
      "Requirement already satisfied: numpy>=1.6.1 in /home/radianvm/anaconda3/lib/python3.8/site-packages (from wordcloud) (1.19.2)\n",
      "Requirement already satisfied: matplotlib in /home/radianvm/anaconda3/lib/python3.8/site-packages (from wordcloud) (3.3.2)\n",
      "Requirement already satisfied: kiwisolver>=1.0.1 in /home/radianvm/anaconda3/lib/python3.8/site-packages (from matplotlib->wordcloud) (1.3.0)\n",
      "Requirement already satisfied: pyparsing!=2.0.4,!=2.1.2,!=2.1.6,>=2.0.3 in /home/radianvm/anaconda3/lib/python3.8/site-packages (from matplotlib->wordcloud) (2.4.7)\n",
      "Requirement already satisfied: certifi>=2020.06.20 in /home/radianvm/anaconda3/lib/python3.8/site-packages (from matplotlib->wordcloud) (2020.6.20)\n",
      "Requirement already satisfied: cycler>=0.10 in /home/radianvm/anaconda3/lib/python3.8/site-packages (from matplotlib->wordcloud) (0.10.0)\n",
      "Requirement already satisfied: python-dateutil>=2.1 in /home/radianvm/anaconda3/lib/python3.8/site-packages (from matplotlib->wordcloud) (2.8.1)\n",
      "Requirement already satisfied: six in /home/radianvm/anaconda3/lib/python3.8/site-packages (from cycler>=0.10->matplotlib->wordcloud) (1.15.0)\n",
      "Requirement already satisfied: pickle5 in /home/radianvm/anaconda3/lib/python3.8/site-packages (0.0.11)\n",
      "fatal: destination path 'bourbaki_NB_analisis_texto' already exists and is not an empty directory.\n"
     ]
    }
   ],
   "source": [
    "!pip install wordcloud\n",
    "\n",
    "!pip3 install pickle5\n",
    "import pickle5 as pickle\n",
    "import pandas as pd\n",
    "# Visualización\n",
    "import matplotlib.pyplot as plt\n",
    "import matplotlib\n",
    "from wordcloud import WordCloud\n",
    "\n",
    "#Aquí copiamos las bases de datos a nuestro directorio en la nube\n",
    "! git clone https://github.com/LorenzoLeon/bourbaki_NB_analisis_texto.git"
   ]
  },
  {
   "cell_type": "code",
   "execution_count": 16,
   "metadata": {},
   "outputs": [],
   "source": [
    "tweets_covid = pd.read_pickle('bourbaki_NB_analisis_texto/01_datos/tweets_small.pickle')"
   ]
  },
  {
   "cell_type": "code",
   "execution_count": 17,
   "metadata": {},
   "outputs": [
    {
     "data": {
      "text/plain": [
       "Index(['id_str', 'text', 'mentions', 'hashes', 'user_name', 'retweeted',\n",
       "       'inreply', 'user_followers', 'fecha', 'type', 'value', 'value2'],\n",
       "      dtype='object')"
      ]
     },
     "execution_count": 17,
     "metadata": {},
     "output_type": "execute_result"
    }
   ],
   "source": [
    "tweets_covid.columns"
   ]
  },
  {
   "cell_type": "code",
   "execution_count": 18,
   "metadata": {},
   "outputs": [
    {
     "data": {
      "text/html": [
       "<div>\n",
       "<style scoped>\n",
       "    .dataframe tbody tr th:only-of-type {\n",
       "        vertical-align: middle;\n",
       "    }\n",
       "\n",
       "    .dataframe tbody tr th {\n",
       "        vertical-align: top;\n",
       "    }\n",
       "\n",
       "    .dataframe thead th {\n",
       "        text-align: right;\n",
       "    }\n",
       "</style>\n",
       "<table border=\"1\" class=\"dataframe\">\n",
       "  <thead>\n",
       "    <tr style=\"text-align: right;\">\n",
       "      <th></th>\n",
       "      <th>id_str</th>\n",
       "      <th>text</th>\n",
       "      <th>mentions</th>\n",
       "      <th>hashes</th>\n",
       "      <th>user_name</th>\n",
       "      <th>retweeted</th>\n",
       "      <th>inreply</th>\n",
       "      <th>user_followers</th>\n",
       "      <th>fecha</th>\n",
       "      <th>type</th>\n",
       "      <th>value</th>\n",
       "      <th>value2</th>\n",
       "    </tr>\n",
       "  </thead>\n",
       "  <tbody>\n",
       "    <tr>\n",
       "      <th>1094584</th>\n",
       "      <td>1321164871887736832</td>\n",
       "      <td>?#EnVivo | Ya inicia #CruceInformativo con @Yo...</td>\n",
       "      <td>@YonAmador, @Claudiashein, @lopezobrador_</td>\n",
       "      <td>#EnVivo, #CruceInformativo, #COVID19, #Derecho...</td>\n",
       "      <td>C21Noticias</td>\n",
       "      <td>0</td>\n",
       "      <td>NaN</td>\n",
       "      <td>1379</td>\n",
       "      <td>2020-10-27T18:00:26Z</td>\n",
       "      <td>negative</td>\n",
       "      <td>67</td>\n",
       "      <td>-1</td>\n",
       "    </tr>\n",
       "    <tr>\n",
       "      <th>7315</th>\n",
       "      <td>1332617270649106432</td>\n",
       "      <td>Por instrucción presidencial antes de volver a...</td>\n",
       "      <td>@Claudiashein</td>\n",
       "      <td>#COVIDー19, #MorenaLaPandemiaDeMexico</td>\n",
       "      <td>MarioPe62068812</td>\n",
       "      <td>1</td>\n",
       "      <td>NaN</td>\n",
       "      <td>29</td>\n",
       "      <td>2020-11-28T08:28:10Z</td>\n",
       "      <td>negative</td>\n",
       "      <td>82</td>\n",
       "      <td>-1</td>\n",
       "    </tr>\n",
       "  </tbody>\n",
       "</table>\n",
       "</div>"
      ],
      "text/plain": [
       "                      id_str  \\\n",
       "1094584  1321164871887736832   \n",
       "7315     1332617270649106432   \n",
       "\n",
       "                                                      text  \\\n",
       "1094584  ?#EnVivo | Ya inicia #CruceInformativo con @Yo...   \n",
       "7315     Por instrucción presidencial antes de volver a...   \n",
       "\n",
       "                                          mentions  \\\n",
       "1094584  @YonAmador, @Claudiashein, @lopezobrador_   \n",
       "7315                                 @Claudiashein   \n",
       "\n",
       "                                                    hashes        user_name  \\\n",
       "1094584  #EnVivo, #CruceInformativo, #COVID19, #Derecho...      C21Noticias   \n",
       "7315                  #COVIDー19, #MorenaLaPandemiaDeMexico  MarioPe62068812   \n",
       "\n",
       "         retweeted  inreply  user_followers                 fecha      type  \\\n",
       "1094584          0      NaN            1379  2020-10-27T18:00:26Z  negative   \n",
       "7315             1      NaN              29  2020-11-28T08:28:10Z  negative   \n",
       "\n",
       "         value  value2  \n",
       "1094584     67      -1  \n",
       "7315        82      -1  "
      ]
     },
     "execution_count": 18,
     "metadata": {},
     "output_type": "execute_result"
    }
   ],
   "source": [
    "tweets_covid.head(2)"
   ]
  },
  {
   "cell_type": "code",
   "execution_count": 20,
   "metadata": {},
   "outputs": [
    {
     "data": {
      "text/plain": [
       "Timestamp('2020-11-25 18:32:20-0600', tz='America/Mexico_City')"
      ]
     },
     "execution_count": 20,
     "metadata": {},
     "output_type": "execute_result"
    }
   ],
   "source": [
    "tweets_covid.fecha = pd.DatetimeIndex(tweets_covid.fecha).tz_convert('America/Mexico_city')\n",
    "tweets_covid.fecha[139]\n"
   ]
  },
  {
   "cell_type": "code",
   "execution_count": 21,
   "metadata": {},
   "outputs": [
    {
     "data": {
      "text/plain": [
       "count                                  21999\n",
       "mean     2020-11-19 23:37:22.465826304-06:00\n",
       "min                2020-07-16 02:16:51-05:00\n",
       "25%                2020-08-27 09:29:19-05:00\n",
       "50%                2020-12-01 07:46:21-06:00\n",
       "75%                2021-01-25 22:34:50-06:00\n",
       "max                2021-04-05 15:51:43-05:00\n",
       "Name: fecha, dtype: object"
      ]
     },
     "execution_count": 21,
     "metadata": {},
     "output_type": "execute_result"
    }
   ],
   "source": [
    "tweets_covid.fecha.describe(datetime_is_numeric= True)"
   ]
  },
  {
   "cell_type": "code",
   "execution_count": 26,
   "metadata": {},
   "outputs": [
    {
     "data": {
      "text/plain": [
       "count    22000.000000\n",
       "mean         0.000000\n",
       "std          1.000023\n",
       "min         -1.000000\n",
       "25%         -1.000000\n",
       "50%          0.000000\n",
       "75%          1.000000\n",
       "max          1.000000\n",
       "Name: value2, dtype: float64"
      ]
     },
     "execution_count": 26,
     "metadata": {},
     "output_type": "execute_result"
    }
   ],
   "source": [
    "tweets_covid['type'] = tweets_covid['type'].astype('category') # columna 'type' de str \n",
    "                                                                         # a categoria\n",
    "tweets_covid['value2'].describe()"
   ]
  },
  {
   "cell_type": "code",
   "execution_count": 27,
   "metadata": {},
   "outputs": [
    {
     "data": {
      "text/plain": [
       "count        22000\n",
       "unique           2\n",
       "top       positive\n",
       "freq         11000\n",
       "Name: type, dtype: object"
      ]
     },
     "execution_count": 27,
     "metadata": {},
     "output_type": "execute_result"
    }
   ],
   "source": [
    "tweets_covid['type'].describe()"
   ]
  },
  {
   "cell_type": "code",
   "execution_count": 28,
   "metadata": {},
   "outputs": [
    {
     "data": {
      "text/html": [
       "<div>\n",
       "<style scoped>\n",
       "    .dataframe tbody tr th:only-of-type {\n",
       "        vertical-align: middle;\n",
       "    }\n",
       "\n",
       "    .dataframe tbody tr th {\n",
       "        vertical-align: top;\n",
       "    }\n",
       "\n",
       "    .dataframe thead th {\n",
       "        text-align: right;\n",
       "    }\n",
       "</style>\n",
       "<table border=\"1\" class=\"dataframe\">\n",
       "  <thead>\n",
       "    <tr style=\"text-align: right;\">\n",
       "      <th></th>\n",
       "      <th>id_str</th>\n",
       "      <th>text</th>\n",
       "      <th>mentions</th>\n",
       "      <th>hashes</th>\n",
       "      <th>user_name</th>\n",
       "      <th>retweeted</th>\n",
       "      <th>inreply</th>\n",
       "      <th>user_followers</th>\n",
       "      <th>fecha</th>\n",
       "      <th>type</th>\n",
       "      <th>value</th>\n",
       "      <th>value2</th>\n",
       "    </tr>\n",
       "  </thead>\n",
       "  <tbody>\n",
       "    <tr>\n",
       "      <th>69</th>\n",
       "      <td>1331766676082155520</td>\n",
       "      <td>@h43226013 @Claudiashein Y cuántos niños mexic...</td>\n",
       "      <td>@h43226013, @Claudiashein</td>\n",
       "      <td>#GobiernoCriminalyCorrupto, #ElPeorGobiernoDeL...</td>\n",
       "      <td>h43226013</td>\n",
       "      <td>1</td>\n",
       "      <td>NaN</td>\n",
       "      <td>1351</td>\n",
       "      <td>2020-11-25 18:08:13-06:00</td>\n",
       "      <td>negative</td>\n",
       "      <td>99</td>\n",
       "      <td>-1</td>\n",
       "    </tr>\n",
       "    <tr>\n",
       "      <th>139</th>\n",
       "      <td>1331772748134281220</td>\n",
       "      <td>? #ÚLTIMAHORA | Por SEGUNDO día consecutivo, s...</td>\n",
       "      <td>@lopezobrador_, @HLGatell</td>\n",
       "      <td>#ÚLTIMAHORA, #Covid_19, #México</td>\n",
       "      <td>MaryTeTe31</td>\n",
       "      <td>1</td>\n",
       "      <td>NaN</td>\n",
       "      <td>351</td>\n",
       "      <td>2020-11-25 18:32:20-06:00</td>\n",
       "      <td>positive</td>\n",
       "      <td>88</td>\n",
       "      <td>1</td>\n",
       "    </tr>\n",
       "    <tr>\n",
       "      <th>218</th>\n",
       "      <td>1331780180260622336</td>\n",
       "      <td>Reconoce el Subsecretario de Salud @HLGatell l...</td>\n",
       "      <td>@HLGatell</td>\n",
       "      <td>NaN</td>\n",
       "      <td>Micheguti</td>\n",
       "      <td>1</td>\n",
       "      <td>NaN</td>\n",
       "      <td>90</td>\n",
       "      <td>2020-11-25 19:01:52-06:00</td>\n",
       "      <td>positive</td>\n",
       "      <td>60</td>\n",
       "      <td>1</td>\n",
       "    </tr>\n",
       "    <tr>\n",
       "      <th>307</th>\n",
       "      <td>1331788520436936704</td>\n",
       "      <td>@Claudiashein Como jodes con Maradona.  Y los ...</td>\n",
       "      <td>@Claudiashein</td>\n",
       "      <td>NaN</td>\n",
       "      <td>Albertus2021</td>\n",
       "      <td>0</td>\n",
       "      <td>1.331724e+18</td>\n",
       "      <td>516</td>\n",
       "      <td>2020-11-25 19:35:01-06:00</td>\n",
       "      <td>negative</td>\n",
       "      <td>100</td>\n",
       "      <td>-1</td>\n",
       "    </tr>\n",
       "    <tr>\n",
       "      <th>319</th>\n",
       "      <td>1331790707451965441</td>\n",
       "      <td>Reconoce el Subsecretario de Salud @HLGatell l...</td>\n",
       "      <td>@HLGatell</td>\n",
       "      <td>NaN</td>\n",
       "      <td>IDEY_oficial</td>\n",
       "      <td>1</td>\n",
       "      <td>NaN</td>\n",
       "      <td>4996</td>\n",
       "      <td>2020-11-25 19:43:42-06:00</td>\n",
       "      <td>positive</td>\n",
       "      <td>60</td>\n",
       "      <td>1</td>\n",
       "    </tr>\n",
       "  </tbody>\n",
       "</table>\n",
       "</div>"
      ],
      "text/plain": [
       "                  id_str                                               text  \\\n",
       "69   1331766676082155520  @h43226013 @Claudiashein Y cuántos niños mexic...   \n",
       "139  1331772748134281220  ? #ÚLTIMAHORA | Por SEGUNDO día consecutivo, s...   \n",
       "218  1331780180260622336  Reconoce el Subsecretario de Salud @HLGatell l...   \n",
       "307  1331788520436936704  @Claudiashein Como jodes con Maradona.  Y los ...   \n",
       "319  1331790707451965441  Reconoce el Subsecretario de Salud @HLGatell l...   \n",
       "\n",
       "                      mentions  \\\n",
       "69   @h43226013, @Claudiashein   \n",
       "139  @lopezobrador_, @HLGatell   \n",
       "218                  @HLGatell   \n",
       "307              @Claudiashein   \n",
       "319                  @HLGatell   \n",
       "\n",
       "                                                hashes     user_name  \\\n",
       "69   #GobiernoCriminalyCorrupto, #ElPeorGobiernoDeL...     h43226013   \n",
       "139                    #ÚLTIMAHORA, #Covid_19, #México    MaryTeTe31   \n",
       "218                                                NaN     Micheguti   \n",
       "307                                                NaN  Albertus2021   \n",
       "319                                                NaN  IDEY_oficial   \n",
       "\n",
       "     retweeted       inreply  user_followers                     fecha  \\\n",
       "69           1           NaN            1351 2020-11-25 18:08:13-06:00   \n",
       "139          1           NaN             351 2020-11-25 18:32:20-06:00   \n",
       "218          1           NaN              90 2020-11-25 19:01:52-06:00   \n",
       "307          0  1.331724e+18             516 2020-11-25 19:35:01-06:00   \n",
       "319          1           NaN            4996 2020-11-25 19:43:42-06:00   \n",
       "\n",
       "         type  value  value2  \n",
       "69   negative     99      -1  \n",
       "139  positive     88       1  \n",
       "218  positive     60       1  \n",
       "307  negative    100      -1  \n",
       "319  positive     60       1  "
      ]
     },
     "execution_count": 28,
     "metadata": {},
     "output_type": "execute_result"
    }
   ],
   "source": [
    "tweets_covid.sort_index().head()"
   ]
  },
  {
   "cell_type": "code",
   "execution_count": 29,
   "metadata": {},
   "outputs": [],
   "source": [
    "tweets_covid.hashes = tweets_covid.hashes.astype(str)"
   ]
  },
  {
   "cell_type": "code",
   "execution_count": 35,
   "metadata": {},
   "outputs": [
    {
     "data": {
      "text/plain": [
       "#COVID19                  2960\n",
       " #COVID19                 1650\n",
       "#Covid_19mx                627\n",
       "#Covid19                   616\n",
       "#Covid_19                  561\n",
       " #Covid_19                 327\n",
       "#COVIDー19                  311\n",
       "#COVID19mx                 294\n",
       " #CuidemosTodosDeTodos     273\n",
       "#COVID                     261\n",
       " #QuedateEnCasa            249\n",
       "#CovidDerrotaAPuebla       232\n",
       "#COVID__19                 221\n",
       " #UsaCubrebocas            219\n",
       " #Covid_19mx               202\n",
       " #Covid19                  191\n",
       " #QuédateEnCasa            190\n",
       " #México                   189\n",
       "#Covid                     169\n",
       " #SputnikV                 161\n",
       " #COVIDー19                 160\n",
       " #VacunaCOVID19            148\n",
       " #coronavirus              148\n",
       " #Edoméx                   143\n",
       " #Oaxaca                   143\n",
       " #PorAmorALaVida           137\n",
       " #MeCuido                  137\n",
       "#coronavirus               130\n",
       " #SanaDistancia            129\n",
       " #CDMX                     128\n",
       "dtype: int64"
      ]
     },
     "execution_count": 35,
     "metadata": {},
     "output_type": "execute_result"
    }
   ],
   "source": [
    "hashes = tweets_covid.hashes[tweets_covid.hashes != 'nan']\n",
    "\n",
    "hashes.str.split(',', expand = True).stack().value_counts().head(30)"
   ]
  },
  {
   "cell_type": "code",
   "execution_count": 48,
   "metadata": {},
   "outputs": [
    {
     "name": "stdout",
     "output_type": "stream",
     "text": [
      "USUARIO:  C21Noticias\n",
      "\n",
      "\n",
      "TWWET:  ?#EnVivo | Ya inicia #CruceInformativo con @YonAmador ?:\n",
      "\n",
      "??La Jefa de Gobierno, @Claudiashein, da positivo a #COVID19\n",
      "\n",
      "??@lopezobrador_ declaró tres días de luto nacional en memoria de fallecidos por la pandemia \n",
      "\n",
      "#DerechoALaInformación\n",
      "\n",
      "https://t.co/5ExdY42xus\n",
      "\n",
      "\n",
      "###################################################\n",
      "\n",
      "\n",
      "USUARIO:  MarioPe62068812\n",
      "\n",
      "\n",
      "TWWET:  Por instrucción presidencial antes de volver al rojo, la @Claudiashein tiene primero que explotar todos los anaranjados posibles o llegar a 120 mil muertes por #COVIDー19 lo que ocurra primero!!\n",
      "\n",
      "#MorenaLaPandemiaDeMexico https://t.co/urPCNQAIpU\n",
      "\n",
      "\n",
      "###################################################\n",
      "\n",
      "\n",
      "USUARIO:  TeresaC31916268\n",
      "\n",
      "\n",
      "TWWET:  @omarfayad El gobernador @OmarFayad primer donador de plasma contra el COVID-19 en #Hidalgo ,..\n",
      "\n",
      "\n",
      "###################################################\n",
      "\n",
      "\n",
      "USUARIO:  jorgejasso\n",
      "\n",
      "\n",
      "TWWET:  Este video debería ser retuiteado miles de veces hasta que @HLGatell tenga pesadillas con él. Ojalá que México no olvide NUNCA lo que este @GobiernoMX de tres centavos y este individuo hizo con la crisis del COVID en 2020. https://t.co/rkdd47cqMD\n",
      "\n",
      "\n",
      "###################################################\n",
      "\n",
      "\n",
      "USUARIO:  A_Galindo13\n",
      "\n",
      "\n",
      "TWWET:  @AntonioAttolini Yo no le deseo el mal. Solo pienso que, si es verdad que está infectado de Covid-19, él se lo buscó por no acatar medidas de seguridad y sana distancia. Es igual que cualquiera de los idiotas irresponsables que estuvieron haciendo fiestas de fin de año.\n",
      "\n",
      "\n",
      "###################################################\n",
      "\n",
      "\n"
     ]
    }
   ],
   "source": [
    "for i in tweets_covid.index[:5]:\n",
    "    print('USUARIO:  '  + tweets_covid.user_name[i])\n",
    "    print('\\n')\n",
    "    print('TWWET:  ' + tweets_covid.text[i])\n",
    "    print('\\n')\n",
    "    print('###################################################')\n",
    "    print('\\n')"
   ]
  },
  {
   "cell_type": "code",
   "execution_count": 37,
   "metadata": {},
   "outputs": [
    {
     "name": "stdout",
     "output_type": "stream",
     "text": [
      "textoMaryTeTe31\n"
     ]
    }
   ],
   "source": [
    "print('texto' + tweets_covid.user_name[139])"
   ]
  },
  {
   "cell_type": "code",
   "execution_count": null,
   "metadata": {},
   "outputs": [],
   "source": []
  },
  {
   "cell_type": "code",
   "execution_count": null,
   "metadata": {},
   "outputs": [],
   "source": []
  },
  {
   "cell_type": "code",
   "execution_count": null,
   "metadata": {},
   "outputs": [],
   "source": []
  },
  {
   "cell_type": "code",
   "execution_count": null,
   "metadata": {},
   "outputs": [],
   "source": []
  }
 ],
 "metadata": {
  "kernelspec": {
   "display_name": "Python 3",
   "language": "python",
   "name": "python3"
  },
  "language_info": {
   "codemirror_mode": {
    "name": "ipython",
    "version": 3
   },
   "file_extension": ".py",
   "mimetype": "text/x-python",
   "name": "python",
   "nbconvert_exporter": "python",
   "pygments_lexer": "ipython3",
   "version": "3.8.5"
  }
 },
 "nbformat": 4,
 "nbformat_minor": 4
}
